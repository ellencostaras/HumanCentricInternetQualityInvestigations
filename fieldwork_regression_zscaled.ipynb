{
 "cells": [
  {
   "cell_type": "code",
   "execution_count": 1,
   "metadata": {
    "vscode": {
     "languageId": "r"
    }
   },
   "outputs": [
    {
     "name": "stderr",
     "output_type": "stream",
     "text": [
      "Warning message:\n",
      "\"package 'pROC' was built under R version 4.3.3\"\n",
      "Type 'citation(\"pROC\")' for a citation.\n",
      "\n",
      "\n",
      "Attaching package: 'pROC'\n",
      "\n",
      "\n",
      "The following objects are masked from 'package:stats':\n",
      "\n",
      "    cov, smooth, var\n",
      "\n",
      "\n",
      "Warning message:\n",
      "\"package 'vctrs' was built under R version 4.3.3\"\n",
      "Warning message:\n",
      "\"package 'caret' was built under R version 4.3.3\"\n",
      "Loading required package: ggplot2\n",
      "\n",
      "Warning message:\n",
      "\"package 'ggplot2' was built under R version 4.3.3\"\n",
      "Loading required package: lattice\n",
      "\n",
      "Warning message:\n",
      "\"package 'nnet' was built under R version 4.3.3\"\n",
      "Warning message:\n",
      "\"package 'cowplot' was built under R version 4.3.3\"\n",
      "Warning message:\n",
      "\"package 'dplyr' was built under R version 4.3.3\"\n",
      "\n",
      "Attaching package: 'dplyr'\n",
      "\n",
      "\n",
      "The following object is masked from 'package:vctrs':\n",
      "\n",
      "    data_frame\n",
      "\n",
      "\n",
      "The following objects are masked from 'package:stats':\n",
      "\n",
      "    filter, lag\n",
      "\n",
      "\n",
      "The following objects are masked from 'package:base':\n",
      "\n",
      "    intersect, setdiff, setequal, union\n",
      "\n",
      "\n",
      "Warning message:\n",
      "\"package 'glmnet' was built under R version 4.3.3\"\n",
      "Loading required package: Matrix\n",
      "\n",
      "Loaded glmnet 4.1-8\n",
      "\n"
     ]
    }
   ],
   "source": [
    "# Install libraries\n",
    "#install.packages(\"pROC\")\n",
    "#install.packages(\"vctrs\")\n",
    "#install.packages(\"caret\")\n",
    "#install.packages(\"nnet\")\n",
    "#install.packages(\"ggplot2\")\n",
    "#install.packages(\"cowplot\")\n",
    "#install.packages(\"dplyr\")\n",
    "#install.packages(\"glmnet\")\n",
    "\n",
    "# Load libraries\n",
    "library(pROC)\n",
    "library(vctrs)\n",
    "library(caret)\n",
    "library(nnet)\n",
    "library(ggplot2)\n",
    "library(cowplot)\n",
    "library(dplyr)\n",
    "library(glmnet)"
   ]
  },
  {
   "cell_type": "code",
   "execution_count": 2,
   "metadata": {
    "vscode": {
     "languageId": "r"
    }
   },
   "outputs": [
    {
     "name": "stdout",
     "output_type": "stream",
     "text": [
      " [1] \"lga_code\"                  \"IRSD.Decile\"              \n",
      " [3] \"IRSAD.Decile\"              \"IER.Decile\"               \n",
      " [5] \"IEO.Decile\"                \"Median.Income\"            \n",
      " [7] \"Lowest.Quartile.Income..\"  \"Highest.Quartile.Income..\"\n",
      " [9] \"Gini.Coefficient\"          \"Area..Km.2.\"              \n",
      "[11] \"Population\"                \"Population.Density\"       \n",
      "[13] \"Population.Change\"         \"Population.Change..\"      \n",
      "[15] \"Indigenous.Population\"     \"Indigenous.Population..\"  \n",
      "[17] \"X5th.Percentile\"           \"X50th.Percentile\"         \n",
      "[19] \"X95th.Percentile\"          \"X95th.5th.Ratio\"          \n",
      "[21] \"major_city_distance\"       \"closest_capital_distance\" \n",
      "[23] \"own_capital_distance\"      \"Major.City\"               \n",
      "[25] \"Inner.Regional\"            \"Outer.Regional\"           \n",
      "[27] \"Remote\"                    \"Very.Remote\"              \n",
      "[29] \"Division\"                  \"Previous.Party\"           \n",
      "[31] \"Previous.Seat.Status\"      \"Successful.Party\"         \n",
      "[33] \"Current.Seat.Status\"       \"Swing\"                    \n",
      "[35] \"Seat.Change\"               \"is.Safe\"                  \n",
      "[37] \"is.Fairly.Safe\"            \"is.Marginal\"              \n",
      "[39] \"Remained.Marginal\"        \n"
     ]
    }
   ],
   "source": [
    "rm(list=ls()) #clears the workspace\n",
    "data <- read.csv(\"SEIFA_RTT_LGA.csv\")\n",
    "\n",
    "# Remove rows with NAs in important percentile columns\n",
    "cleaned_data <- data[complete.cases(data), ]\n",
    "\n",
    "print(colnames(cleaned_data))"
   ]
  },
  {
   "cell_type": "code",
   "execution_count": 3,
   "metadata": {
    "vscode": {
     "languageId": "r"
    }
   },
   "outputs": [
    {
     "name": "stdout",
     "output_type": "stream",
     "text": [
      "[1] \"Number of rows in cleaned data:\"\n",
      "[1] 401\n"
     ]
    }
   ],
   "source": [
    "print('Number of rows in cleaned data:')\n",
    "print(nrow(cleaned_data))"
   ]
  },
  {
   "cell_type": "markdown",
   "metadata": {},
   "source": [
    "# BIG regression\n",
    "### fit with all variables"
   ]
  },
  {
   "cell_type": "code",
   "execution_count": 4,
   "metadata": {
    "vscode": {
     "languageId": "r"
    }
   },
   "outputs": [
    {
     "name": "stdout",
     "output_type": "stream",
     "text": [
      "   Remoteness_Area_1 Remoteness_Area_2   Mean_1   Mean_2      p_value\n",
      "1         Major City    Inner Regional 2.627939 2.612283    0.7969307\n",
      "2         Major City    Outer Regional 2.627939 2.251954 3.676235e-07\n",
      "3         Major City            Remote 2.627939 2.241260  0.005570406\n",
      "4         Major City       Very Remote 2.627939 2.164301 9.580539e-05\n",
      "5     Inner Regional    Outer Regional 2.612283 2.251954 2.348145e-06\n",
      "6     Inner Regional            Remote 2.612283 2.241260  0.008052161\n",
      "7     Inner Regional       Very Remote 2.612283 2.164301 0.0001787961\n",
      "8     Outer Regional            Remote 2.251954 2.241260    0.9382344\n",
      "9     Outer Regional       Very Remote 2.251954 2.164301    0.4580679\n",
      "10            Remote       Very Remote 2.241260 2.164301      0.63291\n",
      "    Difference\n",
      "1  -0.01565614\n",
      "2  -0.37598508\n",
      "3  -0.38667963\n",
      "4  -0.46363879\n",
      "5  -0.36032894\n",
      "6  -0.37102350\n",
      "7  -0.44798265\n",
      "8  -0.01069456\n",
      "9  -0.08765371\n",
      "10 -0.07695916\n"
     ]
    },
    {
     "data": {
      "image/png": "[encoded data removed]",
      "text/plain": [
       "plot without title"
      ]
     },
     "metadata": {
      "image/png": {
       "height": 420,
       "width": 420
      }
     },
     "output_type": "display_data"
    }
   ],
   "source": [
    "cleaned_data$Remoteness <- ifelse(cleaned_data$Major.City == 1, \"Major City\", ifelse(cleaned_data$Inner.Regional == 1, \"Inner Regional\", ifelse(cleaned_data$Outer.Regional == 1, \"Outer Regional\", ifelse(cleaned_data$Remote == 1, \"Remote\", \"Very Remote\"))))\n",
    "cleaned_data$Remoteness <- factor(cleaned_data$Remoteness, levels = c(\"Major City\", \"Inner Regional\", \"Outer Regional\", \"Remote\", \"Very Remote\"))\n",
    "\n",
    "# Create the violin plot and assign it to variable 'p'\n",
    "ggplot(cleaned_data, aes(x = Remoteness, y = X95th.5th.Ratio)) +\n",
    "  geom_violin(fill = \"lightblue\", color = \"black\") +\n",
    "  labs(x = \"Remoteness Area\", y = \"Ratio of 95th:5th Percentile Latency\",\n",
    "       title = \"95th:5th Percentile Ratio by Remoteness Areas\") +\n",
    "  theme_minimal()\n",
    "\n",
    "# Create a data frame to store results of t-tests\n",
    "results_table <- data.frame(Remoteness_Area_1 = character(), \n",
    "                             Remoteness_Area_2 = character(), \n",
    "                             Mean_1 = numeric(), \n",
    "                             Mean_2 = numeric(),\n",
    "                             p_value = numeric(), \n",
    "                             Difference = numeric(), \n",
    "                             stringsAsFactors = FALSE)\n",
    "\n",
    "# Perform t-tests between each pair of remoteness levels\n",
    "remoteness_levels <- levels(cleaned_data$Remoteness)\n",
    "\n",
    "for (i in 1:(length(remoteness_levels) - 1)) {\n",
    "  for (j in (i + 1):length(remoteness_levels)) {\n",
    "    test <- t.test(X95th.5th.Ratio ~ Remoteness, \n",
    "                   data = cleaned_data[cleaned_data$Remoteness %in% c(remoteness_levels[i], remoteness_levels[j]), ])\n",
    "    \n",
    "    # Calculate means\n",
    "    mean_1 <- mean(cleaned_data$X95th.5th.Ratio[cleaned_data$Remoteness == remoteness_levels[i]], na.rm = TRUE)\n",
    "    mean_2 <- mean(cleaned_data$X95th.5th.Ratio[cleaned_data$Remoteness == remoteness_levels[j]], na.rm = TRUE)\n",
    "    \n",
    "    # Add results to the data frame\n",
    "    results_table <- rbind(results_table, \n",
    "                            data.frame(Remoteness_Area_1 = remoteness_levels[i], \n",
    "                                       Remoteness_Area_2 = remoteness_levels[j], \n",
    "                                       Mean_1 = mean_1, Mean_2 = mean_2,\n",
    "                                       p_value = format(test$p.value, nsmall = 5),\n",
    "                                       Difference = mean_2 - mean_1))\n",
    "  }\n",
    "}\n",
    "\n",
    "# Print the results table\n",
    "print(results_table)"
   ]
  },
  {
   "cell_type": "markdown",
   "metadata": {},
   "source": [
    "## Begin Fitting"
   ]
  },
  {
   "cell_type": "code",
   "execution_count": 5,
   "metadata": {
    "vscode": {
     "languageId": "r"
    }
   },
   "outputs": [],
   "source": [
    "urban_data <- cleaned_data[(cleaned_data$Major.City == 1) | (cleaned_data$Inner.Regional == 1), ]\n",
    "rural_data <- cleaned_data[(cleaned_data$Major.City == 0) & (cleaned_data$Inner.Regional == 0), ]"
   ]
  },
  {
   "cell_type": "code",
   "execution_count": 6,
   "metadata": {
    "vscode": {
     "languageId": "r"
    }
   },
   "outputs": [
    {
     "name": "stderr",
     "output_type": "stream",
     "text": [
      "Warning message in cor(rural_data[, c(\"IRSD.Decile\", \"IRSAD.Decile\", \"IER.Decile\", :\n",
      "\"the standard deviation is zero\"\n"
     ]
    }
   ],
   "source": [
    "cor_matrix <- cor(cleaned_data[, c(\"IRSD.Decile\", \"IRSAD.Decile\", \"IER.Decile\",\n",
    "                            \"IEO.Decile\", \"Median.Income\",\n",
    "                            \"Lowest.Quartile.Income..\",\n",
    "                            \"Highest.Quartile.Income..\", \"Gini.Coefficient\",\n",
    "                            \"Area..Km.2.\", \"major_city_distance\",\n",
    "                            \"closest_capital_distance\", \"own_capital_distance\",\n",
    "                            \"Population\", \"Population.Density\", \n",
    "                            \"Population.Change\", \"Population.Change..\",\n",
    "                            \"Indigenous.Population\", \"Indigenous.Population..\",\n",
    "                            \"Swing\", \"Seat.Change\", \"is.Safe\", \"is.Marginal\",\n",
    "                            \"Remained.Marginal\")], use = \"complete.obs\")\n",
    "#cor_matrix\n",
    "\n",
    "#write.csv(cor_matrix, file = \"correlation_matrix.csv\", row.names = FALSE)\n",
    "\n",
    "urban_cor_matrix <- cor(urban_data[, c(\"IRSD.Decile\", \"IRSAD.Decile\", \"IER.Decile\",\n",
    "                            \"IEO.Decile\", \"Median.Income\",\n",
    "                            \"Lowest.Quartile.Income..\",\n",
    "                            \"Highest.Quartile.Income..\", \"Gini.Coefficient\",\n",
    "                            \"Area..Km.2.\", \"major_city_distance\",\n",
    "                            \"closest_capital_distance\", \"own_capital_distance\",\n",
    "                            \"Population\", \"Population.Density\", \n",
    "                            \"Population.Change\", \"Population.Change..\",\n",
    "                            \"Indigenous.Population\", \"Indigenous.Population..\",\n",
    "                            \"Swing\", \"Seat.Change\", \"is.Safe\", \"is.Marginal\",\n",
    "                            \"Remained.Marginal\")], use = \"complete.obs\")\n",
    "\n",
    "#write.csv(urban_cor_matrix, file = \"urban_correlation_matrix.csv\", row.names = FALSE)\n",
    "\n",
    "# rural correlation matrix\n",
    "rural_cor_matrix <- cor(rural_data[, c(\"IRSD.Decile\", \"IRSAD.Decile\", \"IER.Decile\",\n",
    "                            \"IEO.Decile\", \"Median.Income\",\n",
    "                            \"Lowest.Quartile.Income..\",\n",
    "                            \"Highest.Quartile.Income..\", \"Gini.Coefficient\",\n",
    "                            \"Area..Km.2.\", \"major_city_distance\",\n",
    "                            \"closest_capital_distance\", \"own_capital_distance\",\n",
    "                            \"Population\", \"Population.Density\", \n",
    "                            \"Population.Change\", \"Population.Change..\",\n",
    "                            \"Indigenous.Population\", \"Indigenous.Population..\",\n",
    "                            \"Swing\", \"Seat.Change\", \"is.Safe\", \"is.Marginal\",\n",
    "                            \"Remained.Marginal\")], use = \"complete.obs\")\n",
    "\n",
    "#write.csv(rural_cor_matrix, file = \"rural_correlation_matrix.csv\", row.names = FALSE)\n"
   ]
  },
  {
   "cell_type": "code",
   "execution_count": 7,
   "metadata": {
    "vscode": {
     "languageId": "r"
    }
   },
   "outputs": [
    {
     "name": "stdout",
     "output_type": "stream",
     "text": [
      "[1] 401\n",
      "[1] 222\n",
      "[1] 179\n"
     ]
    }
   ],
   "source": [
    "# Create scaled (normalised) versions of the combined data\n",
    "cleaned_scaled <- as.data.frame(scale(cleaned_data[, c('IRSAD.Decile', 'Median.Income', 'Gini.Coefficient', 'Area..Km.2.', \n",
    "                                                       'closest_capital_distance', 'Population', 'Population.Density', \n",
    "                                                       'Population.Change..','Indigenous.Population..','Swing', 'Seat.Change',\n",
    "                                                       'is.Safe', 'is.Marginal', 'Remained.Marginal')]))\n",
    "\n",
    "# Add the unscaled percentile columns back in (filtering by the same rows)\n",
    "cleaned_scaled$X5th.Percentile <- cleaned_data$X5th.Percentile\n",
    "cleaned_scaled$X50th.Percentile <- cleaned_data$X50th.Percentile\n",
    "cleaned_scaled$X95th.Percentile <- cleaned_data$X95th.Percentile\n",
    "cleaned_scaled$X95th.5th.Ratio <- cleaned_data$X95th.5th.Ratio\n",
    "\n",
    "# Repeat for urban and rural data\n",
    "urban_scaled <- as.data.frame(scale(urban_data[, c('IRSAD.Decile', 'Median.Income', 'Gini.Coefficient', 'Area..Km.2.', \n",
    "                                                       'closest_capital_distance', 'Population', 'Population.Density', \n",
    "                                                       'Population.Change..','Indigenous.Population..','Swing', 'Seat.Change',\n",
    "                                                       'is.Safe', 'is.Marginal', 'Remained.Marginal')]))\n",
    "\n",
    "urban_scaled$X5th.Percentile <- urban_data$X5th.Percentile\n",
    "urban_scaled$X50th.Percentile <- urban_data$X50th.Percentile\n",
    "urban_scaled$X95th.Percentile <- urban_data$X95th.Percentile\n",
    "urban_scaled$X95th.5th.Ratio <- urban_data$X95th.5th.Ratio\n",
    "\n",
    "rural_scaled <- as.data.frame(scale(rural_data[, c('IRSAD.Decile', 'Median.Income', 'Gini.Coefficient', 'Area..Km.2.', \n",
    "                                                       'closest_capital_distance', 'Population', 'Population.Density', \n",
    "                                                       'Population.Change..','Indigenous.Population..','Swing',\n",
    "                                                       'is.Safe', 'is.Marginal', 'Remained.Marginal')]))\n",
    "\n",
    "rural_scaled$X5th.Percentile <- rural_data$X5th.Percentile\n",
    "rural_scaled$X50th.Percentile <- rural_data$X50th.Percentile\n",
    "rural_scaled$X95th.Percentile <- rural_data$X95th.Percentile\n",
    "rural_scaled$X95th.5th.Ratio <- rural_data$X95th.5th.Ratio\n",
    "\n",
    "print(sum(complete.cases(cleaned_scaled)))\n",
    "print(sum(complete.cases(urban_scaled)))\n",
    "print(sum(complete.cases(rural_scaled)))\n"
   ]
  },
  {
   "cell_type": "code",
   "execution_count": 12,
   "metadata": {
    "vscode": {
     "languageId": "r"
    }
   },
   "outputs": [
    {
     "data": {
      "image/png": "[encoded data removed]",
      "text/plain": [
       "plot without title"
      ]
     },
     "metadata": {
      "image/png": {
       "height": 420,
       "width": 420
      }
     },
     "output_type": "display_data"
    }
   ],
   "source": [
    "# First histogram for urban data\n",
    "p <- ggplot(urban_scaled, aes(x = X95th.5th.Ratio)) +\n",
    "  geom_histogram(binwidth = 0.05, fill = \"blue\", color = \"black\", alpha = 0.5) +\n",
    "  labs(title = \"Histogram of 95th Percentile\", x = \"95th Percentile\", y = \"Frequency\") +\n",
    "  theme_minimal()\n",
    "\n",
    "# Add the rural histogram\n",
    "p + geom_histogram(data = rural_scaled, aes(x = X95th.5th.Ratio), \n",
    "                   binwidth = 0.05, fill = \"red\", color = \"black\", alpha = 0.5)"
   ]
  },
  {
   "cell_type": "code",
   "execution_count": 13,
   "metadata": {
    "vscode": {
     "languageId": "r"
    }
   },
   "outputs": [],
   "source": [
    "# Keep only rows where X5th.Percentile is less than 500\n",
    "cleaned_scaled <- cleaned_scaled[cleaned_scaled$X5th.Percentile < 750, ]\n",
    "urban_scaled <- urban_scaled[urban_scaled$X5th.Percentile < 750, ]\n",
    "rural_scaled <- rural_scaled[rural_scaled$X5th.Percentile < 750, ]\n",
    "\n",
    "# Keep only rows where X50.Percentile is less than 500\n",
    "cleaned_scaled <- cleaned_scaled[cleaned_scaled$X50th.Percentile < 750, ]\n",
    "urban_scaled <- urban_scaled[urban_scaled$X50th.Percentile < 750, ]\n",
    "rural_scaled <- rural_scaled[rural_scaled$X50th.Percentile < 750, ]\n",
    "\n",
    "# Keep only rows where X95.Percentile is less than 750\n",
    "cleaned_scaled <- cleaned_scaled[cleaned_scaled$X95th.Percentile < 750, ]\n",
    "urban_scaled <- urban_scaled[urban_scaled$X95th.Percentile < 750, ]\n",
    "rural_scaled <- rural_scaled[rural_scaled$X95th.Percentile < 750, ]"
   ]
  },
  {
   "cell_type": "code",
   "execution_count": 17,
   "metadata": {
    "vscode": {
     "languageId": "r"
    }
   },
   "outputs": [],
   "source": [
    "fit <- lm(cleaned_scaled$X95th.Percentile ~ IRSAD.Decile +\n",
    "            Gini.Coefficient + Area..Km.2. +  \n",
    "            closest_capital_distance + Population + Population.Density + \n",
    "            + Population.Change.. + Indigenous.Population.. +\n",
    "            Swing + is.Safe + is.Marginal +\n",
    "            Remained.Marginal, data = cleaned_scaled)"
   ]
  },
  {
   "cell_type": "markdown",
   "metadata": {},
   "source": [
    "## AIC"
   ]
  },
  {
   "cell_type": "code",
   "execution_count": 18,
   "metadata": {
    "vscode": {
     "languageId": "r"
    }
   },
   "outputs": [
    {
     "name": "stdout",
     "output_type": "stream",
     "text": [
      "Start:  AIC=3329.85\n",
      "cleaned_scaled$X95th.Percentile ~ IRSAD.Decile + Gini.Coefficient + \n",
      "    Area..Km.2. + closest_capital_distance + Population + Population.Density + \n",
      "    +Population.Change.. + Indigenous.Population.. + Swing + \n",
      "    is.Safe + is.Marginal + Remained.Marginal\n",
      "\n",
      "                           Df Sum of Sq     RSS    AIC\n",
      "- Swing                     1        44 1759559 3327.9\n",
      "- Gini.Coefficient          1       911 1760425 3328.1\n",
      "- Population                1      1618 1761132 3328.2\n",
      "- is.Marginal               1      2603 1762118 3328.4\n",
      "- Remained.Marginal         1      3520 1763035 3328.6\n",
      "- Area..Km.2.               1      5166 1764681 3329.0\n",
      "- IRSAD.Decile              1      5591 1765106 3329.1\n",
      "- Population.Density        1      7213 1766728 3329.5\n",
      "- is.Safe                   1      8362 1767876 3329.7\n",
      "<none>                                  1759515 3329.8\n",
      "- closest_capital_distance  1     15359 1774874 3331.3\n",
      "- Population.Change..       1     17781 1777296 3331.8\n",
      "- Indigenous.Population..   1     48579 1808093 3338.6\n",
      "\n",
      "Step:  AIC=3327.86\n",
      "cleaned_scaled$X95th.Percentile ~ IRSAD.Decile + Gini.Coefficient + \n",
      "    Area..Km.2. + closest_capital_distance + Population + Population.Density + \n",
      "    Population.Change.. + Indigenous.Population.. + is.Safe + \n",
      "    is.Marginal + Remained.Marginal\n",
      "\n",
      "                           Df Sum of Sq     RSS    AIC\n",
      "- Gini.Coefficient          1       897 1760456 3326.1\n",
      "- Population                1      1695 1761254 3326.2\n",
      "- is.Marginal               1      2566 1762125 3326.4\n",
      "- Remained.Marginal         1      3859 1763418 3326.7\n",
      "- Area..Km.2.               1      5216 1764775 3327.0\n",
      "- IRSAD.Decile              1      5970 1765528 3327.2\n",
      "- Population.Density        1      7240 1766798 3327.5\n",
      "- is.Safe                   1      8629 1768187 3327.8\n",
      "<none>                                  1759559 3327.9\n",
      "- closest_capital_distance  1     15411 1774970 3329.3\n",
      "- Population.Change..       1     18273 1777831 3329.9\n",
      "- Indigenous.Population..   1     49216 1808775 3336.7\n",
      "\n",
      "Step:  AIC=3326.06\n",
      "cleaned_scaled$X95th.Percentile ~ IRSAD.Decile + Area..Km.2. + \n",
      "    closest_capital_distance + Population + Population.Density + \n",
      "    Population.Change.. + Indigenous.Population.. + is.Safe + \n",
      "    is.Marginal + Remained.Marginal\n",
      "\n",
      "                           Df Sum of Sq     RSS    AIC\n",
      "- Population                1      1238 1761693 3324.3\n",
      "- is.Marginal               1      3129 1763585 3324.8\n",
      "- Remained.Marginal         1      4323 1764779 3325.0\n",
      "- Area..Km.2.               1      5318 1765774 3325.2\n",
      "- IRSAD.Decile              1      5339 1765795 3325.2\n",
      "- Population.Density        1      7688 1768144 3325.8\n",
      "<none>                                  1760456 3326.1\n",
      "- is.Safe                   1      9918 1770374 3326.3\n",
      "- closest_capital_distance  1     15140 1775596 3327.4\n",
      "- Population.Change..       1     22509 1782964 3329.1\n",
      "- Indigenous.Population..   1     48914 1809370 3334.8\n",
      "\n",
      "Step:  AIC=3324.33\n",
      "cleaned_scaled$X95th.Percentile ~ IRSAD.Decile + Area..Km.2. + \n",
      "    closest_capital_distance + Population.Density + Population.Change.. + \n",
      "    Indigenous.Population.. + is.Safe + is.Marginal + Remained.Marginal\n",
      "\n",
      "                           Df Sum of Sq     RSS    AIC\n",
      "- is.Marginal               1      2913 1764607 3323.0\n",
      "- Remained.Marginal         1      4067 1765760 3323.2\n",
      "- IRSAD.Decile              1      4780 1766473 3323.4\n",
      "- Area..Km.2.               1      5211 1766904 3323.5\n",
      "- Population.Density        1      8675 1770368 3324.3\n",
      "<none>                                  1761693 3324.3\n",
      "- is.Safe                   1      9748 1771441 3324.5\n",
      "- closest_capital_distance  1     14402 1776095 3325.5\n",
      "- Population.Change..       1     21313 1783006 3327.1\n",
      "- Indigenous.Population..   1     48810 1810503 3333.1\n",
      "\n",
      "Step:  AIC=3322.98\n",
      "cleaned_scaled$X95th.Percentile ~ IRSAD.Decile + Area..Km.2. + \n",
      "    closest_capital_distance + Population.Density + Population.Change.. + \n",
      "    Indigenous.Population.. + is.Safe + Remained.Marginal\n",
      "\n",
      "                           Df Sum of Sq     RSS    AIC\n",
      "- Remained.Marginal         1      1956 1766563 3321.4\n",
      "- IRSAD.Decile              1      4687 1769294 3322.0\n",
      "- Area..Km.2.               1      5041 1769647 3322.1\n",
      "- is.Safe                   1      6835 1771441 3322.5\n",
      "<none>                                  1764607 3323.0\n",
      "- Population.Density        1      9740 1774347 3323.1\n",
      "- closest_capital_distance  1     15323 1779929 3324.4\n",
      "- Population.Change..       1     20758 1785364 3325.6\n",
      "- Indigenous.Population..   1     48675 1813281 3331.7\n",
      "\n",
      "Step:  AIC=3321.42\n",
      "cleaned_scaled$X95th.Percentile ~ IRSAD.Decile + Area..Km.2. + \n",
      "    closest_capital_distance + Population.Density + Population.Change.. + \n",
      "    Indigenous.Population.. + is.Safe\n",
      "\n",
      "                           Df Sum of Sq     RSS    AIC\n",
      "- IRSAD.Decile              1      4367 1770931 3320.4\n",
      "- Area..Km.2.               1      4875 1771438 3320.5\n",
      "- Population.Density        1      8792 1775355 3321.4\n",
      "<none>                                  1766563 3321.4\n",
      "- is.Safe                   1     10979 1777542 3321.9\n",
      "- closest_capital_distance  1     16258 1782821 3323.0\n",
      "- Population.Change..       1     21655 1788218 3324.2\n",
      "- Indigenous.Population..   1     46936 1813499 3329.7\n",
      "\n",
      "Step:  AIC=3320.39\n",
      "cleaned_scaled$X95th.Percentile ~ Area..Km.2. + closest_capital_distance + \n",
      "    Population.Density + Population.Change.. + Indigenous.Population.. + \n",
      "    is.Safe\n",
      "\n",
      "                           Df Sum of Sq     RSS    AIC\n",
      "- Area..Km.2.               1      4853 1775784 3319.5\n",
      "- Population.Density        1      4895 1775825 3319.5\n",
      "<none>                                  1770931 3320.4\n",
      "- is.Safe                   1     14839 1785769 3321.7\n",
      "- closest_capital_distance  1     15617 1786547 3321.8\n",
      "- Population.Change..       1     24865 1795796 3323.9\n",
      "- Indigenous.Population..   1     63884 1834814 3332.3\n",
      "\n",
      "Step:  AIC=3319.47\n",
      "cleaned_scaled$X95th.Percentile ~ closest_capital_distance + \n",
      "    Population.Density + Population.Change.. + Indigenous.Population.. + \n",
      "    is.Safe\n",
      "\n",
      "                           Df Sum of Sq     RSS    AIC\n",
      "- Population.Density        1      4618 1780402 3318.5\n",
      "<none>                                  1775784 3319.5\n",
      "- closest_capital_distance  1     12427 1788211 3320.2\n",
      "- is.Safe                   1     15585 1791369 3320.9\n",
      "- Population.Change..       1     22657 1798441 3322.4\n",
      "- Indigenous.Population..   1     59048 1834832 3330.3\n",
      "\n",
      "Step:  AIC=3318.49\n",
      "cleaned_scaled$X95th.Percentile ~ closest_capital_distance + \n",
      "    Population.Change.. + Indigenous.Population.. + is.Safe\n",
      "\n",
      "                           Df Sum of Sq     RSS    AIC\n",
      "<none>                                  1780402 3318.5\n",
      "- closest_capital_distance  1      9500 1789902 3318.6\n",
      "- is.Safe                   1     14620 1795022 3319.7\n",
      "- Population.Change..       1     25819 1806221 3322.1\n",
      "- Indigenous.Population..   1     56617 1837019 3328.8\n"
     ]
    },
    {
     "data": {
      "text/plain": [
       "\n",
       "Call:\n",
       "lm(formula = cleaned_scaled$X95th.Percentile ~ closest_capital_distance + \n",
       "    Population.Change.. + Indigenous.Population.. + is.Safe, \n",
       "    data = cleaned_scaled)\n",
       "\n",
       "Residuals:\n",
       "     Min       1Q   Median       3Q      Max \n",
       "-217.729  -30.597   -3.325   24.343  289.897 \n",
       "\n",
       "Coefficients:\n",
       "                         Estimate Std. Error t value Pr(>|t|)    \n",
       "(Intercept)               444.628      3.417 130.115  < 2e-16 ***\n",
       "closest_capital_distance   -6.001      4.171  -1.439 0.150993    \n",
       "Population.Change..         8.309      3.503   2.372 0.018175 *  \n",
       "Indigenous.Population..   -14.717      4.190  -3.513 0.000496 ***\n",
       "is.Safe                    -6.200      3.474  -1.785 0.075047 .  \n",
       "---\n",
       "Signif. codes:  0 '***' 0.001 '**' 0.01 '*' 0.05 '.' 0.1 ' ' 1\n",
       "\n",
       "Residual standard error: 67.74 on 388 degrees of freedom\n",
       "Multiple R-squared:  0.1051,\tAdjusted R-squared:  0.09591 \n",
       "F-statistic:  11.4 on 4 and 388 DF,  p-value: 9.35e-09\n"
      ]
     },
     "metadata": {},
     "output_type": "display_data"
    }
   ],
   "source": [
    "# Fit the model with stepwise AIC selection\n",
    "fit_aic <- step(fit)\n",
    "summary(fit_aic)"
   ]
  },
  {
   "cell_type": "markdown",
   "metadata": {},
   "source": [
    "## BIC"
   ]
  },
  {
   "cell_type": "code",
   "execution_count": 19,
   "metadata": {
    "vscode": {
     "languageId": "r"
    }
   },
   "outputs": [
    {
     "name": "stdout",
     "output_type": "stream",
     "text": [
      "Start:  AIC=3381.77\n",
      "cleaned_scaled$X95th.Percentile ~ IRSAD.Decile + Gini.Coefficient + \n",
      "    Area..Km.2. + closest_capital_distance + Population + Population.Density + \n",
      "    +Population.Change.. + Indigenous.Population.. + Swing + \n",
      "    is.Safe + is.Marginal + Remained.Marginal\n",
      "\n",
      "                           Df Sum of Sq     RSS    AIC\n",
      "- Swing                     1        44 1759559 3375.8\n",
      "- Gini.Coefficient          1       911 1760425 3376.0\n",
      "- Population                1      1618 1761132 3376.1\n",
      "- is.Marginal               1      2603 1762118 3376.4\n",
      "- Remained.Marginal         1      3520 1763035 3376.6\n",
      "- Area..Km.2.               1      5166 1764681 3376.9\n",
      "- IRSAD.Decile              1      5591 1765106 3377.0\n",
      "- Population.Density        1      7213 1766728 3377.4\n",
      "- is.Safe                   1      8362 1767876 3377.6\n",
      "- closest_capital_distance  1     15359 1774874 3379.2\n",
      "- Population.Change..       1     17781 1777296 3379.7\n",
      "<none>                                  1759515 3381.8\n",
      "- Indigenous.Population..   1     48579 1808093 3386.5\n",
      "\n",
      "Step:  AIC=3375.79\n",
      "cleaned_scaled$X95th.Percentile ~ IRSAD.Decile + Gini.Coefficient + \n",
      "    Area..Km.2. + closest_capital_distance + Population + Population.Density + \n",
      "    Population.Change.. + Indigenous.Population.. + is.Safe + \n",
      "    is.Marginal + Remained.Marginal\n",
      "\n",
      "                           Df Sum of Sq     RSS    AIC\n",
      "- Gini.Coefficient          1       897 1760456 3370.0\n",
      "- Population                1      1695 1761254 3370.2\n",
      "- is.Marginal               1      2566 1762125 3370.4\n",
      "- Remained.Marginal         1      3859 1763418 3370.7\n",
      "- Area..Km.2.               1      5216 1764775 3371.0\n",
      "- IRSAD.Decile              1      5970 1765528 3371.1\n",
      "- Population.Density        1      7240 1766798 3371.4\n",
      "- is.Safe                   1      8629 1768187 3371.7\n",
      "- closest_capital_distance  1     15411 1774970 3373.2\n",
      "- Population.Change..       1     18273 1777831 3373.9\n",
      "<none>                                  1759559 3375.8\n",
      "- Indigenous.Population..   1     49216 1808775 3380.6\n",
      "+ Swing                     1        44 1759515 3381.8\n",
      "\n",
      "Step:  AIC=3369.99\n",
      "cleaned_scaled$X95th.Percentile ~ IRSAD.Decile + Area..Km.2. + \n",
      "    closest_capital_distance + Population + Population.Density + \n",
      "    Population.Change.. + Indigenous.Population.. + is.Safe + \n",
      "    is.Marginal + Remained.Marginal\n",
      "\n",
      "                           Df Sum of Sq     RSS    AIC\n",
      "- Population                1      1238 1761693 3364.3\n",
      "- is.Marginal               1      3129 1763585 3364.7\n",
      "- Remained.Marginal         1      4323 1764779 3365.0\n",
      "- Area..Km.2.               1      5318 1765774 3365.2\n",
      "- IRSAD.Decile              1      5339 1765795 3365.2\n",
      "- Population.Density        1      7688 1768144 3365.7\n",
      "- is.Safe                   1      9918 1770374 3366.2\n",
      "- closest_capital_distance  1     15140 1775596 3367.4\n",
      "- Population.Change..       1     22509 1782964 3369.0\n",
      "<none>                                  1760456 3370.0\n",
      "- Indigenous.Population..   1     48914 1809370 3374.8\n",
      "+ Gini.Coefficient          1       897 1759559 3375.8\n",
      "+ Swing                     1        30 1760425 3376.0\n",
      "\n",
      "Step:  AIC=3364.27\n",
      "cleaned_scaled$X95th.Percentile ~ IRSAD.Decile + Area..Km.2. + \n",
      "    closest_capital_distance + Population.Density + Population.Change.. + \n",
      "    Indigenous.Population.. + is.Safe + is.Marginal + Remained.Marginal\n",
      "\n",
      "                           Df Sum of Sq     RSS    AIC\n",
      "- is.Marginal               1      2913 1764607 3358.9\n",
      "- Remained.Marginal         1      4067 1765760 3359.2\n",
      "- IRSAD.Decile              1      4780 1766473 3359.3\n",
      "- Area..Km.2.               1      5211 1766904 3359.4\n",
      "- Population.Density        1      8675 1770368 3360.2\n",
      "- is.Safe                   1      9748 1771441 3360.4\n",
      "- closest_capital_distance  1     14402 1776095 3361.5\n",
      "- Population.Change..       1     21313 1783006 3363.0\n",
      "<none>                                  1761693 3364.3\n",
      "- Indigenous.Population..   1     48810 1810503 3369.0\n",
      "+ Population                1      1238 1760456 3370.0\n",
      "+ Gini.Coefficient          1       440 1761254 3370.2\n",
      "+ Swing                     1        93 1761600 3370.2\n",
      "\n",
      "Step:  AIC=3358.93\n",
      "cleaned_scaled$X95th.Percentile ~ IRSAD.Decile + Area..Km.2. + \n",
      "    closest_capital_distance + Population.Density + Population.Change.. + \n",
      "    Indigenous.Population.. + is.Safe + Remained.Marginal\n",
      "\n",
      "                           Df Sum of Sq     RSS    AIC\n",
      "- Remained.Marginal         1      1956 1766563 3353.4\n",
      "- IRSAD.Decile              1      4687 1769294 3354.0\n",
      "- Area..Km.2.               1      5041 1769647 3354.1\n",
      "- is.Safe                   1      6835 1771441 3354.5\n",
      "- Population.Density        1      9740 1774347 3355.1\n",
      "- closest_capital_distance  1     15323 1779929 3356.3\n",
      "- Population.Change..       1     20758 1785364 3357.5\n",
      "<none>                                  1764607 3358.9\n",
      "- Indigenous.Population..   1     48675 1813281 3363.6\n",
      "+ is.Marginal               1      2913 1761693 3364.3\n",
      "+ Population                1      1021 1763585 3364.7\n",
      "+ Gini.Coefficient          1       870 1763736 3364.7\n",
      "+ Swing                     1         1 1764606 3364.9\n",
      "\n",
      "Step:  AIC=3353.37\n",
      "cleaned_scaled$X95th.Percentile ~ IRSAD.Decile + Area..Km.2. + \n",
      "    closest_capital_distance + Population.Density + Population.Change.. + \n",
      "    Indigenous.Population.. + is.Safe\n",
      "\n",
      "                           Df Sum of Sq     RSS    AIC\n",
      "- IRSAD.Decile              1      4367 1770931 3348.3\n",
      "- Area..Km.2.               1      4875 1771438 3348.5\n",
      "- Population.Density        1      8792 1775355 3349.3\n",
      "- is.Safe                   1     10979 1777542 3349.8\n",
      "- closest_capital_distance  1     16258 1782821 3351.0\n",
      "- Population.Change..       1     21655 1788218 3352.2\n",
      "<none>                                  1766563 3353.4\n",
      "- Indigenous.Population..   1     46936 1813499 3357.7\n",
      "+ Remained.Marginal         1      1956 1764607 3358.9\n",
      "+ Gini.Coefficient          1      1004 1765559 3359.1\n",
      "+ Population                1       918 1765645 3359.2\n",
      "+ is.Marginal               1       803 1765760 3359.2\n",
      "+ Swing                     1       314 1766249 3359.3\n",
      "\n",
      "Step:  AIC=3348.35\n",
      "cleaned_scaled$X95th.Percentile ~ Area..Km.2. + closest_capital_distance + \n",
      "    Population.Density + Population.Change.. + Indigenous.Population.. + \n",
      "    is.Safe\n",
      "\n",
      "                           Df Sum of Sq     RSS    AIC\n",
      "- Area..Km.2.               1      4853 1775784 3343.4\n",
      "- Population.Density        1      4895 1775825 3343.4\n",
      "- is.Safe                   1     14839 1785769 3345.6\n",
      "- closest_capital_distance  1     15617 1786547 3345.8\n",
      "- Population.Change..       1     24865 1795796 3347.8\n",
      "<none>                                  1770931 3348.3\n",
      "+ IRSAD.Decile              1      4367 1766563 3353.4\n",
      "+ Remained.Marginal         1      1637 1769294 3354.0\n",
      "+ is.Marginal               1       856 1770075 3354.2\n",
      "+ Population                1       475 1770456 3354.2\n",
      "+ Gini.Coefficient          1       457 1770474 3354.2\n",
      "+ Swing                     1        28 1770903 3354.3\n",
      "- Indigenous.Population..   1     63884 1834814 3356.3\n",
      "\n",
      "Step:  AIC=3343.43\n",
      "cleaned_scaled$X95th.Percentile ~ closest_capital_distance + \n",
      "    Population.Density + Population.Change.. + Indigenous.Population.. + \n",
      "    is.Safe\n",
      "\n",
      "                           Df Sum of Sq     RSS    AIC\n",
      "- Population.Density        1      4618 1780402 3338.5\n",
      "- closest_capital_distance  1     12427 1788211 3340.2\n",
      "- is.Safe                   1     15585 1791369 3340.9\n",
      "- Population.Change..       1     22657 1798441 3342.4\n",
      "<none>                                  1775784 3343.4\n",
      "+ Area..Km.2.               1      4853 1770931 3348.3\n",
      "+ IRSAD.Decile              1      4345 1771438 3348.5\n",
      "+ Remained.Marginal         1      1487 1774296 3349.1\n",
      "+ is.Marginal               1       824 1774959 3349.2\n",
      "+ Gini.Coefficient          1       524 1775260 3349.3\n",
      "+ Population                1       420 1775364 3349.3\n",
      "+ Swing                     1         4 1775780 3349.4\n",
      "- Indigenous.Population..   1     59048 1834832 3350.3\n",
      "\n",
      "Step:  AIC=3338.46\n",
      "cleaned_scaled$X95th.Percentile ~ closest_capital_distance + \n",
      "    Population.Change.. + Indigenous.Population.. + is.Safe\n",
      "\n",
      "                           Df Sum of Sq     RSS    AIC\n",
      "- closest_capital_distance  1      9500 1789902 3334.6\n",
      "- is.Safe                   1     14620 1795022 3335.7\n",
      "- Population.Change..       1     25819 1806221 3338.1\n",
      "<none>                                  1780402 3338.5\n",
      "+ Population.Density        1      4618 1775784 3343.4\n",
      "+ Area..Km.2.               1      4576 1775825 3343.4\n",
      "+ is.Marginal               1      1524 1778877 3344.1\n",
      "+ Population                1      1229 1779173 3344.2\n",
      "+ Gini.Coefficient          1      1071 1779330 3344.2\n",
      "+ Remained.Marginal         1       924 1779478 3344.2\n",
      "+ IRSAD.Decile              1       509 1779893 3344.3\n",
      "+ Swing                     1       326 1780076 3344.4\n",
      "- Indigenous.Population..   1     56617 1837019 3344.8\n",
      "\n",
      "Step:  AIC=3334.55\n",
      "cleaned_scaled$X95th.Percentile ~ Population.Change.. + Indigenous.Population.. + \n",
      "    is.Safe\n",
      "\n",
      "                           Df Sum of Sq     RSS    AIC\n",
      "- is.Safe                   1     17104 1807006 3332.3\n",
      "- Population.Change..       1     27497 1817399 3334.6\n",
      "<none>                                  1789902 3334.6\n",
      "+ closest_capital_distance  1      9500 1780402 3338.5\n",
      "+ Area..Km.2.               1      1776 1788126 3340.2\n",
      "+ Remained.Marginal         1      1747 1788155 3340.2\n",
      "+ Population.Density        1      1691 1788211 3340.2\n",
      "+ is.Marginal               1      1418 1788483 3340.2\n",
      "+ IRSAD.Decile              1      1007 1788894 3340.3\n",
      "+ Swing                     1       938 1788963 3340.3\n",
      "+ Gini.Coefficient          1       842 1789059 3340.4\n",
      "+ Population                1       353 1789549 3340.5\n",
      "- Indigenous.Population..   1    121949 1911851 3354.5\n",
      "\n",
      "Step:  AIC=3332.3\n",
      "cleaned_scaled$X95th.Percentile ~ Population.Change.. + Indigenous.Population..\n",
      "\n",
      "                           Df Sum of Sq     RSS    AIC\n",
      "<none>                                  1807006 3332.3\n",
      "- Population.Change..       1     34329 1841335 3333.7\n",
      "+ is.Safe                   1     17104 1789902 3334.6\n",
      "+ closest_capital_distance  1     11985 1795022 3335.7\n",
      "+ Remained.Marginal         1      7385 1799621 3336.7\n",
      "+ IRSAD.Decile              1      3633 1803373 3337.5\n",
      "+ is.Marginal               1      2875 1804131 3337.7\n",
      "+ Area..Km.2.               1      1998 1805009 3337.9\n",
      "+ Gini.Coefficient          1      1584 1805422 3337.9\n",
      "+ Population.Density        1       904 1806102 3338.1\n",
      "+ Population                1       115 1806891 3338.3\n",
      "+ Swing                     1       111 1806895 3338.3\n",
      "- Indigenous.Population..   1    116110 1923116 3350.8\n"
     ]
    },
    {
     "data": {
      "text/plain": [
       "\n",
       "Call:\n",
       "lm(formula = cleaned_scaled$X95th.Percentile ~ Population.Change.. + \n",
       "    Indigenous.Population.., data = cleaned_scaled)\n",
       "\n",
       "Residuals:\n",
       "     Min       1Q   Median       3Q      Max \n",
       "-224.909  -33.896   -1.088   21.488  295.093 \n",
       "\n",
       "Coefficients:\n",
       "                        Estimate Std. Error t value Pr(>|t|)    \n",
       "(Intercept)              444.677      3.434 129.504  < 2e-16 ***\n",
       "Population.Change..        9.480      3.483   2.722  0.00678 ** \n",
       "Indigenous.Population..  -17.553      3.506  -5.006 8.43e-07 ***\n",
       "---\n",
       "Signif. codes:  0 '***' 0.001 '**' 0.01 '*' 0.05 '.' 0.1 ' ' 1\n",
       "\n",
       "Residual standard error: 68.07 on 390 degrees of freedom\n",
       "Multiple R-squared:  0.09177,\tAdjusted R-squared:  0.08711 \n",
       "F-statistic:  19.7 on 2 and 390 DF,  p-value: 7.053e-09\n"
      ]
     },
     "metadata": {},
     "output_type": "display_data"
    }
   ],
   "source": [
    "fit_bic <- step(fit, direction = \"both\", k = log(nrow(cleaned_data)))\n",
    "summary(fit_bic)"
   ]
  },
  {
   "cell_type": "code",
   "execution_count": null,
   "metadata": {
    "vscode": {
     "languageId": "r"
    }
   },
   "outputs": [],
   "source": [
    "summary(cleaned_scaled$Area..Km.2.)\n",
    "summary(urban_scaled$Area..Km.2.)\n",
    "summary(rural_scaled$Area..Km.2.)"
   ]
  },
  {
   "cell_type": "markdown",
   "metadata": {},
   "source": [
    "## Ridge Regression"
   ]
  },
  {
   "cell_type": "code",
   "execution_count": null,
   "metadata": {
    "vscode": {
     "languageId": "r"
    }
   },
   "outputs": [],
   "source": [
    "cv_alpha <- function(x, y, nfolds = 5) {\n",
    "  alphas <- seq(0, 1, by = 0.1)\n",
    "  cv_errors <- numeric(length(alphas))\n",
    "  \n",
    "  for (i in seq_along(alphas)) {\n",
    "    fit <- cv.glmnet(x, y, alpha = alphas[i], nfolds = nfolds)\n",
    "    cv_errors[i] <- min(fit$cvm)\n",
    "  }\n",
    "  \n",
    "  best_alpha <- alphas[which.min(cv_errors)]\n",
    "  return(best_alpha)}\n",
    "\n",
    "x <- model.matrix(rural_scaled$X95th.Percentile ~ IRSAD.Decile +\n",
    "            Median.Income + Gini.Coefficient + Area..Km.2. +\n",
    "            closest_capital_distance + Population + Population.Density +\n",
    "            Population.Change.. + Indigenous.Population.. +\n",
    "            Swing +\n",
    "            # Seat.Change +\n",
    "            is.Safe + is.Marginal +\n",
    "            Remained.Marginal, data = rural_scaled)\n",
    "\n",
    "y <- rural_scaled$X95th.Percentile\n",
    "\n",
    "# Fit Lasso regression model (alpha = 1 for Lasso)\n",
    "cv_model_best <- cv.glmnet(x, y, alpha = 0)\n",
    "\n",
    "# Plot the cross-validation curve\n",
    "par(bg= \"white\")\n",
    "plot(cv_model_best)\n",
    "\n",
    "# Get the best lambda\n",
    "best_lambda <- cv_model_best$lambda.min\n",
    "print(best_lambda)\n",
    "\n",
    "# Fit the final model with the best alpha and lambda\n",
    "final_model_best <- glmnet(x, y, alpha = 0, lambda = best_lambda)\n",
    "selected_vars <- rownames(coef(final_model_best))[-1][coef(final_model_best)[-1, 1] != 0]\n",
    "\n",
    "# Create a formula for the selected variables\n",
    "formula <- as.formula(paste(\"X95th.Percentile ~\", paste(selected_vars, collapse = \" + \")))\n",
    "ridge_model <- glm(formula, data = rural_scaled)\n",
    "summary(ridge_model)\n",
    "options(repr.plot.width = 10, repr.plot.height = 6)\n",
    "plot(predict(ridge_model, rural_scaled), rural_scaled$X95th.Percentile, \n",
    "            main=\"Prediction performance of Ridge model\", \n",
    "            ylab= \"Recorded\", xlab=\"Predicted\")\n",
    "plot(ridge_model$fitted.values, resid(ridge_model), \n",
    "     main = \"Residuals vs Predicted\", \n",
    "     xlab = \"Predicted\", \n",
    "     ylab = \"Residuals\")\n",
    "abline(h = 0, col = \"red\")"
   ]
  },
  {
   "cell_type": "markdown",
   "metadata": {
    "vscode": {
     "languageId": "r"
    }
   },
   "source": [
    "## Lasso Regression"
   ]
  },
  {
   "cell_type": "code",
   "execution_count": null,
   "metadata": {
    "vscode": {
     "languageId": "r"
    }
   },
   "outputs": [],
   "source": [
    "cv_alpha <- function(x, y, nfolds = 5) {\n",
    "  alphas <- seq(0, 1, by = 0.1)\n",
    "  cv_errors <- numeric(length(alphas))\n",
    "  \n",
    "  for (i in seq_along(alphas)) {\n",
    "    fit <- cv.glmnet(x, y, alpha = alphas[i], nfolds = nfolds)\n",
    "    cv_errors[i] <- min(fit$cvm)\n",
    "  }\n",
    "  \n",
    "  best_alpha <- alphas[which.min(cv_errors)]\n",
    "  return(best_alpha)}\n",
    "\n",
    "x <- model.matrix(cleaned_scaled$X95th.Percentile ~ IRSAD.Decile +\n",
    "            Median.Income + Gini.Coefficient + Area..Km.2. +\n",
    "            closest_capital_distance + Population + Population.Density +\n",
    "            Population.Change.. + Indigenous.Population.. +\n",
    "            Swing +\n",
    "            # Seat.Change +\n",
    "            is.Safe + is.Marginal +\n",
    "            Remained.Marginal, data = cleaned_scaled)\n",
    "\n",
    "y <- cleaned_scaled$X95th.Percentile\n",
    "\n",
    "# Fit Lasso regression model (alpha = 1 for Lasso)\n",
    "cv_model_best <- cv.glmnet(x, y, alpha = 1)\n",
    "\n",
    "# Plot the cross-validation curve\n",
    "par(bg= \"white\")\n",
    "plot(cv_model_best)\n",
    "\n",
    "# Get the best lambda\n",
    "best_lambda <- cv_model_best$lambda.min\n",
    "print(best_lambda)\n",
    "\n",
    "# Fit the final model with the best alpha and lambda\n",
    "final_model_best <- glmnet(x, y, alpha = 1, lambda = best_lambda)\n",
    "selected_vars <- rownames(coef(final_model_best))[-1][coef(final_model_best)[-1, 1] != 0]\n",
    "if (length(selected_vars) == 0) {print('No variables selected')}\n",
    "\n",
    "# Create a formula for the selected variables\n",
    "formula <- as.formula(paste(\"X95th.Percentile ~\", paste(selected_vars, collapse = \" + \")))\n",
    "lasso_model <- glm(formula, data = cleaned_scaled)\n",
    "summary(lasso_model)\n",
    "options(repr.plot.width = 10, repr.plot.height = 6)\n",
    "plot(predict(lasso_model, cleaned_scaled), cleaned_scaled$X95th.Percentile, \n",
    "            main=\"Prediction performance of Ridge model\", \n",
    "            ylab= \"Recorded\", xlab=\"Predicted\")\n",
    "plot(lasso_model$fitted.values, resid(lasso_model), \n",
    "     main = \"Residuals vs Predicted\", \n",
    "     xlab = \"Predicted\", \n",
    "     ylab = \"Residuals\")\n",
    "abline(h = 0, col = \"red\")"
   ]
  },
  {
   "cell_type": "markdown",
   "metadata": {},
   "source": [
    "## Elastic Net Regression"
   ]
  },
  {
   "cell_type": "code",
   "execution_count": null,
   "metadata": {
    "vscode": {
     "languageId": "r"
    }
   },
   "outputs": [],
   "source": [
    "cv_alpha <- function(x, y, nfolds = 5) {\n",
    "  alphas <- seq(0, 1, by = 0.1)\n",
    "  cv_errors <- numeric(length(alphas))\n",
    "  \n",
    "  for (i in seq_along(alphas)) {\n",
    "    fit <- cv.glmnet(x, y, alpha = alphas[i], nfolds = nfolds)\n",
    "    cv_errors[i] <- min(fit$cvm)\n",
    "  }\n",
    "  \n",
    "  best_alpha <- alphas[which.min(cv_errors)]\n",
    "  return(best_alpha)}\n",
    "\n",
    "x <- model.matrix(cleaned_scaled$X95th.Percentile ~ IRSAD.Decile +\n",
    "            Median.Income + Gini.Coefficient + Area..Km.2. +\n",
    "            closest_capital_distance + Population + Population.Density +\n",
    "            Population.Change.. + Indigenous.Population.. +\n",
    "            Swing +\n",
    "            # Seat.Change +\n",
    "            is.Safe + is.Marginal +\n",
    "            Remained.Marginal, data = cleaned_scaled)\n",
    "\n",
    "y <- cleaned_scaled$X95th.Percentile\n",
    "\n",
    "# Find the best alpha\n",
    "best_alpha <- cv_alpha(x, y)\n",
    "cat(\"Best alpha:\", best_alpha, \"\\n\")\n",
    "\n",
    "# Fit Lasso regression model (alpha = 1 for Lasso)\n",
    "cv_model_best <- cv.glmnet(x, y, alpha = best_alpha)\n",
    "\n",
    "# Plot the cross-validation curve\n",
    "par(bg= \"white\")\n",
    "plot(cv_model_best)\n",
    "\n",
    "# Get the best lambda\n",
    "best_lambda <- cv_model_best$lambda.min\n",
    "print(best_lambda)\n",
    "\n",
    "# Fit the final model with the best alpha and lambda\n",
    "final_model_best <- glmnet(x, y, alpha = best_alpha, lambda = best_lambda)\n",
    "selected_vars <- rownames(coef(final_model_best))[-1][coef(final_model_best)[-1, 1] != 0]\n",
    "if (length(selected_vars) == 0) {print('No variables selected')}\n",
    "\n",
    "# Create a formula for the selected variables\n",
    "formula <- as.formula(paste(\"X95th.Percentile ~\", paste(selected_vars, collapse = \" + \")))\n",
    "elastic_model <- glm(formula, data = cleaned_scaled)\n",
    "summary(ridge_model)\n",
    "options(repr.plot.width = 10, repr.plot.height = 6)\n",
    "plot(predict(elastic_model, cleaned_scaled), cleaned_scaled$X95th.Percentile, \n",
    "            main=\"Prediction performance of Ridge model\", \n",
    "            ylab= \"Recorded\", xlab=\"Predicted\")\n",
    "plot(elastic_model$fitted.values, resid(elastic_model), \n",
    "     main = \"Residuals vs Predicted\", \n",
    "     xlab = \"Predicted\", \n",
    "     ylab = \"Residuals\")\n",
    "abline(h = 0, col = \"red\")"
   ]
  },
  {
   "cell_type": "markdown",
   "metadata": {},
   "source": [
    "## idk, something else now"
   ]
  },
  {
   "cell_type": "code",
   "execution_count": null,
   "metadata": {
    "vscode": {
     "languageId": "r"
    }
   },
   "outputs": [],
   "source": [
    "ggplot(cleaned_scaled, aes(x = Median.Income, y = X95th.Percentile)) +\n",
    "  geom_point(color = \"blue\") +\n",
    "  labs(title = \"Independent Variable vs Target Outcome\", x = \"Independent Variable\", y = \"Target Outcome\") +\n",
    "  theme_minimal()"
   ]
  },
  {
   "cell_type": "code",
   "execution_count": null,
   "metadata": {
    "vscode": {
     "languageId": "r"
    }
   },
   "outputs": [],
   "source": [
    "# Generate predicted values\n",
    "cleaned_scaled$predicted_values <- predict(ridge_model, newdata = cleaned_scaled)\n",
    "\n",
    "# Create a new column to classify urban and rural\n",
    "cleaned_data$category <- ifelse(cleaned_data$Major.City == 1 | cleaned_data$Inner.Regional == 1, \"Urban\", \"Rural\")\n",
    "\n",
    "# Create the plot\n",
    "ggplot(cleaned_scaled, aes(x = predicted_values, y = X5th.Percentile, color = category)) +\n",
    "  geom_point() +  # Actual data points\n",
    "  geom_smooth(method = \"lm\", color = \"blue\", se = FALSE) +  # Linear regression line\n",
    "  scale_color_manual(values = c(\"Urban\" = \"blue\", \"Rural\" = \"red\")) +  # Set colors for categories\n",
    "  labs(title = \"95th Percentile\", \n",
    "       x = \"Fitted 95th Percentile [ms]\", \n",
    "       y = \"Actual 95th Percentile [ms]\", \n",
    "       color = \"Category\") +  # Legend title\n",
    "  theme_minimal() +\n",
    "  xlim(min(cleaned_data$predicted_values), max(cleaned_data$predicted_values)) +  # Set x limits\n",
    "  ylim(min(cleaned_data$X5th.Percentile), max(cleaned_data$X5th.Percentile))  # Set y limits\n"
   ]
  },
  {
   "cell_type": "markdown",
   "metadata": {},
   "source": [
    "## All Hours vs Busy Hours"
   ]
  },
  {
   "cell_type": "code",
   "execution_count": null,
   "metadata": {
    "vscode": {
     "languageId": "r"
    }
   },
   "outputs": [],
   "source": [
    "# Create a data frame to store results\n",
    "results <- data.frame(Variable = character(),\n",
    "                      Comparison = character(),\n",
    "                      p.value = numeric(),\n",
    "                      stringsAsFactors = FALSE)\n",
    "\n",
    "# List of pairs to compare\n",
    "pairs <- list(\n",
    "  c(\"X5th.Percentile\", \"Busy.5th.Percentile\"),\n",
    "  c(\"X50th.Percentile\", \"Busy.50th.Percentile\"),\n",
    "  c(\"X95th.Percentile\", \"Busy.95th.Percentile\"),\n",
    "  c(\"X95th.5th.Ratio\", \"Busy.95th.5th.Ratio\")\n",
    ")\n",
    "pairs <- list(\n",
    "  c(\"X5th.Percentile\", \"X5th.Percentile\"),\n",
    "  c(\"X50th.Percentile\", \"X50th.Percentile\"),\n",
    "  c(\"X95th.Percentile\", \"X95th.Percentile\"),\n",
    "  c(\"X95th.5th.Ratio\", \"X95th.5th.Ratio\")\n",
    ")\n",
    "\n",
    "# Perform t-tests for each pair\n",
    "for (pair in pairs) {\n",
    "  var1 <- pair[1]\n",
    "  var2 <- pair[2]\n",
    "  \n",
    "  # Perform t-test\n",
    "  test <- t.test(urban_data[[var1]], rural_data[[var2]])\n",
    "  \n",
    "  # Store results\n",
    "  results <- rbind(results, data.frame(Variable = var1,\n",
    "                                        Comparison = var2,\n",
    "                                        p.value = test$p.value))\n",
    "}\n",
    "\n",
    "# View results\n",
    "print(results)\n"
   ]
  },
  {
   "cell_type": "code",
   "execution_count": null,
   "metadata": {
    "vscode": {
     "languageId": "r"
    }
   },
   "outputs": [],
   "source": [
    "summary(cleaned_data$X95th.5th.Ratio)\n",
    "summary(cleaned_data$Busy.95th.5th.Ratio)"
   ]
  },
  {
   "cell_type": "code",
   "execution_count": null,
   "metadata": {
    "vscode": {
     "languageId": "r"
    }
   },
   "outputs": [],
   "source": [
    "# Set background color to white and text color to black\n",
    "par(bg = \"white\", col.axis = \"black\", col.lab = \"black\", col.main = \"black\")\n",
    "\n",
    "# Calculate the minimum and maximum from both datasets\n",
    "minimum <- min(c(urban_data$X95th.5th.Ratio, rural_data$X95th.5th.Ratio))\n",
    "maximum <- max(c(urban_data$X95th.5th.Ratio, rural_data$X95th.5th.Ratio))\n",
    "\n",
    "# Define the breaks for intervals of 5\n",
    "bin_size <- 0.1\n",
    "breaks <- seq(floor(minimum / bin_size) * bin_size, ceiling(maximum / bin_size) * bin_size, by = bin_size)\n",
    "\n",
    "# Create the histogram for urban data\n",
    "hist(urban_data$X95th.5th.Ratio,\n",
    "     breaks = breaks,\n",
    "     main = \"Frequency Histogram of 95th:5th Percentile Ratio (Urban vs. Rural)\",\n",
    "     xlab = \"95th:5th Percentile Ratio Values\",\n",
    "     ylab = \"Frequency\",\n",
    "     col = rgb(0, 0, 1, 0.5),  # Blue with transparency\n",
    "     border = \"black\",\n",
    "     xlim = c(minimum, maximum),  # Ensure x-axis covers the full range\n",
    "     ylim = c(0, max(table(cut(urban_data$X95th.5th.Ratio, breaks)), \n",
    "                           table(cut(rural_data$X95th.5th.Ratio, breaks)))))  # Adjust y-axis limit\n",
    "\n",
    "# Overlay the histogram for rural data\n",
    "hist(rural_data$X95th.5th.Ratio,\n",
    "     breaks = breaks,\n",
    "     col = rgb(1, 0, 0, 0.5),  # Red with transparency\n",
    "     border = \"black\",\n",
    "     add = TRUE)  # Overlay this histogram\n"
   ]
  },
  {
   "cell_type": "code",
   "execution_count": null,
   "metadata": {
    "vscode": {
     "languageId": "r"
    }
   },
   "outputs": [],
   "source": [
    "apply(cleaned_data, 2, var)\n",
    "nzv <- nearZeroVar(data, saveMetrics = TRUE)\n",
    "nzv[nzv$zeroVar == TRUE, ]"
   ]
  },
  {
   "cell_type": "code",
   "execution_count": null,
   "metadata": {
    "vscode": {
     "languageId": "r"
    }
   },
   "outputs": [],
   "source": [
    "pca_result <- prcomp(cleaned_data[, c(\"IRSD.Decile\", \"IRSAD.Decile\", \"IER.Decile\",\n",
    "                            \"IEO.Decile\", \"Population\", \"Gini.Coefficient\",\n",
    "                            \"Population.Change\", \"X..Population.Change\", \n",
    "                            \"Area..Km.2.\", \"Population.Density\", \n",
    "                            \"Indigenous.Population\", \n",
    "                            \"X..Indigenous.Population\")], \n",
    "                            scale. = TRUE)  # Standardize data before PCA\n",
    "\n",
    "# View the PCA summary to see the proportion of variance\n",
    "summary(pca_result)\n",
    "\n",
    "# Use the first few principal components that explain the most variance\n",
    "pca_components <- pca_result$x[, 1:10]  # Replace 1:5 with desired slice\n",
    "\n",
    "# Fit a new model using the principal components\n",
    "pca_model <- lm(X95th.5th.Ratio ~ pca_components, data = cleaned_data)\n",
    "\n",
    "# View the summary of the new model\n",
    "summary(pca_model)"
   ]
  },
  {
   "cell_type": "markdown",
   "metadata": {},
   "source": [
    "### visualise against certain significant variables"
   ]
  },
  {
   "cell_type": "code",
   "execution_count": 20,
   "metadata": {
    "vscode": {
     "languageId": "r"
    }
   },
   "outputs": [
    {
     "data": {
      "image/png": "[encoded data removed]",
      "text/plain": [
       "plot without title"
      ]
     },
     "metadata": {
      "image/png": {
       "height": 420,
       "width": 420
      }
     },
     "output_type": "display_data"
    }
   ],
   "source": [
    "ggplot(cleaned_scaled, aes(x = Indigenous.Population.., y = X95th.Percentile)) +\n",
    "  geom_point(color = \"blue\") +\n",
    "  labs(title = \"Independent Variable vs Target Outcome\", x = \"Independent Variable\", y = \"Target Outcome\") +\n",
    "  theme_minimal()"
   ]
  },
  {
   "cell_type": "code",
   "execution_count": null,
   "metadata": {
    "vscode": {
     "languageId": "r"
    }
   },
   "outputs": [],
   "source": [
    "summary(cleaned_scaled$Area..Km.2.)"
   ]
  },
  {
   "cell_type": "markdown",
   "metadata": {},
   "source": [
    "### perform and plot the predictions"
   ]
  },
  {
   "cell_type": "code",
   "execution_count": null,
   "metadata": {
    "vscode": {
     "languageId": "r"
    }
   },
   "outputs": [],
   "source": [
    "par(bg = \"white\")\n",
    "predictions <- predict(fit, cleaned_data)\n",
    "plot(predict(fit, cleaned_data), cleaned_data$X95th.Percentile)\n",
    "#calculate mean squared error\n",
    "mean((predictions - target_variable)^2)"
   ]
  }
 ],
 "metadata": {
  "kernelspec": {
   "display_name": "R",
   "language": "R",
   "name": "r"
  },
  "language_info": {
   "codemirror_mode": "r",
   "file_extension": ".r",
   "mimetype": "text/x-r-source",
   "name": "R",
   "pygments_lexer": "r",
   "version": "4.3.1"
  }
 },
 "nbformat": 4,
 "nbformat_minor": 2
}
