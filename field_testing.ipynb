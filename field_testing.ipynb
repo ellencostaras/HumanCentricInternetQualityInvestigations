{
 "cells": [
  {
   "cell_type": "code",
   "execution_count": 1,
   "metadata": {},
   "outputs": [],
   "source": [
    "import time\n",
    "import pyautogui\n",
    "import shutil\n",
    "import datetime\n",
    "import os"
   ]
  },
  {
   "cell_type": "code",
   "execution_count": 2,
   "metadata": {},
   "outputs": [],
   "source": [
    "def run_test_ellen(test_number):\n",
    "    \n",
    "    pyautogui.PAUSE = 2 #adds a 2 second delay between each instruction\n",
    "\n",
    "    #click chrome\n",
    "    pyautogui.click(202, 860)\n",
    "    \n",
    "    #click into student chrome profile\n",
    "    pyautogui.click(725, 511)\n",
    "\n",
    "    #click into search bar, type webRTC internals site and press enter\n",
    "    pyautogui.click(386, 89)\n",
    "    pyautogui.write('chrome://webrtc-internals/')\n",
    "    pyautogui.press('enter')\n",
    "\n",
    "    #click new tab\n",
    "    pyautogui.click(344, 41)\n",
    "\n",
    "    #type google meet link and press enter \n",
    "    pyautogui.write('meet.google.com/ntx-rrgc-rrb')\n",
    "    pyautogui.press('enter')\n",
    "\n",
    "    #wait a beat until the 'join call' option is available\n",
    "    time.sleep(20)\n",
    "\n",
    "    #join call \n",
    "    pyautogui.click(1115, 515)\n",
    "\n",
    "    #wait 2.5 minutes\n",
    "    time.sleep(150) \n",
    "\n",
    "    #hang up\n",
    "    pyautogui.click(926, 793)\n",
    "    pyautogui.click(817, 523)\n",
    "\n",
    "    #wait to ensure hang up is correct \n",
    "    time.sleep(5)\n",
    "\n",
    "    #exit meet tab\n",
    "    #pyautogui.click(546, 44)\n",
    "\n",
    "    #click WebRTC tab \n",
    "    pyautogui.click(197, 47)\n",
    "\n",
    "    #download WebRTC dump \n",
    "    pyautogui.click(9, 135)\n",
    "    pyautogui.click(40, 155)\n",
    "\n",
    "    #quit chrome\n",
    "    pyautogui.click(65, 8)\n",
    "    pyautogui.click(88, 309)\n",
    "\n",
    "    #rename the stat dump file and move into storage\n",
    "    source_path = '/Users/ellencostaras/Downloads/webrtc_internals_dump.txt'\n",
    "    if os.path.isfile(source_path):\n",
    "        destination_path = f'/Users/ellencostaras/Desktop/stat_dumps/test{test_number}_ellen.txt' \n",
    "        shutil.move(source_path, destination_path) \n",
    "    else:\n",
    "        print(f'Warning: Stat dump for test {test_number} did not download correctly.')\n",
    "\n",
    "\n",
    "def run_test_aadya(test_number):\n",
    "    \n",
    "    pyautogui.PAUSE = 2 #adds a 2 second delay between each instruction\n",
    "    \n",
    "    #click chrome\n",
    "    pyautogui.click(252, 909)\n",
    "\n",
    "    #click profile\n",
    "    pyautogui.click(735, 525) \n",
    "\n",
    "    #click into search bar, type webRTC internals site and press enter\n",
    "    pyautogui.click(386, 89)\n",
    "    pyautogui.write('chrome://webrtc-internals/')\n",
    "    pyautogui.press('enter')\n",
    "\n",
    "    #click new tab\n",
    "    pyautogui.click(344, 41)\n",
    "\n",
    "    #type google meet link and press enter \n",
    "    pyautogui.write('meet.google.com/ntx-rrgc-rrb')\n",
    "    pyautogui.press('enter')\n",
    "\n",
    "    #wait a beat until the 'join call' option is available\n",
    "    time.sleep(20) \n",
    "\n",
    "    #join call \n",
    "    pyautogui.click(1115, 547) \n",
    "\n",
    "    #wait 2.5 minutes\n",
    "    time.sleep(150) \n",
    "\n",
    "    #wait a beat for the meeting to be completely over \n",
    "    time.sleep(7)\n",
    "\n",
    "    #exit meet tab\n",
    "    #pyautogui.click(546, 57)\n",
    "\n",
    "    #click WebRTC tab \n",
    "    pyautogui.click(197, 47)\n",
    "\n",
    "    #download WebRTC dump \n",
    "    pyautogui.click(39, 175)\n",
    "    pyautogui.click(67, 203)\n",
    "\n",
    "    #quit chrome\n",
    "    pyautogui.click(77, 16)\n",
    "    pyautogui.click(90, 316)\n",
    "\n",
    "    #rename the stat dump file and move into storage\n",
    "    source_path = '/Users/User/Downloads/webrtc_internals_dump.txt'\n",
    "    if os.path.isfile(source_path):\n",
    "        destination_path = f'/Users/User/Desktop/stat_dumps/test{test_number}_aadya.txt' \n",
    "        shutil.move(source_path, destination_path) \n",
    "    else:\n",
    "        print(f'Warning: Stat dump for test {test_number} did not download correctly.')\n",
    "\n",
    "\n",
    "def run_field_test(running_test_number, user):\n",
    "\n",
    "    for i in range(3):\n",
    "\n",
    "        now = datetime.datetime.now()\n",
    "        if now.minute >= 57:\n",
    "            next_minute = (now.minute + 1) % 60\n",
    "            next_hour = (now.hour + (now.minute + 1) // 60) % 24\n",
    "        else:\n",
    "            next_minute = now.minute + 1\n",
    "            next_hour = now.hour\n",
    "        next_minute_mark = now.replace(hour=next_hour, minute=next_minute, second=0, microsecond=0)\n",
    "        time_to_wait = (next_minute_mark - now).total_seconds()\n",
    "        print(f\"Waiting until {next_minute_mark.time()} to begin the next treatment.\")\n",
    "        time.sleep(time_to_wait)\n",
    "\n",
    "        print(f\"Test {running_test_number} currently in progress.\")\n",
    "\n",
    "        if user == \"Ellen\":\n",
    "            try:\n",
    "                run_test_ellen(running_test_number)\n",
    "                print(f\"Test {running_test_number} completed.\")\n",
    "            \n",
    "            except Exception as e:\n",
    "                error_type = type(e).__name__\n",
    "                print(f\"Test {running_test_number} failed. \\nError: {error_type} - {str(e)}\")\n",
    "                print('Beginning next treatment.')\n",
    "\n",
    "        elif user == \"Aadya\":\n",
    "                try:\n",
    "                    run_test_aadya(running_test_number)\n",
    "                    print(f\"Test {running_test_number} completed.\")\n",
    "                \n",
    "                except Exception as e:\n",
    "                    error_type = type(e).__name__\n",
    "                    print(f\"Test {running_test_number} failed. \\nError: {error_type} - {str(e)}\")\n",
    "                    print('Beginning next treatment.')\n",
    "\n",
    "        running_test_number += 1\n",
    "\n",
    "    return \" --------------- Testing complete! --------------- \""
   ]
  },
  {
   "cell_type": "markdown",
   "metadata": {},
   "source": [
    "### execution cells DO NOT RE-RUN NEXT CODE CELL"
   ]
  },
  {
   "cell_type": "markdown",
   "metadata": {},
   "source": [
    "buffer cell (don't re-run next code cell)"
   ]
  },
  {
   "cell_type": "markdown",
   "metadata": {},
   "source": [
    "buffer cell (don't re-run next code cell)"
   ]
  },
  {
   "cell_type": "markdown",
   "metadata": {},
   "source": [
    "buffer cell (don't re-run next code cell)"
   ]
  },
  {
   "cell_type": "markdown",
   "metadata": {},
   "source": [
    "buffer cell (don't re-run next code cell)"
   ]
  },
  {
   "cell_type": "code",
   "execution_count": 4,
   "metadata": {},
   "outputs": [],
   "source": [
    "running_test_number = 1"
   ]
  },
  {
   "cell_type": "markdown",
   "metadata": {},
   "source": [
    "ok you can run the ones below now :)"
   ]
  },
  {
   "cell_type": "code",
   "execution_count": 5,
   "metadata": {},
   "outputs": [
    {
     "name": "stdout",
     "output_type": "stream",
     "text": [
      "Waiting until 19:00:00 to begin the next treatment.\n",
      "Test 1 currently in progress.\n",
      "Test 1 completed.\n",
      "Waiting until 19:04:00 to begin the next treatment.\n"
     ]
    }
   ],
   "source": [
    "user = \"Ellen\"\n",
    "\n",
    "run_field_test(running_test_number, user)"
   ]
  },
  {
   "cell_type": "markdown",
   "metadata": {},
   "source": [
    "user = \"Aadya\"\n",
    "run_field_test(running_test_number, user)"
   ]
  },
  {
   "cell_type": "code",
   "execution_count": null,
   "metadata": {},
   "outputs": [],
   "source": []
  },
  {
   "cell_type": "code",
   "execution_count": null,
   "metadata": {},
   "outputs": [],
   "source": []
  },
  {
   "cell_type": "code",
   "execution_count": null,
   "metadata": {},
   "outputs": [],
   "source": []
  }
 ],
 "metadata": {
  "kernelspec": {
   "display_name": "base",
   "language": "python",
   "name": "python3"
  },
  "language_info": {
   "codemirror_mode": {
    "name": "ipython",
    "version": 3
   },
   "file_extension": ".py",
   "mimetype": "text/x-python",
   "name": "python",
   "nbconvert_exporter": "python",
   "pygments_lexer": "ipython3",
   "version": "3.9.13"
  }
 },
 "nbformat": 4,
 "nbformat_minor": 2
}
