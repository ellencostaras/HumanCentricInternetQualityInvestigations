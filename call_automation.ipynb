{
 "cells": [
  {
   "cell_type": "markdown",
   "metadata": {},
   "source": [
    "## pyautogui commands"
   ]
  },
  {
   "cell_type": "code",
   "execution_count": 2,
   "metadata": {},
   "outputs": [],
   "source": [
    "import time\n",
    "import pyautogui"
   ]
  },
  {
   "cell_type": "code",
   "execution_count": null,
   "metadata": {},
   "outputs": [],
   "source": [
    "screenWidth, screenHeight = pyautogui.size() # Get the size of the primary monitor.\n",
    "screenWidth, screenHeight"
   ]
  },
  {
   "cell_type": "code",
   "execution_count": 20,
   "metadata": {},
   "outputs": [
    {
     "data": {
      "text/plain": [
       "(88, 309)"
      ]
     },
     "execution_count": 20,
     "metadata": {},
     "output_type": "execute_result"
    }
   ],
   "source": [
    "currentMouseX, currentMouseY = pyautogui.position() # Get the XY position of the mouse.\n",
    "currentMouseX, currentMouseY"
   ]
  },
  {
   "cell_type": "code",
   "execution_count": 9,
   "metadata": {},
   "outputs": [],
   "source": [
    "pyautogui.moveTo((783, 860)) # Move the mouse to XY coordinates."
   ]
  },
  {
   "cell_type": "code",
   "execution_count": null,
   "metadata": {},
   "outputs": [],
   "source": [
    "pyautogui.click() # Click the mouse."
   ]
  },
  {
   "cell_type": "code",
   "execution_count": null,
   "metadata": {},
   "outputs": [],
   "source": [
    "pyautogui.click(137, 11) # Move the mouse to XY coordinates and click it."
   ]
  },
  {
   "cell_type": "code",
   "execution_count": null,
   "metadata": {},
   "outputs": [],
   "source": [
    "pyautogui.write('Hello world!') #Type something"
   ]
  },
  {
   "cell_type": "code",
   "execution_count": null,
   "metadata": {},
   "outputs": [],
   "source": [
    "pyautogui.press('enter') # Press the Esc key. All key names are in pyautogui.KEY_NAMES"
   ]
  },
  {
   "cell_type": "code",
   "execution_count": null,
   "metadata": {},
   "outputs": [],
   "source": [
    "pyautogui.hotkey('ctrl', 'c') # Press the Ctrl-C hotkey combination."
   ]
  },
  {
   "cell_type": "code",
   "execution_count": null,
   "metadata": {},
   "outputs": [],
   "source": [
    "pyautogui.dragTo(805, 528, button='left') # drag mouse to coordinates whilst holding left mouse clicker"
   ]
  },
  {
   "cell_type": "code",
   "execution_count": null,
   "metadata": {},
   "outputs": [],
   "source": [
    "# drag over some text and copy it \n",
    "pyautogui.moveTo((403, 363))\n",
    "pyautogui.dragTo((664, 363), button='left')\n",
    "pyautogui.hotkey('command', 'c')"
   ]
  },
  {
   "cell_type": "markdown",
   "metadata": {},
   "source": [
    "## sample of pyautogui's power"
   ]
  },
  {
   "cell_type": "code",
   "execution_count": 17,
   "metadata": {},
   "outputs": [],
   "source": [
    "'''THIS FUNCTION ONLY WORKS IF:\n",
    "1. It's on Ellen's laptop lol or you change the mouse locations\n",
    "2. the app 'rectangle' is downloaded and on the top bar of the laptop\n",
    "'''\n",
    "\n",
    "def get_meet_link():\n",
    "    '''sample function which gets a google meet link and sends it to Ellens phone number'''\n",
    "    \n",
    "    pyautogui.PAUSE = 1.5 #adds a 1.5 second delay between each instruction\n",
    "    \n",
    "    #click chrome\n",
    "    pyautogui.click(202, 860)\n",
    "\n",
    "    #maximise window using rectangle \n",
    "    pyautogui.click((1006, 10))\n",
    "    pyautogui.click((1043, 379))\n",
    "\n",
    "    #click into student chrome profile\n",
    "    pyautogui.click((727, 491))\n",
    "    \n",
    "    #click file -> new window (REMOVE THIS LINE AND REPLACE WITH CLICK CHROME PROFILE)\n",
    "    #pyautogui.click(137, 11)\n",
    "    #pyautogui.click(147, 54)\n",
    "    \n",
    "    #click into search bar, type webRTC internals site and press enter\n",
    "    pyautogui.click(386, 89)\n",
    "    pyautogui.write('chrome://webrtc-internals/')\n",
    "    pyautogui.press('enter')\n",
    "    \n",
    "    #click new tab\n",
    "    pyautogui.click(345, 43)\n",
    "    \n",
    "    #click into search bar, type Google Meet site and press enter\n",
    "    pyautogui.click(386, 89)\n",
    "    pyautogui.write('https://meet.google.com/landing')\n",
    "    pyautogui.press('enter')\n",
    "    \n",
    "    #click new call\n",
    "    pyautogui.click(180, 575)\n",
    "    \n",
    "    #click create meeting for later\n",
    "    pyautogui.click(180, 575)\n",
    "    \n",
    "    #drag mouse over meeting link and keyboard shortcut copy\n",
    "    pyautogui.moveTo((583, 528))\n",
    "    pyautogui.dragTo(805, 528, button='left')\n",
    "    pyautogui.hotkey('command', 'c')\n",
    "    \n",
    "    #click messages \n",
    "    pyautogui.click(543, 863)\n",
    "\n",
    "    #maximise window using rectangle \n",
    "    pyautogui.click((1006, 10))\n",
    "    pyautogui.click((1043, 379))\n",
    "    \n",
    "    #click new message\n",
    "    pyautogui.click(306, 52)\n",
    "    \n",
    "    #type recipient and press enter\n",
    "    pyautogui.write('0403959291')\n",
    "    pyautogui.press('enter')\n",
    "    \n",
    "    #click into message box\n",
    "    pyautogui.click(570, 809)\n",
    "    \n",
    "    #paste meeting link and press enter to send\n",
    "    pyautogui.hotkey('command', 'v')\n",
    "    pyautogui.press('enter')  "
   ]
  },
  {
   "cell_type": "code",
   "execution_count": 18,
   "metadata": {},
   "outputs": [],
   "source": [
    "get_meet_link()"
   ]
  },
  {
   "cell_type": "code",
   "execution_count": 21,
   "metadata": {},
   "outputs": [],
   "source": [
    "def ellen_part_1():\n",
    "\n",
    "    pyautogui.PAUSE = 1.5 #adds a 1.5 second delay between each instruction\n",
    "    \n",
    "    #click chrome\n",
    "    pyautogui.click(202, 860)\n",
    "\n",
    "    #maximise window using rectangle \n",
    "    pyautogui.click((1006, 10))\n",
    "    pyautogui.click((1043, 379))\n",
    "\n",
    "    #click into student chrome profile\n",
    "    pyautogui.click((727, 491))\n",
    "\n",
    "    #click into search bar, type Google Meet site and press enter\n",
    "    pyautogui.click(386, 89)\n",
    "    pyautogui.write('https://meet.google.com/landing')\n",
    "    pyautogui.press('enter')\n",
    "    \n",
    "    #click new call\n",
    "    pyautogui.click(180, 575)\n",
    "    \n",
    "    #click create meeting for later\n",
    "    pyautogui.click(180, 575)\n",
    "    \n",
    "    #drag mouse over meeting link and keyboard shortcut copy\n",
    "    pyautogui.moveTo((583, 528))\n",
    "    pyautogui.dragTo(805, 528, button='left')\n",
    "    pyautogui.hotkey('command', 'c')\n",
    "\n",
    "    #quit chrome (CHROME -> Quit)\n",
    "    pyautogui.click(65, 8)\n",
    "    pyautogui.click(88, 309)\n",
    "\n",
    "    #click messages \n",
    "    pyautogui.click(543, 863)\n",
    "\n",
    "    #maximise window using rectangle \n",
    "    pyautogui.click((1006, 10))\n",
    "    pyautogui.click((1043, 379))\n",
    "    \n",
    "    #click new message\n",
    "    pyautogui.click(306, 52)\n",
    "    \n",
    "    #type recipient and press enter\n",
    "    pyautogui.write('0403959291')\n",
    "    pyautogui.press('enter')\n",
    "    \n",
    "    #click into message box\n",
    "    pyautogui.click(570, 809)\n",
    "    \n",
    "    #paste meeting link and press enter to send\n",
    "    pyautogui.hotkey('command', 'v')\n",
    "    pyautogui.press('enter') "
   ]
  },
  {
   "cell_type": "code",
   "execution_count": null,
   "metadata": {},
   "outputs": [],
   "source": [
    "def ellen_part_2():\n",
    "    "
   ]
  }
 ],
 "metadata": {
  "kernelspec": {
   "display_name": "Python 3 (ipykernel)",
   "language": "python",
   "name": "python3"
  },
  "language_info": {
   "codemirror_mode": {
    "name": "ipython",
    "version": 3
   },
   "file_extension": ".py",
   "mimetype": "text/x-python",
   "name": "python",
   "nbconvert_exporter": "python",
   "pygments_lexer": "ipython3",
   "version": "3.9.13"
  }
 },
 "nbformat": 4,
 "nbformat_minor": 2
}
