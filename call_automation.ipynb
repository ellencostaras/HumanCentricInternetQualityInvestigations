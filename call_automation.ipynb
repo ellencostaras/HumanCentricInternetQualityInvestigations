{
 "cells": [
  {
   "cell_type": "markdown",
   "metadata": {},
   "source": [
    "## Relevent pyautogui commands:"
   ]
  },
  {
   "cell_type": "code",
   "execution_count": 20,
   "metadata": {},
   "outputs": [],
   "source": [
    "import time\n",
    "import pyautogui\n",
    "import shutil\n",
    "import datetime\n",
    "import csv"
   ]
  },
  {
   "cell_type": "code",
   "execution_count": 21,
   "metadata": {},
   "outputs": [
    {
     "data": {
      "text/plain": [
       "(1470, 956)"
      ]
     },
     "execution_count": 21,
     "metadata": {},
     "output_type": "execute_result"
    }
   ],
   "source": [
    "screenWidth, screenHeight = pyautogui.size() # Get the size of the primary monitor.\n",
    "screenWidth, screenHeight"
   ]
  },
  {
   "cell_type": "code",
   "execution_count": 3,
   "metadata": {},
   "outputs": [
    {
     "data": {
      "text/plain": [
       "(1283, 725)"
      ]
     },
     "execution_count": 3,
     "metadata": {},
     "output_type": "execute_result"
    }
   ],
   "source": [
    "currentMouseX, currentMouseY = pyautogui.position() # Get the XY position of the mouse.\n",
    "currentMouseX, currentMouseY"
   ]
  },
  {
   "cell_type": "code",
   "execution_count": 23,
   "metadata": {},
   "outputs": [],
   "source": [
    "pyautogui.moveTo((1006, 10)) # Move the mouse to XY coordinates."
   ]
  },
  {
   "cell_type": "code",
   "execution_count": 24,
   "metadata": {},
   "outputs": [],
   "source": [
    "pyautogui.click() # Click the mouse."
   ]
  },
  {
   "cell_type": "code",
   "execution_count": 25,
   "metadata": {},
   "outputs": [],
   "source": [
    "pyautogui.click(137, 11) # Move the mouse to XY coordinates and click it."
   ]
  },
  {
   "cell_type": "code",
   "execution_count": 26,
   "metadata": {},
   "outputs": [],
   "source": [
    "pyautogui.write('Hello world!') #Type something"
   ]
  },
  {
   "cell_type": "code",
   "execution_count": 27,
   "metadata": {},
   "outputs": [],
   "source": [
    "pyautogui.press('enter') # Press the Esc key. All key names are in pyautogui.KEY_NAMES"
   ]
  },
  {
   "cell_type": "code",
   "execution_count": 28,
   "metadata": {},
   "outputs": [],
   "source": [
    "pyautogui.hotkey('ctrl', 'c') # Press the Ctrl-C hotkey combination."
   ]
  },
  {
   "cell_type": "code",
   "execution_count": 29,
   "metadata": {},
   "outputs": [],
   "source": [
    "pyautogui.dragTo(805, 528, button='left') # drag mouse to coordinates whilst holding left mouse clicker"
   ]
  },
  {
   "cell_type": "code",
   "execution_count": 30,
   "metadata": {},
   "outputs": [],
   "source": [
    "# drag over some text and copy it \n",
    "pyautogui.moveTo((403, 363))\n",
    "pyautogui.dragTo((664, 363), button='left')\n",
    "pyautogui.hotkey('command', 'c')"
   ]
  },
  {
   "cell_type": "markdown",
   "metadata": {},
   "source": [
    "# Experiment 1 Automation Functions"
   ]
  },
  {
   "cell_type": "markdown",
   "metadata": {},
   "source": [
    "Function requirements:\n",
    "1. rectangle downloaded \n",
    "2. an empty 'stat_dumps' folder exists, with correct desination filepath entered below \n",
    "3. the correct location of chrome, messenger, rectangle is entered below \n",
    "5. theres no temporary top buttons near the rectangle function \n",
    "6. chrome is CLOSED to begin with\n",
    "7. there is no prexisting file of Web RTC dumps in the Downloads folder\n",
    "8. no temp apps are on the dock next to bin\n",
    "9. Dock hasn't changed since this code was written\n",
    "10. both test combos files are the same length \n",
    "11. Aadya logged in on google student account\n",
    "12. convos are pinned on messages \n",
    "\n",
    "Testing to check:\n",
    "1. if we get a new message - pin contact?\n",
    "2. call duration \n",
    "3. pause times max for worst throttle conditions\n",
    "4. impact of headphones on everything's locations\n",
    "5. is 2 minutes long enough for part 1 to finsih and throttle to be engaged?"
   ]
  },
  {
   "cell_type": "code",
   "execution_count": 31,
   "metadata": {},
   "outputs": [],
   "source": [
    "def run_functionality_test():\n",
    "    '''\n",
    "    A function to make sure all the above ^ is in working order. \n",
    "    Run it once at the start of the session and it should be fine. \n",
    "    Follow the instructions provided...\n",
    "    '''\n",
    "    pass\n"
   ]
  },
  {
   "cell_type": "markdown",
   "metadata": {},
   "source": [
    "## Ellen's functions:"
   ]
  },
  {
   "cell_type": "code",
   "execution_count": 4,
   "metadata": {},
   "outputs": [],
   "source": [
    "def ellen_part_1(test_run=False):\n",
    "    '''preparing the meeting'''\n",
    "\n",
    "    #click chrome\n",
    "    pyautogui.click(202, 860)\n",
    "\n",
    "    #maximise window using rectangle \n",
    "    pyautogui.click(1006, 10)\n",
    "    pyautogui.click(1043, 379)\n",
    "\n",
    "    #click into student chrome profile\n",
    "    pyautogui.click(727, 491)\n",
    "\n",
    "    #click into search bar, type Google Meet site and press enter\n",
    "    pyautogui.click(386, 89)\n",
    "    pyautogui.write('https://meet.google.com/landing')\n",
    "    pyautogui.press('enter')\n",
    "    \n",
    "    #click new call\n",
    "    pyautogui.click(180, 575)\n",
    "    \n",
    "    #click create meeting for later\n",
    "    pyautogui.click(180, 575)\n",
    "    \n",
    "    #drag mouse over meeting link and keyboard shortcut copy\n",
    "    pyautogui.moveTo(583, 528)\n",
    "    pyautogui.dragTo(805, 528, button='left')\n",
    "    pyautogui.hotkey('command', 'c')\n",
    "\n",
    "    #quit chrome (CHROME -> Quit)\n",
    "    pyautogui.click(65, 8)\n",
    "    pyautogui.click(88, 309)\n",
    "\n",
    "    #click messages \n",
    "    pyautogui.click(543, 863)\n",
    "\n",
    "    #maximise window using rectangle \n",
    "    pyautogui.click(1006, 10)\n",
    "    pyautogui.click(1043, 379)\n",
    "    \n",
    "    '''\n",
    "    HOPEFULLY THE FOLLOWING WILL BE UNNECCESSARY WITH\n",
    "    PINNED CONVOS:\n",
    "    #click new message\n",
    "    pyautogui.click(306, 52)\n",
    "    \n",
    "    #type recipient and press enter\n",
    "    pyautogui.write('0474213555')\n",
    "    pyautogui.press('enter')\n",
    "    '''\n",
    "    \n",
    "    #clicked pinned convo with Aadya\n",
    "    pyautogui.click(160, 175)\n",
    "    \n",
    "    #click into message box\n",
    "    pyautogui.click(570, 809)\n",
    "    \n",
    "    #paste meeting link and press enter to send\n",
    "    pyautogui.hotkey('command', 'v')\n",
    "    pyautogui.press('enter') \n",
    "\n",
    "    #click chrome\n",
    "    pyautogui.click(202, 860)\n",
    "\n",
    "    #maximise window using rectangle \n",
    "    pyautogui.click(1006, 10)\n",
    "    pyautogui.click(1043, 379)\n",
    "\n",
    "    #click into student chrome profile\n",
    "    pyautogui.click(727, 491)\n",
    "\n",
    "    #click into search bar, type webRTC internals site and press enter\n",
    "    pyautogui.click(386, 89)\n",
    "    pyautogui.write('chrome://webrtc-internals/')\n",
    "    pyautogui.press('enter')\n",
    "\n",
    "\n",
    "def ellen_part_2(test_run=False):\n",
    "    '''Doing the meeting'''\n",
    "\n",
    "    #click messages \n",
    "    pyautogui.click(543, 863)\n",
    "\n",
    "    #clicked pinned convo with Aadya\n",
    "    pyautogui.click(160, 175)\n",
    "\n",
    "    #click on meet call link\n",
    "    pyautogui.click(1252, 564)\n",
    "\n",
    "    #re-open chrome\n",
    "    pyautogui.click(202, 860)\n",
    "\n",
    "    #join call \n",
    "    pyautogui.click(1115, 515)\n",
    "\n",
    "    '''\n",
    "    HOPEFULLY THE FOLLOWING WILL BE UNNESSECCARY ONCE\n",
    "    AADYA IS LOGGED INTO STUDENT ACCOUNT:\n",
    "    #wait a second for things to warm up\n",
    "    time.sleep(10)\n",
    "\n",
    "    #admit Aadya\n",
    "    pyautogui.click(1283, 725)\n",
    "    '''\n",
    "\n",
    "    #wait 2 minutes\n",
    "    if test_run:\n",
    "        time.sleep(10)\n",
    "    else:\n",
    "        time.sleep(120)\n",
    "\n",
    "    #hang up\n",
    "    pyautogui.click(926, 793)\n",
    "    pyautogui.click(817, 523)\n",
    "\n",
    "    #exit meet tab\n",
    "    pyautogui.click(546, 44)\n",
    "\n",
    "\n",
    "def ellen_part_3(treatment_number:int, test_run=False):\n",
    "    '''saving the meeting stats'''\n",
    "\n",
    "    #open chrome\n",
    "    pyautogui.click(202, 860)\n",
    "\n",
    "    #download WebRTC dump \n",
    "    pyautogui.click(9, 135)\n",
    "    pyautogui.click(40, 155)\n",
    "\n",
    "    #quit chrome\n",
    "    pyautogui.click(65, 8)\n",
    "    pyautogui.click(88, 309)\n",
    "\n",
    "    #rename the stat dump file and move into storage\n",
    "    source_path = '/Users/ellencostaras/Downloads/webrtc_internals_dump.txt'\n",
    "    destination_path = f'/Users/ellencostaras/Desktop/stat_dumps/treatment{treatment_number}_ellen.txt' \n",
    "    shutil.move(source_path, destination_path) "
   ]
  },
  {
   "cell_type": "markdown",
   "metadata": {},
   "source": [
    "## Aadya's functions:"
   ]
  },
  {
   "cell_type": "code",
   "execution_count": 3,
   "metadata": {},
   "outputs": [],
   "source": [
    "def aadya_part_1(test_run=False):\n",
    "    '''preparing the meeting'''\n",
    "    pyautogui.click(252, 909)\n",
    "\n",
    "    #maximise window using rectangle \n",
    "    pyautogui.click(1111, 11)\n",
    "    pyautogui.click(1127, 385)\n",
    "\n",
    "    #click into search bar, type webRTC internals site and press enter\n",
    "    pyautogui.click(386, 89)\n",
    "    pyautogui.write('chrome://webrtc-internals/')\n",
    "    pyautogui.press('enter')\n",
    "\n",
    "    #click messages \n",
    "    pyautogui.click(210, 935)\n",
    "\n",
    "    #maximise window using rectangle \n",
    "    pyautogui.click(1111, 11)\n",
    "    pyautogui.click(1127, 385)\n",
    "\n",
    "    #clicked pinned convo with Ellen\n",
    "    pyautogui.click(160, 175)\n",
    "\n",
    "    #click on meet call link\n",
    "    pyautogui.click(439, 651)\n",
    "\n",
    "\n",
    "def aadya_part_2(test_run=False):\n",
    "    '''Doing the meeting'''\n",
    "\n",
    "\n",
    "    # ------------------ REMINDER: AADYA SHOULD BE\n",
    "    # PRE-LOGGED IN TO HER STUDENT ACCOUNT \n",
    "    \n",
    "    #join call \n",
    "    pyautogui.click(1081, 521)\n",
    "\n",
    "    #wait 2 minutes\n",
    "    if test_run:\n",
    "        time.sleep(10)\n",
    "    else:\n",
    "        time.sleep(120)\n",
    "\n",
    "    #hang up\n",
    "    pyautogui.click(951, 837)\n",
    "\n",
    "    #exit meet tab\n",
    "    pyautogui.click(546, 44)\n",
    "\n",
    "\n",
    "def aadya_part_3(treatment_number:int, test_run=False):\n",
    "    '''saving the meeting stats'''\n",
    "\n",
    "    #copen chrome\n",
    "    pyautogui.click(252, 909)\n",
    "\n",
    "    #download WebRTC dump \n",
    "    pyautogui.click(39, 175)\n",
    "    pyautogui.click(67, 203)\n",
    "\n",
    "    #quit chrome\n",
    "    pyautogui.click(77, 16)\n",
    "    pyautogui.click(90, 316)\n",
    "\n",
    "    #rename the stat dump file and move into storage\n",
    "    source_path = '/Users/aadyamishra/Downloads/webrtc_internals_dump.txt'\n",
    "    destination_path = f'/Users/aadyamishra/Desktop/stat_dumps/treatment{treatment_number}_aadya.txt' \n",
    "    shutil.move(source_path, destination_path) "
   ]
  },
  {
   "cell_type": "markdown",
   "metadata": {},
   "source": [
    "## Throttle Functions"
   ]
  },
  {
   "cell_type": "code",
   "execution_count": 4,
   "metadata": {},
   "outputs": [],
   "source": [
    "def begin_throttle_ellen(conditions:dict, password:str):\n",
    "    \n",
    "    #open terminal \n",
    "    pyautogui.click(1116, 877)\n",
    "\n",
    "    #maximise window using rectangle \n",
    "    pyautogui.click(1006, 10)\n",
    "    pyautogui.click(1043, 379)\n",
    "\n",
    "    up = conditions['upload']\n",
    "    down = conditions['download']\n",
    "    rtt = conditions['latency']\n",
    "    packet = conditions['packet_loss']\n",
    "\n",
    "    #type throttle conditions and press enter\n",
    "    pyautogui.write(f'throttle --up {up} --down {down} --rtt {rtt}') #INCLUDE PACKET LOSS LATER IF NEEDED\n",
    "    pyautogui.press('enter')\n",
    "\n",
    "    #type password and press enter \n",
    "    pyautogui.write(password)\n",
    "    pyautogui.press('enter')\n",
    "\n",
    "def stop_throttle_ellen(password:str):\n",
    "    \n",
    "    #reopen terminal \n",
    "    pyautogui.click(1116, 877)\n",
    "\n",
    "    #type stop throttle and press enter\n",
    "    pyautogui.write('throttle stop')\n",
    "    pyautogui.press('enter')\n",
    "\n",
    "    #type password and press enter \n",
    "    pyautogui.write(password)\n",
    "    pyautogui.press('enter')\n",
    "\n",
    "    #quit terminal\n",
    "    pyautogui.click(65, 8)\n",
    "    pyautogui.click(125, 240)\n",
    "\n",
    "def begin_throttle_aadya(conditions:dict, password:str):\n",
    "    \n",
    "    #open terminal \n",
    "    pyautogui.click(1005, 924)\n",
    "\n",
    "    #maximise window using rectangle \n",
    "    pyautogui.click(1111, 11)\n",
    "    pyautogui.click(1127, 385)\n",
    "    \n",
    "    up = conditions['upload']\n",
    "    down = conditions['download']\n",
    "    rtt = conditions['latency']\n",
    "    packet = conditions['packet_loss']\n",
    "\n",
    "    #type throttle conditions and press enter\n",
    "    pyautogui.write(f'throttle --up {up} --down {down} --rtt {rtt}') #INCLUDE PACKET LOSS LATER IF NEEDED\n",
    "    pyautogui.press('enter')\n",
    "\n",
    "    #type password and press enter \n",
    "    pyautogui.write(password)\n",
    "    pyautogui.press('enter')\n",
    "\n",
    "def stop_throttle_aadya(password:str):\n",
    "    \n",
    "    #reopen terminal \n",
    "    pyautogui.click(1005, 924)\n",
    "\n",
    "    #type stop throttle and press enter\n",
    "    pyautogui.write('throttle stop')\n",
    "    pyautogui.press('enter')\n",
    "\n",
    "    #type password and press enter \n",
    "    pyautogui.write(password)\n",
    "    pyautogui.press('enter')\n",
    "\n",
    "    #quit termminal\n",
    "    pyautogui.click(65, 8)\n",
    "    pyautogui.click(125, 240)\n"
   ]
  },
  {
   "cell_type": "markdown",
   "metadata": {},
   "source": [
    "## Main functions for a single treatment:"
   ]
  },
  {
   "cell_type": "code",
   "execution_count": 15,
   "metadata": {},
   "outputs": [],
   "source": [
    "def run_treatment_ellen(conditions:dict, part_2_start_time, test_run=False):\n",
    "    \n",
    "    pyautogui.PAUSE = 2 #adds a 1.5 second delay between each instruction\n",
    "    ellen_part_1(test_run)\n",
    "    \n",
    "    begin_throttle_ellen(conditions, '050902Ec')\n",
    "    \n",
    "    right_now = datetime.datetime.now()\n",
    "    wait_time = (part_2_start_time - right_now).total_seconds()\n",
    "    time.sleep(wait_time)\n",
    "    ellen_part_2(test_run)\n",
    "    \n",
    "    stop_throttle_ellen('050902Ec') \n",
    "    \n",
    "    treatment_number = conditions[\"treatment_number\"]\n",
    "    ellen_part_3(treatment_number, test_run)\n",
    "\n",
    "def run_treatment_aadya(conditions:dict, part_2_start_time, test_run=False):\n",
    "    \n",
    "    pyautogui.PAUSE = 2 #adds a 1.5 second delay between each instruction\n",
    "    aadya_part_1(test_run)\n",
    "    \n",
    "    begin_throttle_aadya(conditions, 'bahhumbug28')\n",
    "    \n",
    "    right_now = datetime.datetime.now()\n",
    "    wait_time = (part_2_start_time - right_now).total_seconds()\n",
    "    time.sleep(wait_time)\n",
    "    aadya_part_2(test_run)\n",
    "    \n",
    "    stop_throttle_aadya('bahhumbug28')  \n",
    "    \n",
    "    treatment_number = conditions[\"treatment_number\"]\n",
    "    aadya_part_3(treatment_number, test_run)"
   ]
  },
  {
   "cell_type": "markdown",
   "metadata": {},
   "source": [
    "## Main function for entire Experiment:"
   ]
  },
  {
   "cell_type": "code",
   "execution_count": 16,
   "metadata": {},
   "outputs": [],
   "source": [
    "def experiment_1_main(user:str, packet_loss_included:bool, timed=True, test_run=False):\n",
    "\n",
    "    if user == \"Ellen\":\n",
    "        treatments_file_path = \"/Users/ellencostaras/Documents/GitHub/DesktopDownthrottlingExperiment/pre_experiment/test_combos_shuffled_ellen.csv\"\n",
    "    elif user == \"Aadya\":\n",
    "        treatments_file_path = \"/Users/User/Documents/GitHub/DesktopDownthrottlingExperiment/pre_experiment/test_combos_aadya.csv\"\n",
    "    else:\n",
    "        return \"Error: please enter valid user - either 'Ellen' or 'Aadya'. \"\n",
    "    \n",
    "    treatments = []\n",
    "    with open(treatments_file_path, 'r') as file:\n",
    "        csvreader = csv.reader(file)\n",
    "        header = next(csvreader)\n",
    "        for row in csvreader:\n",
    "            treatments.append(row)\n",
    "\n",
    "    for treatment in treatments:\n",
    "\n",
    "        if timed:\n",
    "            # Calculate the next 10-minute mark for the treatment to begin at\n",
    "            now = datetime.datetime.now()\n",
    "            next_minute = (now.minute // 10 + 1) * 10\n",
    "            if next_minute == 60:\n",
    "                next_minute = 0\n",
    "\n",
    "                #------------ edit to accomodate midnight fringecase ----------\n",
    "                next_hour = now.hour + 1\n",
    "            else:\n",
    "                next_hour = now.hour\n",
    "            next_10_minute_mark = now.replace(hour=next_hour, minute=next_minute, second=0, microsecond=0)\n",
    "            # define time for part 2 to begin, to ensure synchronisation:\n",
    "            part_2_start_time = now.replace(hour=next_hour, minute=next_minute+2, second=0, microsecond=0)\n",
    "\n",
    "            # Make the program wait until the 10-minute mark. \n",
    "            time_to_wait = (next_10_minute_mark - now).total_seconds()\n",
    "            print(f\"Waiting until {next_10_minute_mark.time()} to begin the next treatment.\")\n",
    "            time.sleep(time_to_wait)\n",
    "        else:\n",
    "            # define time for part 2 to begin, to ensure synchronisation:\n",
    "            now = datetime.datetime.now()\n",
    "            if now.minute == 58:\n",
    "                next_hour = now.hour + 1\n",
    "                next_minute = 0\n",
    "            elif now.minute == 59:\n",
    "                next_hour = now.hour + 1\n",
    "                next_minute = 1\n",
    "            elif now.minute == 60:\n",
    "                next_hour = now.hour + 1\n",
    "                next_minute = 2\n",
    "            else:\n",
    "                next_hour = now.hour\n",
    "                next_minute = now.minute + 2\n",
    "            part_2_start_time = now.replace(hour=next_hour, minute=next_minute, second=0, microsecond=0)\n",
    "\n",
    "        if packet_loss_included:\n",
    "            packet_loss = int(treatment[4])\n",
    "        else:\n",
    "            packet_loss = 0\n",
    "        \n",
    "        conditions = {\n",
    "            \"treatment_number\": int(treatment[0]),\n",
    "            \"upload\": int(treatment[1]),\n",
    "            \"download\": int(treatment[2]), \n",
    "            \"latency\": int(treatment[3]),\n",
    "            \"packet_loss\": packet_loss}\n",
    "\n",
    "        if user == \"Ellen\":\n",
    "            run_treatment_ellen(conditions, part_2_start_time, test_run)\n",
    "        elif user == \"Aadya\":\n",
    "            run_treatment_aadya(conditions, part_2_start_time, test_run)\n",
    "        print(\"Treatment\", conditions['treatment_number'], \"completed.\")\n",
    "\n",
    "    return \"\\n\\n --------------- Experiment complete! --------------- \\n\\n\""
   ]
  },
  {
   "cell_type": "markdown",
   "metadata": {},
   "source": [
    "## Execution cells:"
   ]
  },
  {
   "cell_type": "code",
   "execution_count": 18,
   "metadata": {},
   "outputs": [
    {
     "ename": "ValueError",
     "evalue": "sleep length must be non-negative",
     "output_type": "error",
     "traceback": [
      "\u001b[0;31m---------------------------------------------------------------------------\u001b[0m",
      "\u001b[0;31mValueError\u001b[0m                                Traceback (most recent call last)",
      "\u001b[0;32m/var/folders/9j/cv2gnnv97pj8pmspmsfx96v00000gn/T/ipykernel_9263/2257866045.py\u001b[0m in \u001b[0;36m<module>\u001b[0;34m\u001b[0m\n\u001b[0;32m----> 1\u001b[0;31m \u001b[0mexperiment_1_main\u001b[0m\u001b[0;34m(\u001b[0m\u001b[0;34m\"Ellen\"\u001b[0m\u001b[0;34m,\u001b[0m \u001b[0;32mTrue\u001b[0m\u001b[0;34m,\u001b[0m \u001b[0;32mFalse\u001b[0m\u001b[0;34m,\u001b[0m \u001b[0;32mTrue\u001b[0m\u001b[0;34m)\u001b[0m\u001b[0;34m\u001b[0m\u001b[0;34m\u001b[0m\u001b[0m\n\u001b[0m",
      "\u001b[0;32m/var/folders/9j/cv2gnnv97pj8pmspmsfx96v00000gn/T/ipykernel_9263/2841573913.py\u001b[0m in \u001b[0;36mexperiment_1_main\u001b[0;34m(user, packet_loss_included, timed, test_run)\u001b[0m\n\u001b[1;32m     67\u001b[0m \u001b[0;34m\u001b[0m\u001b[0m\n\u001b[1;32m     68\u001b[0m         \u001b[0;32mif\u001b[0m \u001b[0muser\u001b[0m \u001b[0;34m==\u001b[0m \u001b[0;34m\"Ellen\"\u001b[0m\u001b[0;34m:\u001b[0m\u001b[0;34m\u001b[0m\u001b[0;34m\u001b[0m\u001b[0m\n\u001b[0;32m---> 69\u001b[0;31m             \u001b[0mrun_treatment_ellen\u001b[0m\u001b[0;34m(\u001b[0m\u001b[0mconditions\u001b[0m\u001b[0;34m,\u001b[0m \u001b[0mpart_2_start_time\u001b[0m\u001b[0;34m,\u001b[0m \u001b[0mtest_run\u001b[0m\u001b[0;34m)\u001b[0m\u001b[0;34m\u001b[0m\u001b[0;34m\u001b[0m\u001b[0m\n\u001b[0m\u001b[1;32m     70\u001b[0m         \u001b[0;32melif\u001b[0m \u001b[0muser\u001b[0m \u001b[0;34m==\u001b[0m \u001b[0;34m\"Aadya\"\u001b[0m\u001b[0;34m:\u001b[0m\u001b[0;34m\u001b[0m\u001b[0;34m\u001b[0m\u001b[0m\n\u001b[1;32m     71\u001b[0m             \u001b[0mrun_treatment_aadya\u001b[0m\u001b[0;34m(\u001b[0m\u001b[0mconditions\u001b[0m\u001b[0;34m,\u001b[0m \u001b[0mpart_2_start_time\u001b[0m\u001b[0;34m,\u001b[0m \u001b[0mtest_run\u001b[0m\u001b[0;34m)\u001b[0m\u001b[0;34m\u001b[0m\u001b[0;34m\u001b[0m\u001b[0m\n",
      "\u001b[0;32m/var/folders/9j/cv2gnnv97pj8pmspmsfx96v00000gn/T/ipykernel_9263/3071996358.py\u001b[0m in \u001b[0;36mrun_treatment_ellen\u001b[0;34m(conditions, part_2_start_time, test_run)\u001b[0m\n\u001b[1;32m      8\u001b[0m     \u001b[0mright_now\u001b[0m \u001b[0;34m=\u001b[0m \u001b[0mdatetime\u001b[0m\u001b[0;34m.\u001b[0m\u001b[0mdatetime\u001b[0m\u001b[0;34m.\u001b[0m\u001b[0mnow\u001b[0m\u001b[0;34m(\u001b[0m\u001b[0;34m)\u001b[0m\u001b[0;34m\u001b[0m\u001b[0;34m\u001b[0m\u001b[0m\n\u001b[1;32m      9\u001b[0m     \u001b[0mwait_time\u001b[0m \u001b[0;34m=\u001b[0m \u001b[0;34m(\u001b[0m\u001b[0mpart_2_start_time\u001b[0m \u001b[0;34m-\u001b[0m \u001b[0mright_now\u001b[0m\u001b[0;34m)\u001b[0m\u001b[0;34m.\u001b[0m\u001b[0mtotal_seconds\u001b[0m\u001b[0;34m(\u001b[0m\u001b[0;34m)\u001b[0m\u001b[0;34m\u001b[0m\u001b[0;34m\u001b[0m\u001b[0m\n\u001b[0;32m---> 10\u001b[0;31m     \u001b[0mtime\u001b[0m\u001b[0;34m.\u001b[0m\u001b[0msleep\u001b[0m\u001b[0;34m(\u001b[0m\u001b[0mwait_time\u001b[0m\u001b[0;34m)\u001b[0m\u001b[0;34m\u001b[0m\u001b[0;34m\u001b[0m\u001b[0m\n\u001b[0m\u001b[1;32m     11\u001b[0m     \u001b[0mellen_part_2\u001b[0m\u001b[0;34m(\u001b[0m\u001b[0mtest_run\u001b[0m\u001b[0;34m)\u001b[0m\u001b[0;34m\u001b[0m\u001b[0;34m\u001b[0m\u001b[0m\n\u001b[1;32m     12\u001b[0m \u001b[0;34m\u001b[0m\u001b[0m\n",
      "\u001b[0;31mValueError\u001b[0m: sleep length must be non-negative"
     ]
    }
   ],
   "source": [
    "user = \"Ellen\"\n",
    "packet_loss_included = False\n",
    "timed = True\n",
    "test_run = True\n",
    "experiment_1_main(user, packet_loss_included, timed, test_run)"
   ]
  },
  {
   "cell_type": "code",
   "execution_count": 43,
   "metadata": {},
   "outputs": [
    {
     "name": "stdout",
     "output_type": "stream",
     "text": [
      "Waiting until 13:10:00 to begin the next treatment.\n"
     ]
    },
    {
     "ename": "FileNotFoundError",
     "evalue": "[Errno 2] No such file or directory: '/Users/aadyamishra/Downloads/webrtc_internals_dump.txt'",
     "output_type": "error",
     "traceback": [
      "\u001b[0;31m---------------------------------------------------------------------------\u001b[0m",
      "\u001b[0;31mFileNotFoundError\u001b[0m                         Traceback (most recent call last)",
      "File \u001b[0;32m~/miniconda3/lib/python3.10/shutil.py:816\u001b[0m, in \u001b[0;36mmove\u001b[0;34m(src, dst, copy_function)\u001b[0m\n\u001b[1;32m    815\u001b[0m \u001b[38;5;28;01mtry\u001b[39;00m:\n\u001b[0;32m--> 816\u001b[0m     \u001b[43mos\u001b[49m\u001b[38;5;241;43m.\u001b[39;49m\u001b[43mrename\u001b[49m\u001b[43m(\u001b[49m\u001b[43msrc\u001b[49m\u001b[43m,\u001b[49m\u001b[43m \u001b[49m\u001b[43mreal_dst\u001b[49m\u001b[43m)\u001b[49m\n\u001b[1;32m    817\u001b[0m \u001b[38;5;28;01mexcept\u001b[39;00m \u001b[38;5;167;01mOSError\u001b[39;00m:\n",
      "\u001b[0;31mFileNotFoundError\u001b[0m: [Errno 2] No such file or directory: '/Users/aadyamishra/Downloads/webrtc_internals_dump.txt' -> '/Users/aadyamishra/Desktop/stat_dumps/treatment1_aadya.txt'",
      "\nDuring handling of the above exception, another exception occurred:\n",
      "\u001b[0;31mFileNotFoundError\u001b[0m                         Traceback (most recent call last)",
      "Cell \u001b[0;32mIn[43], line 5\u001b[0m\n\u001b[1;32m      3\u001b[0m timed \u001b[38;5;241m=\u001b[39m \u001b[38;5;28;01mTrue\u001b[39;00m\n\u001b[1;32m      4\u001b[0m test_run \u001b[38;5;241m=\u001b[39m \u001b[38;5;28;01mTrue\u001b[39;00m\n\u001b[0;32m----> 5\u001b[0m \u001b[43mexperiment_1_main\u001b[49m\u001b[43m(\u001b[49m\u001b[43muser\u001b[49m\u001b[43m,\u001b[49m\u001b[43m \u001b[49m\u001b[43mpacket_loss_included\u001b[49m\u001b[43m,\u001b[49m\u001b[43m \u001b[49m\u001b[43mtimed\u001b[49m\u001b[43m,\u001b[49m\u001b[43m \u001b[49m\u001b[43mtest_run\u001b[49m\u001b[43m)\u001b[49m\n",
      "Cell \u001b[0;32mIn[36], line 70\u001b[0m, in \u001b[0;36mexperiment_1_main\u001b[0;34m(user, packet_loss_included, timed, test_run)\u001b[0m\n\u001b[1;32m     68\u001b[0m         run_treatment_ellen(conditions, part_2_start_time, test_run)\n\u001b[1;32m     69\u001b[0m     \u001b[38;5;28;01melif\u001b[39;00m user \u001b[38;5;241m==\u001b[39m \u001b[38;5;124m\"\u001b[39m\u001b[38;5;124mAadya\u001b[39m\u001b[38;5;124m\"\u001b[39m:\n\u001b[0;32m---> 70\u001b[0m         \u001b[43mrun_treatment_aadya\u001b[49m\u001b[43m(\u001b[49m\u001b[43mconditions\u001b[49m\u001b[43m,\u001b[49m\u001b[43m \u001b[49m\u001b[43mpart_2_start_time\u001b[49m\u001b[43m,\u001b[49m\u001b[43m \u001b[49m\u001b[43mtest_run\u001b[49m\u001b[43m)\u001b[49m\n\u001b[1;32m     71\u001b[0m     \u001b[38;5;28mprint\u001b[39m(\u001b[38;5;124m\"\u001b[39m\u001b[38;5;124mTreatment\u001b[39m\u001b[38;5;124m\"\u001b[39m, conditions[\u001b[38;5;124m'\u001b[39m\u001b[38;5;124mtreatment_number\u001b[39m\u001b[38;5;124m'\u001b[39m], \u001b[38;5;124m\"\u001b[39m\u001b[38;5;124mcompleted.\u001b[39m\u001b[38;5;124m\"\u001b[39m)\n\u001b[1;32m     73\u001b[0m \u001b[38;5;28;01mreturn\u001b[39;00m \u001b[38;5;124m\"\u001b[39m\u001b[38;5;130;01m\\n\u001b[39;00m\u001b[38;5;130;01m\\n\u001b[39;00m\u001b[38;5;124m --------------- Experiment complete! --------------- \u001b[39m\u001b[38;5;130;01m\\n\u001b[39;00m\u001b[38;5;130;01m\\n\u001b[39;00m\u001b[38;5;124m\"\u001b[39m\n",
      "Cell \u001b[0;32mIn[35], line 33\u001b[0m, in \u001b[0;36mrun_treatment_aadya\u001b[0;34m(conditions, part_2_start_time, test_run)\u001b[0m\n\u001b[1;32m     30\u001b[0m stop_throttle_aadya(\u001b[38;5;124m'\u001b[39m\u001b[38;5;124mbahhumbug28\u001b[39m\u001b[38;5;124m'\u001b[39m)  \n\u001b[1;32m     32\u001b[0m treatment_number \u001b[38;5;241m=\u001b[39m conditions[\u001b[38;5;124m\"\u001b[39m\u001b[38;5;124mtreatment_number\u001b[39m\u001b[38;5;124m\"\u001b[39m]\n\u001b[0;32m---> 33\u001b[0m \u001b[43maadya_part_3\u001b[49m\u001b[43m(\u001b[49m\u001b[43mtreatment_number\u001b[49m\u001b[43m,\u001b[49m\u001b[43m \u001b[49m\u001b[43mtest_run\u001b[49m\u001b[43m)\u001b[49m\n",
      "Cell \u001b[0;32mIn[39], line 67\u001b[0m, in \u001b[0;36maadya_part_3\u001b[0;34m(treatment_number, test_run)\u001b[0m\n\u001b[1;32m     65\u001b[0m source_path \u001b[38;5;241m=\u001b[39m \u001b[38;5;124m'\u001b[39m\u001b[38;5;124m/Users/aadyamishra/Downloads/webrtc_internals_dump.txt\u001b[39m\u001b[38;5;124m'\u001b[39m\n\u001b[1;32m     66\u001b[0m destination_path \u001b[38;5;241m=\u001b[39m \u001b[38;5;124mf\u001b[39m\u001b[38;5;124m'\u001b[39m\u001b[38;5;124m/Users/aadyamishra/Desktop/stat_dumps/treatment\u001b[39m\u001b[38;5;132;01m{\u001b[39;00mtreatment_number\u001b[38;5;132;01m}\u001b[39;00m\u001b[38;5;124m_aadya.txt\u001b[39m\u001b[38;5;124m'\u001b[39m \n\u001b[0;32m---> 67\u001b[0m \u001b[43mshutil\u001b[49m\u001b[38;5;241;43m.\u001b[39;49m\u001b[43mmove\u001b[49m\u001b[43m(\u001b[49m\u001b[43msource_path\u001b[49m\u001b[43m,\u001b[49m\u001b[43m \u001b[49m\u001b[43mdestination_path\u001b[49m\u001b[43m)\u001b[49m\n",
      "File \u001b[0;32m~/miniconda3/lib/python3.10/shutil.py:836\u001b[0m, in \u001b[0;36mmove\u001b[0;34m(src, dst, copy_function)\u001b[0m\n\u001b[1;32m    834\u001b[0m         rmtree(src)\n\u001b[1;32m    835\u001b[0m     \u001b[38;5;28;01melse\u001b[39;00m:\n\u001b[0;32m--> 836\u001b[0m         \u001b[43mcopy_function\u001b[49m\u001b[43m(\u001b[49m\u001b[43msrc\u001b[49m\u001b[43m,\u001b[49m\u001b[43m \u001b[49m\u001b[43mreal_dst\u001b[49m\u001b[43m)\u001b[49m\n\u001b[1;32m    837\u001b[0m         os\u001b[38;5;241m.\u001b[39munlink(src)\n\u001b[1;32m    838\u001b[0m \u001b[38;5;28;01mreturn\u001b[39;00m real_dst\n",
      "File \u001b[0;32m~/miniconda3/lib/python3.10/shutil.py:434\u001b[0m, in \u001b[0;36mcopy2\u001b[0;34m(src, dst, follow_symlinks)\u001b[0m\n\u001b[1;32m    432\u001b[0m \u001b[38;5;28;01mif\u001b[39;00m os\u001b[38;5;241m.\u001b[39mpath\u001b[38;5;241m.\u001b[39misdir(dst):\n\u001b[1;32m    433\u001b[0m     dst \u001b[38;5;241m=\u001b[39m os\u001b[38;5;241m.\u001b[39mpath\u001b[38;5;241m.\u001b[39mjoin(dst, os\u001b[38;5;241m.\u001b[39mpath\u001b[38;5;241m.\u001b[39mbasename(src))\n\u001b[0;32m--> 434\u001b[0m \u001b[43mcopyfile\u001b[49m\u001b[43m(\u001b[49m\u001b[43msrc\u001b[49m\u001b[43m,\u001b[49m\u001b[43m \u001b[49m\u001b[43mdst\u001b[49m\u001b[43m,\u001b[49m\u001b[43m \u001b[49m\u001b[43mfollow_symlinks\u001b[49m\u001b[38;5;241;43m=\u001b[39;49m\u001b[43mfollow_symlinks\u001b[49m\u001b[43m)\u001b[49m\n\u001b[1;32m    435\u001b[0m copystat(src, dst, follow_symlinks\u001b[38;5;241m=\u001b[39mfollow_symlinks)\n\u001b[1;32m    436\u001b[0m \u001b[38;5;28;01mreturn\u001b[39;00m dst\n",
      "File \u001b[0;32m~/miniconda3/lib/python3.10/shutil.py:254\u001b[0m, in \u001b[0;36mcopyfile\u001b[0;34m(src, dst, follow_symlinks)\u001b[0m\n\u001b[1;32m    252\u001b[0m     os\u001b[38;5;241m.\u001b[39msymlink(os\u001b[38;5;241m.\u001b[39mreadlink(src), dst)\n\u001b[1;32m    253\u001b[0m \u001b[38;5;28;01melse\u001b[39;00m:\n\u001b[0;32m--> 254\u001b[0m     \u001b[38;5;28;01mwith\u001b[39;00m \u001b[38;5;28;43mopen\u001b[39;49m\u001b[43m(\u001b[49m\u001b[43msrc\u001b[49m\u001b[43m,\u001b[49m\u001b[43m \u001b[49m\u001b[38;5;124;43m'\u001b[39;49m\u001b[38;5;124;43mrb\u001b[39;49m\u001b[38;5;124;43m'\u001b[39;49m\u001b[43m)\u001b[49m \u001b[38;5;28;01mas\u001b[39;00m fsrc:\n\u001b[1;32m    255\u001b[0m         \u001b[38;5;28;01mtry\u001b[39;00m:\n\u001b[1;32m    256\u001b[0m             \u001b[38;5;28;01mwith\u001b[39;00m \u001b[38;5;28mopen\u001b[39m(dst, \u001b[38;5;124m'\u001b[39m\u001b[38;5;124mwb\u001b[39m\u001b[38;5;124m'\u001b[39m) \u001b[38;5;28;01mas\u001b[39;00m fdst:\n\u001b[1;32m    257\u001b[0m                 \u001b[38;5;66;03m# macOS\u001b[39;00m\n",
      "\u001b[0;31mFileNotFoundError\u001b[0m: [Errno 2] No such file or directory: '/Users/aadyamishra/Downloads/webrtc_internals_dump.txt'"
     ]
    }
   ],
   "source": [
    "user = \"Aadya\"\n",
    "packet_loss_included = False\n",
    "timed = True\n",
    "test_run = True\n",
    "experiment_1_main(user, packet_loss_included, timed, test_run)"
   ]
  },
  {
   "cell_type": "markdown",
   "metadata": {},
   "source": []
  }
 ],
 "metadata": {
  "kernelspec": {
   "display_name": "Python 3 (ipykernel)",
   "language": "python",
   "name": "python3"
  },
  "language_info": {
   "codemirror_mode": {
    "name": "ipython",
    "version": 3
   },
   "file_extension": ".py",
   "mimetype": "text/x-python",
   "name": "python",
   "nbconvert_exporter": "python",
   "pygments_lexer": "ipython3",
   "version": "3.10.9"
  }
 },
 "nbformat": 4,
 "nbformat_minor": 2
}
