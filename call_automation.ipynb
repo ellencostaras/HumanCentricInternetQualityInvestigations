{
 "cells": [
  {
   "cell_type": "markdown",
   "metadata": {},
   "source": [
    "## pyautogui commands"
   ]
  },
  {
   "cell_type": "code",
   "execution_count": 46,
   "metadata": {},
   "outputs": [],
   "source": [
    "import time\n",
    "import pyautogui\n",
    "import shutil"
   ]
  },
  {
   "cell_type": "code",
   "execution_count": null,
   "metadata": {},
   "outputs": [],
   "source": [
    "screenWidth, screenHeight = pyautogui.size() # Get the size of the primary monitor.\n",
    "screenWidth, screenHeight"
   ]
  },
  {
   "cell_type": "code",
   "execution_count": 54,
   "metadata": {},
   "outputs": [
    {
     "data": {
      "text/plain": [
       "(40, 155)"
      ]
     },
     "execution_count": 54,
     "metadata": {},
     "output_type": "execute_result"
    }
   ],
   "source": [
    "currentMouseX, currentMouseY = pyautogui.position() # Get the XY position of the mouse.\n",
    "currentMouseX, currentMouseY"
   ]
  },
  {
   "cell_type": "code",
   "execution_count": 60,
   "metadata": {},
   "outputs": [],
   "source": [
    "pyautogui.moveTo((299, 116)) # Move the mouse to XY coordinates."
   ]
  },
  {
   "cell_type": "code",
   "execution_count": null,
   "metadata": {},
   "outputs": [],
   "source": [
    "pyautogui.click() # Click the mouse."
   ]
  },
  {
   "cell_type": "code",
   "execution_count": null,
   "metadata": {},
   "outputs": [],
   "source": [
    "pyautogui.click(137, 11) # Move the mouse to XY coordinates and click it."
   ]
  },
  {
   "cell_type": "code",
   "execution_count": null,
   "metadata": {},
   "outputs": [],
   "source": [
    "pyautogui.write('Hello world!') #Type something"
   ]
  },
  {
   "cell_type": "code",
   "execution_count": null,
   "metadata": {},
   "outputs": [],
   "source": [
    "pyautogui.press('enter') # Press the Esc key. All key names are in pyautogui.KEY_NAMES"
   ]
  },
  {
   "cell_type": "code",
   "execution_count": null,
   "metadata": {},
   "outputs": [],
   "source": [
    "pyautogui.hotkey('ctrl', 'c') # Press the Ctrl-C hotkey combination."
   ]
  },
  {
   "cell_type": "code",
   "execution_count": null,
   "metadata": {},
   "outputs": [],
   "source": [
    "pyautogui.dragTo(805, 528, button='left') # drag mouse to coordinates whilst holding left mouse clicker"
   ]
  },
  {
   "cell_type": "code",
   "execution_count": null,
   "metadata": {},
   "outputs": [],
   "source": [
    "# drag over some text and copy it \n",
    "pyautogui.moveTo((403, 363))\n",
    "pyautogui.dragTo((664, 363), button='left')\n",
    "pyautogui.hotkey('command', 'c')"
   ]
  },
  {
   "cell_type": "markdown",
   "metadata": {},
   "source": [
    "## sample of pyautogui's power"
   ]
  },
  {
   "cell_type": "code",
   "execution_count": 26,
   "metadata": {},
   "outputs": [],
   "source": [
    "'''THIS FUNCTION ONLY WORKS IF:\n",
    "1. It's on Ellen's laptop lol or you change the mouse locations\n",
    "2. the app 'rectangle' is downloaded and on the top bar of the laptop\n",
    "'''\n",
    "\n",
    "def get_meet_link():\n",
    "    '''sample function which gets a google meet link and sends it to Ellens phone number'''\n",
    "    \n",
    "    pyautogui.PAUSE = 1.5 #adds a 1.5 second delay between each instruction\n",
    "    \n",
    "    #click chrome\n",
    "    pyautogui.click(202, 860)\n",
    "\n",
    "    #maximise window using rectangle \n",
    "    pyautogui.click((1006, 10))\n",
    "    pyautogui.click((1043, 379))\n",
    "\n",
    "    #click into student chrome profile\n",
    "    pyautogui.click((727, 491))\n",
    "    \n",
    "    #click file -> new window (REMOVE THIS LINE AND REPLACE WITH CLICK CHROME PROFILE)\n",
    "    #pyautogui.click(137, 11)\n",
    "    #pyautogui.click(147, 54)\n",
    "    \n",
    "    #click into search bar, type webRTC internals site and press enter\n",
    "    pyautogui.click(386, 89)\n",
    "    pyautogui.write('chrome://webrtc-internals/')\n",
    "    pyautogui.press('enter')\n",
    "    \n",
    "    #click new tab\n",
    "    pyautogui.click(345, 43)\n",
    "    \n",
    "    #click into search bar, type Google Meet site and press enter\n",
    "    pyautogui.click(386, 89)\n",
    "    pyautogui.write('https://meet.google.com/landing')\n",
    "    pyautogui.press('enter')\n",
    "    \n",
    "    #click new call\n",
    "    pyautogui.click(180, 575)\n",
    "    \n",
    "    #click create meeting for later\n",
    "    pyautogui.click(180, 575)\n",
    "    \n",
    "    #drag mouse over meeting link and keyboard shortcut copy\n",
    "    pyautogui.moveTo((583, 528))\n",
    "    pyautogui.dragTo(805, 528, button='left')\n",
    "    pyautogui.hotkey('command', 'c')\n",
    "    \n",
    "    #click messages \n",
    "    pyautogui.click(543, 863)\n",
    "\n",
    "    #maximise window using rectangle \n",
    "    pyautogui.click((1006, 10))\n",
    "    pyautogui.click((1043, 379))\n",
    "    \n",
    "    #click new message\n",
    "    pyautogui.click(306, 52)\n",
    "    \n",
    "    #type recipient and press enter\n",
    "    pyautogui.write('0403959291')\n",
    "    pyautogui.press('enter')\n",
    "    \n",
    "    #click into message box\n",
    "    pyautogui.click(570, 809)\n",
    "    \n",
    "    #paste meeting link and press enter to send\n",
    "    pyautogui.hotkey('command', 'v')\n",
    "    pyautogui.press('enter')  "
   ]
  },
  {
   "cell_type": "code",
   "execution_count": 28,
   "metadata": {},
   "outputs": [],
   "source": [
    "get_meet_link()"
   ]
  },
  {
   "cell_type": "markdown",
   "metadata": {},
   "source": [
    "Function requirements:\n",
    "1. rectangle downloaded \n",
    "2. an empty 'stat_dumps' folder exists, with correct desination filepath entered below \n",
    "3. the correct location of chrome, messenger, rectangle is entered below \n",
    "4. chrome has the multi-user opening mode thing (just delete relevent line below if not)\n",
    "5. theres no temporary top buttons near the rectangle function \n",
    "6. the call duration is correct below\n",
    "7. check if anything on screen changes location if you have headphoens on \n",
    "8. chrome is CLOSED to begin with\n",
    "9. there is no prexisting file of Web RTC dumps in the Downloads folder\n",
    "10. what if we get a new message?"
   ]
  },
  {
   "cell_type": "code",
   "execution_count": null,
   "metadata": {},
   "outputs": [],
   "source": [
    "def run_calibration_test():\n",
    "    '''\n",
    "    A function to make sure all the above is in working order. \n",
    "    Run it once at the start of the session and it should be fine. \n",
    "    Follow the instructions provided...\n",
    "    '''\n",
    "    pass\n"
   ]
  },
  {
   "cell_type": "code",
   "execution_count": 65,
   "metadata": {},
   "outputs": [],
   "source": [
    "def ellen_part_1():\n",
    "    '''preparing the meeting'''\n",
    "\n",
    "    #click chrome\n",
    "    pyautogui.click(202, 860)\n",
    "\n",
    "    #maximise window using rectangle \n",
    "    pyautogui.click(1006, 10)\n",
    "    pyautogui.click(1043, 379)\n",
    "\n",
    "    #click into student chrome profile\n",
    "    pyautogui.click(727, 491)\n",
    "\n",
    "    #click into search bar, type Google Meet site and press enter\n",
    "    pyautogui.click(386, 89)\n",
    "    pyautogui.write('https://meet.google.com/landing')\n",
    "    pyautogui.press('enter')\n",
    "    \n",
    "    #click new call\n",
    "    pyautogui.click(180, 575)\n",
    "    \n",
    "    #click create meeting for later\n",
    "    pyautogui.click(180, 575)\n",
    "    \n",
    "    #drag mouse over meeting link and keyboard shortcut copy\n",
    "    pyautogui.moveTo(583, 528)\n",
    "    pyautogui.dragTo(805, 528, button='left')\n",
    "    pyautogui.hotkey('command', 'c')\n",
    "\n",
    "    #quit chrome (CHROME -> Quit)\n",
    "    pyautogui.click(65, 8)\n",
    "    pyautogui.click(88, 309)\n",
    "\n",
    "    #click messages \n",
    "    pyautogui.click(543, 863)\n",
    "\n",
    "    #maximise window using rectangle \n",
    "    pyautogui.click(1006, 10)\n",
    "    pyautogui.click(1043, 379)\n",
    "    \n",
    "    #click new message\n",
    "    pyautogui.click(306, 52)\n",
    "    \n",
    "    #type recipient and press enter\n",
    "    pyautogui.write('0403959291')\n",
    "    pyautogui.press('enter')\n",
    "    \n",
    "    #click into message box\n",
    "    pyautogui.click(570, 809)\n",
    "    \n",
    "    #paste meeting link and press enter to send\n",
    "    pyautogui.hotkey('command', 'v')\n",
    "    pyautogui.press('enter') \n",
    "\n",
    "    #click chrome\n",
    "    pyautogui.click(202, 860)\n",
    "\n",
    "    #maximise window using rectangle \n",
    "    pyautogui.click(1006, 10)\n",
    "    pyautogui.click(1043, 379)\n",
    "\n",
    "    #click into student chrome profile\n",
    "    pyautogui.click(727, 491)\n",
    "\n",
    "    #click into search bar, type webRTC internals site and press enter\n",
    "    pyautogui.click(386, 89)\n",
    "    pyautogui.write('chrome://webrtc-internals/')\n",
    "    pyautogui.press('enter')\n",
    "\n",
    "\n",
    "def ellen_part_2():\n",
    "    '''Doing the meeting'''\n",
    "\n",
    "    #click messages \n",
    "    pyautogui.click(543, 863)\n",
    "\n",
    "    #maximise window using rectangle \n",
    "    pyautogui.click(1006, 10)\n",
    "    pyautogui.click(1043, 379)\n",
    "\n",
    "    #click on meet call\n",
    "    pyautogui.click(1252, 564)\n",
    "\n",
    "    #wait 30 seconds \n",
    "    time.sleep(10) #CHANGE TO 30 LATER DOING SHORTER FOR TEST \n",
    "\n",
    "    #join call \n",
    "    pyautogui.click(1115, 515)\n",
    "\n",
    "    #wait 2 minutes\n",
    "    time.sleep(10) #CHANGE TO 2 LATER DOING SHORTER FOR TEST\n",
    "\n",
    "    #hang up\n",
    "    pyautogui.click(926, 793)\n",
    "    pyautogui.click(817, 523)\n",
    "\n",
    "    #exit meet tab\n",
    "    pyautogui.click(546, 44)\n",
    "\n",
    "\n",
    "def ellen_part_3(treatment_number):\n",
    "    '''saving the meeting stats'''\n",
    "\n",
    "    #download WebRTC dump \n",
    "    pyautogui.click(9, 135)\n",
    "    pyautogui.click(40, 155)\n",
    "\n",
    "    #quit chrome\n",
    "    pyautogui.click(65, 8)\n",
    "    pyautogui.click(88, 309)\n",
    "\n",
    "    #rename the stat dump file and move into storage\n",
    "    source_path = '/Users/ellencostaras/Downloads/webrtc_internals_dump.txt'\n",
    "    destination_path = f'/Users/ellencostaras/Desktop/stat_dumps/treatment{treatment_number}_ellen.txt' \n",
    "    shutil.move(source_path, destination_path) "
   ]
  },
  {
   "cell_type": "code",
   "execution_count": null,
   "metadata": {},
   "outputs": [],
   "source": [
    "def aadya_part_1():\n",
    "    '''preparing the meeting'''\n",
    "    \n",
    "    #click chrome\n",
    "    # -------------------------------- CHANGE ME ----------------------------------\n",
    "    pyautogui.click(202, 860)\n",
    "\n",
    "    #maximise window using rectangle \n",
    "    # -------------------------------- CHANGE ME ----------------------------------\n",
    "    pyautogui.click(1006, 10)\n",
    "    pyautogui.click(1043, 379)\n",
    "\n",
    "    #click into student chrome profile\n",
    "    # -------------------------------- CHANGE ME ----------------------------------\n",
    "    pyautogui.click(727, 491)\n",
    "\n",
    "    #click into search bar, type webRTC internals site and press enter\n",
    "    pyautogui.click(386, 89)\n",
    "    pyautogui.write('chrome://webrtc-internals/')\n",
    "    pyautogui.press('enter')\n",
    "\n",
    "\n",
    "def aadya_part_2():\n",
    "    '''Doing the meeting'''\n",
    "\n",
    "    #click messages \n",
    "    # -------------------------------- CHANGE ME ----------------------------------\n",
    "    pyautogui.click(543, 863)\n",
    "\n",
    "    #maximise window using rectangle \n",
    "    # -------------------------------- CHANGE ME ----------------------------------\n",
    "    pyautogui.click(1006, 10)\n",
    "    pyautogui.click(1043, 379)\n",
    "\n",
    "    #click on meet call\n",
    "    pyautogui.click(1252, 564)\n",
    "\n",
    "    #wait 30 seconds \n",
    "    time.sleep(10) #CHANGE TO 30 LATER DOING SHORTER FOR TEST \n",
    "\n",
    "    #join call \n",
    "    pyautogui.click(1115, 515)\n",
    "\n",
    "    #wait 2 minutes\n",
    "    time.sleep(10) #CHANGE TO 2 LATER DOING SHORTER FOR TEST\n",
    "\n",
    "    #hang up\n",
    "    pyautogui.click(926, 793)\n",
    "    pyautogui.click(817, 523)\n",
    "\n",
    "    #exit meet tab\n",
    "    pyautogui.click(546, 44)\n",
    "\n",
    "\n",
    "def aadya_part_3(treatment_number):\n",
    "    '''saving the meeting stats'''\n",
    "\n",
    "    #click chrome\n",
    "    # -------------------------------- CHANGE ME ----------------------------------\n",
    "    pyautogui.click(202, 860)\n",
    "\n",
    "    #download WebRTC dump \n",
    "    pyautogui.click(9, 135)\n",
    "    pyautogui.click(40, 155)\n",
    "\n",
    "    #quit chrome\n",
    "    pyautogui.click(65, 8)\n",
    "    pyautogui.click(88, 309)\n",
    "\n",
    "    #rename the stat dump file and move into storage\n",
    "    # -------------------------------- CHANGE ME ----------------------------------\n",
    "    source_path = '/Users/aadyamishra/Downloads/webrtc_internals_dump.txt'\n",
    "    destination_path = f'/Users/aadyamishra/Desktop/stat_dumps/treatment{treatment_number}_aadya.txt' \n",
    "    shutil.move(source_path, destination_path) "
   ]
  },
  {
   "cell_type": "code",
   "execution_count": 62,
   "metadata": {},
   "outputs": [],
   "source": [
    "def run_experiment_ellen(treatment_number):\n",
    "    pyautogui.PAUSE = 1.5 #adds a 1.5 second delay between each instruction\n",
    "    ellen_part_1()\n",
    "    # begin throttle\n",
    "    ellen_part_2()\n",
    "    # stop throttle \n",
    "    ellen_part_3(treatment_number)\n",
    "    print(\"Ellen's is done!\")\n",
    "\n",
    "def run_experiment_aadya(treatment_number):\n",
    "    pyautogui.PAUSE = 1.5 #adds a 1.5 second delay between each instruction\n",
    "    aadya_part_1()\n",
    "    # begin throttle\n",
    "    aadya_part_2()\n",
    "    # stop throttle \n",
    "    aadya_part_3(treatment_number)\n",
    "    print(\"Aadya's is Done!\")"
   ]
  },
  {
   "cell_type": "code",
   "execution_count": null,
   "metadata": {},
   "outputs": [],
   "source": []
  }
 ],
 "metadata": {
  "kernelspec": {
   "display_name": "Python 3 (ipykernel)",
   "language": "python",
   "name": "python3"
  },
  "language_info": {
   "codemirror_mode": {
    "name": "ipython",
    "version": 3
   },
   "file_extension": ".py",
   "mimetype": "text/x-python",
   "name": "python",
   "nbconvert_exporter": "python",
   "pygments_lexer": "ipython3",
   "version": "3.9.13"
  }
 },
 "nbformat": 4,
 "nbformat_minor": 2
}
