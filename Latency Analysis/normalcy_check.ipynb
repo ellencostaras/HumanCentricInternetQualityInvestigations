{
 "cells": [
  {
   "cell_type": "code",
   "execution_count": 1,
   "metadata": {
    "vscode": {
     "languageId": "r"
    }
   },
   "outputs": [
    {
     "name": "stderr",
     "output_type": "stream",
     "text": [
      "Warning message:\n",
      "\"package 'pROC' was built under R version 4.3.3\"\n",
      "Type 'citation(\"pROC\")' for a citation.\n",
      "\n",
      "\n",
      "Attaching package: 'pROC'\n",
      "\n",
      "\n",
      "The following objects are masked from 'package:stats':\n",
      "\n",
      "    cov, smooth, var\n",
      "\n",
      "\n",
      "Warning message:\n",
      "\"package 'vctrs' was built under R version 4.3.3\"\n",
      "Warning message:\n",
      "\"package 'caret' was built under R version 4.3.3\"\n",
      "Loading required package: ggplot2\n",
      "\n",
      "Warning message:\n",
      "\"package 'ggplot2' was built under R version 4.3.3\"\n",
      "Loading required package: lattice\n",
      "\n",
      "Warning message:\n",
      "\"package 'nnet' was built under R version 4.3.3\"\n",
      "Warning message:\n",
      "\"package 'cowplot' was built under R version 4.3.3\"\n",
      "Warning message:\n",
      "\"package 'dplyr' was built under R version 4.3.3\"\n",
      "\n",
      "Attaching package: 'dplyr'\n",
      "\n",
      "\n",
      "The following object is masked from 'package:vctrs':\n",
      "\n",
      "    data_frame\n",
      "\n",
      "\n",
      "The following objects are masked from 'package:stats':\n",
      "\n",
      "    filter, lag\n",
      "\n",
      "\n",
      "The following objects are masked from 'package:base':\n",
      "\n",
      "    intersect, setdiff, setequal, union\n",
      "\n",
      "\n",
      "Warning message:\n",
      "\"package 'glmnet' was built under R version 4.3.3\"\n",
      "Loading required package: Matrix\n",
      "\n",
      "Loaded glmnet 4.1-8\n",
      "\n",
      "Warning message:\n",
      "\"package 'knitr' was built under R version 4.3.3\"\n"
     ]
    }
   ],
   "source": [
    "# Install libraries\n",
    "#install.packages(\"pROC\")\n",
    "#install.packages(\"vctrs\")\n",
    "#install.packages(\"caret\")\n",
    "#install.packages(\"nnet\")\n",
    "#install.packages(\"ggplot2\")\n",
    "#install.packages(\"cowplot\")\n",
    "#install.packages(\"dplyr\")\n",
    "#install.packages(\"glmnet\")\n",
    "#install.packages(\"knitr\")\n",
    "\n",
    "# Load libraries\n",
    "library(pROC)\n",
    "library(vctrs)\n",
    "library(caret)\n",
    "library(nnet)\n",
    "library(ggplot2)\n",
    "library(cowplot)\n",
    "library(dplyr)\n",
    "library(glmnet)\n",
    "library(knitr)"
   ]
  },
  {
   "cell_type": "code",
   "execution_count": 2,
   "metadata": {
    "vscode": {
     "languageId": "r"
    }
   },
   "outputs": [
    {
     "name": "stdout",
     "output_type": "stream",
     "text": [
      " [1] \"lga_code\"                  \"IRSD.Decile\"              \n",
      " [3] \"IRSAD.Decile\"              \"IER.Decile\"               \n",
      " [5] \"IEO.Decile\"                \"Median.Income\"            \n",
      " [7] \"Lowest.Quartile.Income..\"  \"Highest.Quartile.Income..\"\n",
      " [9] \"Gini.Coefficient\"          \"Area..Km.2.\"              \n",
      "[11] \"Population\"                \"Population.Density\"       \n",
      "[13] \"Population.Change\"         \"Population.Change..\"      \n",
      "[15] \"Indigenous.Population\"     \"Indigenous.Population..\"  \n",
      "[17] \"X5th.Percentile\"           \"X50th.Percentile\"         \n",
      "[19] \"X95th.Percentile\"          \"X95th.5th.Ratio\"          \n",
      "[21] \"major_city_distance\"       \"closest_capital_distance\" \n",
      "[23] \"own_capital_distance\"      \"Major.City\"               \n",
      "[25] \"Inner.Regional\"            \"Outer.Regional\"           \n",
      "[27] \"Remote\"                    \"Very.Remote\"              \n",
      "[29] \"Division\"                  \"Previous.Party\"           \n",
      "[31] \"Previous.Seat.Status\"      \"Successful.Party\"         \n",
      "[33] \"Current.Seat.Status\"       \"Swing\"                    \n",
      "[35] \"Seat.Change\"               \"is.Safe\"                  \n",
      "[37] \"is.Fairly.Safe\"            \"is.Marginal\"              \n",
      "[39] \"Remained.Marginal\"        \n"
     ]
    }
   ],
   "source": [
    "rm(list=ls()) #clears the workspace\n",
    "data <- read.csv(\"SEIFA_RTT_LGA.csv\")\n",
    "\n",
    "# Remove rows with NAs in important percentile columns\n",
    "cleaned_data <- data[complete.cases(data), ]\n",
    "\n",
    "print(colnames(cleaned_data))"
   ]
  },
  {
   "cell_type": "code",
   "execution_count": 3,
   "metadata": {
    "vscode": {
     "languageId": "r"
    }
   },
   "outputs": [
    {
     "name": "stdout",
     "output_type": "stream",
     "text": [
      "[1] \"Number of rows in cleaned data:\"\n",
      "[1] 401\n"
     ]
    }
   ],
   "source": [
    "print('Number of rows in cleaned data:')\n",
    "print(nrow(cleaned_data))"
   ]
  },
  {
   "cell_type": "markdown",
   "metadata": {},
   "source": [
    "# BIG regression\n",
    "### fit with all variables"
   ]
  },
  {
   "cell_type": "markdown",
   "metadata": {},
   "source": [
    "## Begin Fitting"
   ]
  },
  {
   "cell_type": "code",
   "execution_count": 4,
   "metadata": {
    "vscode": {
     "languageId": "r"
    }
   },
   "outputs": [],
   "source": [
    "urban_data <- cleaned_data[(cleaned_data$Major.City == 1) | (cleaned_data$Inner.Regional == 1), ]\n",
    "rural_data <- cleaned_data[(cleaned_data$Major.City == 0) & (cleaned_data$Inner.Regional == 0), ]"
   ]
  },
  {
   "cell_type": "code",
   "execution_count": 5,
   "metadata": {
    "vscode": {
     "languageId": "r"
    }
   },
   "outputs": [
    {
     "name": "stderr",
     "output_type": "stream",
     "text": [
      "Warning message in cor(rural_data[, c(\"IRSD.Decile\", \"IRSAD.Decile\", \"IER.Decile\", :\n",
      "\"the standard deviation is zero\"\n"
     ]
    }
   ],
   "source": [
    "cor_matrix <- cor(cleaned_data[, c(\"IRSD.Decile\", \"IRSAD.Decile\", \"IER.Decile\",\n",
    "                            \"IEO.Decile\", \"Median.Income\",\n",
    "                            \"Lowest.Quartile.Income..\",\n",
    "                            \"Highest.Quartile.Income..\", \"Gini.Coefficient\",\n",
    "                            \"Area..Km.2.\", \"major_city_distance\",\n",
    "                            \"closest_capital_distance\", \"own_capital_distance\",\n",
    "                            \"Population\", \"Population.Density\", \n",
    "                            \"Population.Change\", \"Population.Change..\",\n",
    "                            \"Indigenous.Population\", \"Indigenous.Population..\",\n",
    "                            \"Swing\", \"Seat.Change\", \"is.Safe\", \"is.Marginal\",\n",
    "                            \"Remained.Marginal\")], use = \"complete.obs\")\n",
    "#cor_matrix\n",
    "\n",
    "#write.csv(cor_matrix, file = \"correlation_matrix.csv\", row.names = FALSE)\n",
    "\n",
    "urban_cor_matrix <- cor(urban_data[, c(\"IRSD.Decile\", \"IRSAD.Decile\", \"IER.Decile\",\n",
    "                            \"IEO.Decile\", \"Median.Income\",\n",
    "                            \"Lowest.Quartile.Income..\",\n",
    "                            \"Highest.Quartile.Income..\", \"Gini.Coefficient\",\n",
    "                            \"Area..Km.2.\", \"major_city_distance\",\n",
    "                            \"closest_capital_distance\", \"own_capital_distance\",\n",
    "                            \"Population\", \"Population.Density\", \n",
    "                            \"Population.Change\", \"Population.Change..\",\n",
    "                            \"Indigenous.Population\", \"Indigenous.Population..\",\n",
    "                            \"Swing\", \"Seat.Change\", \"is.Safe\", \"is.Marginal\",\n",
    "                            \"Remained.Marginal\")], use = \"complete.obs\")\n",
    "\n",
    "#write.csv(urban_cor_matrix, file = \"urban_correlation_matrix.csv\", row.names = FALSE)\n",
    "\n",
    "# rural correlation matrix\n",
    "rural_cor_matrix <- cor(rural_data[, c(\"IRSD.Decile\", \"IRSAD.Decile\", \"IER.Decile\",\n",
    "                            \"IEO.Decile\", \"Median.Income\",\n",
    "                            \"Lowest.Quartile.Income..\",\n",
    "                            \"Highest.Quartile.Income..\", \"Gini.Coefficient\",\n",
    "                            \"Area..Km.2.\", \"major_city_distance\",\n",
    "                            \"closest_capital_distance\", \"own_capital_distance\",\n",
    "                            \"Population\", \"Population.Density\", \n",
    "                            \"Population.Change\", \"Population.Change..\",\n",
    "                            \"Indigenous.Population\", \"Indigenous.Population..\",\n",
    "                            \"Swing\", \"Seat.Change\", \"is.Safe\", \"is.Marginal\",\n",
    "                            \"Remained.Marginal\")], use = \"complete.obs\")\n",
    "\n",
    "#write.csv(rural_cor_matrix, file = \"rural_correlation_matrix.csv\", row.names = FALSE)\n"
   ]
  },
  {
   "cell_type": "code",
   "execution_count": 7,
   "metadata": {
    "vscode": {
     "languageId": "r"
    }
   },
   "outputs": [
    {
     "name": "stdout",
     "output_type": "stream",
     "text": [
      "[1] 351\n",
      "[1] 199\n",
      "[1] 152\n"
     ]
    }
   ],
   "source": [
    "# Create scaled (normalised) versions of the combined data\n",
    "cleaned_scaled <- as.data.frame(scale(cleaned_data[, c('IRSAD.Decile', 'Median.Income', 'Gini.Coefficient', 'Area..Km.2.', \n",
    "                                                       'closest_capital_distance', 'Population', 'Population.Density', \n",
    "                                                       'Population.Change..','Indigenous.Population..','Swing',\n",
    "                                                       'is.Safe', 'is.Marginal', 'Remained.Marginal')]))\n",
    "\n",
    "# Remove data points greater than 3 or less than -3\n",
    "rows_to_keep <- apply(cleaned_scaled, 1, function(x) all(x <= 3 & x >= -3))\n",
    "cleaned_scaled <- cleaned_scaled[rows_to_keep, ]\n",
    "\n",
    "# Add the unscaled percentile columns back in (filtering by the same rows)\n",
    "cleaned_scaled$X5th.Percentile <- cleaned_data$X5th.Percentile[rows_to_keep]\n",
    "cleaned_scaled$X50th.Percentile <- cleaned_data$X50th.Percentile[rows_to_keep]\n",
    "cleaned_scaled$X95th.Percentile <- cleaned_data$X95th.Percentile[rows_to_keep]\n",
    "cleaned_scaled$X95th.5th.Ratio <- cleaned_data$X95th.5th.Ratio[rows_to_keep]\n",
    "\n",
    "# Repeat for urban and rural data\n",
    "urban_scaled <- as.data.frame(scale(urban_data[, c('IRSAD.Decile', 'Median.Income', 'Gini.Coefficient', 'Area..Km.2.', \n",
    "                                                       'closest_capital_distance', 'Population', 'Population.Density', \n",
    "                                                       'Population.Change..','Indigenous.Population..','Swing', 'Seat.Change',\n",
    "                                                       'is.Safe', 'is.Marginal', 'Remained.Marginal')]))\n",
    "\n",
    "rows_to_keep_urban <- apply(urban_scaled, 1, function(x) all(x <= 3 & x >= -3))\n",
    "urban_scaled <- urban_scaled[rows_to_keep_urban, ]\n",
    "urban_scaled$X5th.Percentile <- urban_data$X5th.Percentile[rows_to_keep_urban]\n",
    "urban_scaled$X50th.Percentile <- urban_data$X50th.Percentile[rows_to_keep_urban]\n",
    "urban_scaled$X95th.Percentile <- urban_data$X95th.Percentile[rows_to_keep_urban]\n",
    "urban_scaled$X95th.5th.Ratio <- urban_data$X95th.5th.Ratio[rows_to_keep_urban]\n",
    "\n",
    "rural_scaled <- as.data.frame(scale(rural_data[, c('IRSAD.Decile', 'Median.Income', 'Gini.Coefficient', 'Area..Km.2.', \n",
    "                                                       'closest_capital_distance', 'Population', 'Population.Density', \n",
    "                                                       'Population.Change..','Indigenous.Population..','Swing',\n",
    "                                                       'is.Safe', 'is.Marginal', 'Remained.Marginal')]))\n",
    "\n",
    "rows_to_keep_rural <- apply(rural_scaled, 1, function(x) all(x <= 3 & x >= -3))\n",
    "rural_scaled <- rural_scaled[rows_to_keep_rural, ]\n",
    "rural_scaled$X5th.Percentile <- rural_data$X5th.Percentile[rows_to_keep_rural]\n",
    "rural_scaled$X50th.Percentile <- rural_data$X50th.Percentile[rows_to_keep_rural]\n",
    "rural_scaled$X95th.Percentile <- rural_data$X95th.Percentile[rows_to_keep_rural]\n",
    "rural_scaled$X95th.5th.Ratio <- rural_data$X95th.5th.Ratio[rows_to_keep_rural]\n",
    "\n",
    "print(sum(complete.cases(cleaned_scaled)))\n",
    "print(sum(complete.cases(urban_scaled)))\n",
    "print(sum(complete.cases(rural_scaled)))"
   ]
  },
  {
   "cell_type": "code",
   "execution_count": 31,
   "metadata": {
    "vscode": {
     "languageId": "r"
    }
   },
   "outputs": [
    {
     "data": {
      "image/png": "[encoded data removed]",
      "text/plain": [
       "plot without title"
      ]
     },
     "metadata": {
      "image/png": {
       "height": 420,
       "width": 420
      }
     },
     "output_type": "display_data"
    }
   ],
   "source": [
    "# First histogram for urban data\n",
    "p <- ggplot(urban_scaled, aes(x = X5th.Percentile)) +\n",
    "  geom_histogram(binwidth = 5, fill = \"blue\", color = \"black\", alpha = 0.5) +\n",
    "  labs(title = \"Histogram of 5th Percentile\", x = \"5th Percentile\", y = \"Frequency\") +\n",
    "  theme_minimal()\n",
    "\n",
    "# Add the rural histogram\n",
    "p + geom_histogram(data = rural_scaled, aes(x = X5th.Percentile), \n",
    "                   binwidth = 5, fill = \"red\", color = \"black\", alpha = 0.5)"
   ]
  },
  {
   "cell_type": "code",
   "execution_count": 32,
   "metadata": {
    "vscode": {
     "languageId": "r"
    }
   },
   "outputs": [],
   "source": [
    "# Keep only rows where X5th.Percentile is less than 500\n",
    "cleaned_scaled <- cleaned_scaled[cleaned_scaled$X5th.Percentile < 300, ]\n",
    "urban_scaled <- urban_scaled[urban_scaled$X5th.Percentile < 300, ]\n",
    "rural_scaled <- rural_scaled[rural_scaled$X5th.Percentile < 300, ]\n",
    "\n",
    "# Keep only rows where X50.Percentile is less than 500\n",
    "cleaned_scaled <- cleaned_scaled[cleaned_scaled$X50th.Percentile < 750, ]\n",
    "urban_scaled <- urban_scaled[urban_scaled$X50th.Percentile < 750, ]\n",
    "rural_scaled <- rural_scaled[rural_scaled$X50th.Percentile < 750, ]\n",
    "\n",
    "# Keep only rows where X95.Percentile is less than 750\n",
    "cleaned_scaled <- cleaned_scaled[cleaned_scaled$X95th.Percentile < 750, ]\n",
    "urban_scaled <- urban_scaled[urban_scaled$X95th.Percentile < 750, ]\n",
    "rural_scaled <- rural_scaled[rural_scaled$X95th.Percentile < 750, ]"
   ]
  },
  {
   "cell_type": "markdown",
   "metadata": {},
   "source": [
    "### visualise against certain significant variables"
   ]
  },
  {
   "cell_type": "code",
   "execution_count": 24,
   "metadata": {
    "vscode": {
     "languageId": "r"
    }
   },
   "outputs": [
    {
     "data": {
      "image/png": "[encoded data removed]",
      "text/plain": [
       "plot without title"
      ]
     },
     "metadata": {
      "image/png": {
       "height": 420,
       "width": 420
      }
     },
     "output_type": "display_data"
    }
   ],
   "source": [
    "ggplot(cleaned_scaled, aes(x = closest_capital_distance, y = X50th.Percentile)) +\n",
    "  geom_point(color = \"blue\") +\n",
    "  labs(title = \"Independent Variable vs Target Outcome\", x = \"Independent Variable\", y = \"Target Outcome\") +\n",
    "  theme_minimal()"
   ]
  },
  {
   "cell_type": "markdown",
   "metadata": {},
   "source": [
    "## W Statistics"
   ]
  },
  {
   "cell_type": "code",
   "execution_count": 12,
   "metadata": {
    "vscode": {
     "languageId": "r"
    }
   },
   "outputs": [
    {
     "data": {
      "text/plain": [
       "\n",
       "\n",
       "Table: Shapiro-Wilk Normality Test Results\n",
       "\n",
       "|                            |Column                    | W_Statistic|   P_Value|\n",
       "|:---------------------------|:-------------------------|-----------:|---------:|\n",
       "|lga_code.W                  |lga_code                  |   0.9291681| 0.0000000|\n",
       "|IRSD.Decile.W               |IRSD.Decile               |   0.9369648| 0.0000000|\n",
       "|IRSAD.Decile.W              |IRSAD.Decile              |   0.9331790| 0.0000000|\n",
       "|IER.Decile.W                |IER.Decile                |   0.9368728| 0.0000000|\n",
       "|IEO.Decile.W                |IEO.Decile                |   0.9335257| 0.0000000|\n",
       "|Median.Income.W             |Median.Income             |   0.9185662| 0.0000000|\n",
       "|Lowest.Quartile.Income...W  |Lowest.Quartile.Income..  |   0.9884560| 0.0029175|\n",
       "|Highest.Quartile.Income...W |Highest.Quartile.Income.. |   0.9174815| 0.0000000|\n",
       "|Gini.Coefficient.W          |Gini.Coefficient          |   0.8888074| 0.0000000|\n",
       "|Area..Km.2..W               |Area..Km.2.               |   0.2571477| 0.0000000|\n",
       "|Population.W                |Population                |   0.5580517| 0.0000000|\n",
       "|Population.Density.W        |Population.Density        |   0.5607648| 0.0000000|\n",
       "|Population.Change.W         |Population.Change         |   0.4579281| 0.0000000|\n",
       "|Population.Change...W       |Population.Change..       |   0.9434850| 0.0000000|\n",
       "|Indigenous.Population.W     |Indigenous.Population     |   0.6118466| 0.0000000|\n",
       "|Indigenous.Population...W   |Indigenous.Population..   |   0.5030399| 0.0000000|\n",
       "|X5th.Percentile.W           |X5th.Percentile           |   0.5527077| 0.0000000|\n",
       "|X50th.Percentile.W          |X50th.Percentile          |   0.5231654| 0.0000000|\n",
       "|X95th.Percentile.W          |X95th.Percentile          |   0.7728693| 0.0000000|\n",
       "|X95th.5th.Ratio.W           |X95th.5th.Ratio           |   0.9769126| 0.0000053|\n",
       "|major_city_distance.W       |major_city_distance       |   0.6821739| 0.0000000|\n",
       "|closest_capital_distance.W  |closest_capital_distance  |   0.6898111| 0.0000000|\n",
       "|own_capital_distance.W      |own_capital_distance      |   0.7044684| 0.0000000|\n",
       "|Major.City.W                |Major.City                |   0.5501381| 0.0000000|\n",
       "|Inner.Regional.W            |Inner.Regional            |   0.5684340| 0.0000000|\n",
       "|Outer.Regional.W            |Outer.Regional            |   0.5614255| 0.0000000|\n",
       "|Remote.W                    |Remote                    |   0.2763619| 0.0000000|\n",
       "|Very.Remote.W               |Very.Remote               |   0.3366186| 0.0000000|\n",
       "|Swing.W                     |Swing                     |   0.9779370| 0.0000086|\n",
       "|Seat.Change.W               |Seat.Change               |   0.3107053| 0.0000000|\n",
       "|is.Safe.W                   |is.Safe                   |   0.6306117| 0.0000000|\n",
       "|is.Fairly.Safe.W            |is.Fairly.Safe            |   0.5076679| 0.0000000|\n",
       "|is.Marginal.W               |is.Marginal               |   0.6013658| 0.0000000|\n",
       "|Remained.Marginal.W         |Remained.Marginal         |   0.4219848| 0.0000000|"
      ]
     },
     "metadata": {},
     "output_type": "display_data"
    }
   ],
   "source": [
    "# Ensure only numeric columns are included for the Shapiro-Wilk test\n",
    "numeric_data <- cleaned_data[sapply(cleaned_data, is.numeric)]\n",
    "\n",
    "# Perform the Shapiro-Wilk normality test on each numeric column\n",
    "normality_test_results <- apply(numeric_data, 2, function(x) shapiro.test(x))\n",
    "\n",
    "# Extract the p-values and W-statistics\n",
    "normality_table <- data.frame(\n",
    "  Column = colnames(numeric_data),\n",
    "  W_Statistic = sapply(normality_test_results, function(x) x$statistic),\n",
    "  P_Value = sapply(normality_test_results, function(x) x$p.value)\n",
    ")\n",
    "\n",
    "# Format and print the table\n",
    "library(knitr)\n",
    "kable(normality_table, caption = \"Shapiro-Wilk Normality Test Results\")\n"
   ]
  },
  {
   "cell_type": "markdown",
   "metadata": {},
   "source": [
    "## Assumptions of Ridge Regression"
   ]
  },
  {
   "cell_type": "code",
   "execution_count": 43,
   "metadata": {
    "vscode": {
     "languageId": "r"
    }
   },
   "outputs": [
    {
     "name": "stdout",
     "output_type": "stream",
     "text": [
      " lag Autocorrelation D-W Statistic p-value\n",
      "   1     -0.00534075      1.987728     0.8\n",
      " Alternative hypothesis: rho != 0\n"
     ]
    },
    {
     "name": "stderr",
     "output_type": "stream",
     "text": [
      "\u001b[1m\u001b[22m`geom_smooth()` using method = 'loess' and formula = 'y ~ x'\n"
     ]
    },
    {
     "data": {
      "image/png": "[encoded data removed]",
      "text/plain": [
       "plot without title"
      ]
     },
     "metadata": {
      "image/png": {
       "height": 420,
       "width": 420
      }
     },
     "output_type": "display_data"
    },
    {
     "data": {
      "image/png": "[encoded data removed]",
      "text/plain": [
       "plot without title"
      ]
     },
     "metadata": {
      "image/png": {
       "height": 420,
       "width": 420
      }
     },
     "output_type": "display_data"
    },
    {
     "name": "stdout",
     "output_type": "stream",
     "text": [
      "\n",
      "\tShapiro-Wilk normality test\n",
      "\n",
      "data:  lm_model$residuals\n",
      "W = 0.99168, p-value = 0.5661\n",
      "\n"
     ]
    },
    {
     "data": {
      "image/png": "[encoded data removed]",
      "text/plain": [
       "plot without title"
      ]
     },
     "metadata": {
      "image/png": {
       "height": 420,
       "width": 420
      }
     },
     "output_type": "display_data"
    }
   ],
   "source": [
    "# Load necessary libraries\n",
    "library(ggplot2)\n",
    "library(car)  # For the Durbin-Watson test\n",
    "library(ggpubr)  # For ggqqplot\n",
    "\n",
    "# Assuming you have a response variable and predictors in cleaned_scaled\n",
    "response <- \"X5th.Percentile\"  # Replace with your actual response variable name\n",
    "predictors <- names(rural_scaled)[names(rural_scaled) != response]\n",
    "# Remove specified elements\n",
    "predictors <- setdiff(predictors, c(\"X50th.Percentile\", \"X95th.Percentile\", \"X95th.5th.Ratio\"))\n",
    "\n",
    "\n",
    "# Fit a linear model for diagnostics\n",
    "lm_model <- lm(as.formula(paste(response, \"~\", paste(predictors, collapse = \"+\"))), data = rural_scaled)\n",
    "\n",
    "# 1. Linearity - Residuals vs Fitted\n",
    "ggplot(data = lm_model, aes(x = .fitted, y = .resid)) +\n",
    "  geom_point() +\n",
    "  geom_hline(yintercept = 0, color = \"red\", linetype = \"dashed\") +\n",
    "  labs(title = \"Residuals vs Fitted\", x = \"Fitted values\", y = \"Residuals\") +\n",
    "  theme_minimal()\n",
    "\n",
    "# 2. Independence - Durbin-Watson test\n",
    "dw_test <- durbinWatsonTest(lm_model)\n",
    "print(dw_test)\n",
    "\n",
    "# 3. Homoscedasticity - Scale-Location Plot\n",
    "ggplot(data = lm_model, aes(x = .fitted, y = sqrt(abs(.resid)))) +\n",
    "  geom_point() +\n",
    "  geom_smooth(se = FALSE, color = \"blue\") +\n",
    "  labs(title = \"Scale-Location Plot\", x = \"Fitted values\", y = \"Square Root of |Residuals|\") +\n",
    "  theme_minimal()\n",
    "\n",
    "# 4. Normality - Q-Q Plot\n",
    "ggqqplot(lm_model$residuals) +\n",
    "  labs(title = \"Q-Q Plot of Residuals\")\n",
    "\n",
    "# 5. Shapiro-Wilk test for normality of residuals\n",
    "shapiro_test <- shapiro.test(lm_model$residuals)\n",
    "print(shapiro_test)\n"
   ]
  }
 ],
 "metadata": {
  "kernelspec": {
   "display_name": "R",
   "language": "R",
   "name": "r"
  },
  "language_info": {
   "codemirror_mode": "r",
   "file_extension": ".r",
   "mimetype": "text/x-r-source",
   "name": "R",
   "pygments_lexer": "r",
   "version": "4.3.1"
  }
 },
 "nbformat": 4,
 "nbformat_minor": 2
}
