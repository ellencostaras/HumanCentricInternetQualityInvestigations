{
 "cells": [
  {
   "cell_type": "code",
   "execution_count": 10,
   "metadata": {
    "vscode": {
     "languageId": "r"
    }
   },
   "outputs": [],
   "source": [
    "# Install libraries\n",
    "#install.packages(\"pROC\")\n",
    "#install.packages(\"vctrs\")\n",
    "#install.packages(\"caret\")\n",
    "#install.packages(\"nnet\")\n",
    "#install.packages(\"ggplot2\")\n",
    "#install.packages(\"cowplot\")\n",
    "#install.packages(\"dplyr\")\n",
    "#install.packages(\"glmnet\")\n",
    "#install.packages(\"reshape2\")\n",
    "#install.packages(\"tidyr\")\n",
    "#install.packages(\"forcats\")\n",
    "\n",
    "# Load libraries\n",
    "library(pROC)\n",
    "library(vctrs)\n",
    "library(caret)\n",
    "library(nnet)\n",
    "library(ggplot2)\n",
    "library(cowplot)\n",
    "library(dplyr)\n",
    "library(glmnet)\n",
    "library(reshape2)\n",
    "library(tidyr)\n",
    "library(forcats)"
   ]
  },
  {
   "cell_type": "code",
   "execution_count": 11,
   "metadata": {
    "vscode": {
     "languageId": "r"
    }
   },
   "outputs": [
    {
     "name": "stdout",
     "output_type": "stream",
     "text": [
      " [1] \"lga_code\"                  \"IRSD.Decile\"              \n",
      " [3] \"IRSAD.Decile\"              \"IER.Decile\"               \n",
      " [5] \"IEO.Decile\"                \"Median.Income\"            \n",
      " [7] \"Lowest.Quartile.Income..\"  \"Highest.Quartile.Income..\"\n",
      " [9] \"Gini.Coefficient\"          \"Area..Km.2.\"              \n",
      "[11] \"Population\"                \"Population.Density\"       \n",
      "[13] \"Population.Change\"         \"Population.Change..\"      \n",
      "[15] \"Indigenous.Population\"     \"Indigenous.Population..\"  \n",
      "[17] \"X5th.Percentile\"           \"X50th.Percentile\"         \n",
      "[19] \"X95th.Percentile\"          \"X95th.5th.Ratio\"          \n",
      "[21] \"major_city_distance\"       \"closest_capital_distance\" \n",
      "[23] \"own_capital_distance\"      \"Major.City\"               \n",
      "[25] \"Inner.Regional\"            \"Outer.Regional\"           \n",
      "[27] \"Remote\"                    \"Very.Remote\"              \n",
      "[29] \"Division\"                  \"Previous.Party\"           \n",
      "[31] \"Previous.Seat.Status\"      \"Successful.Party\"         \n",
      "[33] \"Current.Seat.Status\"       \"Swing\"                    \n",
      "[35] \"Seat.Change\"               \"is.Safe\"                  \n",
      "[37] \"is.Fairly.Safe\"            \"is.Marginal\"              \n",
      "[39] \"Remained.Marginal\"        \n"
     ]
    }
   ],
   "source": [
    "rm(list=ls()) #clears the workspace\n",
    "data <- read.csv(\"SEIFA_RTT_LGA.csv\")\n",
    "\n",
    "# Remove rows with NAs in important percentile columns\n",
    "cleaned_data <- data[complete.cases(data), ]\n",
    "\n",
    "print(colnames(cleaned_data))"
   ]
  },
  {
   "cell_type": "code",
   "execution_count": 12,
   "metadata": {
    "vscode": {
     "languageId": "r"
    }
   },
   "outputs": [
    {
     "name": "stdout",
     "output_type": "stream",
     "text": [
      "[1] \"Number of rows in cleaned data:\"\n",
      "[1] 401\n"
     ]
    }
   ],
   "source": [
    "print('Number of rows in cleaned data:')\n",
    "print(nrow(cleaned_data))"
   ]
  },
  {
   "cell_type": "markdown",
   "metadata": {},
   "source": [
    "# BIG regression\n",
    "### fit with all variables"
   ]
  },
  {
   "cell_type": "code",
   "execution_count": 13,
   "metadata": {
    "vscode": {
     "languageId": "r"
    }
   },
   "outputs": [
    {
     "name": "stdout",
     "output_type": "stream",
     "text": [
      "   Remoteness_Area_1 Remoteness_Area_2   Mean_1   Mean_2      p_value\n",
      "1         Major City    Inner Regional 449.2979 478.4723  0.000319397\n",
      "2         Major City    Outer Regional 449.2979 448.7694    0.9644063\n",
      "3         Major City            Remote 449.2979 468.8123    0.5367313\n",
      "4         Major City       Very Remote 449.2979 398.3213   0.01075438\n",
      "5     Inner Regional    Outer Regional 478.4723 448.7694   0.01943324\n",
      "6     Inner Regional            Remote 478.4723 468.8123    0.7612964\n",
      "7     Inner Regional       Very Remote 478.4723 398.3213 0.0001668237\n",
      "8     Outer Regional            Remote 448.7694 468.8123    0.5439159\n",
      "9     Outer Regional       Very Remote 448.7694 398.3213   0.02174957\n",
      "10            Remote       Very Remote 468.8123 398.3213    0.0561984\n",
      "   Difference\n",
      "1   29.174454\n",
      "2   -0.528433\n",
      "3   19.514430\n",
      "4  -50.976551\n",
      "5  -29.702887\n",
      "6   -9.660024\n",
      "7  -80.151005\n",
      "8   20.042863\n",
      "9  -50.448118\n",
      "10 -70.490981\n"
     ]
    },
    {
     "data": {
      "image/png": "[encoded data removed]",
      "text/plain": [
       "plot without title"
      ]
     },
     "metadata": {
      "image/png": {
       "height": 420,
       "width": 420
      }
     },
     "output_type": "display_data"
    }
   ],
   "source": [
    "cleaned_data$Remoteness <- ifelse(cleaned_data$Major.City == 1, \"Major City\", ifelse(cleaned_data$Inner.Regional == 1, \"Inner Regional\", ifelse(cleaned_data$Outer.Regional == 1, \"Outer Regional\", ifelse(cleaned_data$Remote == 1, \"Remote\", \"Very Remote\"))))\n",
    "cleaned_data$Remoteness <- factor(cleaned_data$Remoteness, levels = c(\"Major City\", \"Inner Regional\", \"Outer Regional\", \"Remote\", \"Very Remote\"))\n",
    "\n",
    "# Create the violin plot and assign it to variable 'p'\n",
    "ggplot(cleaned_data, aes(x = Remoteness, y = X5th.Percentile)) +\n",
    "  geom_violin(fill = \"lightblue\", color = \"black\") +\n",
    "  labs(x = \"Remoteness Area\", y = \"5th Percentile Latency [ms]\",\n",
    "       title = \"5th Percentile Latency by Remoteness Areas\") +\n",
    "  theme_minimal()\n",
    "\n",
    "# Create a data frame to store results of t-tests\n",
    "results_table <- data.frame(Remoteness_Area_1 = character(), \n",
    "                             Remoteness_Area_2 = character(), \n",
    "                             Mean_1 = numeric(), \n",
    "                             Mean_2 = numeric(),\n",
    "                             p_value = numeric(), \n",
    "                             Difference = numeric(), \n",
    "                             stringsAsFactors = FALSE)\n",
    "\n",
    "# Perform t-tests between each pair of remoteness levels\n",
    "remoteness_levels <- levels(cleaned_data$Remoteness)\n",
    "\n",
    "for (i in 1:(length(remoteness_levels) - 1)) {\n",
    "  for (j in (i + 1):length(remoteness_levels)) {\n",
    "    test <- t.test(X95th.Percentile ~ Remoteness, \n",
    "                   data = cleaned_data[cleaned_data$Remoteness %in% c(remoteness_levels[i], remoteness_levels[j]), ])\n",
    "    \n",
    "    # Calculate means\n",
    "    mean_1 <- mean(cleaned_data$X95th.Percentile[cleaned_data$Remoteness == remoteness_levels[i]], na.rm = TRUE)\n",
    "    mean_2 <- mean(cleaned_data$X95th.Percentile[cleaned_data$Remoteness == remoteness_levels[j]], na.rm = TRUE)\n",
    "    \n",
    "    # Add results to the data frame\n",
    "    results_table <- rbind(results_table, \n",
    "                            data.frame(Remoteness_Area_1 = remoteness_levels[i], \n",
    "                                       Remoteness_Area_2 = remoteness_levels[j], \n",
    "                                       Mean_1 = mean_1, Mean_2 = mean_2,\n",
    "                                       p_value = format(test$p.value, nsmall = 5),\n",
    "                                       Difference = mean_2 - mean_1))\n",
    "  }\n",
    "}\n",
    "\n",
    "# Print the results table\n",
    "print(results_table)"
   ]
  },
  {
   "cell_type": "code",
   "execution_count": 14,
   "metadata": {
    "vscode": {
     "languageId": "r"
    }
   },
   "outputs": [
    {
     "data": {
      "image/png": "[encoded data removed]",
      "text/plain": [
       "plot without title"
      ]
     },
     "metadata": {
      "image/png": {
       "height": 420,
       "width": 420
      }
     },
     "output_type": "display_data"
    }
   ],
   "source": [
    "# Pivot the data to long format for plotting\n",
    "melted_data <- pivot_longer(cleaned_data, \n",
    "                             cols = c(X5th.Percentile, X50th.Percentile, X95th.Percentile),\n",
    "                             names_to = \"Percentile\", \n",
    "                             values_to = \"Value\")\n",
    "\n",
    "# Rename and reorder the columns\n",
    "melted_data$Percentile <- factor(melted_data$Percentile,\n",
    "                                  levels = c(\"X95th.Percentile\", \"X50th.Percentile\", \"X5th.Percentile\"),\n",
    "                                  labels = c(\"95th\", \"50th\", \"5th\"))\n",
    "\n",
    "# Create the plot with swapped axes\n",
    "plot <- ggplot(melted_data, aes(y = Value, x = Percentile)) +  # Swap x and y axes\n",
    "  geom_violin(fill = \"lightblue\", width = 0.9, position = position_nudge(y = -5)) +  # Set color to light blue\n",
    "  labs(title = \"Latency Percentile Distributions\",  # Set title\n",
    "       y = \"Latency [ms]\",  # Renaming y-axis\n",
    "       x = \"Percentile\") +  # Renaming x-axis\n",
    "  theme_minimal() +\n",
    "  theme(plot.title = element_text(hjust = 0.5, size = 16, face = \"bold\"),  # Center title\n",
    "        plot.margin = margin(10, 10, 10, 10),  # Adjust margins\n",
    "        axis.text.y = element_text(size = 14, margin = margin(r = 5)),  # Increase y-axis text size\n",
    "        axis.text.x = element_text(size = 14),  # Increase x-axis text size\n",
    "        axis.title.x = element_text(size = 16, face = \"bold\"),  # Increase x-axis label size and bold\n",
    "        axis.title.y = element_text(size = 16, face = \"bold\")) +  # Increase y-axis label size and bold\n",
    "  scale_y_continuous(limits = c(100, 980), expand = expansion(mult = c(0.05, 0.1))) +  # Set y-axis limits (adjust as needed)\n",
    "  coord_cartesian(clip = 'off') + # Prevent clipping of the violin plots\n",
    "  theme(aspect.ratio = 0.75)  # Adjust aspect ratio to make the plot shorter\n",
    "\n",
    "# Display the plot\n",
    "print(plot)\n"
   ]
  },
  {
   "cell_type": "code",
   "execution_count": 15,
   "metadata": {
    "vscode": {
     "languageId": "r"
    }
   },
   "outputs": [
    {
     "name": "stdout",
     "output_type": "stream",
     "text": [
      "[1] 319.175\n"
     ]
    }
   ],
   "source": [
    "mean_value <- mean(cleaned_data$X50th.Percentile, na.rm = TRUE)\n",
    "print(mean_value)"
   ]
  },
  {
   "cell_type": "markdown",
   "metadata": {},
   "source": [
    "## Begin Fitting"
   ]
  },
  {
   "cell_type": "code",
   "execution_count": 16,
   "metadata": {
    "vscode": {
     "languageId": "r"
    }
   },
   "outputs": [],
   "source": [
    "urban_data <- cleaned_data[(cleaned_data$Major.City == 1) | (cleaned_data$Inner.Regional == 1), ]\n",
    "rural_data <- cleaned_data[(cleaned_data$Major.City == 0) & (cleaned_data$Inner.Regional == 0), ]"
   ]
  },
  {
   "cell_type": "code",
   "execution_count": 17,
   "metadata": {
    "vscode": {
     "languageId": "r"
    }
   },
   "outputs": [
    {
     "name": "stderr",
     "output_type": "stream",
     "text": [
      "\n",
      "Attaching package: 'MASS'\n",
      "\n",
      "\n",
      "The following object is masked from 'package:dplyr':\n",
      "\n",
      "    select\n",
      "\n",
      "\n"
     ]
    },
    {
     "name": "stdout",
     "output_type": "stream",
     "text": [
      "0 non-numeric values turned to NA in urban data\n",
      "0 non-numeric values turned to NA in rural data\n"
     ]
    },
    {
     "name": "stderr",
     "output_type": "stream",
     "text": [
      "Warning message:\n",
      "\"\u001b[1m\u001b[22mA numeric `legend.position` argument in `theme()` was deprecated in ggplot2\n",
      "3.5.0.\n",
      "\u001b[36mℹ\u001b[39m Please use the `legend.position.inside` argument of `theme()` instead.\"\n"
     ]
    },
    {
     "data": {
      "image/png": "[encoded data removed]",
      "text/plain": [
       "plot without title"
      ]
     },
     "metadata": {
      "image/png": {
       "height": 420,
       "width": 420
      }
     },
     "output_type": "display_data"
    }
   ],
   "source": [
    "library(ggplot2)\n",
    "library(MASS)\n",
    "\n",
    "# Assuming urbanavgs and ruralavgs are your data vectors\n",
    "# Convert the lists to numeric and drop NA values\n",
    "column1 <- as.numeric(urban_data$X95th.5th.Ratio)\n",
    "column2 <- as.numeric(rural_data$X95th.5th.Ratio)\n",
    "\n",
    "# Check for NA values\n",
    "cat(sum(is.na(column1)), \"non-numeric values turned to NA in urban data\\n\")\n",
    "cat(sum(is.na(column2)), \"non-numeric values turned to NA in rural data\\n\")\n",
    "\n",
    "# Drop NA values\n",
    "column1 <- na.omit(column1)\n",
    "column2 <- na.omit(column2)\n",
    "\n",
    "# Calculate KDE for both columns\n",
    "kde1 <- density(column1)\n",
    "kde2 <- density(column2)\n",
    "\n",
    "# Create a data frame for plotting\n",
    "kde_data <- data.frame(\n",
    "  x = c(kde1$x, kde2$x),\n",
    "  density = c(kde1$y, kde2$y),\n",
    "  group = rep(c(\"Urban\", \"Rural\"), each = length(kde1$x))\n",
    ")\n",
    "\n",
    "# Create the plot\n",
    "ggplot(kde_data, aes(x = x, y = density, fill = group)) +\n",
    "  geom_area(alpha = 0.5, position = 'identity') +\n",
    "  labs(\n",
    "    title = \"Urban vs Rural of Digital Inequality\",\n",
    "    x = \"Average Latency [ms]\",\n",
    "    y = \"Density\",\n",
    "    fill = \"Remoteness\"\n",
    "  ) +\n",
    "  scale_fill_manual(values = c(\"Urban\" = \"blue\", \"Rural\" = \"red\")) +\n",
    "  scale_x_continuous(limits = c(NA, NA)) +\n",
    "  theme_minimal() +\n",
    "  theme(\n",
    "    plot.title = element_text(hjust = 0.5, size = 16, face = \"bold\"),\n",
    "    axis.title.x = element_text(size = 16, face = \"bold\"),\n",
    "    axis.title.y = element_text(size = 16, face = \"bold\"),\n",
    "    axis.text.x = element_text(size = 14),\n",
    "    axis.text.y = element_text(size = 14),\n",
    "    legend.title = element_text(size = 16, face = \"bold\"),\n",
    "    legend.text = element_text(size = 14),\n",
    "    legend.position = c(0.9, 0.9),  # Position the legend in the upper right corner\n",
    "    legend.justification = c(\"right\", \"top\"))\n"
   ]
  },
  {
   "cell_type": "code",
   "execution_count": 18,
   "metadata": {
    "vscode": {
     "languageId": "r"
    }
   },
   "outputs": [
    {
     "name": "stderr",
     "output_type": "stream",
     "text": [
      "Warning message in cor(rural_data[, c(\"IRSD.Decile\", \"IRSAD.Decile\", \"IER.Decile\", :\n",
      "\"the standard deviation is zero\"\n"
     ]
    }
   ],
   "source": [
    "cor_matrix <- cor(cleaned_data[, c(\"IRSD.Decile\", \"IRSAD.Decile\", \"IER.Decile\",\n",
    "                            \"IEO.Decile\", \"Median.Income\",\n",
    "                            \"Lowest.Quartile.Income..\",\n",
    "                            \"Highest.Quartile.Income..\", \"Gini.Coefficient\",\n",
    "                            \"Area..Km.2.\", \"major_city_distance\",\n",
    "                            \"closest_capital_distance\", \"own_capital_distance\",\n",
    "                            \"Population\", \"Population.Density\", \n",
    "                            \"Population.Change\", \"Population.Change..\",\n",
    "                            \"Indigenous.Population\", \"Indigenous.Population..\",\n",
    "                            \"Swing\", \"Seat.Change\", \"is.Safe\", \"is.Marginal\",\n",
    "                            \"Remained.Marginal\")], use = \"complete.obs\")\n",
    "#cor_matrix\n",
    "\n",
    "#write.csv(cor_matrix, file = \"correlation_matrix.csv\", row.names = FALSE)\n",
    "\n",
    "urban_cor_matrix <- cor(urban_data[, c(\"IRSD.Decile\", \"IRSAD.Decile\", \"IER.Decile\",\n",
    "                            \"IEO.Decile\", \"Median.Income\",\n",
    "                            \"Lowest.Quartile.Income..\",\n",
    "                            \"Highest.Quartile.Income..\", \"Gini.Coefficient\",\n",
    "                            \"Area..Km.2.\", \"major_city_distance\",\n",
    "                            \"closest_capital_distance\", \"own_capital_distance\",\n",
    "                            \"Population\", \"Population.Density\", \n",
    "                            \"Population.Change\", \"Population.Change..\",\n",
    "                            \"Indigenous.Population\", \"Indigenous.Population..\",\n",
    "                            \"Swing\", \"Seat.Change\", \"is.Safe\", \"is.Marginal\",\n",
    "                            \"Remained.Marginal\")], use = \"complete.obs\")\n",
    "\n",
    "#write.csv(urban_cor_matrix, file = \"urban_correlation_matrix.csv\", row.names = FALSE)\n",
    "\n",
    "# rural correlation matrix\n",
    "rural_cor_matrix <- cor(rural_data[, c(\"IRSD.Decile\", \"IRSAD.Decile\", \"IER.Decile\",\n",
    "                            \"IEO.Decile\", \"Median.Income\",\n",
    "                            \"Lowest.Quartile.Income..\",\n",
    "                            \"Highest.Quartile.Income..\", \"Gini.Coefficient\",\n",
    "                            \"Area..Km.2.\", \"major_city_distance\",\n",
    "                            \"closest_capital_distance\", \"own_capital_distance\",\n",
    "                            \"Population\", \"Population.Density\", \n",
    "                            \"Population.Change\", \"Population.Change..\",\n",
    "                            \"Indigenous.Population\", \"Indigenous.Population..\",\n",
    "                            \"Swing\", \"Seat.Change\", \"is.Safe\", \"is.Marginal\",\n",
    "                            \"Remained.Marginal\")], use = \"complete.obs\")\n",
    "\n",
    "#write.csv(rural_cor_matrix, file = \"rural_correlation_matrix.csv\", row.names = FALSE)\n"
   ]
  },
  {
   "cell_type": "code",
   "execution_count": 19,
   "metadata": {
    "vscode": {
     "languageId": "r"
    }
   },
   "outputs": [
    {
     "name": "stdout",
     "output_type": "stream",
     "text": [
      "                          IRSD.Decile IRSAD.Decile   IER.Decile  IEO.Decile\n",
      "IRSD.Decile                1.00000000   0.94941488  0.794597164  0.83690150\n",
      "IRSAD.Decile               0.94941488   1.00000000  0.715865333  0.92254124\n",
      "IER.Decile                 0.79459716   0.71586533  1.000000000  0.57188633\n",
      "IEO.Decile                 0.83690150   0.92254124  0.571886332  1.00000000\n",
      "Median.Income              0.53401994   0.55627944  0.343053967  0.41770344\n",
      "Lowest.Quartile.Income..  -0.45086656  -0.49231057 -0.312807949 -0.34074806\n",
      "Highest.Quartile.Income..  0.62628459   0.64417876  0.416018831  0.50779029\n",
      "Gini.Coefficient           0.20137928   0.16456813  0.151254093  0.21785822\n",
      "Area..Km.2.               -0.24517589  -0.22689673 -0.281722917 -0.22720125\n",
      "major_city_distance       -0.33523751  -0.33267519 -0.382343259 -0.38394748\n",
      "closest_capital_distance  -0.32683514  -0.34114638 -0.390802443 -0.38270195\n",
      "own_capital_distance      -0.35065646  -0.34941644 -0.405063968 -0.36143071\n",
      "Population                 0.21816126   0.30940707  0.221876028  0.32148370\n",
      "Population.Density         0.44403560   0.54004618  0.117015964  0.57501925\n",
      "Population.Change          0.11157217   0.16384097  0.187489861  0.14646307\n",
      "Population.Change..        0.17216884   0.16261505  0.278790681  0.05690033\n",
      "Indigenous.Population     -0.07345052  -0.00958046 -0.009725471 -0.02800954\n",
      "Indigenous.Population..   -0.47575669  -0.44564907 -0.477337572 -0.39956931\n",
      "Swing                     -0.36346430  -0.35345386 -0.271477324 -0.27586358\n",
      "Seat.Change                0.36505582   0.38945093  0.260615875  0.39239505\n",
      "is.Safe                   -0.17859215  -0.18053956 -0.237965350 -0.12818650\n",
      "is.Marginal                0.12044063   0.10691173  0.161413464  0.07254339\n",
      "Remained.Marginal         -0.04017728  -0.02837522 -0.033291670 -0.03310099\n",
      "                          Median.Income Lowest.Quartile.Income..\n",
      "IRSD.Decile                  0.53401994             -0.450866562\n",
      "IRSAD.Decile                 0.55627944             -0.492310573\n",
      "IER.Decile                   0.34305397             -0.312807949\n",
      "IEO.Decile                   0.41770344             -0.340748058\n",
      "Median.Income                1.00000000             -0.861161658\n",
      "Lowest.Quartile.Income..    -0.86116166              1.000000000\n",
      "Highest.Quartile.Income..    0.93079557             -0.705327661\n",
      "Gini.Coefficient            -0.10566726              0.398430581\n",
      "Area..Km.2.                  0.04897843              0.041176764\n",
      "major_city_distance          0.09758514             -0.010990624\n",
      "closest_capital_distance     0.00494392              0.021716929\n",
      "own_capital_distance        -0.02420776              0.037066480\n",
      "Population                   0.14646045             -0.248282491\n",
      "Population.Density           0.45144285             -0.335313192\n",
      "Population.Change            0.06544067             -0.181677983\n",
      "Population.Change..          0.06101168             -0.181548896\n",
      "Indigenous.Population        0.07173776             -0.188845697\n",
      "Indigenous.Population..     -0.13971033              0.207905125\n",
      "Swing                       -0.34051549              0.210961118\n",
      "Seat.Change                  0.36248111             -0.202941932\n",
      "is.Safe                     -0.19863416              0.141714388\n",
      "is.Marginal                  0.18082012             -0.060298221\n",
      "Remained.Marginal           -0.01516600              0.002861346\n",
      "                          Highest.Quartile.Income.. Gini.Coefficient\n",
      "IRSD.Decile                             0.626284588       0.20137928\n",
      "IRSAD.Decile                            0.644178756       0.16456813\n",
      "IER.Decile                              0.416018831       0.15125409\n",
      "IEO.Decile                              0.507790287       0.21785822\n",
      "Median.Income                           0.930795571      -0.10566726\n",
      "Lowest.Quartile.Income..               -0.705327661       0.39843058\n",
      "Highest.Quartile.Income..               1.000000000       0.08522948\n",
      "Gini.Coefficient                        0.085229476       1.00000000\n",
      "Area..Km.2.                             0.054794534      -0.03646613\n",
      "major_city_distance                     0.066084293      -0.06354821\n",
      "closest_capital_distance               -0.026690291      -0.06059778\n",
      "own_capital_distance                   -0.064428435      -0.05960090\n",
      "Population                              0.130654068      -0.19954495\n",
      "Population.Density                      0.514830467       0.17057703\n",
      "Population.Change                       0.023731336      -0.21055734\n",
      "Population.Change..                     0.036164659      -0.30152242\n",
      "Indigenous.Population                   0.008585004      -0.33416839\n",
      "Indigenous.Population..                -0.124260739      -0.10034284\n",
      "Swing                                  -0.425124555      -0.13272998\n",
      "Seat.Change                             0.430519342       0.25536850\n",
      "is.Safe                                -0.263333954       0.12777188\n",
      "is.Marginal                             0.252154209      -0.01085018\n",
      "Remained.Marginal                      -0.005368592      -0.12314924\n",
      "                          Area..Km.2. major_city_distance\n",
      "IRSD.Decile               -0.24517589        -0.335237515\n",
      "IRSAD.Decile              -0.22689673        -0.332675189\n",
      "IER.Decile                -0.28172292        -0.382343259\n",
      "IEO.Decile                -0.22720125        -0.383947476\n",
      "Median.Income              0.04897843         0.097585139\n",
      "Lowest.Quartile.Income..   0.04117676        -0.010990624\n",
      "Highest.Quartile.Income..  0.05479453         0.066084293\n",
      "Gini.Coefficient          -0.03646613        -0.063548213\n",
      "Area..Km.2.                1.00000000         0.570662116\n",
      "major_city_distance        0.57066212         1.000000000\n",
      "closest_capital_distance   0.44738969         0.773277292\n",
      "own_capital_distance       0.42788050         0.748877135\n",
      "Population                -0.13011238        -0.295795084\n",
      "Population.Density        -0.12941554        -0.325233392\n",
      "Population.Change         -0.08332638        -0.184912608\n",
      "Population.Change..       -0.20527879        -0.214471042\n",
      "Indigenous.Population      0.01987772        -0.007607108\n",
      "Indigenous.Population..    0.48127546         0.601816234\n",
      "Swing                      0.04677494         0.033053015\n",
      "Seat.Change               -0.08079193        -0.208208522\n",
      "is.Safe                   -0.01990723        -0.025535009\n",
      "is.Marginal                0.06278178         0.065658385\n",
      "Remained.Marginal          0.08087665         0.004176061\n",
      "                          closest_capital_distance own_capital_distance\n",
      "IRSD.Decile                           -0.326835142         -0.350656461\n",
      "IRSAD.Decile                          -0.341146378         -0.349416440\n",
      "IER.Decile                            -0.390802443         -0.405063968\n",
      "IEO.Decile                            -0.382701950         -0.361430708\n",
      "Median.Income                          0.004943920         -0.024207757\n",
      "Lowest.Quartile.Income..               0.021716929          0.037066480\n",
      "Highest.Quartile.Income..             -0.026690291         -0.064428435\n",
      "Gini.Coefficient                      -0.060597776         -0.059600898\n",
      "Area..Km.2.                            0.447389692          0.427880498\n",
      "major_city_distance                    0.773277292          0.748877135\n",
      "closest_capital_distance               1.000000000          0.931003783\n",
      "own_capital_distance                   0.931003783          1.000000000\n",
      "Population                            -0.257216248         -0.264906100\n",
      "Population.Density                    -0.334141904         -0.334286182\n",
      "Population.Change                     -0.155630216         -0.165837669\n",
      "Population.Change..                   -0.161844620         -0.181137946\n",
      "Indigenous.Population                  0.087299422          0.075049520\n",
      "Indigenous.Population..                0.568942993          0.601893028\n",
      "Swing                                  0.037789671          0.020424048\n",
      "Seat.Change                           -0.214318460         -0.214531381\n",
      "is.Safe                                0.067414954          0.088616667\n",
      "is.Marginal                            0.001989292         -0.018638636\n",
      "Remained.Marginal                      0.021368791         -0.002467191\n",
      "                            Population Population.Density Population.Change\n",
      "IRSD.Decile                0.218161258         0.44403560       0.111572170\n",
      "IRSAD.Decile               0.309407071         0.54004618       0.163840966\n",
      "IER.Decile                 0.221876028         0.11701596       0.187489861\n",
      "IEO.Decile                 0.321483704         0.57501925       0.146463066\n",
      "Median.Income              0.146460450         0.45144285       0.065440671\n",
      "Lowest.Quartile.Income..  -0.248282491        -0.33531319      -0.181677983\n",
      "Highest.Quartile.Income..  0.130654068         0.51483047       0.023731336\n",
      "Gini.Coefficient          -0.199544948         0.17057703      -0.210557339\n",
      "Area..Km.2.               -0.130112375        -0.12941554      -0.083326380\n",
      "major_city_distance       -0.295795084        -0.32523339      -0.184912608\n",
      "closest_capital_distance  -0.257216248        -0.33414190      -0.155630216\n",
      "own_capital_distance      -0.264906100        -0.33428618      -0.165837669\n",
      "Population                 1.000000000         0.27172709       0.768623184\n",
      "Population.Density         0.271727093         1.00000000       0.040837513\n",
      "Population.Change          0.768623184         0.04083751       1.000000000\n",
      "Population.Change..        0.226982369        -0.04731754       0.559614003\n",
      "Indigenous.Population      0.658651292        -0.08446637       0.607667507\n",
      "Indigenous.Population..   -0.203329978        -0.23858051      -0.117159233\n",
      "Swing                     -0.007917885        -0.24005770       0.006444265\n",
      "Seat.Change                0.080773345         0.50082724      -0.039320365\n",
      "is.Safe                   -0.075920286        -0.05610680      -0.026622498\n",
      "is.Marginal                0.033495556         0.11980990      -0.009810451\n",
      "Remained.Marginal          0.046324751         0.07696642       0.030693028\n",
      "                          Population.Change.. Indigenous.Population\n",
      "IRSD.Decile                        0.17216884          -0.073450516\n",
      "IRSAD.Decile                       0.16261505          -0.009580460\n",
      "IER.Decile                         0.27879068          -0.009725471\n",
      "IEO.Decile                         0.05690033          -0.028009537\n",
      "Median.Income                      0.06101168           0.071737759\n",
      "Lowest.Quartile.Income..          -0.18154890          -0.188845697\n",
      "Highest.Quartile.Income..          0.03616466           0.008585004\n",
      "Gini.Coefficient                  -0.30152242          -0.334168394\n",
      "Area..Km.2.                       -0.20527879           0.019877719\n",
      "major_city_distance               -0.21447104          -0.007607108\n",
      "closest_capital_distance          -0.16184462           0.087299422\n",
      "own_capital_distance              -0.18113795           0.075049520\n",
      "Population                         0.22698237           0.658651292\n",
      "Population.Density                -0.04731754          -0.084466368\n",
      "Population.Change                  0.55961400           0.607667507\n",
      "Population.Change..                1.00000000           0.253851597\n",
      "Indigenous.Population              0.25385160           1.000000000\n",
      "Indigenous.Population..           -0.19556446           0.147235494\n",
      "Swing                             -0.10950130           0.090312584\n",
      "Seat.Change                       -0.06134287          -0.063695321\n",
      "is.Safe                           -0.12829524          -0.041552880\n",
      "is.Marginal                        0.09326985           0.046860504\n",
      "Remained.Marginal                  0.04195242           0.147532039\n",
      "                          Indigenous.Population..        Swing Seat.Change\n",
      "IRSD.Decile                           -0.47575669 -0.363464302  0.36505582\n",
      "IRSAD.Decile                          -0.44564907 -0.353453856  0.38945093\n",
      "IER.Decile                            -0.47733757 -0.271477324  0.26061587\n",
      "IEO.Decile                            -0.39956931 -0.275863577  0.39239505\n",
      "Median.Income                         -0.13971033 -0.340515492  0.36248111\n",
      "Lowest.Quartile.Income..               0.20790513  0.210961118 -0.20294193\n",
      "Highest.Quartile.Income..             -0.12426074 -0.425124555  0.43051934\n",
      "Gini.Coefficient                      -0.10034284 -0.132729975  0.25536850\n",
      "Area..Km.2.                            0.48127546  0.046774937 -0.08079193\n",
      "major_city_distance                    0.60181623  0.033053015 -0.20820852\n",
      "closest_capital_distance               0.56894299  0.037789671 -0.21431846\n",
      "own_capital_distance                   0.60189303  0.020424048 -0.21453138\n",
      "Population                            -0.20332998 -0.007917885  0.08077334\n",
      "Population.Density                    -0.23858051 -0.240057703  0.50082724\n",
      "Population.Change                     -0.11715923  0.006444265 -0.03932036\n",
      "Population.Change..                   -0.19556446 -0.109501304 -0.06134287\n",
      "Indigenous.Population                  0.14723549  0.090312584 -0.06369532\n",
      "Indigenous.Population..                1.00000000  0.228983322 -0.15027492\n",
      "Swing                                  0.22898332  1.000000000 -0.31581750\n",
      "Seat.Change                           -0.15027492 -0.315817504  1.00000000\n",
      "is.Safe                               -0.03814206  0.140159163 -0.26783741\n",
      "is.Marginal                            0.12343419 -0.075881743  0.32382274\n",
      "Remained.Marginal                      0.25890860  0.316764485  0.20210982\n",
      "                              is.Safe  is.Marginal Remained.Marginal\n",
      "IRSD.Decile               -0.17859215  0.120440635      -0.040177279\n",
      "IRSAD.Decile              -0.18053956  0.106911727      -0.028375219\n",
      "IER.Decile                -0.23796535  0.161413464      -0.033291670\n",
      "IEO.Decile                -0.12818650  0.072543391      -0.033100989\n",
      "Median.Income             -0.19863416  0.180820123      -0.015166002\n",
      "Lowest.Quartile.Income..   0.14171439 -0.060298221       0.002861346\n",
      "Highest.Quartile.Income.. -0.26333395  0.252154209      -0.005368592\n",
      "Gini.Coefficient           0.12777188 -0.010850180      -0.123149244\n",
      "Area..Km.2.               -0.01990723  0.062781781       0.080876650\n",
      "major_city_distance       -0.02553501  0.065658385       0.004176061\n",
      "closest_capital_distance   0.06741495  0.001989292       0.021368791\n",
      "own_capital_distance       0.08861667 -0.018638636      -0.002467191\n",
      "Population                -0.07592029  0.033495556       0.046324751\n",
      "Population.Density        -0.05610680  0.119809903       0.076966418\n",
      "Population.Change         -0.02662250 -0.009810451       0.030693028\n",
      "Population.Change..       -0.12829524  0.093269851       0.041952420\n",
      "Indigenous.Population     -0.04155288  0.046860504       0.147532039\n",
      "Indigenous.Population..   -0.03814206  0.123434193       0.258908603\n",
      "Swing                      0.14015916 -0.075881743       0.316764485\n",
      "Seat.Change               -0.26783741  0.323822735       0.202109818\n",
      "is.Safe                    1.00000000 -0.640946174      -0.365491901\n",
      "is.Marginal               -0.64094617  1.000000000       0.570238057\n",
      "Remained.Marginal         -0.36549190  0.570238057       1.000000000\n"
     ]
    }
   ],
   "source": [
    "print(cor_matrix)"
   ]
  },
  {
   "cell_type": "code",
   "execution_count": 20,
   "metadata": {
    "vscode": {
     "languageId": "r"
    }
   },
   "outputs": [
    {
     "name": "stdout",
     "output_type": "stream",
     "text": [
      "[1] 351\n",
      "[1] 199\n",
      "[1] 152\n"
     ]
    }
   ],
   "source": [
    "# Create scaled (normalised) versions of the combined data\n",
    "cleaned_scaled <- as.data.frame(scale(cleaned_data[, c('IRSAD.Decile', 'Median.Income', 'Gini.Coefficient', 'Area..Km.2.', \n",
    "                                                       'closest_capital_distance', 'Population', 'Population.Density', \n",
    "                                                       'Population.Change..','Indigenous.Population..','Swing',\n",
    "                                                       'is.Safe', 'is.Marginal', 'Remained.Marginal')]))\n",
    "\n",
    "# Remove data points greater than 3 or less than -3\n",
    "cleaned_scaled$Major.City <- cleaned_data$Major.City\n",
    "cleaned_scaled$Inner.Regional <- cleaned_data$Inner.Regional\n",
    "cleaned_scaled$Outer.Regional <- cleaned_data$Outer.Regional\n",
    "cleaned_scaled$Remote <- cleaned_data$Remote\n",
    "cleaned_scaled$Very.Remote <- cleaned_data$Very.Remote\n",
    "rows_to_keep <- apply(cleaned_scaled, 1, function(x) all(x <= 3 & x >= -3))\n",
    "cleaned_scaled <- cleaned_scaled[rows_to_keep, ]\n",
    "\n",
    "# Add the unscaled percentile columns back in (filtering by the same rows)\n",
    "cleaned_scaled$X5th.Percentile <- cleaned_data$X5th.Percentile[rows_to_keep]\n",
    "cleaned_scaled$X50th.Percentile <- cleaned_data$X50th.Percentile[rows_to_keep]\n",
    "cleaned_scaled$X95th.Percentile <- cleaned_data$X95th.Percentile[rows_to_keep]\n",
    "cleaned_scaled$X95th.5th.Ratio <- cleaned_data$X95th.5th.Ratio[rows_to_keep]\n",
    "\n",
    "# Repeat for urban and rural data\n",
    "urban_scaled <- as.data.frame(scale(urban_data[, c('IRSAD.Decile', 'Median.Income', 'Gini.Coefficient', 'Area..Km.2.', \n",
    "                                                       'closest_capital_distance', 'Population', 'Population.Density', \n",
    "                                                       'Population.Change..','Indigenous.Population..','Swing', 'Seat.Change',\n",
    "                                                       'is.Safe', 'is.Marginal', 'Remained.Marginal')]))\n",
    "\n",
    "rows_to_keep_urban <- apply(urban_scaled, 1, function(x) all(x <= 3 & x >= -3))\n",
    "urban_scaled <- urban_scaled[rows_to_keep_urban, ]\n",
    "urban_scaled$X5th.Percentile <- urban_data$X5th.Percentile[rows_to_keep_urban]\n",
    "urban_scaled$X50th.Percentile <- urban_data$X50th.Percentile[rows_to_keep_urban]\n",
    "urban_scaled$X95th.Percentile <- urban_data$X95th.Percentile[rows_to_keep_urban]\n",
    "urban_scaled$X95th.5th.Ratio <- urban_data$X95th.5th.Ratio[rows_to_keep_urban]\n",
    "\n",
    "rural_scaled <- as.data.frame(scale(rural_data[, c('IRSAD.Decile', 'Median.Income', 'Gini.Coefficient', 'Area..Km.2.', \n",
    "                                                       'closest_capital_distance', 'Population', 'Population.Density', \n",
    "                                                       'Population.Change..','Indigenous.Population..','Swing',\n",
    "                                                       'is.Safe', 'is.Marginal', 'Remained.Marginal')]))\n",
    "\n",
    "rows_to_keep_rural <- apply(rural_scaled, 1, function(x) all(x <= 3 & x >= -3))\n",
    "rural_scaled <- rural_scaled[rows_to_keep_rural, ]\n",
    "rural_scaled$X5th.Percentile <- rural_data$X5th.Percentile[rows_to_keep_rural]\n",
    "rural_scaled$X50th.Percentile <- rural_data$X50th.Percentile[rows_to_keep_rural]\n",
    "rural_scaled$X95th.Percentile <- rural_data$X95th.Percentile[rows_to_keep_rural]\n",
    "rural_scaled$X95th.5th.Ratio <- rural_data$X95th.5th.Ratio[rows_to_keep_rural]\n",
    "\n",
    "print(sum(complete.cases(cleaned_scaled)))\n",
    "print(sum(complete.cases(urban_scaled)))\n",
    "print(sum(complete.cases(rural_scaled)))"
   ]
  },
  {
   "cell_type": "code",
   "execution_count": 21,
   "metadata": {
    "vscode": {
     "languageId": "r"
    }
   },
   "outputs": [
    {
     "data": {
      "text/plain": [
       "    Min.  1st Qu.   Median     Mean  3rd Qu.     Max. \n",
       "-0.56393 -0.46014 -0.31177 -0.16648 -0.06276  2.72937 "
      ]
     },
     "metadata": {},
     "output_type": "display_data"
    },
    {
     "data": {
      "text/plain": [
       "    Min.  1st Qu.   Median     Mean  3rd Qu.     Max. \n",
       "-1.05895 -0.78953 -0.35316 -0.05094  0.45317  2.67487 "
      ]
     },
     "metadata": {},
     "output_type": "display_data"
    },
    {
     "data": {
      "text/plain": [
       "   Min. 1st Qu.  Median    Mean 3rd Qu.    Max. \n",
       "-0.7183 -0.5569 -0.3851 -0.2076 -0.1047  2.9345 "
      ]
     },
     "metadata": {},
     "output_type": "display_data"
    },
    {
     "data": {
      "text/plain": [
       "   Min. 1st Qu.  Median    Mean 3rd Qu.    Max. \n",
       "  116.2   172.8   193.7   209.4   229.1   870.4 "
      ]
     },
     "metadata": {},
     "output_type": "display_data"
    }
   ],
   "source": [
    "summary(cleaned_scaled$Indigenous.Population..)\n",
    "summary(urban_scaled$Indigenous.Population..)\n",
    "summary(rural_scaled$Indigenous.Population..)\n",
    "summary(rural_scaled$X5th.Percentile)"
   ]
  },
  {
   "cell_type": "code",
   "execution_count": 22,
   "metadata": {
    "vscode": {
     "languageId": "r"
    }
   },
   "outputs": [
    {
     "data": {
      "image/png": "[encoded data removed]",
      "text/plain": [
       "plot without title"
      ]
     },
     "metadata": {
      "image/png": {
       "height": 420,
       "width": 420
      }
     },
     "output_type": "display_data"
    }
   ],
   "source": [
    "# First histogram for urban data\n",
    "p <- ggplot(urban_scaled, aes(x = X50th.Percentile)) +\n",
    "  geom_histogram(binwidth = 5, fill = \"blue\", color = \"black\", alpha = 0.5) +\n",
    "  labs(title = \"Histogram of 95th Percentile\", x = \"95th Percentile\", y = \"Frequency\") +\n",
    "  theme_minimal()\n",
    "\n",
    "# Add the rural histogram\n",
    "p + geom_histogram(data = rural_scaled, aes(x = X50th.Percentile), \n",
    "                   binwidth = 5, fill = \"red\", color = \"black\", alpha = 0.5)"
   ]
  },
  {
   "cell_type": "code",
   "execution_count": 23,
   "metadata": {
    "vscode": {
     "languageId": "r"
    }
   },
   "outputs": [],
   "source": [
    "# Keep only rows where X5th.Percentile is less than 500\n",
    "cleaned_scaled <- cleaned_scaled[cleaned_scaled$X5th.Percentile < 300, ]\n",
    "urban_scaled <- urban_scaled[urban_scaled$X5th.Percentile < 300, ]\n",
    "rural_scaled <- rural_scaled[rural_scaled$X5th.Percentile < 300, ]\n",
    "\n",
    "# Keep only rows where X50.Percentile is less than 500\n",
    "cleaned_scaled <- cleaned_scaled[cleaned_scaled$X50th.Percentile < 500, ]\n",
    "urban_scaled <- urban_scaled[urban_scaled$X50th.Percentile < 500, ]\n",
    "rural_scaled <- rural_scaled[rural_scaled$X50th.Percentile < 500, ]\n",
    "\n",
    "# Keep only rows where X95.Percentile is less than 750\n",
    "cleaned_scaled <- cleaned_scaled[cleaned_scaled$X95th.Percentile < 750, ]\n",
    "urban_scaled <- urban_scaled[urban_scaled$X95th.Percentile < 750, ]\n",
    "rural_scaled <- rural_scaled[rural_scaled$X95th.Percentile < 750, ]\n"
   ]
  },
  {
   "cell_type": "code",
   "execution_count": 24,
   "metadata": {
    "vscode": {
     "languageId": "r"
    }
   },
   "outputs": [
    {
     "name": "stdout",
     "output_type": "stream",
     "text": [
      "\n",
      "\tWelch Two Sample t-test\n",
      "\n",
      "data:  urban_scaled$X95th.Percentile and rural_scaled$X95th.Percentile\n",
      "t = 4.6155, df = 229.07, p-value = 6.532e-06\n",
      "alternative hypothesis: true difference in means is not equal to 0\n",
      "95 percent confidence interval:\n",
      " 20.31771 50.58722\n",
      "sample estimates:\n",
      "mean of x mean of y \n",
      " 460.8774  425.4250 \n",
      "\n"
     ]
    }
   ],
   "source": [
    "# Assuming you have a data frame called 'data' that contains your columns\n",
    "result <- t.test(urban_scaled$X95th.Percentile, \n",
    "                 rural_scaled$X95th.Percentile,\n",
    "                 var.equal = FALSE) \n",
    "\n",
    "print(result)"
   ]
  },
  {
   "cell_type": "code",
   "execution_count": 25,
   "metadata": {
    "vscode": {
     "languageId": "r"
    }
   },
   "outputs": [],
   "source": [
    "fit <- lm(cleaned_scaled$X50th.Percentile ~ IRSAD.Decile +\n",
    "            Gini.Coefficient + Area..Km.2. +  \n",
    "            closest_capital_distance + Population + Population.Density + \n",
    "            + Population.Change.. + Indigenous.Population.. +\n",
    "            Swing + is.Safe + is.Marginal +\n",
    "            Remained.Marginal, data = cleaned_scaled)"
   ]
  },
  {
   "cell_type": "markdown",
   "metadata": {},
   "source": [
    "## AIC"
   ]
  },
  {
   "cell_type": "code",
   "execution_count": 26,
   "metadata": {
    "vscode": {
     "languageId": "r"
    }
   },
   "outputs": [
    {
     "name": "stdout",
     "output_type": "stream",
     "text": [
      "Start:  AIC=2343.27\n",
      "cleaned_scaled$X50th.Percentile ~ IRSAD.Decile + Gini.Coefficient + \n",
      "    Area..Km.2. + closest_capital_distance + Population + Population.Density + \n",
      "    +Population.Change.. + Indigenous.Population.. + Swing + \n",
      "    is.Safe + is.Marginal + Remained.Marginal\n",
      "\n",
      "                           Df Sum of Sq    RSS    AIC\n",
      "- Area..Km.2.               1       0.2 304796 2341.3\n",
      "- Population.Change..       1      12.4 304808 2341.3\n",
      "- Indigenous.Population..   1      62.4 304859 2341.3\n",
      "- IRSAD.Decile              1     157.5 304954 2341.4\n",
      "- Remained.Marginal         1     408.2 305204 2341.7\n",
      "- is.Marginal               1     977.6 305774 2342.4\n",
      "<none>                                  304796 2343.3\n",
      "- Gini.Coefficient          1    2077.9 306874 2343.6\n",
      "- is.Safe                   1    3863.5 308660 2345.6\n",
      "- Population                1    4716.4 309512 2346.5\n",
      "- closest_capital_distance  1    6560.6 311357 2348.5\n",
      "- Population.Density        1    7406.9 312203 2349.5\n",
      "- Swing                     1    7911.2 312707 2350.0\n",
      "\n",
      "Step:  AIC=2341.27\n",
      "cleaned_scaled$X50th.Percentile ~ IRSAD.Decile + Gini.Coefficient + \n",
      "    closest_capital_distance + Population + Population.Density + \n",
      "    Population.Change.. + Indigenous.Population.. + Swing + is.Safe + \n",
      "    is.Marginal + Remained.Marginal\n",
      "\n",
      "                           Df Sum of Sq    RSS    AIC\n",
      "- Population.Change..       1      12.3 304809 2339.3\n",
      "- Indigenous.Population..   1      65.7 304862 2339.3\n",
      "- IRSAD.Decile              1     157.7 304954 2339.4\n",
      "- Remained.Marginal         1     408.0 305204 2339.7\n",
      "- is.Marginal               1     979.0 305775 2340.4\n",
      "<none>                                  304796 2341.3\n",
      "- Gini.Coefficient          1    2077.7 306874 2341.6\n",
      "- is.Safe                   1    3874.4 308671 2343.6\n",
      "- Population                1    4716.4 309513 2344.5\n",
      "- Population.Density        1    7422.8 312219 2347.5\n",
      "- Swing                     1    7978.3 312775 2348.1\n",
      "- closest_capital_distance  1    9473.4 314270 2349.7\n",
      "\n",
      "Step:  AIC=2339.28\n",
      "cleaned_scaled$X50th.Percentile ~ IRSAD.Decile + Gini.Coefficient + \n",
      "    closest_capital_distance + Population + Population.Density + \n",
      "    Indigenous.Population.. + Swing + is.Safe + is.Marginal + \n",
      "    Remained.Marginal\n",
      "\n",
      "                           Df Sum of Sq    RSS    AIC\n",
      "- Indigenous.Population..   1      70.0 304879 2337.4\n",
      "- IRSAD.Decile              1     148.6 304957 2337.4\n",
      "- Remained.Marginal         1     408.9 305217 2337.7\n",
      "- is.Marginal               1     967.5 305776 2338.4\n",
      "<none>                                  304809 2339.3\n",
      "- Gini.Coefficient          1    2148.0 306957 2339.7\n",
      "- is.Safe                   1    3866.7 308675 2341.6\n",
      "- Population                1    4816.3 309625 2342.6\n",
      "- Population.Density        1    7765.9 312574 2345.9\n",
      "- Swing                     1    8052.6 312861 2346.2\n",
      "- closest_capital_distance  1    9519.0 314328 2347.8\n",
      "\n",
      "Step:  AIC=2337.36\n",
      "cleaned_scaled$X50th.Percentile ~ IRSAD.Decile + Gini.Coefficient + \n",
      "    closest_capital_distance + Population + Population.Density + \n",
      "    Swing + is.Safe + is.Marginal + Remained.Marginal\n",
      "\n",
      "                           Df Sum of Sq    RSS    AIC\n",
      "- IRSAD.Decile              1     115.9 304994 2335.5\n",
      "- Remained.Marginal         1     452.2 305331 2335.9\n",
      "- is.Marginal               1     952.6 305831 2336.4\n",
      "<none>                                  304879 2337.4\n",
      "- Gini.Coefficient          1    2196.8 307075 2337.8\n",
      "- is.Safe                   1    3881.1 308760 2339.7\n",
      "- Population                1    4976.0 309855 2340.9\n",
      "- Population.Density        1    7759.9 312638 2343.9\n",
      "- Swing                     1    8004.5 312883 2344.2\n",
      "- closest_capital_distance  1   11517.4 316396 2348.0\n",
      "\n",
      "Step:  AIC=2335.49\n",
      "cleaned_scaled$X50th.Percentile ~ Gini.Coefficient + closest_capital_distance + \n",
      "    Population + Population.Density + Swing + is.Safe + is.Marginal + \n",
      "    Remained.Marginal\n",
      "\n",
      "                           Df Sum of Sq    RSS    AIC\n",
      "- Remained.Marginal         1     474.4 305469 2334.0\n",
      "- is.Marginal               1     916.0 305910 2334.5\n",
      "<none>                                  304994 2335.5\n",
      "- Gini.Coefficient          1    2088.9 307083 2335.8\n",
      "- is.Safe                   1    3765.3 308760 2337.7\n",
      "- Population                1    4867.6 309862 2338.9\n",
      "- Population.Density        1    8238.8 313233 2342.6\n",
      "- Swing                     1    8937.7 313932 2343.3\n",
      "- closest_capital_distance  1   11845.4 316840 2346.5\n",
      "\n",
      "Step:  AIC=2334.02\n",
      "cleaned_scaled$X50th.Percentile ~ Gini.Coefficient + closest_capital_distance + \n",
      "    Population + Population.Density + Swing + is.Safe + is.Marginal\n",
      "\n",
      "                           Df Sum of Sq    RSS    AIC\n",
      "<none>                                  305469 2334.0\n",
      "- is.Marginal               1    2220.6 307690 2334.5\n",
      "- Gini.Coefficient          1    2355.4 307824 2334.6\n",
      "- is.Safe                   1    3727.4 309196 2336.2\n",
      "- Population                1    4674.0 310143 2337.2\n",
      "- Population.Density        1    8230.3 313699 2341.1\n",
      "- Swing                     1    8671.9 314141 2341.6\n",
      "- closest_capital_distance  1   12292.6 317761 2345.5\n"
     ]
    },
    {
     "data": {
      "text/plain": [
       "\n",
       "Call:\n",
       "lm(formula = cleaned_scaled$X50th.Percentile ~ Gini.Coefficient + \n",
       "    closest_capital_distance + Population + Population.Density + \n",
       "    Swing + is.Safe + is.Marginal, data = cleaned_scaled)\n",
       "\n",
       "Residuals:\n",
       "     Min       1Q   Median       3Q      Max \n",
       "-131.713  -14.682   -1.066   16.974  122.630 \n",
       "\n",
       "Coefficients:\n",
       "                         Estimate Std. Error t value Pr(>|t|)    \n",
       "(Intercept)               310.434      1.752 177.199  < 2e-16 ***\n",
       "Gini.Coefficient           -3.499      2.184  -1.602 0.110017    \n",
       "closest_capital_distance   -9.985      2.728  -3.661 0.000292 ***\n",
       "Population                 -6.483      2.872  -2.257 0.024639 *  \n",
       "Population.Density         -7.620      2.544  -2.995 0.002947 ** \n",
       "Swing                      -5.411      1.760  -3.075 0.002282 ** \n",
       "is.Safe                     4.333      2.149   2.016 0.044626 *  \n",
       "is.Marginal                 3.333      2.142   1.556 0.120688    \n",
       "---\n",
       "Signif. codes:  0 '***' 0.001 '**' 0.01 '*' 0.05 '.' 0.1 ' ' 1\n",
       "\n",
       "Residual standard error: 30.29 on 333 degrees of freedom\n",
       "Multiple R-squared:  0.09168,\tAdjusted R-squared:  0.07258 \n",
       "F-statistic: 4.801 on 7 and 333 DF,  p-value: 3.638e-05\n"
      ]
     },
     "metadata": {},
     "output_type": "display_data"
    }
   ],
   "source": [
    "# Fit the model with stepwise AIC selection\n",
    "fit_aic <- step(fit)\n",
    "summary(fit_aic)"
   ]
  },
  {
   "cell_type": "markdown",
   "metadata": {},
   "source": [
    "## BIC"
   ]
  },
  {
   "cell_type": "code",
   "execution_count": 27,
   "metadata": {
    "vscode": {
     "languageId": "r"
    }
   },
   "outputs": [
    {
     "name": "stdout",
     "output_type": "stream",
     "text": [
      "Start:  AIC=2395.19\n",
      "cleaned_scaled$X50th.Percentile ~ IRSAD.Decile + Gini.Coefficient + \n",
      "    Area..Km.2. + closest_capital_distance + Population + Population.Density + \n",
      "    +Population.Change.. + Indigenous.Population.. + Swing + \n",
      "    is.Safe + is.Marginal + Remained.Marginal\n",
      "\n",
      "                           Df Sum of Sq    RSS    AIC\n",
      "- Area..Km.2.               1       0.2 304796 2389.2\n",
      "- Population.Change..       1      12.4 304808 2389.2\n",
      "- Indigenous.Population..   1      62.4 304859 2389.3\n",
      "- IRSAD.Decile              1     157.5 304954 2389.4\n",
      "- Remained.Marginal         1     408.2 305204 2389.7\n",
      "- is.Marginal               1     977.6 305774 2390.3\n",
      "- Gini.Coefficient          1    2077.9 306874 2391.5\n",
      "- is.Safe                   1    3863.5 308660 2393.5\n",
      "- Population                1    4716.4 309512 2394.4\n",
      "<none>                                  304796 2395.2\n",
      "- closest_capital_distance  1    6560.6 311357 2396.5\n",
      "- Population.Density        1    7406.9 312203 2397.4\n",
      "- Swing                     1    7911.2 312707 2397.9\n",
      "\n",
      "Step:  AIC=2389.2\n",
      "cleaned_scaled$X50th.Percentile ~ IRSAD.Decile + Gini.Coefficient + \n",
      "    closest_capital_distance + Population + Population.Density + \n",
      "    Population.Change.. + Indigenous.Population.. + Swing + is.Safe + \n",
      "    is.Marginal + Remained.Marginal\n",
      "\n",
      "                           Df Sum of Sq    RSS    AIC\n",
      "- Population.Change..       1      12.3 304809 2383.2\n",
      "- Indigenous.Population..   1      65.7 304862 2383.3\n",
      "- IRSAD.Decile              1     157.7 304954 2383.4\n",
      "- Remained.Marginal         1     408.0 305204 2383.7\n",
      "- is.Marginal               1     979.0 305775 2384.3\n",
      "- Gini.Coefficient          1    2077.7 306874 2385.5\n",
      "- is.Safe                   1    3874.4 308671 2387.5\n",
      "- Population                1    4716.4 309513 2388.4\n",
      "<none>                                  304796 2389.2\n",
      "- Population.Density        1    7422.8 312219 2391.4\n",
      "- Swing                     1    7978.3 312775 2392.0\n",
      "- closest_capital_distance  1    9473.4 314270 2393.6\n",
      "+ Area..Km.2.               1       0.2 304796 2395.2\n",
      "\n",
      "Step:  AIC=2383.22\n",
      "cleaned_scaled$X50th.Percentile ~ IRSAD.Decile + Gini.Coefficient + \n",
      "    closest_capital_distance + Population + Population.Density + \n",
      "    Indigenous.Population.. + Swing + is.Safe + is.Marginal + \n",
      "    Remained.Marginal\n",
      "\n",
      "                           Df Sum of Sq    RSS    AIC\n",
      "- Indigenous.Population..   1      70.0 304879 2377.3\n",
      "- IRSAD.Decile              1     148.6 304957 2377.4\n",
      "- Remained.Marginal         1     408.9 305217 2377.7\n",
      "- is.Marginal               1     967.5 305776 2378.3\n",
      "- Gini.Coefficient          1    2148.0 306957 2379.6\n",
      "- is.Safe                   1    3866.7 308675 2381.5\n",
      "- Population                1    4816.3 309625 2382.6\n",
      "<none>                                  304809 2383.2\n",
      "- Population.Density        1    7765.9 312574 2385.8\n",
      "- Swing                     1    8052.6 312861 2386.1\n",
      "- closest_capital_distance  1    9519.0 314328 2387.7\n",
      "+ Population.Change..       1      12.3 304796 2389.2\n",
      "+ Area..Km.2.               1       0.1 304808 2389.2\n",
      "\n",
      "Step:  AIC=2377.3\n",
      "cleaned_scaled$X50th.Percentile ~ IRSAD.Decile + Gini.Coefficient + \n",
      "    closest_capital_distance + Population + Population.Density + \n",
      "    Swing + is.Safe + is.Marginal + Remained.Marginal\n",
      "\n",
      "                           Df Sum of Sq    RSS    AIC\n",
      "- IRSAD.Decile              1     115.9 304994 2371.4\n",
      "- Remained.Marginal         1     452.2 305331 2371.8\n",
      "- is.Marginal               1     952.6 305831 2372.4\n",
      "- Gini.Coefficient          1    2196.8 307075 2373.8\n",
      "- is.Safe                   1    3881.1 308760 2375.6\n",
      "- Population                1    4976.0 309855 2376.8\n",
      "<none>                                  304879 2377.3\n",
      "- Population.Density        1    7759.9 312638 2379.9\n",
      "- Swing                     1    8004.5 312883 2380.2\n",
      "+ Indigenous.Population..   1      70.0 304809 2383.2\n",
      "+ Population.Change..       1      16.6 304862 2383.3\n",
      "+ Area..Km.2.               1       4.5 304874 2383.3\n",
      "- closest_capital_distance  1   11517.4 316396 2383.9\n",
      "\n",
      "Step:  AIC=2371.44\n",
      "cleaned_scaled$X50th.Percentile ~ Gini.Coefficient + closest_capital_distance + \n",
      "    Population + Population.Density + Swing + is.Safe + is.Marginal + \n",
      "    Remained.Marginal\n",
      "\n",
      "                           Df Sum of Sq    RSS    AIC\n",
      "- Remained.Marginal         1     474.4 305469 2366.0\n",
      "- is.Marginal               1     916.0 305910 2366.5\n",
      "- Gini.Coefficient          1    2088.9 307083 2367.8\n",
      "- is.Safe                   1    3765.3 308760 2369.6\n",
      "- Population                1    4867.6 309862 2370.8\n",
      "<none>                                  304994 2371.4\n",
      "- Population.Density        1    8238.8 313233 2374.5\n",
      "- Swing                     1    8937.7 313932 2375.3\n",
      "+ IRSAD.Decile              1     115.9 304879 2377.3\n",
      "+ Indigenous.Population..   1      37.3 304957 2377.4\n",
      "+ Population.Change..       1       5.6 304989 2377.4\n",
      "+ Area..Km.2.               1       5.4 304989 2377.4\n",
      "- closest_capital_distance  1   11845.4 316840 2378.4\n",
      "\n",
      "Step:  AIC=2365.97\n",
      "cleaned_scaled$X50th.Percentile ~ Gini.Coefficient + closest_capital_distance + \n",
      "    Population + Population.Density + Swing + is.Safe + is.Marginal\n",
      "\n",
      "                           Df Sum of Sq    RSS    AIC\n",
      "- is.Marginal               1    2220.6 307690 2362.4\n",
      "- Gini.Coefficient          1    2355.4 307824 2362.6\n",
      "- is.Safe                   1    3727.4 309196 2364.1\n",
      "- Population                1    4674.0 310143 2365.2\n",
      "<none>                                  305469 2366.0\n",
      "- Population.Density        1    8230.3 313699 2369.1\n",
      "- Swing                     1    8671.9 314141 2369.5\n",
      "+ Remained.Marginal         1     474.4 304994 2371.4\n",
      "+ IRSAD.Decile              1     138.1 305331 2371.8\n",
      "+ Indigenous.Population..   1      67.7 305401 2371.9\n",
      "+ Area..Km.2.               1      11.2 305458 2372.0\n",
      "+ Population.Change..       1       6.2 305463 2372.0\n",
      "- closest_capital_distance  1   12292.6 317761 2373.4\n",
      "\n",
      "Step:  AIC=2362.45\n",
      "cleaned_scaled$X50th.Percentile ~ Gini.Coefficient + closest_capital_distance + \n",
      "    Population + Population.Density + Swing + is.Safe\n",
      "\n",
      "                           Df Sum of Sq    RSS    AIC\n",
      "- is.Safe                   1    1668.9 309358 2358.3\n",
      "- Gini.Coefficient          1    1923.7 309613 2358.6\n",
      "- Population                1    4958.9 312648 2361.9\n",
      "<none>                                  307690 2362.4\n",
      "- Population.Density        1    7647.1 315337 2364.8\n",
      "- Swing                     1    8551.3 316241 2365.8\n",
      "+ is.Marginal               1    2220.6 305469 2366.0\n",
      "+ Remained.Marginal         1    1779.0 305910 2366.5\n",
      "+ Indigenous.Population..   1      98.0 307592 2368.3\n",
      "+ IRSAD.Decile              1      93.3 307596 2368.3\n",
      "+ Population.Change..       1      20.1 307669 2368.4\n",
      "+ Area..Km.2.               1       5.6 307684 2368.4\n",
      "- closest_capital_distance  1   12814.3 320504 2370.4\n",
      "\n",
      "Step:  AIC=2358.3\n",
      "cleaned_scaled$X50th.Percentile ~ Gini.Coefficient + closest_capital_distance + \n",
      "    Population + Population.Density + Swing\n",
      "\n",
      "                           Df Sum of Sq    RSS    AIC\n",
      "- Gini.Coefficient          1    1506.7 310865 2354.0\n",
      "- Population                1    5229.7 314588 2358.0\n",
      "<none>                                  309358 2358.3\n",
      "- Swing                     1    7430.8 316789 2360.4\n",
      "- Population.Density        1    7806.4 317165 2360.8\n",
      "+ is.Safe                   1    1668.9 307690 2362.4\n",
      "+ Remained.Marginal         1     594.9 308763 2363.6\n",
      "+ is.Marginal               1     162.1 309196 2364.1\n",
      "+ Indigenous.Population..   1     123.9 309235 2364.2\n",
      "+ Population.Change..       1       9.5 309349 2364.3\n",
      "+ IRSAD.Decile              1       4.0 309354 2364.3\n",
      "+ Area..Km.2.               1       0.2 309358 2364.3\n",
      "- closest_capital_distance  1   12008.0 321366 2365.3\n",
      "\n",
      "Step:  AIC=2353.96\n",
      "cleaned_scaled$X50th.Percentile ~ closest_capital_distance + \n",
      "    Population + Population.Density + Swing\n",
      "\n",
      "                           Df Sum of Sq    RSS    AIC\n",
      "- Population                1    3868.7 314734 2352.2\n",
      "<none>                                  310865 2354.0\n",
      "- Swing                     1    6899.2 317764 2355.5\n",
      "+ Gini.Coefficient          1    1506.7 309358 2358.3\n",
      "+ is.Safe                   1    1251.9 309613 2358.6\n",
      "- Population.Density        1   10179.7 321045 2359.0\n",
      "+ Remained.Marginal         1     781.5 310084 2359.1\n",
      "+ Indigenous.Population..   1     215.3 310650 2359.7\n",
      "+ is.Marginal               1     158.6 310706 2359.8\n",
      "+ Population.Change..       1     145.1 310720 2359.8\n",
      "+ IRSAD.Decile              1      11.2 310854 2359.9\n",
      "+ Area..Km.2.               1       1.6 310863 2360.0\n",
      "- closest_capital_distance  1   11658.3 322523 2360.5\n",
      "\n",
      "Step:  AIC=2352.19\n",
      "cleaned_scaled$X50th.Percentile ~ closest_capital_distance + \n",
      "    Population.Density + Swing\n",
      "\n",
      "                           Df Sum of Sq    RSS    AIC\n",
      "<none>                                  314734 2352.2\n",
      "+ Population                1    3868.7 310865 2354.0\n",
      "- Swing                     1    7519.1 322253 2354.2\n",
      "+ is.Safe                   1    1725.7 313008 2356.3\n",
      "- closest_capital_distance  1    9544.2 324278 2356.4\n",
      "+ Remained.Marginal         1     469.0 314265 2357.7\n",
      "+ Indigenous.Population..   1     438.0 314296 2357.7\n",
      "+ IRSAD.Decile              1     176.7 314557 2358.0\n",
      "+ is.Marginal               1     172.3 314561 2358.0\n",
      "+ Gini.Coefficient          1     145.7 314588 2358.0\n",
      "+ Population.Change..       1       7.2 314727 2358.2\n",
      "+ Area..Km.2.               1       4.8 314729 2358.2\n",
      "- Population.Density        1   15308.6 330042 2362.4\n"
     ]
    },
    {
     "data": {
      "text/plain": [
       "\n",
       "Call:\n",
       "lm(formula = cleaned_scaled$X50th.Percentile ~ closest_capital_distance + \n",
       "    Population.Density + Swing, data = cleaned_scaled)\n",
       "\n",
       "Residuals:\n",
       "     Min       1Q   Median       3Q      Max \n",
       "-126.359  -15.776    0.225   17.796  115.415 \n",
       "\n",
       "Coefficients:\n",
       "                         Estimate Std. Error t value Pr(>|t|)    \n",
       "(Intercept)               310.880      1.751 177.586  < 2e-16 ***\n",
       "closest_capital_distance   -8.565      2.679  -3.197  0.00152 ** \n",
       "Population.Density         -9.631      2.379  -4.049  6.4e-05 ***\n",
       "Swing                      -4.915      1.732  -2.837  0.00482 ** \n",
       "---\n",
       "Signif. codes:  0 '***' 0.001 '**' 0.01 '*' 0.05 '.' 0.1 ' ' 1\n",
       "\n",
       "Residual standard error: 30.56 on 337 degrees of freedom\n",
       "Multiple R-squared:  0.06413,\tAdjusted R-squared:  0.0558 \n",
       "F-statistic: 7.697 on 3 and 337 DF,  p-value: 5.467e-05\n"
      ]
     },
     "metadata": {},
     "output_type": "display_data"
    }
   ],
   "source": [
    "fit_bic <- step(fit, direction = \"both\", k = log(nrow(cleaned_data)))\n",
    "summary(fit_bic)"
   ]
  },
  {
   "cell_type": "markdown",
   "metadata": {},
   "source": [
    "## Ridge Regression"
   ]
  },
  {
   "cell_type": "code",
   "execution_count": 28,
   "metadata": {
    "vscode": {
     "languageId": "r"
    }
   },
   "outputs": [
    {
     "name": "stdout",
     "output_type": "stream",
     "text": [
      "[1] 23.92678\n"
     ]
    },
    {
     "data": {
      "text/plain": [
       "\n",
       "Call:\n",
       "glm(formula = formula, data = urban_scaled)\n",
       "\n",
       "Coefficients:\n",
       "                         Estimate Std. Error t value Pr(>|t|)    \n",
       "(Intercept)              180.2364     1.8004 100.109   <2e-16 ***\n",
       "IRSAD.Decile              -2.4959     3.0490  -0.819   0.4141    \n",
       "Median.Income             -1.6370     2.9184  -0.561   0.5755    \n",
       "Gini.Coefficient          -0.1105     2.7745  -0.040   0.9683    \n",
       "Area..Km.2.                4.7974     2.9550   1.623   0.1062    \n",
       "closest_capital_distance   1.0596     3.0474   0.348   0.7285    \n",
       "Population                -4.1545     3.0096  -1.380   0.1691    \n",
       "Population.Density        -3.5383     3.1436  -1.126   0.2618    \n",
       "Population.Change..       -0.9782     2.0464  -0.478   0.6332    \n",
       "Indigenous.Population..   -2.1812     2.8736  -0.759   0.4488    \n",
       "Swing                     -0.5635     2.0991  -0.268   0.7886    \n",
       "is.Safe                    3.5435     2.2678   1.562   0.1199    \n",
       "is.Marginal                4.7398     2.8079   1.688   0.0931 .  \n",
       "Remained.Marginal          2.2946     2.4119   0.951   0.3427    \n",
       "---\n",
       "Signif. codes:  0 '***' 0.001 '**' 0.01 '*' 0.05 '.' 0.1 ' ' 1\n",
       "\n",
       "(Dispersion parameter for gaussian family taken to be 579.9021)\n",
       "\n",
       "    Null deviance: 127722  on 197  degrees of freedom\n",
       "Residual deviance: 106702  on 184  degrees of freedom\n",
       "AIC: 1837.2\n",
       "\n",
       "Number of Fisher Scoring iterations: 2\n"
      ]
     },
     "metadata": {},
     "output_type": "display_data"
    },
    {
     "data": {
      "image/png": "[encoded data removed]",
      "text/plain": [
       "plot without title"
      ]
     },
     "metadata": {
      "image/png": {
       "height": 420,
       "width": 420
      }
     },
     "output_type": "display_data"
    },
    {
     "data": {
      "image/png": "[encoded data removed]",
      "text/plain": [
       "Plot with title \"Prediction performance of Ridge model\""
      ]
     },
     "metadata": {
      "image/png": {
       "height": 360,
       "width": 600
      }
     },
     "output_type": "display_data"
    },
    {
     "data": {
      "image/png": "[encoded data removed]",
      "text/plain": [
       "Plot with title \"Residuals vs Predicted\""
      ]
     },
     "metadata": {
      "image/png": {
       "height": 360,
       "width": 600
      }
     },
     "output_type": "display_data"
    }
   ],
   "source": [
    "cv_alpha <- function(x, y, nfolds = 5) {\n",
    "  alphas <- seq(0, 1, by = 0.1)\n",
    "  cv_errors <- numeric(length(alphas))\n",
    "  \n",
    "  for (i in seq_along(alphas)) {\n",
    "    fit <- cv.glmnet(x, y, alpha = alphas[i], nfolds = nfolds)\n",
    "    cv_errors[i] <- min(fit$cvm)\n",
    "  }\n",
    "  \n",
    "  best_alpha <- alphas[which.min(cv_errors)]\n",
    "  return(best_alpha)}\n",
    "\n",
    "x <- model.matrix(urban_scaled$X5th.Percentile ~ IRSAD.Decile +\n",
    "            Median.Income + Gini.Coefficient + Area..Km.2. +\n",
    "            closest_capital_distance + Population + Population.Density +\n",
    "            Population.Change.. + Indigenous.Population.. +\n",
    "            Swing +\n",
    "            # Seat.Change +\n",
    "            is.Safe + is.Marginal +\n",
    "            Remained.Marginal, data = urban_scaled)\n",
    "\n",
    "y <- urban_scaled$X5th.Percentile\n",
    "\n",
    "# Fit Lasso regression model (alpha = 1 for Lasso)\n",
    "cv_model_best <- cv.glmnet(x, y, alpha = 0)\n",
    "\n",
    "# Plot the cross-validation curve\n",
    "par(bg= \"white\")\n",
    "plot(cv_model_best)\n",
    "\n",
    "# Get the best lambda\n",
    "best_lambda <- cv_model_best$lambda.min\n",
    "print(best_lambda)\n",
    "\n",
    "# Fit the final model with the best alpha and lambda\n",
    "final_model_best <- glmnet(x, y, alpha = 0, lambda = best_lambda)\n",
    "selected_vars <- rownames(coef(final_model_best))[-1][coef(final_model_best)[-1, 1] != 0]\n",
    "\n",
    "# Create a formula for the selected variables\n",
    "formula <- as.formula(paste(\"X5th.Percentile ~\", paste(selected_vars, collapse = \" + \")))\n",
    "ridge_model <- glm(formula, data = urban_scaled)\n",
    "summary(ridge_model)\n",
    "options(repr.plot.width = 10, repr.plot.height = 6)\n",
    "plot(predict(ridge_model, urban_scaled), urban_scaled$X5th.Percentile, \n",
    "            main=\"Prediction performance of Ridge model\", \n",
    "            ylab= \"Recorded\", xlab=\"Predicted\")\n",
    "plot(ridge_model$fitted.values, resid(ridge_model), \n",
    "     main = \"Residuals vs Predicted\", \n",
    "     xlab = \"Predicted\", \n",
    "     ylab = \"Residuals\")\n",
    "abline(h = 0, col = \"red\")"
   ]
  },
  {
   "cell_type": "code",
   "execution_count": 29,
   "metadata": {
    "vscode": {
     "languageId": "r"
    }
   },
   "outputs": [
    {
     "name": "stderr",
     "output_type": "stream",
     "text": [
      "\u001b[1m\u001b[22m`geom_smooth()` using formula = 'y ~ x'\n"
     ]
    },
    {
     "data": {
      "image/png": "[encoded data removed]",
      "text/plain": [
       "plot without title"
      ]
     },
     "metadata": {
      "image/png": {
       "height": 360,
       "width": 600
      }
     },
     "output_type": "display_data"
    },
    {
     "data": {
      "image/png": "[encoded data removed]",
      "text/plain": [
       "plot without title"
      ]
     },
     "metadata": {
      "image/png": {
       "height": 360,
       "width": 600
      }
     },
     "output_type": "display_data"
    }
   ],
   "source": [
    "# Define predictors (excluding unwanted variables)\n",
    "predictors <- c(\"IRSAD.Decile\", \"Median.Income\", \"Gini.Coefficient\", \"Area..Km.2.\", \n",
    "                \"closest_capital_distance\", \"Population\", \"Population.Density\", \n",
    "                \"Population.Change..\", \"Indigenous.Population..\", \"Swing\", \n",
    "                \"is.Safe\", \"is.Marginal\", \"Remained.Marginal\")\n",
    "\n",
    "# Prepare the model matrix and response variable\n",
    "x <- model.matrix(X50th.Percentile ~ ., data = cleaned_scaled[, c(predictors, \"X50th.Percentile\")])\n",
    "y <- cleaned_scaled$X50th.Percentile\n",
    "\n",
    "# Fit the ridge regression model (alpha = 0)\n",
    "ridge_model <- cv.glmnet(x, y, alpha = 0)\n",
    "\n",
    "# Scatter Plot of Closest Capital Distance vs. 50th Percentile Latency\n",
    "ggplot(cleaned_scaled, aes(x = closest_capital_distance, y = X50th.Percentile)) +\n",
    "  geom_point() +\n",
    "  geom_smooth(method = \"lm\", se = FALSE, color = \"blue\") +\n",
    "  labs(title = \"Scatter Plot of Closest Capital Distance vs. 50th Percentile Latency\",\n",
    "       x = \"Closest Capital Distance\",\n",
    "       y = \"50th Percentile Latency\") +\n",
    "  theme_minimal()\n",
    "\n",
    "# Obtain predictions from the ridge model\n",
    "predicted_values <- predict(ridge_model, newx = x, s = \"lambda.min\")\n",
    "\n",
    "# Calculate residuals\n",
    "residuals <- cleaned_scaled$X50th.Percentile - as.vector(predicted_values)\n",
    "\n",
    "# Plot Residuals vs Predicted\n",
    "ggplot(data.frame(Predicted = as.vector(predicted_values), Residuals = residuals), \n",
    "       aes(x = Predicted, y = Residuals)) +\n",
    "  geom_point() +\n",
    "  geom_hline(yintercept = 0, linetype = \"dashed\", color = \"red\") +\n",
    "  labs(title = \"Residuals vs Predicted\",\n",
    "       x = \"Predicted Values\",\n",
    "       y = \"Residuals\") +\n",
    "  theme_minimal()\n"
   ]
  },
  {
   "cell_type": "markdown",
   "metadata": {
    "vscode": {
     "languageId": "r"
    }
   },
   "source": [
    "## Lasso Regression"
   ]
  },
  {
   "cell_type": "code",
   "execution_count": 51,
   "metadata": {
    "vscode": {
     "languageId": "r"
    }
   },
   "outputs": [
    {
     "name": "stdout",
     "output_type": "stream",
     "text": [
      "[1] 1.104631\n"
     ]
    },
    {
     "data": {
      "image/png": "[encoded data removed]",
      "text/plain": [
       "plot without title"
      ]
     },
     "metadata": {
      "image/png": {
       "height": 360,
       "width": 600
      }
     },
     "output_type": "display_data"
    },
    {
     "data": {
      "image/png": "[encoded data removed]",
      "text/plain": [
       "plot without title"
      ]
     },
     "metadata": {
      "image/png": {
       "height": 360,
       "width": 600
      }
     },
     "output_type": "display_data"
    }
   ],
   "source": [
    "# Classify the data into urban and rural\n",
    "cleaned_scaled$Remoteness <- ifelse(cleaned_scaled$Major.City == 1 | cleaned_scaled$Inner.Regional == 1, \"Urban\", \"Rural\")\n",
    "\n",
    "cv_alpha <- function(x, y, nfolds = 5) {\n",
    "  alphas <- seq(0, 1, by = 0.1)\n",
    "  cv_errors <- numeric(length(alphas))\n",
    "  \n",
    "  for (i in seq_along(alphas)) {\n",
    "    fit <- cv.glmnet(x, y, alpha = alphas[i], nfolds = nfolds)\n",
    "    cv_errors[i] <- min(fit$cvm)\n",
    "  }\n",
    "  \n",
    "  best_alpha <- alphas[which.min(cv_errors)]\n",
    "  return(best_alpha)}\n",
    "\n",
    "x <- model.matrix(cleaned_scaled$X5th.Percentile ~ IRSAD.Decile +\n",
    "            Median.Income + Gini.Coefficient + Area..Km.2. +\n",
    "            closest_capital_distance + Population + Population.Density +\n",
    "            Population.Change.. + Indigenous.Population.. +\n",
    "            Swing +\n",
    "            # Seat.Change +\n",
    "            is.Safe + is.Marginal +\n",
    "            Remained.Marginal, data = cleaned_scaled)\n",
    "\n",
    "y <- cleaned_scaled$X5th.Percentile\n",
    "\n",
    "# Fit Lasso regression model (alpha = 1 for Lasso)\n",
    "cv_model_best <- cv.glmnet(x, y, alpha = 1)\n",
    "\n",
    "# Plot the cross-validation curve\n",
    "par(bg= \"white\")\n",
    "#plot(cv_model_best)\n",
    "\n",
    "# Get the best lambda\n",
    "best_lambda <- cv_model_best$lambda.min\n",
    "print(best_lambda)\n",
    "\n",
    "# Fit the final model with the best alpha and lambda\n",
    "final_model_best <- glmnet(x, y, alpha = 1, lambda = best_lambda)\n",
    "selected_vars <- rownames(coef(final_model_best))[-1][coef(final_model_best)[-1, 1] != 0]\n",
    "if (length(selected_vars) == 0) {print('No variables selected')}\n",
    "\n",
    "# Create a formula for the selected variables\n",
    "formula <- as.formula(paste(\"X5th.Percentile ~\", paste(selected_vars, collapse = \" + \")))\n",
    "lasso_model <- glm(formula, data = cleaned_scaled)\n",
    "#summary(lasso_model)\n",
    "\n",
    "# Set up the plot for prediction performance\n",
    "options(repr.plot.width = 10, repr.plot.height = 6)  # Adjust size to be smaller\n",
    "ggplot(cleaned_scaled, aes(x = predict(lasso_model, cleaned_scaled), y = X5th.Percentile, color = Remoteness)) +\n",
    "  geom_point() +\n",
    "  geom_abline(intercept = 0, slope = 1, linetype = \"dashed\", color = \"black\") +  # Add the y = x line\n",
    "  labs(title = \"Prediction Performance of Lasso Model of 5th Percentile Latency\", \n",
    "       y = \"Recorded Latency [ms]\", x = \"Predicted Latency [ms]\") +\n",
    "  scale_color_manual(values = c(\"Urban\" = \"#007BFF\", \"Rural\" = \"red\")) +\n",
    "  scale_x_continuous(limits = c(155, 220)) +\n",
    "  scale_y_continuous(limits = c(110, 290)) +\n",
    "  theme_minimal() +\n",
    "  theme(\n",
    "    plot.title = element_text(hjust = 0.5, size = 20, face = \"bold\"),  # Center and bold title\n",
    "    axis.title.x = element_text(size = 18, face = \"bold\", margin = margin(t = 10)),  # Bold x-axis title\n",
    "    axis.title.y = element_text(size = 18, face = \"bold\", margin = margin(r = 20)),  # Bold y-axis title\n",
    "    legend.title = element_text(size = 18, face = \"bold\"),  # Bold legend title\n",
    "    legend.text = element_text(size = 16),  # Larger legend text\n",
    "    axis.text = element_text(size = 16),  # Larger axis text\n",
    "    legend.position = c(1.0, 0.0),  # Position the legend in the upper right corner\n",
    "    legend.justification = c(\"right\", \"bottom\")  # Justify the legend to the right and top\n",
    "  )\n",
    "\n",
    "# Residuals vs Predicted plot\n",
    "options(repr.plot.width = 10, repr.plot.height = 6)  # Adjust size to be smaller\n",
    "ggplot(data.frame(Predicted = predict(lasso_model, cleaned_scaled), Residuals = resid(lasso_model), Remoteness = cleaned_scaled$Remoteness), \n",
    "       aes(x = Predicted, y = Residuals, color = Remoteness)) +\n",
    "  geom_point() +\n",
    "  geom_hline(yintercept = 0, linetype = \"dashed\", color = \"black\") +\n",
    "  labs(title = \"Residuals Plot of 5th Percentile Latency\", \n",
    "       x = \"Predicted Latency [ms]\", \n",
    "       y = \"Residuals\") +\n",
    "  scale_x_continuous(limits = c(155, 220)) +\n",
    "  scale_color_manual(values = c(\"Urban\" = \"#007BFF\", \"Rural\" = \"red\")) +\n",
    "  theme_minimal() +\n",
    "  theme(\n",
    "    plot.title = element_text(hjust = 0.5, size = 20, face = \"bold\"),  # Center and bold title\n",
    "    axis.title.x = element_text(size = 18, face = \"bold\", margin = margin(t = 10)),  # Bold x-axis title\n",
    "    axis.title.y = element_text(size = 18, face = \"bold\"),  # Bold y-axis title\n",
    "    legend.title = element_text(size = 18, face = \"bold\"),  # Bold legend title\n",
    "    legend.text = element_text(size = 16),  # Larger legend text\n",
    "    axis.text = element_text(size = 16),  # Larger axis text\n",
    "    legend.position = c(1.0, 0.0),  # Position the legend in the upper right corner\n",
    "    legend.justification = c(\"right\", \"bottom\")  # Justify the legend to the right and top\n",
    "  )\n"
   ]
  },
  {
   "cell_type": "code",
   "execution_count": 97,
   "metadata": {
    "vscode": {
     "languageId": "r"
    }
   },
   "outputs": [
    {
     "data": {
      "text/plain": [
       "   Min. 1st Qu.  Median    Mean 3rd Qu.    Max. \n",
       "  116.2   167.8   181.5   187.6   206.2   288.1 "
      ]
     },
     "metadata": {},
     "output_type": "display_data"
    }
   ],
   "source": [
    "summary(cleaned_scaled$X5th.Percentile)"
   ]
  },
  {
   "cell_type": "markdown",
   "metadata": {},
   "source": [
    "## Elastic Net Regression"
   ]
  },
  {
   "cell_type": "code",
   "execution_count": 20,
   "metadata": {
    "vscode": {
     "languageId": "r"
    }
   },
   "outputs": [
    {
     "name": "stdout",
     "output_type": "stream",
     "text": [
      "Best alpha: 0.4 \n",
      "[1] 0.05186234\n"
     ]
    },
    {
     "data": {
      "text/plain": [
       "           Length Class  Mode     \n",
       "lambda     100    -none- numeric  \n",
       "cvm        100    -none- numeric  \n",
       "cvsd       100    -none- numeric  \n",
       "cvup       100    -none- numeric  \n",
       "cvlo       100    -none- numeric  \n",
       "nzero      100    -none- numeric  \n",
       "call         4    -none- call     \n",
       "name         1    -none- character\n",
       "glmnet.fit  12    elnet  list     \n",
       "lambda.min   1    -none- numeric  \n",
       "lambda.1se   1    -none- numeric  \n",
       "index        2    -none- numeric  "
      ]
     },
     "metadata": {},
     "output_type": "display_data"
    },
    {
     "data": {
      "image/png": "[encoded data removed]",
      "text/plain": [
       "plot without title"
      ]
     },
     "metadata": {
      "image/png": {
       "height": 360,
       "width": 600
      }
     },
     "output_type": "display_data"
    },
    {
     "data": {
      "image/png": "[encoded data removed]",
      "text/plain": [
       "Plot with title \"Prediction performance of Ridge model\""
      ]
     },
     "metadata": {
      "image/png": {
       "height": 360,
       "width": 600
      }
     },
     "output_type": "display_data"
    },
    {
     "data": {
      "image/png": "[encoded data removed]",
      "text/plain": [
       "Plot with title \"Residuals vs Predicted\""
      ]
     },
     "metadata": {
      "image/png": {
       "height": 360,
       "width": 600
      }
     },
     "output_type": "display_data"
    }
   ],
   "source": [
    "cv_alpha <- function(x, y, nfolds = 5) {\n",
    "  alphas <- seq(0, 1, by = 0.1)\n",
    "  cv_errors <- numeric(length(alphas))\n",
    "  \n",
    "  for (i in seq_along(alphas)) {\n",
    "    fit <- cv.glmnet(x, y, alpha = alphas[i], nfolds = nfolds)\n",
    "    cv_errors[i] <- min(fit$cvm)\n",
    "  }\n",
    "  \n",
    "  best_alpha <- alphas[which.min(cv_errors)]\n",
    "  return(best_alpha)}\n",
    "\n",
    "x <- model.matrix(rural_scaled$X95th.5th.Ratio ~ IRSAD.Decile +\n",
    "            Median.Income + Gini.Coefficient + Area..Km.2. +\n",
    "            closest_capital_distance + Population + Population.Density +\n",
    "            Population.Change.. + Indigenous.Population.. +\n",
    "            Swing +\n",
    "            # Seat.Change +\n",
    "            is.Safe + is.Marginal +\n",
    "            Remained.Marginal, data = rural_scaled)\n",
    "\n",
    "y <- rural_scaled$X95th.5th.Ratio\n",
    "\n",
    "# Find the best alpha\n",
    "best_alpha <- cv_alpha(x, y)\n",
    "cat(\"Best alpha:\", best_alpha, \"\\n\")\n",
    "\n",
    "# Fit Lasso regression model (alpha = 1 for Lasso)\n",
    "cv_model_best <- cv.glmnet(x, y, alpha = best_alpha)\n",
    "\n",
    "# Plot the cross-validation curve\n",
    "par(bg= \"white\")\n",
    "plot(cv_model_best)\n",
    "\n",
    "# Get the best lambda\n",
    "best_lambda <- cv_model_best$lambda.min\n",
    "print(best_lambda)\n",
    "\n",
    "# Fit the final model with the best alpha and lambda\n",
    "final_model_best <- glmnet(x, y, alpha = best_alpha, lambda = best_lambda)\n",
    "selected_vars <- rownames(coef(final_model_best))[-1][coef(final_model_best)[-1, 1] != 0]\n",
    "if (length(selected_vars) == 0) {print('No variables selected')}\n",
    "\n",
    "# Create a formula for the selected variables\n",
    "formula <- as.formula(paste(\"X95th.5th.Ratio ~\", paste(selected_vars, collapse = \" + \")))\n",
    "elastic_model <- glm(formula, data = rural_scaled)\n",
    "summary(ridge_model)\n",
    "options(repr.plot.width = 10, repr.plot.height = 6)\n",
    "plot(predict(elastic_model, rural_scaled), rural_scaled$X95th.5th.Ratio, \n",
    "            main=\"Prediction performance of Ridge model\", \n",
    "            ylab= \"Recorded\", xlab=\"Predicted\")\n",
    "plot(elastic_model$fitted.values, resid(elastic_model), \n",
    "     main = \"Residuals vs Predicted\", \n",
    "     xlab = \"Predicted\", \n",
    "     ylab = \"Residuals\")\n",
    "abline(h = 0, col = \"red\")"
   ]
  },
  {
   "cell_type": "markdown",
   "metadata": {},
   "source": [
    "## Visualise Individual Variable"
   ]
  },
  {
   "cell_type": "code",
   "execution_count": 26,
   "metadata": {
    "vscode": {
     "languageId": "r"
    }
   },
   "outputs": [
    {
     "name": "stdout",
     "output_type": "stream",
     "text": [
      "[1] \"Pearson Correlation Coefficient: -0.0744549803052362\"\n",
      "\n",
      "\tSpearman's rank correlation rho\n",
      "\n",
      "data:  independent_var and target_var\n",
      "S = 517610, p-value = 0.4608\n",
      "alternative hypothesis: true rho is not equal to 0\n",
      "sample estimates:\n",
      "        rho \n",
      "-0.06210398 \n",
      "\n"
     ]
    },
    {
     "data": {
      "image/png": "[encoded data removed]",
      "text/plain": [
       "plot without title"
      ]
     },
     "metadata": {
      "image/png": {
       "height": 360,
       "width": 600
      }
     },
     "output_type": "display_data"
    }
   ],
   "source": [
    "data = rural_scaled\n",
    "x = data$Median.Income\n",
    "y = data$X95th.Percentile\n",
    "independent_var <- x\n",
    "target_var <- y\n",
    "\n",
    "# Correlation Analysis\n",
    "correlation_result <- cor(independent_var, target_var)\n",
    "print(paste(\"Pearson Correlation Coefficient:\", correlation_result))\n",
    "\n",
    "# Non-Parametric Test: Spearman's Rank Correlation\n",
    "spearman_result <- cor.test(independent_var, target_var, method = \"spearman\")\n",
    "print(spearman_result)\n",
    "\n",
    "ggplot(data, aes(x = x, y = y)) +\n",
    "  geom_point(color = \"blue\") +\n",
    "  labs(title = \"Independent Variable vs Target Outcome\", x = \"Scaled Independent\", y = \"Target Percentile [ms]\") +\n",
    "  theme_minimal()\n"
   ]
  },
  {
   "cell_type": "markdown",
   "metadata": {},
   "source": [
    "### perform and plot the predictions"
   ]
  },
  {
   "cell_type": "code",
   "execution_count": 22,
   "metadata": {
    "vscode": {
     "languageId": "r"
    }
   },
   "outputs": [
    {
     "data": {
      "text/html": [
       "22912.4560484787"
      ],
      "text/latex": [
       "22912.4560484787"
      ],
      "text/markdown": [
       "22912.4560484787"
      ],
      "text/plain": [
       "[1] 22912.46"
      ]
     },
     "metadata": {},
     "output_type": "display_data"
    },
    {
     "data": {
      "image/png": "[encoded data removed]",
      "text/plain": [
       "plot without title"
      ]
     },
     "metadata": {
      "image/png": {
       "height": 360,
       "width": 600
      }
     },
     "output_type": "display_data"
    }
   ],
   "source": [
    "par(bg = \"white\")\n",
    "predictions <- predict(fit, cleaned_scaled)\n",
    "plot(predict(fit, cleaned_scaled), cleaned_scaled$X95th.Percentile)\n",
    "#calculate mean squared error\n",
    "mean((predictions - cleaned_scaled$X95th.Percentile)^2)"
   ]
  },
  {
   "cell_type": "markdown",
   "metadata": {},
   "source": [
    "## Unscaling the Coefficients"
   ]
  },
  {
   "cell_type": "code",
   "execution_count": 23,
   "metadata": {
    "vscode": {
     "languageId": "r"
    }
   },
   "outputs": [
    {
     "name": "stdout",
     "output_type": "stream",
     "text": [
      "            Variable     Impact\n",
      "1        Area..Km.2. -29.807914\n",
      "2         Population -20.998319\n",
      "3 Population.Density -22.488057\n",
      "4            is.Safe   8.523593\n"
     ]
    }
   ],
   "source": [
    "calculate_impacts <- function(data, variables, coefficients) {\n",
    "  # Initialize a vector to store the impacts\n",
    "  impacts <- numeric(length(variables))\n",
    "  \n",
    "  # Loop through each variable and calculate the impact\n",
    "  for (i in seq_along(variables)) {\n",
    "    column <- data[[variables[i]]]\n",
    "    coef <- coefficients[i]\n",
    "    impacts[i] <- coef * (max(column, na.rm = TRUE) - min(column, na.rm = TRUE))\n",
    "  }\n",
    "  \n",
    "  # Create a data frame to return results\n",
    "  results <- data.frame(Variable = variables, Impact = impacts)\n",
    "  return(results)\n",
    "}\n",
    "\n",
    "# Example usage\n",
    "variables <- c(\"Area..Km.2.\", \"Population\", \"Population.Density\", \"is.Safe\")  # Replace with your variable names\n",
    "coefficients <- c(-12.743659, -6.044372, -6.708125, 4.232469)  # Replace with your corresponding coefficients\n",
    "\n",
    "impact_results <- calculate_impacts(cleaned_scaled, variables, coefficients)\n",
    "print(impact_results)\n"
   ]
  },
  {
   "cell_type": "code",
   "execution_count": 24,
   "metadata": {
    "vscode": {
     "languageId": "r"
    }
   },
   "outputs": [
    {
     "name": "stdout",
     "output_type": "stream",
     "text": [
      "            Variable Standardized_Impact\n",
      "1         Population          -10.448669\n",
      "2 Population.Density           -9.294007\n",
      "3              Swing           -4.792287\n",
      "4            is.Safe            4.470493\n"
     ]
    }
   ],
   "source": [
    "cleaned_unscaled <- cleaned_data[rows_to_keep, ]\n",
    "urban_unscaled <- urban_data[rows_to_keep_urban, ]\n",
    "rural_unscaled <- rural_data[rows_to_keep_rural, ]\n",
    "\n",
    "# Keep only rows where X5th.Percentile is less than 500\n",
    "cleaned_unscaled <- cleaned_scaled[cleaned_scaled$X5th.Percentile < 300, ]\n",
    "urban_unscaled <- urban_scaled[urban_scaled$X5th.Percentile < 300, ]\n",
    "rural_unscaled <- rural_scaled[rural_scaled$X5th.Percentile < 300, ]\n",
    "\n",
    "# Keep only rows where X50.Percentile is less than 500\n",
    "cleaned_unscaled <- cleaned_scaled[cleaned_scaled$X50th.Percentile < 500, ]\n",
    "urban_unscaled <- urban_scaled[urban_scaled$X50th.Percentile < 500, ]\n",
    "rural_unscaled <- rural_scaled[rural_scaled$X50th.Percentile < 500, ]\n",
    "\n",
    "# Keep only rows where X95.Percentile is less than 750\n",
    "cleaned_unscaled <- cleaned_scaled[cleaned_scaled$X95th.Percentile < 750, ]\n",
    "urban_unscaled <- urban_scaled[urban_scaled$X95th.Percentile < 750, ]\n",
    "rural_unscaled <- rural_scaled[rural_scaled$X95th.Percentile < 750, ]\n",
    "\n",
    "calculate_standardized_impacts <- function(data, std_data, variables, coefficients) {\n",
    "  # Initialize a vector to store the impacts\n",
    "  impacts <- numeric(length(variables))\n",
    "  \n",
    "  # Loop through each variable and calculate the impact\n",
    "  for (i in seq_along(variables)) {\n",
    "    column <- data[[variables[i]]]\n",
    "    std_dev <- sd(std_data[[variables[i]]], na.rm = TRUE)  # Standard deviation from the new dataframe\n",
    "    coef <- coefficients[i]\n",
    "    \n",
    "    # Calculate the standardized impact\n",
    "    impacts[i] <- coef / std_dev\n",
    "  }\n",
    "  \n",
    "  # Create a data frame to return results\n",
    "  results <- data.frame(Variable = variables, Standardized_Impact = impacts)\n",
    "  return(results)\n",
    "}\n",
    "\n",
    "# Example usage\n",
    "variables <- c(\"Population\", \"Population.Density\", \"Swing\", \"is.Safe\")  # Replace with your variable names\n",
    "coefficients <- c(-7.129, -7.249, -4.716, 4.4721)  # Replace with your corresponding coefficients\n",
    "\n",
    "# Assume std_data is your new dataframe containing the same variables\n",
    "std_data <- cleaned_unscaled  # Replace this with your actual standard deviation dataframe\n",
    "\n",
    "standardized_impact_results <- calculate_standardized_impacts(cleaned_scaled, std_data, variables, coefficients)\n",
    "print(standardized_impact_results)\n"
   ]
  },
  {
   "cell_type": "code",
   "execution_count": 25,
   "metadata": {
    "vscode": {
     "languageId": "r"
    }
   },
   "outputs": [
    {
     "data": {
      "image/png": "[encoded data removed]",
      "text/plain": [
       "plot without title"
      ]
     },
     "metadata": {
      "image/png": {
       "height": 360,
       "width": 600
      }
     },
     "output_type": "display_data"
    }
   ],
   "source": [
    "# Reshape the data to long format\n",
    "long_data <- melt(cleaned_data, measure.vars = c(\"X5th.Percentile\", \"X50th.Percentile\", \"X95th.Percentile\"),\n",
    "                  variable.name = \"Percentile\", value.name = \"Latency\")\n",
    "\n",
    "# Create the violin plot\n",
    "ggplot(long_data, aes(x = Percentile, y = Latency)) +\n",
    "  geom_violin(fill = \"lightblue\") +\n",
    "  labs(title = \"Violin Plot of Latency Percentiles\",\n",
    "       x = \"Percentile\",\n",
    "       y = \"Latency [ms]\") +\n",
    "  theme_minimal()"
   ]
  }
 ],
 "metadata": {
  "kernelspec": {
   "display_name": "R",
   "language": "R",
   "name": "r"
  },
  "language_info": {
   "codemirror_mode": "r",
   "file_extension": ".r",
   "mimetype": "text/x-r-source",
   "name": "R",
   "pygments_lexer": "r",
   "version": "4.3.1"
  }
 },
 "nbformat": 4,
 "nbformat_minor": 2
}
