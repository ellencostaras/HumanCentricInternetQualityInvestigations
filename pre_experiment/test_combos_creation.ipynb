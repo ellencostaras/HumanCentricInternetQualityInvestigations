{
 "cells": [
  {
   "cell_type": "markdown",
   "id": "7894899d",
   "metadata": {},
   "source": [
    "# Functions to create CSV files of different treatments:"
   ]
  },
  {
   "cell_type": "code",
   "execution_count": 4,
   "id": "5d9912c1",
   "metadata": {},
   "outputs": [],
   "source": [
    "import csv\n",
    "import pandas as pd\n",
    "import random\n",
    "import numpy as np\n",
    "from itertools import product\n",
    "from itertools import combinations\n",
    "from pyDOE2 import *\n",
    "from collections import defaultdict"
   ]
  },
  {
   "cell_type": "markdown",
   "id": "c1643ec4",
   "metadata": {},
   "source": [
    "### Creating a CSV combinatorially (without packet loss):"
   ]
  },
  {
   "cell_type": "code",
   "execution_count": 2,
   "id": "7138bcd2",
   "metadata": {},
   "outputs": [],
   "source": [
    "def create_csv(up_low, up_high, up_step, down_low, down_high, down_step, rtt_low, rtt_high, rtt_step):\n",
    "    \n",
    "    # creating values from range and stepsize\n",
    "    up_vals = []\n",
    "    for i in range(up_low, up_high+1, up_step):\n",
    "        up_vals.append(i * 1000) #converting Mbps into Kbps\n",
    "    \n",
    "    down_vals = []\n",
    "    for j in range(down_low, down_high+1, down_step):\n",
    "        down_vals.append(j * 1000) #converting Mbps into Kbps\n",
    "    \n",
    "    rtt_vals = []\n",
    "    for k in range(rtt_low, rtt_high+1, rtt_step):\n",
    "        rtt_vals.append(k)\n",
    "    \n",
    "    # creating combinations\n",
    "    combos = []\n",
    "    for i in up_vals:\n",
    "        for j in down_vals:\n",
    "            for k in rtt_vals:\n",
    "                combo = [i, j, k]\n",
    "                combos.append(combo)\n",
    "     \n",
    "    # adding a treatment number column\n",
    "    for treatment in range(len(combos)):\n",
    "        line = [treatment + 1] + combos[treatment]\n",
    "        combos[treatment] = line\n",
    "    \n",
    "    # writing out to a CSV file\n",
    "    with open(\"test_combos.csv\", \"w\", newline='') as file:\n",
    "        writer = csv.writer(file)\n",
    "        writer.writerow([\"treatment no.\", \"upload (kbps)\", \"download (kbps)\", \"latency (ms)\"])\n",
    "        for combo in combos:\n",
    "            writer.writerow(combo)\n",
    "            \n",
    "    return f\" ----- {len(combos)} treatments successfully created in file 'test_combos.csv' ----- \""
   ]
  },
  {
   "cell_type": "code",
   "execution_count": null,
   "id": "9da48be6",
   "metadata": {},
   "outputs": [],
   "source": [
    "up_low = 0 # Enter in Mbps\n",
    "up_high = 200 # Enter in Mbps\n",
    "up_step = 100 # Enter in Mbps\n",
    "down_low = 0 # Enter in Mbps\n",
    "down_high = 200 # Enter in Mbps\n",
    "down_step = 100 # Enter in Mbps\n",
    "rtt_low = 20 # Enter in ms\n",
    "rtt_high = 120 # Enter in ms\n",
    "rtt_step = 20 # Enter in ms\n",
    "\n",
    "create_csv(up_low, up_high, up_step, down_low, down_high, down_step, rtt_low, rtt_high, rtt_step)"
   ]
  },
  {
   "cell_type": "markdown",
   "id": "e8a6858f",
   "metadata": {},
   "source": [
    "### Creating a CSV combinatorially (with packet loss):"
   ]
  },
  {
   "cell_type": "code",
   "execution_count": null,
   "id": "c87ff61c",
   "metadata": {},
   "outputs": [],
   "source": [
    "def create_csv_with_packet_loss(up_low, up_high, up_step, down_low, down_high, down_step, rtt_low, rtt_high, rtt_step, pack_low, pack_high, pack_step):\n",
    "    \n",
    "    # creating values from range and stepsize\n",
    "    up_vals = []\n",
    "    for w in range(up_low, up_high+1, up_step):\n",
    "        up_vals.append(w * 1000) #converting Mbps into Kbps\n",
    "    \n",
    "    down_vals = []\n",
    "    for x in range(down_low, down_high+1, down_step):\n",
    "        down_vals.append(x * 1000) #converting Mbps into Kbps\n",
    "    \n",
    "    rtt_vals = []\n",
    "    for y in range(rtt_low, rtt_high+1, rtt_step):\n",
    "        rtt_vals.append(y)\n",
    "        \n",
    "    pack_vals = []\n",
    "    for z in range(pack_low, pack_high+1, pack_step):\n",
    "        pack_vals.append(z)\n",
    "    \n",
    "    # creating combinations\n",
    "    combos = []\n",
    "    for w in up_vals:\n",
    "        for x in down_vals:\n",
    "            for y in rtt_vals:\n",
    "                for z in pack_vals:\n",
    "                    combo = [w, x, y, z]\n",
    "                    combos.append(combo)\n",
    "    \n",
    "    # adding a treatment number column\n",
    "    for treatment in range(len(combos)):\n",
    "        line = [treatment + 1] + combos[treatment]\n",
    "        combos[treatment] = line\n",
    "    \n",
    "    # writing out to a CSV file\n",
    "    with open(\"test_combos.csv\", \"w\", newline='') as file:\n",
    "        writer = csv.writer(file)\n",
    "        writer.writerow([\"treatment no.\", \"upload (kbps)\", \"download (kbps)\", \"latency (ms)\", \"packet loss (%)\"])\n",
    "        for combo in combos:\n",
    "            writer.writerow(combo)\n",
    "            \n",
    "    return f\" ----- {len(combos)} treatments successfully created in file 'test_combos.csv' ----- \""
   ]
  },
  {
   "cell_type": "code",
   "execution_count": null,
   "id": "84639dac",
   "metadata": {},
   "outputs": [],
   "source": [
    "up_low = 0 # Enter in Mbps\n",
    "up_high = 200 # Enter in Mbps\n",
    "up_step = 100 # Enter in Mbps\n",
    "down_low = 0 # Enter in Mbps\n",
    "down_high = 200 # Enter in Mbps\n",
    "down_step = 100 # Enter in Mbps\n",
    "rtt_low = 20 # Enter in ms\n",
    "rtt_high = 120 # Enter in ms\n",
    "rtt_step = 20 # Enter in ms\n",
    "pack_low = 0 # Enter as percentage\n",
    "pack_high = 20 # Enter as percentage\n",
    "pack_step = 5 # Enter as percentage\n",
    "\n",
    "create_csv_with_packet_loss(up_low, up_high, up_step, down_low, down_high, down_step, rtt_low, rtt_high, rtt_step, pack_low, pack_high, pack_step)"
   ]
  },
  {
   "cell_type": "markdown",
   "id": "079d52f6",
   "metadata": {},
   "source": [
    "### Same thing except defining values for each varible instead of range and stepsize (without packet loss):"
   ]
  },
  {
   "cell_type": "code",
   "execution_count": 2,
   "id": "bb89c7ef",
   "metadata": {},
   "outputs": [],
   "source": [
    "def create_csv_specific(up_vals, down_vals, rtt_vals):\n",
    "    \n",
    "    # converting Mbps -> Kbps\n",
    "    for i in range(len(up_vals)):\n",
    "        up_vals[i] = up_vals[i] * 1000 \n",
    "        \n",
    "    for j in range(len(down_vals)):\n",
    "        down_vals[j] = down_vals[j] * 1000 \n",
    "    \n",
    "    # creating combinations\n",
    "    combos = []\n",
    "    for i1 in up_vals:\n",
    "        for j1 in down_vals:\n",
    "            for k1 in rtt_vals:\n",
    "                for i2 in up_vals:\n",
    "                    for j2 in down_vals:\n",
    "                        for k2 in rtt_vals:\n",
    "                            combo = [i1, j1, k1, i2, j2, k2]\n",
    "                            combos.append(combo)\n",
    "    \n",
    "    # adding a treatment number column\n",
    "    for treatment in range(len(combos)):\n",
    "        line = [treatment + 1] + combos[treatment]\n",
    "        combos[treatment] = line\n",
    "    \n",
    "    # writing out to a CSV file\n",
    "    with open(\"test_combos.csv\", \"w\", newline='') as file:\n",
    "        writer = csv.writer(file)\n",
    "        writer.writerow([\"treatment no\", \"e - upload (kbps)\", \"e - download (kbps)\", \"e - latency (ms)\", \"a - upload (kbps)\", \"a - download (kbps)\", \"a - latency (ms)\"])\n",
    "        for combo in combos:\n",
    "            writer.writerow(combo)\n",
    "            \n",
    "    return f\" ----- {len(combos)} treatments successfully created in file 'test_combos.csv' ----- \""
   ]
  },
  {
   "cell_type": "code",
   "execution_count": 3,
   "id": "2c4c7701",
   "metadata": {},
   "outputs": [
    {
     "data": {
      "text/plain": [
       "\" ----- 729 treatments successfully created in file 'test_combos.csv' ----- \""
      ]
     },
     "execution_count": 3,
     "metadata": {},
     "output_type": "execute_result"
    }
   ],
   "source": [
    "up_vals = [1, 20, 50] # Enter in Mbps\n",
    "down_vals = [10, 50, 100] # Enter in Mbps\n",
    "rtt_vals = [20, 350, 700] # Enter in ms\n",
    "\n",
    "\n",
    "create_csv_specific(up_vals, down_vals, rtt_vals)"
   ]
  },
  {
   "cell_type": "markdown",
   "id": "5fb4ed25",
   "metadata": {},
   "source": [
    "### Same thing except defining values for each varible instead of range and stepsize (with packet loss):"
   ]
  },
  {
   "cell_type": "code",
   "execution_count": 28,
   "id": "c34ea0ba",
   "metadata": {},
   "outputs": [],
   "source": [
    "def create_csv_specific_with_packet_loss(up_vals, down_vals, rtt_vals, pack_vals):\n",
    "    \n",
    "    # converting Mbps -> Kbps\n",
    "    for i in range(len(up_vals)):\n",
    "        up_vals[i] = up_vals[i] * 1000 \n",
    "        \n",
    "    for j in range(len(down_vals)):\n",
    "        down_vals[j] = down_vals[j] * 1000 \n",
    "    \n",
    "    # creating combinations\n",
    "    combos = []\n",
    "    for w in up_vals:\n",
    "        for x in down_vals:\n",
    "            for y in rtt_vals:\n",
    "                for z in pack_vals:\n",
    "                    combo = [w, x, y, z]\n",
    "                    combos.append(combo)\n",
    "    \n",
    "    # adding a treatment number column\n",
    "    for treatment in range(len(combos)):\n",
    "        line = [treatment + 1] + combos[treatment]\n",
    "        combos[treatment] = line\n",
    "    \n",
    "    # writing out to a CSV file\n",
    "    with open(\"test_combos_aadya.csv\", \"w\", newline='') as file:\n",
    "        writer = csv.writer(file)\n",
    "        writer.writerow([\"treatment no.\", \"upload (kbps)\", \"download (kbps)\", \"latency (ms)\", \"packet loss (%)\"])\n",
    "        for combo in combos:\n",
    "            writer.writerow(combo)\n",
    "            \n",
    "    return f\" ----- {len(combos)} treatments successfully created in file 'test_combos.csv' ----- \""
   ]
  },
  {
   "cell_type": "code",
   "execution_count": null,
   "id": "7d59ab61",
   "metadata": {},
   "outputs": [],
   "source": [
    "up_vals = [12, 25, 50, 100, 250, 1000] # Enter in Mbps\n",
    "down_vals = [12, 25, 50, 100, 250, 1000] # Enter in Mbps\n",
    "rtt_vals = [20, 50, 100, 150, 200, 300, 400] # Enter in ms\n",
    "pack_vals = [0, 5, 10, 15, 20, 30] # Enter as percentage\n",
    "\n",
    "create_csv_specific(up_vals, down_vals, rtt_vals, pack_vals)"
   ]
  },
  {
   "cell_type": "markdown",
   "id": "1187fab2",
   "metadata": {},
   "source": [
    "# Function to shuffle the rows in a CSV file"
   ]
  },
  {
   "cell_type": "code",
   "execution_count": 25,
   "id": "cbdd2286",
   "metadata": {},
   "outputs": [],
   "source": [
    "def shuffle_rows(filepath, new_filepath):\n",
    "    \n",
    "    # importing the CSV file rows\n",
    "    rows = []\n",
    "    with open(filepath, 'r') as file1:\n",
    "        csvreader = csv.reader(file1)\n",
    "        header = next(csvreader)\n",
    "        for row in csvreader:\n",
    "            rows.append(row)\n",
    "    \n",
    "    # shuffling the rows\n",
    "    random.shuffle(rows)\n",
    "    \n",
    "    # re-numbering the treatment no. column\n",
    "    for treatment in range(len(rows)):\n",
    "        rows[treatment][0] = treatment+1\n",
    "\n",
    "    # creating separate files (one for Ellen, one for Aadya)\n",
    "    new_rows = []\n",
    "    for row in rows:\n",
    "        new_combo = [row[0], row[1], row[2], row[3]]\n",
    "        aadya_combo = [row[0], row[4], row[5], row[6]]\n",
    "        new_rows.append(new_combo)\n",
    "    \n",
    "    # writing out shuffled rows to new CSV files \n",
    "    with open(new_filepath, \"w\", newline='') as file2:\n",
    "        writer = csv.writer(file2)\n",
    "        writer.writerow(['treatment no.', 'upload (kbps)', 'download (kbps)', 'latency (ms)'])\n",
    "        for row in new_rows:\n",
    "            writer.writerow(row)\n",
    "    \n",
    "    return f\"{len(rows)} rows successfully shuffled into new file: {new_filepath}\" "
   ]
  },
  {
   "cell_type": "code",
   "execution_count": 5,
   "id": "1f4ecef8",
   "metadata": {},
   "outputs": [
    {
     "data": {
      "text/plain": [
       "\"6 rows successfully shuffled into new files: 'test_combos_shuffled_ellen.csv' and 'test_combos_shuffled_aadya.csv'\""
      ]
     },
     "execution_count": 5,
     "metadata": {},
     "output_type": "execute_result"
    }
   ],
   "source": [
    "filepath = \"subjective_combos_ellen.csv\"\n",
    "new_filepath = \"subjective_combos_shuffled_ellen.csv\"\n",
    "shuffle_rows(filepath, new_filepath)"
   ]
  },
  {
   "cell_type": "markdown",
   "id": "0b014b4c",
   "metadata": {},
   "source": [
    "# FIRST REAL RUN CODE"
   ]
  },
  {
   "cell_type": "code",
   "execution_count": 6,
   "id": "058e181d",
   "metadata": {},
   "outputs": [],
   "source": [
    "def create_csv_specific_onesided(up_vals, down_vals, rtt_vals, repeats=3):\n",
    "    \n",
    "    # converting Mbps -> Kbps\n",
    "    for i in range(len(up_vals)):\n",
    "        up_vals[i] = up_vals[i] * 1000 \n",
    "        \n",
    "    for j in range(len(down_vals)):\n",
    "        down_vals[j] = down_vals[j] * 1000 \n",
    "    \n",
    "    # creating combinations\n",
    "    combos = []\n",
    "    initial_treatment = 1.0\n",
    "    for i1 in up_vals:\n",
    "        for j1 in down_vals:\n",
    "            for k1 in rtt_vals:\n",
    "                treatment = initial_treatment\n",
    "                for i in range(repeats):\n",
    "                    combo = [i1, j1, k1, round(treatment, 1)]\n",
    "                    combos.append(combo)\n",
    "                    treatment +=0.1\n",
    "                initial_treatment += 1\n",
    "                \n",
    "\n",
    "    # writing out to a CSV file\n",
    "    with open(\"test_combos_shuffled_aadya_test.csv\", \"w\", newline='') as file:\n",
    "        writer = csv.writer(file)\n",
    "        writer.writerow([\"upload (kbps)\", \"download (kbps)\", \"latency (ms)\", \"condition\"])\n",
    "        for combo in combos:\n",
    "            writer.writerow(combo)\n",
    "            \n",
    "    return f\" ----- {len(combos)} treatments successfully created in file 'test_combos_shuffled_aadya.csv' ----- \""
   ]
  },
  {
   "cell_type": "code",
   "execution_count": 9,
   "id": "00a74ada",
   "metadata": {},
   "outputs": [
    {
     "data": {
      "text/plain": [
       "\" ----- 192 treatments successfully created in file 'test_combos_shuffled_aadya.csv' ----- \""
      ]
     },
     "execution_count": 9,
     "metadata": {},
     "output_type": "execute_result"
    }
   ],
   "source": [
    "up =  [20, 5, 1, 0.5]  \n",
    "down = [25, 12, 5, 2]\n",
    "rtt = [250, 400, 550, 750]\n",
    "\n",
    "create_csv_specific_onesided(up, down, rtt, repeats = 3)"
   ]
  },
  {
   "cell_type": "markdown",
   "id": "01849b62",
   "metadata": {},
   "source": [
    "## Shuffle rows \n",
    "and add a treatment number sequence"
   ]
  },
  {
   "cell_type": "code",
   "execution_count": 10,
   "id": "2f3e1548",
   "metadata": {},
   "outputs": [],
   "source": [
    "df = pd.read_csv('test_combos_shuffled_aadya.csv')\n",
    "df = df.sample(frac=1).reset_index(drop=True)\n",
    "df.insert(0, 'Treatment no.', range(1, len(df) + 1))\n",
    "df = df.dropna(axis=1, how='all')\n",
    "df.columns = ['Treatment no.', 'Upload', 'Download', 'Latency', 'Condition']\n",
    "df.to_csv(\"test_combos_shuffled_aadya.csv\", index=False)"
   ]
  },
  {
   "cell_type": "markdown",
   "id": "7b2ae0cc",
   "metadata": {},
   "source": [
    "### Create a csv file with the same length as another one but they're all the same combination"
   ]
  },
  {
   "cell_type": "code",
   "execution_count": 52,
   "id": "8d9d0883",
   "metadata": {},
   "outputs": [],
   "source": [
    "combos_df = pd.read_csv('test_combos_shuffled_aadya.csv')\n",
    "num_rows = len(combos_df)\n",
    "treatment_numbers = list(range(1, num_rows + 1))\n",
    "new_data = {\n",
    "    'treatment no.': treatment_numbers, \n",
    "    'upload (kbps)': ['50000'] * num_rows, \n",
    "    'download (kbps)': ['100000']* num_rows,\n",
    "    'latency (ms)': ['50']* num_rows,}  \n",
    "new_df = pd.DataFrame(new_data)\n",
    "\n",
    "new_df.to_csv('test_combos_shuffled_ellen.csv', index=False)"
   ]
  },
  {
   "cell_type": "markdown",
   "id": "b199ccc0",
   "metadata": {},
   "source": [
    "# STAGE 1.1\n",
    "adding in a better download and rtt val"
   ]
  },
  {
   "cell_type": "code",
   "execution_count": 2,
   "id": "5b9c9ed7",
   "metadata": {},
   "outputs": [],
   "source": [
    "def create_csv_stage1_1(up_vals, down_vals, rtt_vals, repeats=3, file_name = \"test_combos_shuffled_aadya_1.csv\"):\n",
    "    \n",
    "    # converting Mbps -> Kbps\n",
    "    for i in range(len(up_vals)):\n",
    "        up_vals[i] = up_vals[i] * 1000 \n",
    "        \n",
    "    for j in range(len(down_vals)):\n",
    "        down_vals[j] = down_vals[j] * 1000 \n",
    "    \n",
    "    # creating combinations\n",
    "    combos = []\n",
    "    initial_treatment = 1.0\n",
    "    for i1 in up_vals:\n",
    "        for j1 in down_vals:\n",
    "            for k1 in rtt_vals:\n",
    "                treatment = initial_treatment\n",
    "                for i in range(repeats):\n",
    "                    combo = [i1, j1, k1, round(treatment, 1)]\n",
    "                    combos.append(combo)\n",
    "                    treatment +=0.1\n",
    "                initial_treatment += 1\n",
    "                \n",
    "\n",
    "    # writing out to a CSV file\n",
    "    with open(file_name, \"w\", newline='') as file:\n",
    "        writer = csv.writer(file)\n",
    "        writer.writerow([\"upload (kbps)\", \"download (kbps)\", \"latency (ms)\", \"condition\"])\n",
    "        for combo in combos:\n",
    "            writer.writerow(combo)\n",
    "            \n",
    "    return f\" ----- {len(combos)} treatments successfully created in file 'test_combos_shuffled_aadya1.csv' ----- \""
   ]
  },
  {
   "cell_type": "code",
   "execution_count": 5,
   "id": "3ee9599b",
   "metadata": {},
   "outputs": [],
   "source": [
    "up =  [20, 5, 1, 0.5]  \n",
    "down = [50]\n",
    "rtt = [100, 250, 400, 550, 750]\n",
    "\n",
    "file1 = create_csv_stage1_1(up, down, rtt, repeats = 3, file_name = \"test_combos_shuffled_aadya_1.csv\")\n",
    "\n",
    "up =  [20, 5, 1, 0.5]  \n",
    "down = [25, 12, 5, 2]\n",
    "rtt = [100]\n",
    "\n",
    "file2 = create_csv_stage1_1(up, down, rtt, repeats = 3, file_name = \"test_combos_shuffled_aadya_12.csv\")\n",
    "\n",
    "df1 = pd.read_csv(\"test_combos_shuffled_aadya_1.csv\")  # Replace with the path to your first CSV file\n",
    "df2 = pd.read_csv(\"test_combos_shuffled_aadya_12.csv\")  # Replace with the path to your second CSV file\n",
    "\n",
    "combined_df = pd.concat([df1, df2], ignore_index=True)  # Stacks the files vertically, one below the other\n",
    "\n",
    "combined_df.to_csv('combined_file.csv', index=False)  # Replace with your desired output file path"
   ]
  },
  {
   "cell_type": "markdown",
   "id": "15afac9c",
   "metadata": {},
   "source": [
    "### shuffling the rows "
   ]
  },
  {
   "cell_type": "code",
   "execution_count": 51,
   "id": "c64da85c",
   "metadata": {},
   "outputs": [],
   "source": [
    "df = pd.read_csv('combined_file.csv')\n",
    "df = df.sample(frac=1).reset_index(drop=True)\n",
    "df.insert(0, 'Treatment no.', range(193, len(df) + 193))\n",
    "df = df.dropna(axis=1, how='all')\n",
    "df.columns = ['Treatment no.', 'Upload', 'Download', 'Latency', 'Condition']\n",
    "df.to_csv(\"combined_test_combos_shuffled_aadya.csv\", index=False)"
   ]
  },
  {
   "cell_type": "markdown",
   "id": "b3e91b4b",
   "metadata": {},
   "source": [
    "# STAGE 2\n",
    "### both varying but always the same"
   ]
  },
  {
   "cell_type": "code",
   "execution_count": 55,
   "id": "23f61fec",
   "metadata": {},
   "outputs": [],
   "source": [
    "up =  [20, 5, 1, 0.5]  \n",
    "down = [50, 25, 12, 5, 2]\n",
    "rtt = [100, 250, 400, 550, 750]\n",
    "create_csv_stage1_1(up, down, rtt, repeats = 3, file_name = \"STAGE2_test_combos_aadya.csv\")"
   ]
  },
  {
   "cell_type": "code",
   "execution_count": 56,
   "id": "d44f13cd",
   "metadata": {},
   "outputs": [],
   "source": [
    "df = pd.read_csv('STAGE2_test_combos_aadya.csv')\n",
    "df = df.sample(frac=1).reset_index(drop=True)\n",
    "df.insert(0, 'Treatment no.', range(1, len(df) + 1))\n",
    "df = df.dropna(axis=1, how='all')\n",
    "df.columns = ['Treatment no.', 'Upload', 'Download', 'Latency', 'Condition']\n",
    "df.to_csv(\"STAGE2_test_combos_shuffled_aadya.csv\", index=False)"
   ]
  },
  {
   "cell_type": "markdown",
   "id": "ceb00060",
   "metadata": {},
   "source": [
    "# STAGE 3\n",
    "### both varying and random sample from the combinatorial space\n",
    "\n",
    "full factorial number of combos script"
   ]
  },
  {
   "cell_type": "code",
   "execution_count": 3,
   "id": "800fb13c",
   "metadata": {},
   "outputs": [
    {
     "name": "stdout",
     "output_type": "stream",
     "text": [
      "Total tests: 10000\n"
     ]
    }
   ],
   "source": [
    "upload_speeds = [20, 5, 1, 0.5] \n",
    "download_speeds = [50, 25, 12, 5, 2]\n",
    "rtt_values = [100, 250, 400, 550, 750]\n",
    "\n",
    "# Enumerate all individual sets\n",
    "party_a_combinations = list(product(upload_speeds, download_speeds, rtt_values))\n",
    "party_b_combinations = list(product(upload_speeds, download_speeds, rtt_values))\n",
    "\n",
    "# enumerate all combination sets\n",
    "all_tests = list(product(party_a_combinations, party_b_combinations))\n",
    "\n",
    "# Print the number of tests\n",
    "print(f\"Total tests: {len(all_tests)}\")"
   ]
  },
  {
   "cell_type": "markdown",
   "id": "48f54758",
   "metadata": {},
   "source": [
    "## Sampling for not full factorial\n",
    "\n",
    "#### using stratified sampling"
   ]
  },
  {
   "cell_type": "code",
   "execution_count": 14,
   "id": "a73c3276",
   "metadata": {},
   "outputs": [
    {
     "name": "stdout",
     "output_type": "stream",
     "text": [
      "Number of sampled tests: 64\n",
      "Sampled tests: [((20, 50, 250), (5, 25, 100)), ((20, 50, 100), (20, 25, 400)), ((5, 25, 250), (5, 2, 100)), ((20, 25, 250), (5, 2, 550)), ((20, 25, 250), (0.5, 25, 250))]\n"
     ]
    }
   ],
   "source": [
    "random.seed(42)\n",
    "# Define function to categorize based on strata (upload, download, rtt ranges)\n",
    "def categorize(upload_val, download_val, rtt_val):\n",
    "    # Define categories (you can adjust ranges as needed)\n",
    "    upload_category = 'High' if upload_val >= 5 else 'Low'\n",
    "    download_category = 'High' if download_val >= 25 else 'Low'\n",
    "    rtt_category = 'High' if rtt_val >= 400 else 'Low'\n",
    "    return (upload_category, download_category, rtt_category)\n",
    "\n",
    "# Group combinations into strata\n",
    "strata = defaultdict(list)\n",
    "for (a, b) in all_tests:\n",
    "    a_category = categorize(*a)\n",
    "    b_category = categorize(*b)\n",
    "    strata[(a_category, b_category)].append((a, b))\n",
    "\n",
    "# Sample proportionally from each stratum\n",
    "sample_size = 8  # adjust sample size as desired\n",
    "samples = []\n",
    "for category, group in strata.items():\n",
    "    # Calculate number of samples to take from this stratum\n",
    "    proportion = sample_size / len(all_tests)\n",
    "    num_samples = max(1, int(proportion * len(group)))  # ensure at least one sample from each stratum\n",
    "    samples.extend(random.sample(group, min(num_samples, len(group))))\n",
    "\n",
    "# Print the number of samples\n",
    "print(f\"Number of sampled tests: {len(samples)}\")\n",
    "print(f\"Sampled tests: {samples[:5]}\")  # print a few samples to check"
   ]
  },
  {
   "cell_type": "code",
   "execution_count": 4,
   "id": "6aa6d328",
   "metadata": {},
   "outputs": [],
   "source": [
    "# Put all combos in an array\n",
    "combinations_array = np.array(party_a_combinations)\n",
    "\n",
    "\n",
    "def stratified_sampling(combinations, num_samples):\n",
    "    # initialise a disctionary that groups combinations by their levels (eg. all combinations with upload 20 can accessed from one place)\n",
    "    strata = {\n",
    "        'upload': {level: [] for level in set(combinations[:, 0])},\n",
    "        'download': {level: [] for level in set(combinations[:, 1])},\n",
    "        'rtt': {level: [] for level in set(combinations[:, 2])}\n",
    "    }\n",
    "    \n",
    "    for comb in combinations:\n",
    "        strata['upload'][comb[0]].append(tuple(comb))\n",
    "        strata['download'][comb[1]].append(tuple(comb))\n",
    "        strata['rtt'][comb[2]].append(tuple(comb))\n",
    "    \n",
    "    # Number of samples to select from each stratum\n",
    "    \n",
    "    samples_per_stratum = max(num_samples // (len(strata['upload']) * len(strata['download']) * len(strata['rtt'])), 1)\n",
    "    \n",
    "    selected_samples = set()\n",
    "    \n",
    "    # Randomly sample from each stratum\n",
    "    for upload_level, upload_stratum in strata['upload'].items():\n",
    "        for download_level, download_stratum in strata['download'].items():\n",
    "            for rtt_level, rtt_stratum in strata['rtt'].items():\n",
    "                # Find common elements in all three strata\n",
    "                stratum_comb = [c for c in upload_stratum if c in download_stratum and c in rtt_stratum]\n",
    "                if len(stratum_comb) > 0:\n",
    "                    selected_samples.update(random.sample(stratum_comb, min(samples_per_stratum, len(stratum_comb))))\n",
    "    \n",
    "    # Ensure we have exactly `num_samples` samples\n",
    "    if len(selected_samples) < num_samples:\n",
    "        remaining_samples = list(set(map(tuple, combinations)) - selected_samples)\n",
    "        additional_samples = random.sample(remaining_samples, num_samples - len(selected_samples))\n",
    "        selected_samples.update(additional_samples)\n",
    "    \n",
    "    return list(selected_samples)[:num_samples]"
   ]
  },
  {
   "cell_type": "code",
   "execution_count": 6,
   "id": "564fabbe",
   "metadata": {},
   "outputs": [
    {
     "name": "stdout",
     "output_type": "stream",
     "text": [
      "Representative Samples:\n",
      "Sample 1: (20.0, 50.0, 400.0)\n",
      "Sample 2: (1.0, 2.0, 100.0)\n",
      "Sample 3: (1.0, 50.0, 750.0)\n",
      "Sample 4: (20.0, 2.0, 750.0)\n",
      "Sample 5: (0.5, 12.0, 400.0)\n",
      "Sample 6: (5.0, 2.0, 550.0)\n",
      "Sample 7: (5.0, 5.0, 250.0)\n",
      "Sample 8: (1.0, 5.0, 400.0)\n",
      "Sample 9: (20.0, 12.0, 400.0)\n",
      "Sample 10: (1.0, 12.0, 750.0)\n",
      "Sample 11: (20.0, 50.0, 100.0)\n",
      "Sample 12: (0.5, 25.0, 750.0)\n",
      "Sample 13: (20.0, 25.0, 400.0)\n",
      "Sample 14: (1.0, 25.0, 750.0)\n",
      "Sample 15: (1.0, 2.0, 550.0)\n",
      "Sample 16: (20.0, 12.0, 100.0)\n",
      "Sample 17: (0.5, 5.0, 100.0)\n",
      "Sample 18: (5.0, 50.0, 250.0)\n",
      "Sample 19: (1.0, 50.0, 400.0)\n",
      "Sample 20: (20.0, 2.0, 400.0)\n"
     ]
    }
   ],
   "source": [
    "num_samples = 20\n",
    "representative_samples = stratified_sampling(combinations_array, num_samples)\n",
    "\n",
    "# Display the representative samples\n",
    "print(\"Representative Samples:\")\n",
    "for i, sample in enumerate(representative_samples, start=1):\n",
    "    print(f\"Sample {i}: {sample}\")"
   ]
  },
  {
   "cell_type": "markdown",
   "id": "a5cc1cc6",
   "metadata": {},
   "source": [
    "# stage 3 specific combos"
   ]
  },
  {
   "cell_type": "code",
   "execution_count": 7,
   "id": "9d4828b3",
   "metadata": {},
   "outputs": [
    {
     "name": "stdout",
     "output_type": "stream",
     "text": [
      "[20000, 5000, 1000, 500.0] [50000, 25000, 12000, 5000, 2000]\n"
     ]
    }
   ],
   "source": [
    "up_vals =  [20, 5, 1, 0.5]  \n",
    "down_vals = [50, 25, 12, 5, 2]\n",
    "rtt = [100, 250, 400, 550, 750]\n",
    "\n",
    "for i in range(len(up_vals)):\n",
    "    up_vals[i] = up_vals[i] * 1000 \n",
    "        \n",
    "for j in range(len(down_vals)):\n",
    "    down_vals[j] = down_vals[j] * 1000 \n",
    "\n",
    "print(up_vals, down_vals)"
   ]
  },
  {
   "cell_type": "code",
   "execution_count": 36,
   "id": "c837732f",
   "metadata": {},
   "outputs": [],
   "source": [
    "triples = [\n",
    "    (20000, 25000, 250), #444\n",
    "    (5000,12000,400), #333\n",
    "    (1000,5000, 550), #222\n",
    "    (500, 2000, 750), #111\n",
    "    (20000, 25000, 400), #443\n",
    "    (20000, 25000, 550), #442\n",
    "    (20000, 25000, 750), #441\n",
    "    (5000,12000,250), #334\n",
    "    (5000,12000,550),#224\n",
    "    (5000,12000,250), #114\n",
    "    (500, 2000, 400), #113\n",
    "    (500, 2000, 550), #112\n",
    "    (1000,5000, 750), #221\n",
    "    (5000,12000,750),#331\n",
    "]\n",
    "\n",
    "# Generate all combinations of two triples\n",
    "combinations_of_triples = list(combinations(triples, 2))\n",
    "\n",
    "with open(\"combinations_stage3.csv\", \"w\", newline='') as file:\n",
    "    writer = csv.writer(file)\n",
    "    writer.writerow([\n",
    "        \"e - upload (kbps)\", \"e - download (kbps)\", \"e - latency (ms)\", \"condition no.\",\n",
    "        \"a - upload (kbps)\", \"a - download (kbps)\", \"a - latency (ms)\", \"condition no.\"\n",
    "    ])\n",
    "    for index, combo in enumerate(combinations_of_triples, start=1):\n",
    "        for repeat in range(3):\n",
    "            condition_number = f\"{index}.{repeat}\"\n",
    "            row = [\n",
    "                combo[0][0], combo[0][1], combo[0][2], condition_number,\n",
    "                combo[1][0], combo[1][1], combo[1][2], condition_number\n",
    "            ]\n",
    "            writer.writerow(row)"
   ]
  },
  {
   "cell_type": "code",
   "execution_count": 29,
   "id": "815262fd",
   "metadata": {},
   "outputs": [],
   "source": [
    "def shuffle_rows_stage3(filepath):\n",
    "    \n",
    "    # importing the CSV file rows\n",
    "    rows = []\n",
    "    with open(filepath, 'r') as file1:\n",
    "        csvreader = csv.reader(file1)\n",
    "        header = next(csvreader)\n",
    "        for row in csvreader:\n",
    "            rows.append(row)\n",
    "    \n",
    "    # shuffling the rows\n",
    "    random.shuffle(rows)\n",
    "\n",
    "    # creating separate files (one for Ellen, one for Aadya)\n",
    "    ellens_rows = []\n",
    "    aadyas_rows = []\n",
    "    for row in rows:\n",
    "        ellen_combo = [row[0], row[1], row[2], row[3]]\n",
    "        aadya_combo = [row[4], row[5], row[6], row[7]]\n",
    "        ellens_rows.append(ellen_combo)\n",
    "        aadyas_rows.append(aadya_combo)\n",
    "    \n",
    "    # writing out shuffled rows to new CSV files \n",
    "    with open(\"STAGE3_test_combos_shuffled_ellen.csv\", \"w\", newline='') as file2:\n",
    "        writer = csv.writer(file2)\n",
    "        writer.writerow([ 'upload (kbps)', 'download (kbps)', 'latency (ms)', 'condition no.'])\n",
    "        for row in ellens_rows:\n",
    "            writer.writerow(row)\n",
    "    with open(\"STAGE3_test_combos_shuffled_aadya.csv\", \"w\", newline='') as file3:\n",
    "        writer = csv.writer(file3)\n",
    "        writer.writerow(['upload (kbps)', 'download (kbps)', 'latency (ms)', 'condition no.'])\n",
    "        for row in aadyas_rows:\n",
    "            writer.writerow(row)\n",
    "\n",
    "    df1 = pd.read_csv(\"STAGE3_test_combos_shuffled_ellen.csv\")\n",
    "    df2 = pd.read_csv(\"STAGE3_test_combos_shuffled_aadya.csv\")\n",
    "\n",
    "    # Add a column with sequential numbers starting from 1\n",
    "    df1['treatment no.'] = range(1, len(df1) + 1)\n",
    "    df1 = df1[['treatment no.'] + [col for col in df1.columns if col != 'treatment no.']]\n",
    "    df2['treatment no.'] = range(1, len(df2) + 1)\n",
    "    df2 = df2[['treatment no.'] + [col for col in df2.columns if col != 'treatment no.']]\n",
    "\n",
    "    #Save the updated DataFrames back to CSV files\n",
    "    df1.to_csv(\"STAGE3_test_combos_shuffled_ellen.csv\", index=False)\n",
    "    df2.to_csv(\"STAGE3_test_combos_shuffled_aadya.csv\", index=False)\n",
    "\n",
    "    print(\"Treatments added\")\n",
    "    \n",
    "    return f\"{len(rows)} rows successfully shuffled into new files: 'STAGE3_test_combos_shuffled_ellen.csv' and 'STAGE3_test_combos_shuffled_ellen.csv'\" "
   ]
  },
  {
   "cell_type": "code",
   "execution_count": 37,
   "id": "1e163788",
   "metadata": {},
   "outputs": [
    {
     "name": "stdout",
     "output_type": "stream",
     "text": [
      "Treatments added\n"
     ]
    },
    {
     "data": {
      "text/plain": [
       "\"273 rows successfully shuffled into new files: 'STAGE3_test_combos_shuffled_ellen.csv' and 'STAGE3_test_combos_shuffled_ellen.csv'\""
      ]
     },
     "execution_count": 37,
     "metadata": {},
     "output_type": "execute_result"
    }
   ],
   "source": [
    "shuffle_rows_stage3('combinations_stage3.csv')"
   ]
  },
  {
   "cell_type": "markdown",
   "id": "d62af417",
   "metadata": {},
   "source": [
    "# STAGE 4 full factorial"
   ]
  },
  {
   "cell_type": "code",
   "execution_count": 33,
   "id": "417f45df",
   "metadata": {},
   "outputs": [],
   "source": [
    "def STAGE4_create_csv_specific(up_vals, down_vals, rtt_vals, repeats = 3):\n",
    "    \n",
    "    # converting Mbps -> Kbps\n",
    "    for i in range(len(up_vals)):\n",
    "        up_vals[i] = up_vals[i] * 1000 \n",
    "        \n",
    "    for j in range(len(down_vals)):\n",
    "        down_vals[j] = down_vals[j] * 1000 \n",
    "    \n",
    "    # creating combinations\n",
    "    combos = []\n",
    "    initial_treatment = 1.0\n",
    "    for i1 in up_vals:\n",
    "        for j1 in down_vals:\n",
    "            for k1 in rtt_vals:\n",
    "                for i2 in up_vals:\n",
    "                    for j2 in down_vals:\n",
    "                        for k2 in rtt_vals:\n",
    "                            if not ([i1, j1, k1] == [i2, j2, k2]): #removing any where they are the same as that would have been done in stage 2\n",
    "                                treatment = initial_treatment\n",
    "                                for i in range(repeats):\n",
    "                                    combo = [i1, j1, k1, i2, j2, k2, round(treatment,1)]\n",
    "                                    combos.append(combo)\n",
    "                                    treatment +=0.1\n",
    "                                initial_treatment += 1\n",
    "    \n",
    "    # writing out to a CSV file\n",
    "    with open(\"STAGE4_test_combos.csv\", \"w\", newline='') as file:\n",
    "        writer = csv.writer(file)\n",
    "        writer.writerow([\"e - upload (kbps)\", \"e - download (kbps)\", \"e - latency (ms)\", \"a - upload (kbps)\", \"a - download (kbps)\", \"a - latency (ms)\", \"condition no.\"])\n",
    "        for combo in combos:\n",
    "            writer.writerow(combo)\n",
    "            \n",
    "    return f\" ----- {len(combos)} treatments successfully created in file 'STAGE4_test_combos.csv' ----- \""
   ]
  },
  {
   "cell_type": "code",
   "execution_count": 34,
   "id": "fc9095bb",
   "metadata": {},
   "outputs": [],
   "source": [
    "def shuffle_rows_stage4(filepath):\n",
    "    \n",
    "    # importing the CSV file rows\n",
    "    rows = []\n",
    "    with open(filepath, 'r') as file1:\n",
    "        csvreader = csv.reader(file1)\n",
    "        header = next(csvreader)\n",
    "        for row in csvreader:\n",
    "            rows.append(row)\n",
    "    \n",
    "    # shuffling the rows\n",
    "    random.shuffle(rows)\n",
    "\n",
    "    # creating separate files (one for Ellen, one for Aadya)\n",
    "    ellens_rows = []\n",
    "    aadyas_rows = []\n",
    "    for row in rows:\n",
    "        ellen_combo = [row[0], row[1], row[2], row[6]]\n",
    "        aadya_combo = [row[3], row[4], row[5], row[6]]\n",
    "        ellens_rows.append(ellen_combo)\n",
    "        aadyas_rows.append(aadya_combo)\n",
    "    \n",
    "    # writing out shuffled rows to new CSV files \n",
    "    with open(\"STAGE4_test_combos_shuffled_ellen.csv\", \"w\", newline='') as file2:\n",
    "        writer = csv.writer(file2)\n",
    "        writer.writerow([ 'upload (kbps)', 'download (kbps)', 'latency (ms)', 'condition no.'])\n",
    "        for row in ellens_rows:\n",
    "            writer.writerow(row)\n",
    "    with open(\"STAGE4_test_combos_shuffled_aadya.csv\", \"w\", newline='') as file3:\n",
    "        writer = csv.writer(file3)\n",
    "        writer.writerow(['upload (kbps)', 'download (kbps)', 'latency (ms)', 'condition no.'])\n",
    "        for row in aadyas_rows:\n",
    "            writer.writerow(row)\n",
    "\n",
    "    df1 = pd.read_csv(\"STAGE4_test_combos_shuffled_ellen.csv\")\n",
    "    df2 = pd.read_csv(\"STAGE4_test_combos_shuffled_aadya.csv\")\n",
    "\n",
    "    # Add a column with sequential numbers starting from 1\n",
    "    df1['treatment no.'] = range(1, len(df1) + 1)\n",
    "    df1 = df1[['treatment no.'] + [col for col in df1.columns if col != 'treatment no.']]\n",
    "    df2['treatment no.'] = range(1, len(df2) + 1)\n",
    "    df2 = df2[['treatment no.'] + [col for col in df2.columns if col != 'treatment no.']]\n",
    "\n",
    "    #Save the updated DataFrames back to CSV files\n",
    "    df1.to_csv(\"STAGE4_test_combos_shuffled_ellen.csv\", index=False)\n",
    "    df2.to_csv(\"STAGE4_test_combos_shuffled_aadya.csv\", index=False)\n",
    "\n",
    "    print(\"Treatments added\")\n",
    "    \n",
    "    return f\"{len(rows)} rows successfully shuffled into new files: 'STAGE4_test_combos_shuffled_ellen.csv' and 'STAGE4_test_combos_shuffled_ellen.csv'\" "
   ]
  },
  {
   "cell_type": "code",
   "execution_count": 35,
   "id": "8e60043e",
   "metadata": {},
   "outputs": [
    {
     "name": "stdout",
     "output_type": "stream",
     "text": [
      "Treatments added\n"
     ]
    },
    {
     "data": {
      "text/plain": [
       "\"12096 rows successfully shuffled into new files: 'STAGE4_test_combos_shuffled_ellen.csv' and 'STAGE4_test_combos_shuffled_ellen.csv'\""
      ]
     },
     "execution_count": 35,
     "metadata": {},
     "output_type": "execute_result"
    }
   ],
   "source": [
    "up_vals = [20, 5, 1, 0.5] \n",
    "down_vals = [25, 12, 5, 2]\n",
    "rtt_vals = [250, 400, 550, 750]\n",
    "\n",
    "STAGE4_create_csv_specific(up_vals, down_vals, rtt_vals)\n",
    "shuffle_rows_stage4('STAGE3_test_combos.csv')\n"
   ]
  },
  {
   "cell_type": "markdown",
   "id": "010e3ff6",
   "metadata": {},
   "source": [
    "Ok potentially the easiest way is going to be just picking a random list of numbers between 1 and 12096 and testing - not sure about stratified sampling etc"
   ]
  },
  {
   "cell_type": "code",
   "execution_count": 49,
   "id": "dc2f90ea",
   "metadata": {},
   "outputs": [
    {
     "name": "stdout",
     "output_type": "stream",
     "text": [
      " ----- full factorial design of 4096 treatments' ----- \n",
      " ----- filtered factorial design of 4032 treatments' ----- \n",
      " ----- random sample factorial design of 60 treatments' ----- \n",
      "   e-up  e-down  e-rtt  a-up  a-down  a-rtt\n",
      "0     4       1      3     3       2      1\n",
      "1     2       4      2     2       1      2\n",
      "2     2       1      2     3       2      2\n",
      "3     1       1      4     2       1      1\n",
      "4     1       3      3     4       1      2\n"
     ]
    }
   ],
   "source": [
    "levels = {\n",
    "    'e-up': [1, 2, 3, 4],\n",
    "    'e-down': [1, 2, 3, 4], \n",
    "    'e-rtt': [1, 2, 3, 4],  \n",
    "    'a-up': [1, 2, 3, 4],  \n",
    "    'a-down': [1, 2, 3, 4],  \n",
    "    'a-rtt': [1, 2, 3, 4]   \n",
    "}\n",
    "\n",
    "# Generate the full factorial design\n",
    "full_design = list(product(*levels.values()))\n",
    "print( f\" ----- full factorial design of {len(full_design)} treatments' ----- \")\n",
    "\n",
    "filtered_design = [comb for comb in full_design if not (comb[0] == comb[3] and comb[1] == comb[4] and comb[2] == comb[5])]\n",
    "print( f\" ----- filtered factorial design of {len(filtered_design)} treatments' ----- \")\n",
    "\n",
    "# Take a random sample\n",
    "np.random.seed(2) \n",
    "sampled_indices = np.random.choice(len(full_design), size=60, replace=False)\n",
    "fractional_design = [full_design[i] for i in sampled_indices]\n",
    "\n",
    "# Convert to DataFrame for better readability\n",
    "df = pd.DataFrame(fractional_design, columns=levels.keys())\n",
    "print( f\" ----- random sample factorial design of {len(df)} treatments' ----- \")\n",
    "print(df.head())\n"
   ]
  }
 ],
 "metadata": {
  "kernelspec": {
   "display_name": "Python 3 (ipykernel)",
   "language": "python",
   "name": "python3"
  },
  "language_info": {
   "codemirror_mode": {
    "name": "ipython",
    "version": 3
   },
   "file_extension": ".py",
   "mimetype": "text/x-python",
   "name": "python",
   "nbconvert_exporter": "python",
   "pygments_lexer": "ipython3",
   "version": "3.11.3"
  }
 },
 "nbformat": 4,
 "nbformat_minor": 5
}
