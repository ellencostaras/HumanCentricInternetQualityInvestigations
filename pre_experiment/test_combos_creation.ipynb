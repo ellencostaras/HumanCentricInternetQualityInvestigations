{
 "cells": [
  {
   "cell_type": "markdown",
   "id": "7894899d",
   "metadata": {},
   "source": [
    "# Functions to create CSV files of different treatments:"
   ]
  },
  {
   "cell_type": "code",
   "execution_count": 31,
   "id": "5d9912c1",
   "metadata": {},
   "outputs": [],
   "source": [
    "import csv\n",
    "import pandas as pd\n",
    "import random\n",
    "import numpy as np\n",
    "from itertools import product\n",
    "import random\n",
    "from pyDOE2 import *"
   ]
  },
  {
   "cell_type": "markdown",
   "id": "c1643ec4",
   "metadata": {},
   "source": [
    "### Creating a CSV combinatorially (without packet loss):"
   ]
  },
  {
   "cell_type": "code",
   "execution_count": 2,
   "id": "7138bcd2",
   "metadata": {},
   "outputs": [],
   "source": [
    "def create_csv(up_low, up_high, up_step, down_low, down_high, down_step, rtt_low, rtt_high, rtt_step):\n",
    "    \n",
    "    # creating values from range and stepsize\n",
    "    up_vals = []\n",
    "    for i in range(up_low, up_high+1, up_step):\n",
    "        up_vals.append(i * 1000) #converting Mbps into Kbps\n",
    "    \n",
    "    down_vals = []\n",
    "    for j in range(down_low, down_high+1, down_step):\n",
    "        down_vals.append(j * 1000) #converting Mbps into Kbps\n",
    "    \n",
    "    rtt_vals = []\n",
    "    for k in range(rtt_low, rtt_high+1, rtt_step):\n",
    "        rtt_vals.append(k)\n",
    "    \n",
    "    # creating combinations\n",
    "    combos = []\n",
    "    for i in up_vals:\n",
    "        for j in down_vals:\n",
    "            for k in rtt_vals:\n",
    "                combo = [i, j, k]\n",
    "                combos.append(combo)\n",
    "     \n",
    "    # adding a treatment number column\n",
    "    for treatment in range(len(combos)):\n",
    "        line = [treatment + 1] + combos[treatment]\n",
    "        combos[treatment] = line\n",
    "    \n",
    "    # writing out to a CSV file\n",
    "    with open(\"test_combos.csv\", \"w\", newline='') as file:\n",
    "        writer = csv.writer(file)\n",
    "        writer.writerow([\"treatment no.\", \"upload (kbps)\", \"download (kbps)\", \"latency (ms)\"])\n",
    "        for combo in combos:\n",
    "            writer.writerow(combo)\n",
    "            \n",
    "    return f\" ----- {len(combos)} treatments successfully created in file 'test_combos.csv' ----- \""
   ]
  },
  {
   "cell_type": "code",
   "execution_count": null,
   "id": "9da48be6",
   "metadata": {},
   "outputs": [],
   "source": [
    "up_low = 0 # Enter in Mbps\n",
    "up_high = 200 # Enter in Mbps\n",
    "up_step = 100 # Enter in Mbps\n",
    "down_low = 0 # Enter in Mbps\n",
    "down_high = 200 # Enter in Mbps\n",
    "down_step = 100 # Enter in Mbps\n",
    "rtt_low = 20 # Enter in ms\n",
    "rtt_high = 120 # Enter in ms\n",
    "rtt_step = 20 # Enter in ms\n",
    "\n",
    "create_csv(up_low, up_high, up_step, down_low, down_high, down_step, rtt_low, rtt_high, rtt_step)"
   ]
  },
  {
   "cell_type": "markdown",
   "id": "e8a6858f",
   "metadata": {},
   "source": [
    "### Creating a CSV combinatorially (with packet loss):"
   ]
  },
  {
   "cell_type": "code",
   "execution_count": null,
   "id": "c87ff61c",
   "metadata": {},
   "outputs": [],
   "source": [
    "def create_csv_with_packet_loss(up_low, up_high, up_step, down_low, down_high, down_step, rtt_low, rtt_high, rtt_step, pack_low, pack_high, pack_step):\n",
    "    \n",
    "    # creating values from range and stepsize\n",
    "    up_vals = []\n",
    "    for w in range(up_low, up_high+1, up_step):\n",
    "        up_vals.append(w * 1000) #converting Mbps into Kbps\n",
    "    \n",
    "    down_vals = []\n",
    "    for x in range(down_low, down_high+1, down_step):\n",
    "        down_vals.append(x * 1000) #converting Mbps into Kbps\n",
    "    \n",
    "    rtt_vals = []\n",
    "    for y in range(rtt_low, rtt_high+1, rtt_step):\n",
    "        rtt_vals.append(y)\n",
    "        \n",
    "    pack_vals = []\n",
    "    for z in range(pack_low, pack_high+1, pack_step):\n",
    "        pack_vals.append(z)\n",
    "    \n",
    "    # creating combinations\n",
    "    combos = []\n",
    "    for w in up_vals:\n",
    "        for x in down_vals:\n",
    "            for y in rtt_vals:\n",
    "                for z in pack_vals:\n",
    "                    combo = [w, x, y, z]\n",
    "                    combos.append(combo)\n",
    "    \n",
    "    # adding a treatment number column\n",
    "    for treatment in range(len(combos)):\n",
    "        line = [treatment + 1] + combos[treatment]\n",
    "        combos[treatment] = line\n",
    "    \n",
    "    # writing out to a CSV file\n",
    "    with open(\"test_combos.csv\", \"w\", newline='') as file:\n",
    "        writer = csv.writer(file)\n",
    "        writer.writerow([\"treatment no.\", \"upload (kbps)\", \"download (kbps)\", \"latency (ms)\", \"packet loss (%)\"])\n",
    "        for combo in combos:\n",
    "            writer.writerow(combo)\n",
    "            \n",
    "    return f\" ----- {len(combos)} treatments successfully created in file 'test_combos.csv' ----- \""
   ]
  },
  {
   "cell_type": "code",
   "execution_count": null,
   "id": "84639dac",
   "metadata": {},
   "outputs": [],
   "source": [
    "up_low = 0 # Enter in Mbps\n",
    "up_high = 200 # Enter in Mbps\n",
    "up_step = 100 # Enter in Mbps\n",
    "down_low = 0 # Enter in Mbps\n",
    "down_high = 200 # Enter in Mbps\n",
    "down_step = 100 # Enter in Mbps\n",
    "rtt_low = 20 # Enter in ms\n",
    "rtt_high = 120 # Enter in ms\n",
    "rtt_step = 20 # Enter in ms\n",
    "pack_low = 0 # Enter as percentage\n",
    "pack_high = 20 # Enter as percentage\n",
    "pack_step = 5 # Enter as percentage\n",
    "\n",
    "create_csv_with_packet_loss(up_low, up_high, up_step, down_low, down_high, down_step, rtt_low, rtt_high, rtt_step, pack_low, pack_high, pack_step)"
   ]
  },
  {
   "cell_type": "markdown",
   "id": "079d52f6",
   "metadata": {},
   "source": [
    "### Same thing except defining values for each varible instead of range and stepsize (without packet loss):"
   ]
  },
  {
   "cell_type": "code",
   "execution_count": 2,
   "id": "bb89c7ef",
   "metadata": {},
   "outputs": [],
   "source": [
    "def create_csv_specific(up_vals, down_vals, rtt_vals):\n",
    "    \n",
    "    # converting Mbps -> Kbps\n",
    "    for i in range(len(up_vals)):\n",
    "        up_vals[i] = up_vals[i] * 1000 \n",
    "        \n",
    "    for j in range(len(down_vals)):\n",
    "        down_vals[j] = down_vals[j] * 1000 \n",
    "    \n",
    "    # creating combinations\n",
    "    combos = []\n",
    "    for i1 in up_vals:\n",
    "        for j1 in down_vals:\n",
    "            for k1 in rtt_vals:\n",
    "                for i2 in up_vals:\n",
    "                    for j2 in down_vals:\n",
    "                        for k2 in rtt_vals:\n",
    "                            combo = [i1, j1, k1, i2, j2, k2]\n",
    "                            combos.append(combo)\n",
    "    \n",
    "    # adding a treatment number column\n",
    "    for treatment in range(len(combos)):\n",
    "        line = [treatment + 1] + combos[treatment]\n",
    "        combos[treatment] = line\n",
    "    \n",
    "    # writing out to a CSV file\n",
    "    with open(\"test_combos.csv\", \"w\", newline='') as file:\n",
    "        writer = csv.writer(file)\n",
    "        writer.writerow([\"treatment no\", \"e - upload (kbps)\", \"e - download (kbps)\", \"e - latency (ms)\", \"a - upload (kbps)\", \"a - download (kbps)\", \"a - latency (ms)\"])\n",
    "        for combo in combos:\n",
    "            writer.writerow(combo)\n",
    "            \n",
    "    return f\" ----- {len(combos)} treatments successfully created in file 'test_combos.csv' ----- \""
   ]
  },
  {
   "cell_type": "code",
   "execution_count": 3,
   "id": "2c4c7701",
   "metadata": {},
   "outputs": [
    {
     "data": {
      "text/plain": [
       "\" ----- 729 treatments successfully created in file 'test_combos.csv' ----- \""
      ]
     },
     "execution_count": 3,
     "metadata": {},
     "output_type": "execute_result"
    }
   ],
   "source": [
    "up_vals = [1, 20, 50] # Enter in Mbps\n",
    "down_vals = [10, 50, 100] # Enter in Mbps\n",
    "rtt_vals = [20, 350, 700] # Enter in ms\n",
    "\n",
    "\n",
    "create_csv_specific(up_vals, down_vals, rtt_vals)"
   ]
  },
  {
   "cell_type": "markdown",
   "id": "5fb4ed25",
   "metadata": {},
   "source": [
    "### Same thing except defining values for each varible instead of range and stepsize (with packet loss):"
   ]
  },
  {
   "cell_type": "code",
   "execution_count": 28,
   "id": "c34ea0ba",
   "metadata": {},
   "outputs": [],
   "source": [
    "def create_csv_specific_with_packet_loss(up_vals, down_vals, rtt_vals, pack_vals):\n",
    "    \n",
    "    # converting Mbps -> Kbps\n",
    "    for i in range(len(up_vals)):\n",
    "        up_vals[i] = up_vals[i] * 1000 \n",
    "        \n",
    "    for j in range(len(down_vals)):\n",
    "        down_vals[j] = down_vals[j] * 1000 \n",
    "    \n",
    "    # creating combinations\n",
    "    combos = []\n",
    "    for w in up_vals:\n",
    "        for x in down_vals:\n",
    "            for y in rtt_vals:\n",
    "                for z in pack_vals:\n",
    "                    combo = [w, x, y, z]\n",
    "                    combos.append(combo)\n",
    "    \n",
    "    # adding a treatment number column\n",
    "    for treatment in range(len(combos)):\n",
    "        line = [treatment + 1] + combos[treatment]\n",
    "        combos[treatment] = line\n",
    "    \n",
    "    # writing out to a CSV file\n",
    "    with open(\"test_combos_aadya.csv\", \"w\", newline='') as file:\n",
    "        writer = csv.writer(file)\n",
    "        writer.writerow([\"treatment no.\", \"upload (kbps)\", \"download (kbps)\", \"latency (ms)\", \"packet loss (%)\"])\n",
    "        for combo in combos:\n",
    "            writer.writerow(combo)\n",
    "            \n",
    "    return f\" ----- {len(combos)} treatments successfully created in file 'test_combos.csv' ----- \""
   ]
  },
  {
   "cell_type": "code",
   "execution_count": null,
   "id": "7d59ab61",
   "metadata": {},
   "outputs": [],
   "source": [
    "up_vals = [12, 25, 50, 100, 250, 1000] # Enter in Mbps\n",
    "down_vals = [12, 25, 50, 100, 250, 1000] # Enter in Mbps\n",
    "rtt_vals = [20, 50, 100, 150, 200, 300, 400] # Enter in ms\n",
    "pack_vals = [0, 5, 10, 15, 20, 30] # Enter as percentage\n",
    "\n",
    "create_csv_specific(up_vals, down_vals, rtt_vals, pack_vals)"
   ]
  },
  {
   "cell_type": "markdown",
   "id": "1187fab2",
   "metadata": {},
   "source": [
    "# Function to shuffle the rows in a CSV file"
   ]
  },
  {
   "cell_type": "code",
   "execution_count": 25,
   "id": "cbdd2286",
   "metadata": {},
   "outputs": [],
   "source": [
    "def shuffle_rows(filepath):\n",
    "    \n",
    "    # importing the CSV file rows\n",
    "    rows = []\n",
    "    with open(filepath, 'r') as file1:\n",
    "        csvreader = csv.reader(file1)\n",
    "        header = next(csvreader)\n",
    "        for row in csvreader:\n",
    "            rows.append(row)\n",
    "    \n",
    "    # shuffling the rows\n",
    "    random.shuffle(rows)\n",
    "    \n",
    "    # re-numbering the treatment no. column\n",
    "    for treatment in range(len(rows)):\n",
    "        rows[treatment][0] = treatment+1\n",
    "\n",
    "    # creating separate files (one for Ellen, one for Aadya)\n",
    "    ellens_rows = []\n",
    "    aadyas_rows = []\n",
    "    for row in rows:\n",
    "        ellen_combo = [row[0], row[1], row[2], row[3]]\n",
    "        aadya_combo = [row[0], row[4], row[5], row[6]]\n",
    "        ellens_rows.append(ellen_combo)\n",
    "        aadyas_rows.append(aadya_combo)\n",
    "    \n",
    "    # writing out shuffled rows to new CSV files \n",
    "    with open(\"test_combos_shuffled_ellen.csv\", \"w\", newline='') as file2:\n",
    "        writer = csv.writer(file2)\n",
    "        writer.writerow(['treatment no.', 'upload (kbps)', 'download (kbps)', 'latency (ms)'])\n",
    "        for row in ellens_rows:\n",
    "            writer.writerow(row)\n",
    "    with open(\"test_combos_shuffled_aadya.csv\", \"w\", newline='') as file3:\n",
    "        writer = csv.writer(file3)\n",
    "        writer.writerow(['treatment no.', 'upload (kbps)', 'download (kbps)', 'latency (ms)'])\n",
    "        for row in aadyas_rows:\n",
    "            writer.writerow(row)\n",
    "    \n",
    "    return f\"{len(rows)} rows successfully shuffled into new files: 'test_combos_shuffled_ellen.csv' and 'test_combos_shuffled_aadya.csv'\" "
   ]
  },
  {
   "cell_type": "code",
   "execution_count": 5,
   "id": "1f4ecef8",
   "metadata": {},
   "outputs": [
    {
     "data": {
      "text/plain": [
       "\"6 rows successfully shuffled into new files: 'test_combos_shuffled_ellen.csv' and 'test_combos_shuffled_aadya.csv'\""
      ]
     },
     "execution_count": 5,
     "metadata": {},
     "output_type": "execute_result"
    }
   ],
   "source": [
    "filepath = \"test_combos.csv\"\n",
    "shuffle_rows(filepath)"
   ]
  },
  {
   "cell_type": "markdown",
   "id": "0b014b4c",
   "metadata": {},
   "source": [
    "# FIRST REAL RUN CODE"
   ]
  },
  {
   "cell_type": "code",
   "execution_count": 1,
   "id": "058e181d",
   "metadata": {},
   "outputs": [],
   "source": [
    "def create_csv_specific_onesided(up_vals, down_vals, rtt_vals, repeats=3):\n",
    "    \n",
    "    # converting Mbps -> Kbps\n",
    "    for i in range(len(up_vals)):\n",
    "        up_vals[i] = up_vals[i] * 1000 \n",
    "        \n",
    "    for j in range(len(down_vals)):\n",
    "        down_vals[j] = down_vals[j] * 1000 \n",
    "    \n",
    "    # creating combinations\n",
    "    combos = []\n",
    "    initial_treatment = 1.0\n",
    "    for i1 in up_vals:\n",
    "        for j1 in down_vals:\n",
    "            for k1 in rtt_vals:\n",
    "                treatment = initial_treatment\n",
    "                for i in range(repeats):\n",
    "                    combo = [i1, j1, k1, round(treatment, 1)]\n",
    "                    combos.append(combo)\n",
    "                    treatment +=0.1\n",
    "                initial_treatment += 1\n",
    "                \n",
    "\n",
    "    # writing out to a CSV file\n",
    "    with open(\"test_combos_shuffled_aadya.csv\", \"w\", newline='') as file:\n",
    "        writer = csv.writer(file)\n",
    "        writer.writerow([\"upload (kbps)\", \"download (kbps)\", \"latency (ms)\", \"condition\"])\n",
    "        for combo in combos:\n",
    "            writer.writerow(combo)\n",
    "            \n",
    "    return f\" ----- {len(combos)} treatments successfully created in file 'test_combos_shuffled_aadya.csv' ----- \""
   ]
  },
  {
   "cell_type": "code",
   "execution_count": 9,
   "id": "00a74ada",
   "metadata": {},
   "outputs": [
    {
     "data": {
      "text/plain": [
       "\" ----- 192 treatments successfully created in file 'test_combos_shuffled_aadya.csv' ----- \""
      ]
     },
     "execution_count": 9,
     "metadata": {},
     "output_type": "execute_result"
    }
   ],
   "source": [
    "up =  [20, 5, 1, 0.5]  \n",
    "down = [25, 12, 5, 2]\n",
    "rtt = [250, 400, 550, 750]\n",
    "\n",
    "create_csv_specific_onesided(up, down, rtt, repeats = 3)"
   ]
  },
  {
   "cell_type": "markdown",
   "id": "01849b62",
   "metadata": {},
   "source": [
    "## Shuffle rows \n",
    "and add a treatment number sequence"
   ]
  },
  {
   "cell_type": "code",
   "execution_count": 10,
   "id": "2f3e1548",
   "metadata": {},
   "outputs": [],
   "source": [
    "df = pd.read_csv('test_combos_shuffled_aadya.csv')\n",
    "df = df.sample(frac=1).reset_index(drop=True)\n",
    "df.insert(0, 'Treatment no.', range(1, len(df) + 1))\n",
    "df = df.dropna(axis=1, how='all')\n",
    "df.columns = ['Treatment no.', 'Upload', 'Download', 'Latency', 'Condition']\n",
    "df.to_csv(\"test_combos_shuffled_aadya.csv\", index=False)"
   ]
  },
  {
   "cell_type": "markdown",
   "id": "7b2ae0cc",
   "metadata": {},
   "source": [
    "### Create a csv file with the same length as another one but they're all the same combination"
   ]
  },
  {
   "cell_type": "code",
   "execution_count": 52,
   "id": "8d9d0883",
   "metadata": {},
   "outputs": [],
   "source": [
    "combos_df = pd.read_csv('test_combos_shuffled_aadya.csv')\n",
    "num_rows = len(combos_df)\n",
    "treatment_numbers = list(range(1, num_rows + 1))\n",
    "new_data = {\n",
    "    'treatment no.': treatment_numbers, \n",
    "    'upload (kbps)': ['50000'] * num_rows, \n",
    "    'download (kbps)': ['100000']* num_rows,\n",
    "    'latency (ms)': ['50']* num_rows,}  \n",
    "new_df = pd.DataFrame(new_data)\n",
    "\n",
    "new_df.to_csv('test_combos_shuffled_ellen.csv', index=False)"
   ]
  },
  {
   "cell_type": "markdown",
   "id": "b199ccc0",
   "metadata": {},
   "source": [
    "# STAGE 1.1\n",
    "adding in a better download and rtt val"
   ]
  },
  {
   "cell_type": "code",
   "execution_count": 47,
   "id": "5b9c9ed7",
   "metadata": {},
   "outputs": [],
   "source": [
    "def create_csv_stage1_1(up_vals, down_vals, rtt_vals, repeats=3, file_name = \"test_combos_shuffled_aadya_1.csv\"):\n",
    "    \n",
    "    # converting Mbps -> Kbps\n",
    "    for i in range(len(up_vals)):\n",
    "        up_vals[i] = up_vals[i] * 1000 \n",
    "        \n",
    "    for j in range(len(down_vals)):\n",
    "        down_vals[j] = down_vals[j] * 1000 \n",
    "    \n",
    "    # creating combinations\n",
    "    combos = []\n",
    "    initial_treatment = 1.0\n",
    "    for i1 in up_vals:\n",
    "        for j1 in down_vals:\n",
    "            for k1 in rtt_vals:\n",
    "                treatment = initial_treatment\n",
    "                for i in range(repeats):\n",
    "                    combo = [i1, j1, k1, round(treatment, 1)]\n",
    "                    combos.append(combo)\n",
    "                    treatment +=0.1\n",
    "                initial_treatment += 1\n",
    "                \n",
    "\n",
    "    # writing out to a CSV file\n",
    "    with open(file_name, \"w\", newline='') as file:\n",
    "        writer = csv.writer(file)\n",
    "        writer.writerow([\"upload (kbps)\", \"download (kbps)\", \"latency (ms)\", \"condition\"])\n",
    "        for combo in combos:\n",
    "            writer.writerow(combo)\n",
    "            \n",
    "    return f\" ----- {len(combos)} treatments successfully created in file 'test_combos_shuffled_aadya1.csv' ----- \""
   ]
  },
  {
   "cell_type": "code",
   "execution_count": 49,
   "id": "3ee9599b",
   "metadata": {},
   "outputs": [],
   "source": [
    "up =  [20, 5, 1, 0.5]  \n",
    "down = [50]\n",
    "rtt = [100, 250, 400, 550, 750]\n",
    "\n",
    "file1 = create_csv_stage1_1(up, down, rtt, repeats = 3, file_name = \"test_combos_shuffled_aadya_1.csv\")\n",
    "\n",
    "up =  [20, 5, 1, 0.5]  \n",
    "down = [25, 12, 5, 2]\n",
    "rtt = [100]\n",
    "\n",
    "file2 = create_csv_stage1_1(up, down, rtt, repeats = 3, file_name = \"test_combos_shuffled_aadya_12.csv\")\n",
    "\n",
    "df1 = pd.read_csv(\"test_combos_shuffled_aadya_1.csv\")  # Replace with the path to your first CSV file\n",
    "df2 = pd.read_csv(\"test_combos_shuffled_aadya_12.csv\")  # Replace with the path to your second CSV file\n",
    "\n",
    "combined_df = pd.concat([df1, df2], ignore_index=True)  # Stacks the files vertically, one below the other\n",
    "\n",
    "combined_df.to_csv('combined_file.csv', index=False)  # Replace with your desired output file path"
   ]
  },
  {
   "cell_type": "code",
   "execution_count": 51,
   "id": "c64da85c",
   "metadata": {},
   "outputs": [],
   "source": [
    "df = pd.read_csv('combined_file.csv')\n",
    "df = df.sample(frac=1).reset_index(drop=True)\n",
    "df.insert(0, 'Treatment no.', range(193, len(df) + 193))\n",
    "df = df.dropna(axis=1, how='all')\n",
    "df.columns = ['Treatment no.', 'Upload', 'Download', 'Latency', 'Condition']\n",
    "df.to_csv(\"combined_test_combos_shuffled_aadya.csv\", index=False)"
   ]
  },
  {
   "cell_type": "markdown",
   "id": "b3e91b4b",
   "metadata": {},
   "source": [
    "# STAGE 2"
   ]
  },
  {
   "cell_type": "code",
   "execution_count": 55,
   "id": "23f61fec",
   "metadata": {},
   "outputs": [],
   "source": [
    "up =  [20, 5, 1, 0.5]  \n",
    "down = [50, 25, 12, 5, 2]\n",
    "rtt = [100, 250, 400, 550, 750]\n",
    "\n",
    "file1 = create_csv_stage1_1(up, down, rtt, repeats = 3, file_name = \"STAGE2_test_combos_aadya.csv\")"
   ]
  },
  {
   "cell_type": "code",
   "execution_count": 56,
   "id": "d44f13cd",
   "metadata": {},
   "outputs": [],
   "source": [
    "df = pd.read_csv('STAGE2_test_combos_aadya.csv')\n",
    "df = df.sample(frac=1).reset_index(drop=True)\n",
    "df.insert(0, 'Treatment no.', range(1, len(df) + 1))\n",
    "df = df.dropna(axis=1, how='all')\n",
    "df.columns = ['Treatment no.', 'Upload', 'Download', 'Latency', 'Condition']\n",
    "df.to_csv(\"STAGE2_test_combos_shuffled_aadya.csv\", index=False)"
   ]
  },
  {
   "cell_type": "markdown",
   "id": "ceb00060",
   "metadata": {},
   "source": [
    "# BOTH SIDES VARYING\n",
    "### full factorial number of combos script"
   ]
  },
  {
   "cell_type": "code",
   "execution_count": 41,
   "id": "800fb13c",
   "metadata": {},
   "outputs": [
    {
     "name": "stdout",
     "output_type": "stream",
     "text": [
      "Total tests: 10000\n"
     ]
    }
   ],
   "source": [
    "upload_speeds = [20, 5, 1, 0.5] \n",
    "download_speeds = [50, 25, 12, 5, 2]\n",
    "rtt_values = [100, 250, 400, 550, 750]\n",
    "\n",
    "# Enumerate all individual sets\n",
    "party_a_combinations = list(product(upload_speeds, download_speeds, rtt_values))\n",
    "party_b_combinations = list(product(upload_speeds, download_speeds, rtt_values))\n",
    "\n",
    "# enumerate all combination sets\n",
    "all_tests = list(product(party_a_combinations, party_b_combinations))\n",
    "\n",
    "# Print the number of tests\n",
    "print(f\"Total tests: {len(all_tests)}\")\n"
   ]
  },
  {
   "cell_type": "markdown",
   "id": "48f54758",
   "metadata": {},
   "source": [
    "## Sampling for not full factorial\n",
    "\n",
    "#### using stratified sampling"
   ]
  },
  {
   "cell_type": "code",
   "execution_count": 16,
   "id": "6aa6d328",
   "metadata": {},
   "outputs": [],
   "source": [
    "# Put all combos in an array\n",
    "combinations_array = np.array(party_a_combinations)\n",
    "\n",
    "\n",
    "def stratified_sampling(combinations, num_samples):\n",
    "    # initialise a disctionary that groups combinations by their levels (eg. all combinations with upload 20 can accessed from one place)\n",
    "    strata = {\n",
    "        'upload': {level: [] for level in set(combinations[:, 0])},\n",
    "        'download': {level: [] for level in set(combinations[:, 1])},\n",
    "        'rtt': {level: [] for level in set(combinations[:, 2])}\n",
    "    }\n",
    "    \n",
    "    for comb in combinations:\n",
    "        strata['upload'][comb[0]].append(tuple(comb))\n",
    "        strata['download'][comb[1]].append(tuple(comb))\n",
    "        strata['rtt'][comb[2]].append(tuple(comb))\n",
    "    \n",
    "    # Number of samples to select from each stratum\n",
    "    \n",
    "    samples_per_stratum = max(num_samples // (len(strata['upload']) * len(strata['download']) * len(strata['rtt'])), 1)\n",
    "    \n",
    "    selected_samples = set()\n",
    "    \n",
    "    # Randomly sample from each stratum\n",
    "    for upload_level, upload_stratum in strata['upload'].items():\n",
    "        for download_level, download_stratum in strata['download'].items():\n",
    "            for rtt_level, rtt_stratum in strata['rtt'].items():\n",
    "                # Find common elements in all three strata\n",
    "                stratum_comb = [c for c in upload_stratum if c in download_stratum and c in rtt_stratum]\n",
    "                if len(stratum_comb) > 0:\n",
    "                    selected_samples.update(random.sample(stratum_comb, min(samples_per_stratum, len(stratum_comb))))\n",
    "    \n",
    "    # Ensure we have exactly `num_samples` samples\n",
    "    if len(selected_samples) < num_samples:\n",
    "        remaining_samples = list(set(map(tuple, combinations)) - selected_samples)\n",
    "        additional_samples = random.sample(remaining_samples, num_samples - len(selected_samples))\n",
    "        selected_samples.update(additional_samples)\n",
    "    \n",
    "    return list(selected_samples)[:num_samples]"
   ]
  },
  {
   "cell_type": "code",
   "execution_count": 40,
   "id": "564fabbe",
   "metadata": {},
   "outputs": [
    {
     "name": "stdout",
     "output_type": "stream",
     "text": [
      "Representative Samples:\n",
      "Sample 1: (0.5, 12.0, 550.0)\n",
      "Sample 2: (0.5, 2.0, 250.0)\n",
      "Sample 3: (5.0, 12.0, 250.0)\n",
      "Sample 4: (1.0, 12.0, 400.0)\n",
      "Sample 5: (0.5, 25.0, 550.0)\n",
      "Sample 6: (5.0, 25.0, 400.0)\n",
      "Sample 7: (1.0, 25.0, 550.0)\n",
      "Sample 8: (20.0, 2.0, 750.0)\n",
      "Sample 9: (20.0, 12.0, 550.0)\n",
      "Sample 10: (5.0, 5.0, 400.0)\n",
      "Sample 11: (1.0, 5.0, 550.0)\n",
      "Sample 12: (0.5, 2.0, 750.0)\n",
      "Sample 13: (5.0, 12.0, 750.0)\n",
      "Sample 14: (0.5, 12.0, 400.0)\n",
      "Sample 15: (1.0, 12.0, 250.0)\n",
      "Sample 16: (5.0, 2.0, 550.0)\n",
      "Sample 17: (0.5, 25.0, 400.0)\n",
      "Sample 18: (5.0, 25.0, 250.0)\n",
      "Sample 19: (1.0, 25.0, 400.0)\n",
      "Sample 20: (0.5, 5.0, 550.0)\n"
     ]
    }
   ],
   "source": [
    "num_samples = 20\n",
    "representative_samples = stratified_sampling(combinations_array, num_samples)\n",
    "\n",
    "# Display the representative samples\n",
    "print(\"Representative Samples:\")\n",
    "for i, sample in enumerate(representative_samples, start=1):\n",
    "    print(f\"Sample {i}: {sample}\")"
   ]
  },
  {
   "cell_type": "code",
   "execution_count": 37,
   "id": "e0287ab1",
   "metadata": {},
   "outputs": [
    {
     "data": {
      "text/plain": [
       "array([[0., 0., 0.],\n",
       "       [1., 0., 0.],\n",
       "       [2., 0., 0.],\n",
       "       [3., 0., 0.],\n",
       "       [0., 1., 0.],\n",
       "       [1., 1., 0.],\n",
       "       [2., 1., 0.],\n",
       "       [3., 1., 0.],\n",
       "       [0., 2., 0.],\n",
       "       [1., 2., 0.],\n",
       "       [2., 2., 0.],\n",
       "       [3., 2., 0.],\n",
       "       [0., 3., 0.],\n",
       "       [1., 3., 0.],\n",
       "       [2., 3., 0.],\n",
       "       [3., 3., 0.],\n",
       "       [0., 0., 1.],\n",
       "       [1., 0., 1.],\n",
       "       [2., 0., 1.],\n",
       "       [3., 0., 1.],\n",
       "       [0., 1., 1.],\n",
       "       [1., 1., 1.],\n",
       "       [2., 1., 1.],\n",
       "       [3., 1., 1.],\n",
       "       [0., 2., 1.],\n",
       "       [1., 2., 1.],\n",
       "       [2., 2., 1.],\n",
       "       [3., 2., 1.],\n",
       "       [0., 3., 1.],\n",
       "       [1., 3., 1.],\n",
       "       [2., 3., 1.],\n",
       "       [3., 3., 1.],\n",
       "       [0., 0., 2.],\n",
       "       [1., 0., 2.],\n",
       "       [2., 0., 2.],\n",
       "       [3., 0., 2.],\n",
       "       [0., 1., 2.],\n",
       "       [1., 1., 2.],\n",
       "       [2., 1., 2.],\n",
       "       [3., 1., 2.],\n",
       "       [0., 2., 2.],\n",
       "       [1., 2., 2.],\n",
       "       [2., 2., 2.],\n",
       "       [3., 2., 2.],\n",
       "       [0., 3., 2.],\n",
       "       [1., 3., 2.],\n",
       "       [2., 3., 2.],\n",
       "       [3., 3., 2.],\n",
       "       [0., 0., 3.],\n",
       "       [1., 0., 3.],\n",
       "       [2., 0., 3.],\n",
       "       [3., 0., 3.],\n",
       "       [0., 1., 3.],\n",
       "       [1., 1., 3.],\n",
       "       [2., 1., 3.],\n",
       "       [3., 1., 3.],\n",
       "       [0., 2., 3.],\n",
       "       [1., 2., 3.],\n",
       "       [2., 2., 3.],\n",
       "       [3., 2., 3.],\n",
       "       [0., 3., 3.],\n",
       "       [1., 3., 3.],\n",
       "       [2., 3., 3.],\n",
       "       [3., 3., 3.]])"
      ]
     },
     "execution_count": 37,
     "metadata": {},
     "output_type": "execute_result"
    }
   ],
   "source": [
    "levels = [4,4, 4]\n",
    "fullfact(levels)\n"
   ]
  },
  {
   "cell_type": "code",
   "execution_count": 36,
   "id": "32aba7ac",
   "metadata": {},
   "outputs": [
    {
     "data": {
      "text/plain": [
       "array([[-1., -1., -1.],\n",
       "       [ 1., -1., -1.],\n",
       "       [-1.,  1., -1.],\n",
       "       [ 1.,  1., -1.],\n",
       "       [-1., -1.,  1.],\n",
       "       [ 1., -1.,  1.],\n",
       "       [-1.,  1.,  1.],\n",
       "       [ 1.,  1.,  1.]])"
      ]
     },
     "execution_count": 36,
     "metadata": {},
     "output_type": "execute_result"
    }
   ],
   "source": [
    "ff2n(3)"
   ]
  },
  {
   "cell_type": "code",
   "execution_count": null,
   "id": "4b84e04e",
   "metadata": {},
   "outputs": [],
   "source": []
  }
 ],
 "metadata": {
  "kernelspec": {
   "display_name": "Python 3 (ipykernel)",
   "language": "python",
   "name": "python3"
  },
  "language_info": {
   "codemirror_mode": {
    "name": "ipython",
    "version": 3
   },
   "file_extension": ".py",
   "mimetype": "text/x-python",
   "name": "python",
   "nbconvert_exporter": "python",
   "pygments_lexer": "ipython3",
   "version": "3.10.9"
  }
 },
 "nbformat": 4,
 "nbformat_minor": 5
}
