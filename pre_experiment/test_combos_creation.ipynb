{
 "cells": [
  {
   "cell_type": "markdown",
   "id": "7894899d",
   "metadata": {},
   "source": [
    "# Functions to create CSV files of different treatments:"
   ]
  },
  {
   "cell_type": "code",
   "execution_count": 3,
   "id": "5d9912c1",
   "metadata": {},
   "outputs": [],
   "source": [
    "import csv\n",
    "import pandas as pd\n",
    "import random"
   ]
  },
  {
   "cell_type": "markdown",
   "id": "c1643ec4",
   "metadata": {},
   "source": [
    "### Creating a CSV combinatorially (without packet loss):"
   ]
  },
  {
   "cell_type": "code",
   "execution_count": 2,
   "id": "7138bcd2",
   "metadata": {},
   "outputs": [],
   "source": [
    "def create_csv(up_low, up_high, up_step, down_low, down_high, down_step, rtt_low, rtt_high, rtt_step):\n",
    "    \n",
    "    # creating values from range and stepsize\n",
    "    up_vals = []\n",
    "    for i in range(up_low, up_high+1, up_step):\n",
    "        up_vals.append(i * 1000) #converting Mbps into Kbps\n",
    "    \n",
    "    down_vals = []\n",
    "    for j in range(down_low, down_high+1, down_step):\n",
    "        down_vals.append(j * 1000) #converting Mbps into Kbps\n",
    "    \n",
    "    rtt_vals = []\n",
    "    for k in range(rtt_low, rtt_high+1, rtt_step):\n",
    "        rtt_vals.append(k)\n",
    "    \n",
    "    # creating combinations\n",
    "    combos = []\n",
    "    for i in up_vals:\n",
    "        for j in down_vals:\n",
    "            for k in rtt_vals:\n",
    "                combo = [i, j, k]\n",
    "                combos.append(combo)\n",
    "     \n",
    "    # adding a treatment number column\n",
    "    for treatment in range(len(combos)):\n",
    "        line = [treatment + 1] + combos[treatment]\n",
    "        combos[treatment] = line\n",
    "    \n",
    "    # writing out to a CSV file\n",
    "    with open(\"test_combos.csv\", \"w\", newline='') as file:\n",
    "        writer = csv.writer(file)\n",
    "        writer.writerow([\"treatment no.\", \"upload (kbps)\", \"download (kbps)\", \"latency (ms)\"])\n",
    "        for combo in combos:\n",
    "            writer.writerow(combo)\n",
    "            \n",
    "    return f\" ----- {len(combos)} treatments successfully created in file 'test_combos.csv' ----- \""
   ]
  },
  {
   "cell_type": "code",
   "execution_count": null,
   "id": "9da48be6",
   "metadata": {},
   "outputs": [],
   "source": [
    "up_low = 0 # Enter in Mbps\n",
    "up_high = 200 # Enter in Mbps\n",
    "up_step = 100 # Enter in Mbps\n",
    "down_low = 0 # Enter in Mbps\n",
    "down_high = 200 # Enter in Mbps\n",
    "down_step = 100 # Enter in Mbps\n",
    "rtt_low = 20 # Enter in ms\n",
    "rtt_high = 120 # Enter in ms\n",
    "rtt_step = 20 # Enter in ms\n",
    "\n",
    "create_csv(up_low, up_high, up_step, down_low, down_high, down_step, rtt_low, rtt_high, rtt_step)"
   ]
  },
  {
   "cell_type": "markdown",
   "id": "e8a6858f",
   "metadata": {},
   "source": [
    "### Creating a CSV combinatorially (with packet loss):"
   ]
  },
  {
   "cell_type": "code",
   "execution_count": null,
   "id": "c87ff61c",
   "metadata": {},
   "outputs": [],
   "source": [
    "def create_csv_with_packet_loss(up_low, up_high, up_step, down_low, down_high, down_step, rtt_low, rtt_high, rtt_step, pack_low, pack_high, pack_step):\n",
    "    \n",
    "    # creating values from range and stepsize\n",
    "    up_vals = []\n",
    "    for w in range(up_low, up_high+1, up_step):\n",
    "        up_vals.append(w * 1000) #converting Mbps into Kbps\n",
    "    \n",
    "    down_vals = []\n",
    "    for x in range(down_low, down_high+1, down_step):\n",
    "        down_vals.append(x * 1000) #converting Mbps into Kbps\n",
    "    \n",
    "    rtt_vals = []\n",
    "    for y in range(rtt_low, rtt_high+1, rtt_step):\n",
    "        rtt_vals.append(y)\n",
    "        \n",
    "    pack_vals = []\n",
    "    for z in range(pack_low, pack_high+1, pack_step):\n",
    "        pack_vals.append(z)\n",
    "    \n",
    "    # creating combinations\n",
    "    combos = []\n",
    "    for w in up_vals:\n",
    "        for x in down_vals:\n",
    "            for y in rtt_vals:\n",
    "                for z in pack_vals:\n",
    "                    combo = [w, x, y, z]\n",
    "                    combos.append(combo)\n",
    "    \n",
    "    # adding a treatment number column\n",
    "    for treatment in range(len(combos)):\n",
    "        line = [treatment + 1] + combos[treatment]\n",
    "        combos[treatment] = line\n",
    "    \n",
    "    # writing out to a CSV file\n",
    "    with open(\"test_combos.csv\", \"w\", newline='') as file:\n",
    "        writer = csv.writer(file)\n",
    "        writer.writerow([\"treatment no.\", \"upload (kbps)\", \"download (kbps)\", \"latency (ms)\", \"packet loss (%)\"])\n",
    "        for combo in combos:\n",
    "            writer.writerow(combo)\n",
    "            \n",
    "    return f\" ----- {len(combos)} treatments successfully created in file 'test_combos.csv' ----- \""
   ]
  },
  {
   "cell_type": "code",
   "execution_count": null,
   "id": "84639dac",
   "metadata": {},
   "outputs": [],
   "source": [
    "up_low = 0 # Enter in Mbps\n",
    "up_high = 200 # Enter in Mbps\n",
    "up_step = 100 # Enter in Mbps\n",
    "down_low = 0 # Enter in Mbps\n",
    "down_high = 200 # Enter in Mbps\n",
    "down_step = 100 # Enter in Mbps\n",
    "rtt_low = 20 # Enter in ms\n",
    "rtt_high = 120 # Enter in ms\n",
    "rtt_step = 20 # Enter in ms\n",
    "pack_low = 0 # Enter as percentage\n",
    "pack_high = 20 # Enter as percentage\n",
    "pack_step = 5 # Enter as percentage\n",
    "\n",
    "create_csv_with_packet_loss(up_low, up_high, up_step, down_low, down_high, down_step, rtt_low, rtt_high, rtt_step, pack_low, pack_high, pack_step)"
   ]
  },
  {
   "cell_type": "markdown",
   "id": "079d52f6",
   "metadata": {},
   "source": [
    "### Same thing except defining values for each varible instead of range and stepsize (without packet loss):"
   ]
  },
  {
   "cell_type": "code",
   "execution_count": 2,
   "id": "bb89c7ef",
   "metadata": {},
   "outputs": [],
   "source": [
    "def create_csv_specific(up_vals, down_vals, rtt_vals):\n",
    "    \n",
    "    # converting Mbps -> Kbps\n",
    "    for i in range(len(up_vals)):\n",
    "        up_vals[i] = up_vals[i] * 1000 \n",
    "        \n",
    "    for j in range(len(down_vals)):\n",
    "        down_vals[j] = down_vals[j] * 1000 \n",
    "    \n",
    "    # creating combinations\n",
    "    combos = []\n",
    "    for i1 in up_vals:\n",
    "        for j1 in down_vals:\n",
    "            for k1 in rtt_vals:\n",
    "                for i2 in up_vals:\n",
    "                    for j2 in down_vals:\n",
    "                        for k2 in rtt_vals:\n",
    "                            combo = [i1, j1, k1, i2, j2, k2]\n",
    "                            combos.append(combo)\n",
    "    \n",
    "    # adding a treatment number column\n",
    "    for treatment in range(len(combos)):\n",
    "        line = [treatment + 1] + combos[treatment]\n",
    "        combos[treatment] = line\n",
    "    \n",
    "    # writing out to a CSV file\n",
    "    with open(\"test_combos.csv\", \"w\", newline='') as file:\n",
    "        writer = csv.writer(file)\n",
    "        writer.writerow([\"treatment no\", \"e - upload (kbps)\", \"e - download (kbps)\", \"e - latency (ms)\", \"a - upload (kbps)\", \"a - download (kbps)\", \"a - latency (ms)\"])\n",
    "        for combo in combos:\n",
    "            writer.writerow(combo)\n",
    "            \n",
    "    return f\" ----- {len(combos)} treatments successfully created in file 'test_combos.csv' ----- \""
   ]
  },
  {
   "cell_type": "code",
   "execution_count": 3,
   "id": "2c4c7701",
   "metadata": {},
   "outputs": [
    {
     "data": {
      "text/plain": [
       "\" ----- 729 treatments successfully created in file 'test_combos.csv' ----- \""
      ]
     },
     "execution_count": 3,
     "metadata": {},
     "output_type": "execute_result"
    }
   ],
   "source": [
    "up_vals = [1, 20, 50] # Enter in Mbps\n",
    "down_vals = [10, 50, 100] # Enter in Mbps\n",
    "rtt_vals = [20, 350, 700] # Enter in ms\n",
    "\n",
    "\n",
    "create_csv_specific(up_vals, down_vals, rtt_vals)"
   ]
  },
  {
   "cell_type": "markdown",
   "id": "5fb4ed25",
   "metadata": {},
   "source": [
    "### Same thing except defining values for each varible instead of range and stepsize (with packet loss):"
   ]
  },
  {
   "cell_type": "code",
   "execution_count": 28,
   "id": "c34ea0ba",
   "metadata": {},
   "outputs": [],
   "source": [
    "def create_csv_specific_with_packet_loss(up_vals, down_vals, rtt_vals, pack_vals):\n",
    "    \n",
    "    # converting Mbps -> Kbps\n",
    "    for i in range(len(up_vals)):\n",
    "        up_vals[i] = up_vals[i] * 1000 \n",
    "        \n",
    "    for j in range(len(down_vals)):\n",
    "        down_vals[j] = down_vals[j] * 1000 \n",
    "    \n",
    "    # creating combinations\n",
    "    combos = []\n",
    "    for w in up_vals:\n",
    "        for x in down_vals:\n",
    "            for y in rtt_vals:\n",
    "                for z in pack_vals:\n",
    "                    combo = [w, x, y, z]\n",
    "                    combos.append(combo)\n",
    "    \n",
    "    # adding a treatment number column\n",
    "    for treatment in range(len(combos)):\n",
    "        line = [treatment + 1] + combos[treatment]\n",
    "        combos[treatment] = line\n",
    "    \n",
    "    # writing out to a CSV file\n",
    "    with open(\"test_combos_aadya.csv\", \"w\", newline='') as file:\n",
    "        writer = csv.writer(file)\n",
    "        writer.writerow([\"treatment no.\", \"upload (kbps)\", \"download (kbps)\", \"latency (ms)\", \"packet loss (%)\"])\n",
    "        for combo in combos:\n",
    "            writer.writerow(combo)\n",
    "            \n",
    "    return f\" ----- {len(combos)} treatments successfully created in file 'test_combos.csv' ----- \""
   ]
  },
  {
   "cell_type": "code",
   "execution_count": null,
   "id": "7d59ab61",
   "metadata": {},
   "outputs": [],
   "source": [
    "up_vals = [12, 25, 50, 100, 250, 1000] # Enter in Mbps\n",
    "down_vals = [12, 25, 50, 100, 250, 1000] # Enter in Mbps\n",
    "rtt_vals = [20, 50, 100, 150, 200, 300, 400] # Enter in ms\n",
    "pack_vals = [0, 5, 10, 15, 20, 30] # Enter as percentage\n",
    "\n",
    "create_csv_specific(up_vals, down_vals, rtt_vals, pack_vals)"
   ]
  },
  {
   "cell_type": "markdown",
   "id": "1187fab2",
   "metadata": {},
   "source": [
    "# Function to shuffle the rows in a CSV file"
   ]
  },
  {
   "cell_type": "code",
   "execution_count": 25,
   "id": "cbdd2286",
   "metadata": {},
   "outputs": [],
   "source": [
    "def shuffle_rows(filepath):\n",
    "    \n",
    "    # importing the CSV file rows\n",
    "    rows = []\n",
    "    with open(filepath, 'r') as file1:\n",
    "        csvreader = csv.reader(file1)\n",
    "        header = next(csvreader)\n",
    "        for row in csvreader:\n",
    "            rows.append(row)\n",
    "    \n",
    "    # shuffling the rows\n",
    "    random.shuffle(rows)\n",
    "    \n",
    "    # re-numbering the treatment no. column\n",
    "    for treatment in range(len(rows)):\n",
    "        rows[treatment][0] = treatment+1\n",
    "\n",
    "    # creating separate files (one for Ellen, one for Aadya)\n",
    "    ellens_rows = []\n",
    "    aadyas_rows = []\n",
    "    for row in rows:\n",
    "        ellen_combo = [row[0], row[1], row[2], row[3]]\n",
    "        aadya_combo = [row[0], row[4], row[5], row[6]]\n",
    "        ellens_rows.append(ellen_combo)\n",
    "        aadyas_rows.append(aadya_combo)\n",
    "    \n",
    "    # writing out shuffled rows to new CSV files \n",
    "    with open(\"test_combos_shuffled_ellen.csv\", \"w\", newline='') as file2:\n",
    "        writer = csv.writer(file2)\n",
    "        writer.writerow(['treatment no.', 'upload (kbps)', 'download (kbps)', 'latency (ms)'])\n",
    "        for row in ellens_rows:\n",
    "            writer.writerow(row)\n",
    "    with open(\"test_combos_shuffled_aadya.csv\", \"w\", newline='') as file3:\n",
    "        writer = csv.writer(file3)\n",
    "        writer.writerow(['treatment no.', 'upload (kbps)', 'download (kbps)', 'latency (ms)'])\n",
    "        for row in aadyas_rows:\n",
    "            writer.writerow(row)\n",
    "    \n",
    "    return f\"{len(rows)} rows successfully shuffled into new files: 'test_combos_shuffled_ellen.csv' and 'test_combos_shuffled_aadya.csv'\" "
   ]
  },
  {
   "cell_type": "code",
   "execution_count": 5,
   "id": "1f4ecef8",
   "metadata": {},
   "outputs": [
    {
     "data": {
      "text/plain": [
       "\"6 rows successfully shuffled into new files: 'test_combos_shuffled_ellen.csv' and 'test_combos_shuffled_aadya.csv'\""
      ]
     },
     "execution_count": 5,
     "metadata": {},
     "output_type": "execute_result"
    }
   ],
   "source": [
    "filepath = \"test_combos.csv\"\n",
    "shuffle_rows(filepath)"
   ]
  },
  {
   "cell_type": "markdown",
   "id": "0b014b4c",
   "metadata": {},
   "source": [
    "# FIRST REAL RUN CODE"
   ]
  },
  {
   "cell_type": "code",
   "execution_count": 1,
   "id": "058e181d",
   "metadata": {},
   "outputs": [],
   "source": [
    "def create_csv_specific_onesided(up_vals, down_vals, rtt_vals, repeats=3):\n",
    "    \n",
    "    # converting Mbps -> Kbps\n",
    "    for i in range(len(up_vals)):\n",
    "        up_vals[i] = up_vals[i] * 1000 \n",
    "        \n",
    "    for j in range(len(down_vals)):\n",
    "        down_vals[j] = down_vals[j] * 1000 \n",
    "    \n",
    "    # creating combinations\n",
    "    combos = []\n",
    "    initial_treatment = 1.0\n",
    "    for i1 in up_vals:\n",
    "        for j1 in down_vals:\n",
    "            for k1 in rtt_vals:\n",
    "                treatment = initial_treatment\n",
    "                for i in range(repeats):\n",
    "                    combo = [i1, j1, k1, round(treatment, 1)]\n",
    "                    combos.append(combo)\n",
    "                    treatment +=0.1\n",
    "                initial_treatment += 1\n",
    "                \n",
    "\n",
    "    # writing out to a CSV file\n",
    "    with open(\"test_combos_shuffled_aadya.csv\", \"w\", newline='') as file:\n",
    "        writer = csv.writer(file)\n",
    "        writer.writerow([\"upload (kbps)\", \"download (kbps)\", \"latency (ms)\", \"condition\"])\n",
    "        for combo in combos:\n",
    "            writer.writerow(combo)\n",
    "            \n",
    "    return f\" ----- {len(combos)} treatments successfully created in file 'test_combos_shuffled_aadya.csv' ----- \""
   ]
  },
  {
   "cell_type": "code",
   "execution_count": 4,
   "id": "00a74ada",
   "metadata": {},
   "outputs": [
    {
     "data": {
      "text/plain": [
       "\" ----- 192 treatments successfully created in file 'test_combos_shuffled_aadya.csv' ----- \""
      ]
     },
     "execution_count": 4,
     "metadata": {},
     "output_type": "execute_result"
    }
   ],
   "source": [
    "up =  [20, 5, 1, 0.5]  \n",
    "down = [25, 12, 5, 2]\n",
    "rtt = [250, 400, 550, 750]\n",
    "\n",
    "create_csv_specific_onesided(up, down, rtt, repeats = 3)"
   ]
  },
  {
   "cell_type": "markdown",
   "id": "01849b62",
   "metadata": {},
   "source": [
    "## Shuffle rows \n",
    "and add a treatment number sequence"
   ]
  },
  {
   "cell_type": "code",
   "execution_count": 6,
   "id": "2f3e1548",
   "metadata": {},
   "outputs": [],
   "source": [
    "df = pd.read_csv('test_combos_shuffled_aadya.csv')\n",
    "df = df.sample(frac=1).reset_index(drop=True)\n",
    "df.insert(0, 'Treatment no.', range(1, len(df) + 1))\n",
    "df = df.dropna(axis=1, how='all')\n",
    "df.columns = ['Treatment no.', 'Upload', 'Download', 'Latency', 'Condition']\n",
    "df.to_csv(\"test_combos_shuffled_aadya.csv\", index=False)"
   ]
  },
  {
   "cell_type": "markdown",
   "id": "7b2ae0cc",
   "metadata": {},
   "source": [
    "### Create a csv file with the same length as another one but they're all the same combination"
   ]
  },
  {
   "cell_type": "code",
   "execution_count": 8,
   "id": "8d9d0883",
   "metadata": {},
   "outputs": [],
   "source": [
    "combos_df = pd.read_csv('test_combos_shuffled_aadya.csv')\n",
    "num_rows = len(combos_df)\n",
    "treatment_numbers = list(range(1, num_rows + 1))\n",
    "new_data = {\n",
    "    'treatment no.': treatment_numbers, \n",
    "    'upload (kbps)': ['50000'] * num_rows, \n",
    "    'download (kbps)': ['100000']* num_rows,\n",
    "    'latency (ms)': ['50']* num_rows,}  \n",
    "new_df = pd.DataFrame(new_data)\n",
    "\n",
    "new_df.to_csv('test_combos_shuffled_ellen.csv', index=False)"
   ]
  },
  {
   "cell_type": "code",
   "execution_count": null,
   "id": "800fb13c",
   "metadata": {},
   "outputs": [],
   "source": []
  }
 ],
 "metadata": {
  "kernelspec": {
   "display_name": "Python 3 (ipykernel)",
   "language": "python",
   "name": "python3"
  },
  "language_info": {
   "codemirror_mode": {
    "name": "ipython",
    "version": 3
   },
   "file_extension": ".py",
   "mimetype": "text/x-python",
   "name": "python",
   "nbconvert_exporter": "python",
   "pygments_lexer": "ipython3",
   "version": "3.10.9"
  }
 },
 "nbformat": 4,
 "nbformat_minor": 5
}
