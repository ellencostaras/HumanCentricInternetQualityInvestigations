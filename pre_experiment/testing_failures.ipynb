{
 "cells": [
  {
   "cell_type": "code",
   "execution_count": 16,
   "metadata": {},
   "outputs": [
    {
     "name": "stdout",
     "output_type": "stream",
     "text": [
      "    Treatment no.   Upload  Download  Latency  Condition  Total Score\n",
      "0              38    500.0      5000      250       57.0            7\n",
      "1              43   5000.0     25000      400       18.0           10\n",
      "2              44  20000.0     12000      750        8.1            8\n",
      "3              45    500.0     25000      550       51.2            7\n",
      "4              46   5000.0     25000      250       17.1           11\n",
      "5              47    500.0     25000      750       52.1            6\n",
      "6              48   5000.0      5000      250       25.2            9\n",
      "7              49   1000.0     25000      550       35.2            8\n",
      "8              50   1000.0      5000      400       42.0            7\n",
      "9              51   1000.0     25000      750       36.1            7\n",
      "10             52    500.0     25000      250       49.0            9\n",
      "11             69   1000.0     25000      750       36.2            7\n",
      "12             75   1000.0      2000      750       48.1            4\n",
      "13             91  20000.0     25000      400        2.1           11\n",
      "14             94    500.0     12000      750       56.2            5\n",
      "15            110   1000.0     25000      250       33.0           10\n",
      "16            124    500.0      5000      400       58.1            6\n",
      "17            126   5000.0     25000      750       20.0            8\n",
      "18            134  20000.0     12000      400        6.1           10\n",
      "Average Score: 7.89\n"
     ]
    }
   ],
   "source": [
    "import pandas as pd\n",
    "\n",
    "# Load the CSV file into a DataFrame\n",
    "df = pd.read_csv('seeing_patterns.csv')\n",
    "\n",
    "# Count the occurrences of each unique value in the 'Treatment no.' column\n",
    "df['Upload'].value_counts()\n",
    "\n",
    "# Define the scoring system\n",
    "\n",
    "upload_speeds = [20, 5, 1, 0.5] \n",
    "download_speeds = [25, 12, 5, 2]\n",
    "rtt_values = [250, 400, 550, 750]\n",
    "\n",
    "scoring = {\n",
    "    'Upload': {500: 1, 1000: 2, 5000: 3, 20000: 4},\n",
    "    'Download': {25000 : 4, 12000: 3, 5000: 2, 2000: 1},\n",
    "    'Latency' : {750: 1, 550: 2, 400: 3, 250: 4}\n",
    "    }\n",
    "\n",
    "# Function to map values to scores\n",
    "def score_row(row, scoring):\n",
    "    score = 0\n",
    "    for column, score_map in scoring.items():\n",
    "        if row[column] in score_map:\n",
    "            score += score_map[row[column]]\n",
    "    return score\n",
    "\n",
    "# Apply the scoring system to each row\n",
    "df['Total Score'] = df.apply(lambda row: score_row(row, scoring), axis=1)\n",
    "\n",
    "# Display the DataFrame with total scores\n",
    "print(df)\n",
    "average_score = df['Total Score'].mean()\n",
    "print(f\"Average Score: {average_score:.2f}\")\n"
   ]
  },
  {
   "cell_type": "code",
   "execution_count": 17,
   "metadata": {},
   "outputs": [
    {
     "name": "stdout",
     "output_type": "stream",
     "text": [
      "Average Score: 7.50\n"
     ]
    }
   ],
   "source": [
    "import pandas as pd\n",
    "\n",
    "# Load the CSV file into a DataFrame\n",
    "df = pd.read_csv('test_combos_shuffled_aadya.csv')\n",
    "\n",
    "# Count the occurrences of each unique value in the 'Treatment no.' column\n",
    "df['Upload'].value_counts()\n",
    "\n",
    "# Define the scoring system\n",
    "\n",
    "upload_speeds = [20, 5, 1, 0.5] \n",
    "download_speeds = [25, 12, 5, 2]\n",
    "rtt_values = [250, 400, 550, 750]\n",
    "\n",
    "scoring = {\n",
    "    'Upload': {500: 1, 1000: 2, 5000: 3, 20000: 4},\n",
    "    'Download': {25000 : 4, 12000: 3, 5000: 2, 2000: 1},\n",
    "    'Latency' : {750: 1, 550: 2, 400: 3, 250: 4}\n",
    "    }\n",
    "\n",
    "# Function to map values to scores\n",
    "def score_row(row, scoring):\n",
    "    score = 0\n",
    "    for column, score_map in scoring.items():\n",
    "        if row[column] in score_map:\n",
    "            score += score_map[row[column]]\n",
    "    return score\n",
    "\n",
    "# Apply the scoring system to each row\n",
    "df['Total Score'] = df.apply(lambda row: score_row(row, scoring), axis=1)\n",
    "\n",
    "# Display the DataFrame with total scores\n",
    "#print(df)\n",
    "average_score = df['Total Score'].mean()\n",
    "print(f\"Average Score: {average_score:.2f}\")\n"
   ]
  },
  {
   "cell_type": "code",
   "execution_count": null,
   "metadata": {},
   "outputs": [],
   "source": []
  }
 ],
 "metadata": {
  "kernelspec": {
   "display_name": "base",
   "language": "python",
   "name": "python3"
  },
  "language_info": {
   "codemirror_mode": {
    "name": "ipython",
    "version": 3
   },
   "file_extension": ".py",
   "mimetype": "text/x-python",
   "name": "python",
   "nbconvert_exporter": "python",
   "pygments_lexer": "ipython3",
   "version": "3.10.9"
  }
 },
 "nbformat": 4,
 "nbformat_minor": 2
}
