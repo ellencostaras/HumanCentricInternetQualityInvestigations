{
 "cells": [
  {
   "cell_type": "code",
   "execution_count": 2,
   "metadata": {},
   "outputs": [],
   "source": [
    "import pandas as pd\n",
    "import csv\n",
    "import numpy as np\n",
    "import matplotlib.pyplot as plt\n",
    "import glob\n",
    "import os"
   ]
  },
  {
   "cell_type": "code",
   "execution_count": 3,
   "metadata": {},
   "outputs": [],
   "source": [
    " #################REPLACE WITH ACTUAL FOLDER OF CSVs\n",
    "folder_path = \"/Users/User/Documents/GitHub/DesktopDownthrottlingExperiment/post_experiment/CSV_files_test_13Aug\"\n",
    "csv_files = glob.glob(os.path.join(folder_path, \"*.csv\"))\n",
    "dataframes = [pd.read_csv(file) for file in csv_files]"
   ]
  },
  {
   "cell_type": "code",
   "execution_count": null,
   "metadata": {},
   "outputs": [],
   "source": [
    "\n",
    "def master_graphing(x_var, y_var = None, multiple_treatments= False, treatment_range = None):\n",
    "    if multiple_treatments:\n",
    "        i = treatment_range(0)\n",
    "        arrays = []\n",
    "        while i in range(treatment_range):\n",
    "            file_path = file_paths[i]\n",
    "            arrays.append(extract_row(file_path))\n",
    "            i+=1\n",
    "        plot_multiple_arrays(arrays, x_var)"
   ]
  },
  {
   "cell_type": "code",
   "execution_count": null,
   "metadata": {},
   "outputs": [],
   "source": [
    "def extract_row(file_path, name):\n",
    "# Input: file_path string and key string (to search in first col)\n",
    "######a problem with this is it finds the first row with that name, as in can't differentiate with inbound/ outbound\n",
    "#############################CAN we rename the vars so they're unique?\n",
    "# Output: np.array of values \n",
    "    with open(file_path, 'r') as file:\n",
    "        reader = csv.reader(file)\n",
    "        for row in reader:\n",
    "            if row and name in row[0]:\n",
    "                return np.array([float(value) for value in row[1:]])\n",
    "    return np.array([])"
   ]
  },
  {
   "cell_type": "code",
   "execution_count": 1,
   "metadata": {},
   "outputs": [],
   "source": [
    "def plot_multiple_arrays(arrays, labels=None, title=\"Plot\", xlabel=\"Time [s]\", ylabel=\"Value\"):\n",
    "    plt.figure(figsize=(10, 6))\n",
    "    \n",
    "    for i, values in enumerate(arrays):\n",
    "        # Generate x values according to the length of each array\n",
    "        x_values = np.arange(0, len(values))\n",
    "        # Plot each array\n",
    "        plt.plot(x_values, values, marker=' ', label=labels[i] if labels else f\"Series {i+1}\")\n",
    "    \n",
    "    plt.title(title)\n",
    "    plt.xlabel(xlabel)\n",
    "    plt.ylabel(ylabel)\n",
    "    plt.legend()\n",
    "    plt.grid(True)\n",
    "    plt.show()"
   ]
  }
 ],
 "metadata": {
  "kernelspec": {
   "display_name": "base",
   "language": "python",
   "name": "python3"
  },
  "language_info": {
   "codemirror_mode": {
    "name": "ipython",
    "version": 3
   },
   "file_extension": ".py",
   "mimetype": "text/x-python",
   "name": "python",
   "nbconvert_exporter": "python",
   "pygments_lexer": "ipython3",
   "version": "3.10.9"
  }
 },
 "nbformat": 4,
 "nbformat_minor": 2
}
