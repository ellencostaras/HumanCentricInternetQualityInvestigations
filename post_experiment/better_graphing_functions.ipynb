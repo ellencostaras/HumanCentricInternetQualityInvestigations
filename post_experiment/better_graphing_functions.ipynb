{
 "cells": [
  {
   "cell_type": "code",
   "execution_count": 4,
   "metadata": {},
   "outputs": [],
   "source": [
    "import pandas as pd\n",
    "import csv\n",
    "import numpy as np\n",
    "import matplotlib.pyplot as plt\n",
    "import glob\n",
    "import os"
   ]
  },
  {
   "cell_type": "code",
   "execution_count": 12,
   "metadata": {},
   "outputs": [
    {
     "ename": "ParserError",
     "evalue": "Error tokenizing data. C error: Expected 85 fields in line 39, saw 322\n",
     "output_type": "error",
     "traceback": [
      "\u001b[0;31m---------------------------------------------------------------------------\u001b[0m",
      "\u001b[0;31mParserError\u001b[0m                               Traceback (most recent call last)",
      "Cell \u001b[0;32mIn[12], line 4\u001b[0m\n\u001b[1;32m      2\u001b[0m folder_path \u001b[38;5;241m=\u001b[39m \u001b[38;5;124m\"\u001b[39m\u001b[38;5;124m/Users/User/Documents/GitHub/DesktopDownthrottlingExperiment/post_experiment/CSVs/CSVs/13_Aug\u001b[39m\u001b[38;5;124m\"\u001b[39m\n\u001b[1;32m      3\u001b[0m csv_files \u001b[38;5;241m=\u001b[39m glob\u001b[38;5;241m.\u001b[39mglob(os\u001b[38;5;241m.\u001b[39mpath\u001b[38;5;241m.\u001b[39mjoin(folder_path, \u001b[38;5;124m\"\u001b[39m\u001b[38;5;124m*.csv\u001b[39m\u001b[38;5;124m\"\u001b[39m))\n\u001b[0;32m----> 4\u001b[0m dataframes \u001b[38;5;241m=\u001b[39m [pd\u001b[38;5;241m.\u001b[39mread_csv(file) \u001b[38;5;28;01mfor\u001b[39;00m file \u001b[38;5;129;01min\u001b[39;00m csv_files]\n",
      "Cell \u001b[0;32mIn[12], line 4\u001b[0m, in \u001b[0;36m<listcomp>\u001b[0;34m(.0)\u001b[0m\n\u001b[1;32m      2\u001b[0m folder_path \u001b[38;5;241m=\u001b[39m \u001b[38;5;124m\"\u001b[39m\u001b[38;5;124m/Users/User/Documents/GitHub/DesktopDownthrottlingExperiment/post_experiment/CSVs/CSVs/13_Aug\u001b[39m\u001b[38;5;124m\"\u001b[39m\n\u001b[1;32m      3\u001b[0m csv_files \u001b[38;5;241m=\u001b[39m glob\u001b[38;5;241m.\u001b[39mglob(os\u001b[38;5;241m.\u001b[39mpath\u001b[38;5;241m.\u001b[39mjoin(folder_path, \u001b[38;5;124m\"\u001b[39m\u001b[38;5;124m*.csv\u001b[39m\u001b[38;5;124m\"\u001b[39m))\n\u001b[0;32m----> 4\u001b[0m dataframes \u001b[38;5;241m=\u001b[39m [\u001b[43mpd\u001b[49m\u001b[38;5;241;43m.\u001b[39;49m\u001b[43mread_csv\u001b[49m\u001b[43m(\u001b[49m\u001b[43mfile\u001b[49m\u001b[43m)\u001b[49m \u001b[38;5;28;01mfor\u001b[39;00m file \u001b[38;5;129;01min\u001b[39;00m csv_files]\n",
      "File \u001b[0;32m~/miniconda3/lib/python3.10/site-packages/pandas/io/parsers/readers.py:1026\u001b[0m, in \u001b[0;36mread_csv\u001b[0;34m(filepath_or_buffer, sep, delimiter, header, names, index_col, usecols, dtype, engine, converters, true_values, false_values, skipinitialspace, skiprows, skipfooter, nrows, na_values, keep_default_na, na_filter, verbose, skip_blank_lines, parse_dates, infer_datetime_format, keep_date_col, date_parser, date_format, dayfirst, cache_dates, iterator, chunksize, compression, thousands, decimal, lineterminator, quotechar, quoting, doublequote, escapechar, comment, encoding, encoding_errors, dialect, on_bad_lines, delim_whitespace, low_memory, memory_map, float_precision, storage_options, dtype_backend)\u001b[0m\n\u001b[1;32m   1013\u001b[0m kwds_defaults \u001b[38;5;241m=\u001b[39m _refine_defaults_read(\n\u001b[1;32m   1014\u001b[0m     dialect,\n\u001b[1;32m   1015\u001b[0m     delimiter,\n\u001b[0;32m   (...)\u001b[0m\n\u001b[1;32m   1022\u001b[0m     dtype_backend\u001b[38;5;241m=\u001b[39mdtype_backend,\n\u001b[1;32m   1023\u001b[0m )\n\u001b[1;32m   1024\u001b[0m kwds\u001b[38;5;241m.\u001b[39mupdate(kwds_defaults)\n\u001b[0;32m-> 1026\u001b[0m \u001b[38;5;28;01mreturn\u001b[39;00m \u001b[43m_read\u001b[49m\u001b[43m(\u001b[49m\u001b[43mfilepath_or_buffer\u001b[49m\u001b[43m,\u001b[49m\u001b[43m \u001b[49m\u001b[43mkwds\u001b[49m\u001b[43m)\u001b[49m\n",
      "File \u001b[0;32m~/miniconda3/lib/python3.10/site-packages/pandas/io/parsers/readers.py:626\u001b[0m, in \u001b[0;36m_read\u001b[0;34m(filepath_or_buffer, kwds)\u001b[0m\n\u001b[1;32m    623\u001b[0m     \u001b[38;5;28;01mreturn\u001b[39;00m parser\n\u001b[1;32m    625\u001b[0m \u001b[38;5;28;01mwith\u001b[39;00m parser:\n\u001b[0;32m--> 626\u001b[0m     \u001b[38;5;28;01mreturn\u001b[39;00m \u001b[43mparser\u001b[49m\u001b[38;5;241;43m.\u001b[39;49m\u001b[43mread\u001b[49m\u001b[43m(\u001b[49m\u001b[43mnrows\u001b[49m\u001b[43m)\u001b[49m\n",
      "File \u001b[0;32m~/miniconda3/lib/python3.10/site-packages/pandas/io/parsers/readers.py:1923\u001b[0m, in \u001b[0;36mTextFileReader.read\u001b[0;34m(self, nrows)\u001b[0m\n\u001b[1;32m   1916\u001b[0m nrows \u001b[38;5;241m=\u001b[39m validate_integer(\u001b[38;5;124m\"\u001b[39m\u001b[38;5;124mnrows\u001b[39m\u001b[38;5;124m\"\u001b[39m, nrows)\n\u001b[1;32m   1917\u001b[0m \u001b[38;5;28;01mtry\u001b[39;00m:\n\u001b[1;32m   1918\u001b[0m     \u001b[38;5;66;03m# error: \"ParserBase\" has no attribute \"read\"\u001b[39;00m\n\u001b[1;32m   1919\u001b[0m     (\n\u001b[1;32m   1920\u001b[0m         index,\n\u001b[1;32m   1921\u001b[0m         columns,\n\u001b[1;32m   1922\u001b[0m         col_dict,\n\u001b[0;32m-> 1923\u001b[0m     ) \u001b[38;5;241m=\u001b[39m \u001b[38;5;28;43mself\u001b[39;49m\u001b[38;5;241;43m.\u001b[39;49m\u001b[43m_engine\u001b[49m\u001b[38;5;241;43m.\u001b[39;49m\u001b[43mread\u001b[49m\u001b[43m(\u001b[49m\u001b[43m  \u001b[49m\u001b[38;5;66;43;03m# type: ignore[attr-defined]\u001b[39;49;00m\n\u001b[1;32m   1924\u001b[0m \u001b[43m        \u001b[49m\u001b[43mnrows\u001b[49m\n\u001b[1;32m   1925\u001b[0m \u001b[43m    \u001b[49m\u001b[43m)\u001b[49m\n\u001b[1;32m   1926\u001b[0m \u001b[38;5;28;01mexcept\u001b[39;00m \u001b[38;5;167;01mException\u001b[39;00m:\n\u001b[1;32m   1927\u001b[0m     \u001b[38;5;28mself\u001b[39m\u001b[38;5;241m.\u001b[39mclose()\n",
      "File \u001b[0;32m~/miniconda3/lib/python3.10/site-packages/pandas/io/parsers/c_parser_wrapper.py:234\u001b[0m, in \u001b[0;36mCParserWrapper.read\u001b[0;34m(self, nrows)\u001b[0m\n\u001b[1;32m    232\u001b[0m \u001b[38;5;28;01mtry\u001b[39;00m:\n\u001b[1;32m    233\u001b[0m     \u001b[38;5;28;01mif\u001b[39;00m \u001b[38;5;28mself\u001b[39m\u001b[38;5;241m.\u001b[39mlow_memory:\n\u001b[0;32m--> 234\u001b[0m         chunks \u001b[38;5;241m=\u001b[39m \u001b[38;5;28;43mself\u001b[39;49m\u001b[38;5;241;43m.\u001b[39;49m\u001b[43m_reader\u001b[49m\u001b[38;5;241;43m.\u001b[39;49m\u001b[43mread_low_memory\u001b[49m\u001b[43m(\u001b[49m\u001b[43mnrows\u001b[49m\u001b[43m)\u001b[49m\n\u001b[1;32m    235\u001b[0m         \u001b[38;5;66;03m# destructive to chunks\u001b[39;00m\n\u001b[1;32m    236\u001b[0m         data \u001b[38;5;241m=\u001b[39m _concatenate_chunks(chunks)\n",
      "File \u001b[0;32mparsers.pyx:838\u001b[0m, in \u001b[0;36mpandas._libs.parsers.TextReader.read_low_memory\u001b[0;34m()\u001b[0m\n",
      "File \u001b[0;32mparsers.pyx:905\u001b[0m, in \u001b[0;36mpandas._libs.parsers.TextReader._read_rows\u001b[0;34m()\u001b[0m\n",
      "File \u001b[0;32mparsers.pyx:874\u001b[0m, in \u001b[0;36mpandas._libs.parsers.TextReader._tokenize_rows\u001b[0;34m()\u001b[0m\n",
      "File \u001b[0;32mparsers.pyx:891\u001b[0m, in \u001b[0;36mpandas._libs.parsers.TextReader._check_tokenize_status\u001b[0;34m()\u001b[0m\n",
      "File \u001b[0;32mparsers.pyx:2061\u001b[0m, in \u001b[0;36mpandas._libs.parsers.raise_parser_error\u001b[0;34m()\u001b[0m\n",
      "\u001b[0;31mParserError\u001b[0m: Error tokenizing data. C error: Expected 85 fields in line 39, saw 322\n"
     ]
    }
   ],
   "source": [
    " #################REPLACE WITH ACTUAL FOLDER OF CSVs\n",
    "folder_path = \"/Users/User/Documents/GitHub/DesktopDownthrottlingExperiment/post_experiment/CSVs/CSVs/13_Aug\"\n",
    "csv_files = glob.glob(os.path.join(folder_path, \"*.csv\"))\n",
    "dataframes = [pd.read_csv(file) for file in csv_files]"
   ]
  },
  {
   "cell_type": "code",
   "execution_count": 14,
   "metadata": {},
   "outputs": [
    {
     "name": "stdout",
     "output_type": "stream",
     "text": [
      "['/Users/User/Documents/GitHub/DesktopDownthrottlingExperiment/post_experiment/CSVs/CSVs/13_Aug/treatment2_13Aug.csv', '/Users/User/Documents/GitHub/DesktopDownthrottlingExperiment/post_experiment/CSVs/CSVs/13_Aug/treatment6_13Aug_aadya_only.csv', '/Users/User/Documents/GitHub/DesktopDownthrottlingExperiment/post_experiment/CSVs/CSVs/13_Aug/treatment9_13Aug.csv', '/Users/User/Documents/GitHub/DesktopDownthrottlingExperiment/post_experiment/CSVs/CSVs/13_Aug/treatment4_13Aug.csv', '/Users/User/Documents/GitHub/DesktopDownthrottlingExperiment/post_experiment/CSVs/CSVs/13_Aug/treatment13_13Aug.csv', '/Users/User/Documents/GitHub/DesktopDownthrottlingExperiment/post_experiment/CSVs/CSVs/13_Aug/treatment3_13Aug.csv', '/Users/User/Documents/GitHub/DesktopDownthrottlingExperiment/post_experiment/CSVs/CSVs/13_Aug/treatment12_13Aug_aadya_only.csv', '/Users/User/Documents/GitHub/DesktopDownthrottlingExperiment/post_experiment/CSVs/CSVs/13_Aug/treatment8_13Aug.csv', '/Users/User/Documents/GitHub/DesktopDownthrottlingExperiment/post_experiment/CSVs/CSVs/13_Aug/treatment10_13Aug.csv', '/Users/User/Documents/GitHub/DesktopDownthrottlingExperiment/post_experiment/CSVs/CSVs/13_Aug/treatment11_13Aug_ellen_only.csv', '/Users/User/Documents/GitHub/DesktopDownthrottlingExperiment/post_experiment/CSVs/CSVs/13_Aug/treatment5_13Aug_aadya_only.csv', '/Users/User/Documents/GitHub/DesktopDownthrottlingExperiment/post_experiment/CSVs/CSVs/13_Aug/treatment1_13Aug.csv', '/Users/User/Documents/GitHub/DesktopDownthrottlingExperiment/post_experiment/CSVs/CSVs/13_Aug/treatment7_13Aug.csv']\n"
     ]
    }
   ],
   "source": [
    "file_paths = [os.path.join(folder_path, file) for file in os.listdir(folder_path) if os.path.isfile(os.path.join(folder_path, file))]\n",
    "\n",
    "print(file_paths)"
   ]
  },
  {
   "cell_type": "markdown",
   "metadata": {},
   "source": [
    "# Extracting Values\n",
    "##### maybe change this depending on if the csvs end up being dataframeable"
   ]
  },
  {
   "cell_type": "code",
   "execution_count": 15,
   "metadata": {},
   "outputs": [],
   "source": [
    "def extract_row(file_path, name):\n",
    "# Input: file_path string and key string (to search in first col)\n",
    "# Output: np.array of values \n",
    "    with open(file_path, 'r') as file:\n",
    "        reader = csv.reader(file)\n",
    "        for row in reader:\n",
    "            if row and name in row[0]:\n",
    "                return np.array([float(value) for value in row[1:]])\n",
    "    return np.array([])\n",
    "\n",
    "def get_values_diff_keys(key1, key2, treatment_number):\n",
    "    file_path = file_paths[treatment_number]\n",
    "    #this function takes two stat names and a treatment number, and returns \n",
    "    values1 = extract_row(file_path, key1)\n",
    "    values2 = extract_row(file_path, key2)\n",
    "    return [values1,values2]\n",
    "\n",
    "def get_values(key, treatment_range):\n",
    "    arrays = []\n",
    "    values1 = extract_row(file_path1, key)\n",
    "    values2 = extract_row(file_path2, key)\n",
    "    values3 = extract_row(file_path3, key)\n",
    "    values4 = extract_row(file_path4, key)\n",
    "    values5 = extract_row(file_path5, key)\n",
    "    return [values1,values2, values3, values4, values5 ]"
   ]
  },
  {
   "cell_type": "markdown",
   "metadata": {},
   "source": [
    "# Graphing functions\n",
    "1. Type 1: the same timed stat from a nuber of different calls\n",
    "2. Type 2: two different timed stats from the same 1 call\n",
    "3. Type 3: a single point stat for various calls "
   ]
  },
  {
   "cell_type": "markdown",
   "metadata": {},
   "source": [
    "#### TYPE 1 Graphing"
   ]
  },
  {
   "cell_type": "code",
   "execution_count": 16,
   "metadata": {},
   "outputs": [],
   "source": [
    "def plot_multiple_arrays(key, treatment_range):\n",
    "    xlabel=\"Time [s]\", ylabel=\"Value\"\n",
    "    plt.figure(figsize=(10, 6))\n",
    "    \n",
    "    for i, values in enumerate(arrays):\n",
    "        # Generate x values according to the length of each array\n",
    "        x_values = np.arange(0, len(values))\n",
    "        # Plot each array\n",
    "        plt.plot(x_values, values, marker=' ', label=labels[i] if labels else f\"Series {i+1}\")\n",
    "    \n",
    "    plt.title(title)\n",
    "    plt.xlabel(xlabel)\n",
    "    plt.ylabel(ylabel)\n",
    "    plt.legend()\n",
    "    plt.grid(True)\n",
    "    plt.show()"
   ]
  },
  {
   "cell_type": "code",
   "execution_count": 2,
   "metadata": {},
   "outputs": [],
   "source": [
    "def plot_with_two_y_axes(key1, key2, treatment_number):\n",
    "    #this function takes two variable and a single treatment number\n",
    "    #and plots a graph of the two vars from that treatment\n",
    "    title= str(\"Comparing \" + key1 + \" and \" + key2)\n",
    "    file_path = file_paths[treatment_number]\n",
    "    y1, y2 = get_values_diff_keys(key1, key2, file_path)\n",
    "    x1 = np.arange(0, len(y1))\n",
    "    x2 = np.arange(0, len(y2))\n",
    "\n",
    "    fig, ax1 = plt.subplots()\n",
    "\n",
    "    # Plot on the first y-axis\n",
    "    ax1.plot(x1, y1, color= 'green', linestyle = '-')\n",
    "    ax1.set_xlabel(\"Time [s]\")\n",
    "    ax1.set_ylabel(y1_label, color='green')\n",
    "    ax1.tick_params('y', colors='green')\n",
    "\n",
    "    # Create a second y-axis and plot on it\n",
    "    ax2 = ax1.twinx()\n",
    "    ax2.plot(x2, y2, color = 'purple', linestyle = '-')\n",
    "    ax2.set_ylabel(y2_label, color='purple')\n",
    "    ax2.tick_params('y', colors='purple')\n",
    "\n",
    "    plt.title(title)\n",
    "    plt.show()"
   ]
  },
  {
   "cell_type": "code",
   "execution_count": null,
   "metadata": {},
   "outputs": [],
   "source": [
    "def master_graphing(x_var, y_var = None, multiple_treatments= False, treatment_range = None, type):\n",
    "    if type = two_stats_same_call:\n",
    "        plot_with_two_y_axes(y1, y2, key1, key2, title= str(\"Comparing \" + key1 + \" and \" + key2 + \" for Treatment \"+ file_path[107] ) )\n",
    "\n",
    "    if type = compare_one_stat_multiple_calls\n",
    "\n",
    "    if type = \n",
    "    if multiple_treatments:\n",
    "        i = treatment_range(0)\n",
    "        arrays = []\n",
    "        while i in range(treatment_range):\n",
    "            file_path = file_paths[i]\n",
    "            arrays.append(extract_row(file_path))\n",
    "            i+=1\n",
    "        plot_multiple_arrays(arrays, x_var)"
   ]
  }
 ],
 "metadata": {
  "kernelspec": {
   "display_name": "base",
   "language": "python",
   "name": "python3"
  },
  "language_info": {
   "codemirror_mode": {
    "name": "ipython",
    "version": 3
   },
   "file_extension": ".py",
   "mimetype": "text/x-python",
   "name": "python",
   "nbconvert_exporter": "python",
   "pygments_lexer": "ipython3",
   "version": "3.10.9"
  }
 },
 "nbformat": 4,
 "nbformat_minor": 2
}
