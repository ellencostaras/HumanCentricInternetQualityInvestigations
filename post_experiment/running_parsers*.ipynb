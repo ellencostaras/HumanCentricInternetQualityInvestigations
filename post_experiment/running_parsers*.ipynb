{
 "cells": [
  {
   "cell_type": "markdown",
   "metadata": {},
   "source": [
    "# Code for running the parser functions located in parsing_WebRTC_stats.py"
   ]
  },
  {
   "cell_type": "code",
   "execution_count": 2,
   "metadata": {},
   "outputs": [],
   "source": [
    "#-------------------------------- Imports --------------------------------\n",
    "import json\n",
    "import csv\n",
    "from datetime import datetime\n",
    "import importlib\n",
    "import parsing_WebRTC_stats"
   ]
  },
  {
   "cell_type": "code",
   "execution_count": 3,
   "metadata": {},
   "outputs": [],
   "source": [
    "importlib.reload(parsing_WebRTC_stats)\n",
    "\n",
    "from parsing_WebRTC_stats import get_call_identifiers, get_stats\n",
    "\n",
    "# Functions for finding all the stat names in the Web RTC dump:\n",
    "from parsing_WebRTC_stats import get_key_names\n",
    "\n",
    "#Functions for parsing relevant stats:\n",
    "from parsing_WebRTC_stats import get_call_identifiers, get_stats\n",
    "\n",
    "#Functions for manipulating/cleaning parsed data\n",
    "from parsing_WebRTC_stats import separate_by_comma, iso_to_unix_time, add_padding, align_times\n",
    "\n",
    "#Functions for putting it all ^ together, and then writing out to a csv file\n",
    "from parsing_WebRTC_stats import parse_all_treatments, select_correct_parser, parse_and_convert_to_csv_single_treatment, parse_and_convert_to_csv_single_treatment_ellen_only, parse_and_convert_to_csv_single_treatment_aadya_only"
   ]
  },
  {
   "cell_type": "code",
   "execution_count": 4,
   "metadata": {},
   "outputs": [],
   "source": [
    "#-------------------------------- File paths --------------------------------\n",
    "\n",
    "#To run this code seemlessly, I recommend you change the following file paths to whatever\n",
    "#is on your computer. Alternatively, if you've downloaded this from GitHub in the \n",
    "#\"experiment1\" folder, all the file paths should work automatically.\n",
    "\n",
    "#every dump file in the parent folder should be named, for example treatment1_ellen.txt or treatment19_aadya.txt\n",
    "#these parent file paths navigate to wherever all the .txt files are stored, but those files MUST follow\n",
    "#the above naming convention to be correctly accessed by the code below.\n",
    "#'treatment' at the end on the below file paths is the common prefix of all the .txt files.\n",
    "\n",
    "#file paths for testing_9_Aug\n",
    "file_path_parent_01 = \"testing_stats/testing_9_Aug/treatment\"\n",
    "#file path parent for testing_13_Aug\n",
    "file_path_parent_02 = \"testing_stats/testing_13_Aug/treatment\" \n",
    "#file path parent for testing_27_Aug\n",
    "file_path_parent_03 = \"testing_stats/testing_27_Aug/treatment\"\n",
    "#file path parent for testing_30_Aug\n",
    "file_path_parent_04 = \"testing_stats/testing_30_Aug/treatment\""
   ]
  },
  {
   "cell_type": "code",
   "execution_count": 5,
   "metadata": {},
   "outputs": [
    {
     "name": "stdout",
     "output_type": "stream",
     "text": [
      "Data has been written to treatment1.csv\n",
      "Data has been written to treatment2.csv\n",
      "Data has been written to treatment3.csv\n",
      "Data has been written to treatment4.csv\n",
      "Data has been written to treatment5.csv\n",
      "Data has been written to treatment6.csv\n",
      "Successfully parsed 6 calls.\n"
     ]
    }
   ],
   "source": [
    "lowest_treatment_number = 1\n",
    "highest_treatment_number = 6\n",
    "parse_all_treatments(file_path_parent_04, lowest_treatment_number, highest_treatment_number)"
   ]
  },
  {
   "cell_type": "code",
   "execution_count": null,
   "metadata": {},
   "outputs": [],
   "source": []
  }
 ],
 "metadata": {
  "kernelspec": {
   "display_name": "Python 3",
   "language": "python",
   "name": "python3"
  },
  "language_info": {
   "codemirror_mode": {
    "name": "ipython",
    "version": 3
   },
   "file_extension": ".py",
   "mimetype": "text/x-python",
   "name": "python",
   "nbconvert_exporter": "python",
   "pygments_lexer": "ipython3",
   "version": "3.11.3"
  }
 },
 "nbformat": 4,
 "nbformat_minor": 2
}
