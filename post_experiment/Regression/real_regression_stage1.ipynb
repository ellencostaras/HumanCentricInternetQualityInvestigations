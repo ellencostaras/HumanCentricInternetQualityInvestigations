{
 "cells": [
  {
   "cell_type": "code",
   "execution_count": null,
   "metadata": {
    "vscode": {
     "languageId": "r"
    }
   },
   "outputs": [],
   "source": [
    "install.packages(\"pROC\")\n",
    "install.packages(\"vctrs\")\n",
    "install.packages(\"caret\")\n",
    "install.packages(\"nnet\")\n",
    "\n"
   ]
  },
  {
   "cell_type": "markdown",
   "metadata": {},
   "source": [
    "# Simple linear regression "
   ]
  },
  {
   "cell_type": "markdown",
   "metadata": {},
   "source": [
    "### import data and visualise the target variable"
   ]
  },
  {
   "cell_type": "code",
   "execution_count": null,
   "metadata": {
    "vscode": {
     "languageId": "r"
    }
   },
   "outputs": [],
   "source": [
    "rm(list=ls()) #clears the workspace\n",
    "#import dataset\n",
    "#REPLACE WITH THE FILEPATH OF THE OUTPUT FROM MOS\n",
    "MOS_test = read.csv(\"/Users/User/Documents/GitHub/DesktopDownthrottlingExperiment/post_experiment/Regression/trial_mos_data.csv\") \n",
    "target = MOS_test$AGG_MOS #make sure column header matches\n",
    "#plot the target variable\n",
    "par(bg = \"white\")\n",
    "hist(target, \n",
    "     col = \"black\",\n",
    "     border = \"white\")"
   ]
  },
  {
   "cell_type": "markdown",
   "metadata": {},
   "source": [
    "## fits a linear regression to the data\n",
    "stores it in the var fit <br>\n",
    "dependent var: AGG_MOS <br>\n",
    "predictor vars: up, down, rtt <br>"
   ]
  },
  {
   "cell_type": "code",
   "execution_count": null,
   "metadata": {
    "vscode": {
     "languageId": "r"
    }
   },
   "outputs": [],
   "source": [
    "fit <- lm(AGG_MOS ~ up + down + rtt, MOS_test) #EDIT THESE TO THE COL NAMES\n",
    "summary(fit)"
   ]
  },
  {
   "cell_type": "markdown",
   "metadata": {},
   "source": [
    "## Perform prediction\n",
    "performs prediction based on the fit from above <br>\n",
    "and plots it against the actual MOS scores <br>"
   ]
  },
  {
   "cell_type": "code",
   "execution_count": null,
   "metadata": {
    "vscode": {
     "languageId": "r"
    }
   },
   "outputs": [],
   "source": [
    "par(bg = \"white\")  # set background color to white\n",
    "predictions <- predict(fit, MOS_test)\n",
    "plot(predict(fit, MOS_test), MOS_test$AGG_MOS)\n",
    "#plots the predicted values against the real values for each datapoint\n",
    "#a perfect regression would have a y=x diagonal line\n",
    "#this one is kind of ok (generally diagonal trend)"
   ]
  },
  {
   "cell_type": "markdown",
   "metadata": {},
   "source": [
    "# Logistic Regression\n",
    "\n",
    "I'm not sure if this is right yet but I think if MOS is categorical it should be something like this"
   ]
  },
  {
   "cell_type": "code",
   "execution_count": null,
   "metadata": {
    "vscode": {
     "languageId": "r"
    }
   },
   "outputs": [],
   "source": [
    "library(nnet)\n",
    "\n",
    "# Fit the logistic regression model\n",
    "model <- multinom(AGG_MOST ~ up + down + rtt, data = MOS_test)\n",
    "summary(model)\n",
    "# Get predictions\n",
    "predictions <- predict(model, MOS_test, type = \"probs\")\n",
    "print(prediction)"
   ]
  }
 ],
 "metadata": {
  "kernelspec": {
   "display_name": "R",
   "language": "R",
   "name": "ir"
  },
  "language_info": {
   "codemirror_mode": "r",
   "file_extension": ".r",
   "mimetype": "text/x-r-source",
   "name": "R",
   "pygments_lexer": "r",
   "version": "4.3.1"
  }
 },
 "nbformat": 4,
 "nbformat_minor": 2
}
