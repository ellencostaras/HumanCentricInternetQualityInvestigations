{
 "cells": [
  {
   "cell_type": "code",
   "execution_count": 14,
   "metadata": {
    "vscode": {
     "languageId": "r"
    }
   },
   "outputs": [
    {
     "name": "stdout",
     "output_type": "stream",
     "text": [
      "\n",
      "The downloaded binary packages are in\n",
      "\t/var/folders/91/4c3th19d31j6hvx23r6bb5b00000gn/T//RtmpGmmtVP/downloaded_packages\n",
      "\n",
      "The downloaded binary packages are in\n",
      "\t/var/folders/91/4c3th19d31j6hvx23r6bb5b00000gn/T//RtmpGmmtVP/downloaded_packages\n",
      "\n",
      "The downloaded binary packages are in\n",
      "\t/var/folders/91/4c3th19d31j6hvx23r6bb5b00000gn/T//RtmpGmmtVP/downloaded_packages\n",
      "\n",
      "The downloaded binary packages are in\n",
      "\t/var/folders/91/4c3th19d31j6hvx23r6bb5b00000gn/T//RtmpGmmtVP/downloaded_packages\n",
      "\n",
      "The downloaded binary packages are in\n",
      "\t/var/folders/91/4c3th19d31j6hvx23r6bb5b00000gn/T//RtmpGmmtVP/downloaded_packages\n",
      "\n",
      "The downloaded binary packages are in\n",
      "\t/var/folders/91/4c3th19d31j6hvx23r6bb5b00000gn/T//RtmpGmmtVP/downloaded_packages\n",
      "\n",
      "The downloaded binary packages are in\n",
      "\t/var/folders/91/4c3th19d31j6hvx23r6bb5b00000gn/T//RtmpGmmtVP/downloaded_packages\n"
     ]
    },
    {
     "name": "stderr",
     "output_type": "stream",
     "text": [
      "Warning message:\n",
      "\"package 'MASS' is not available for this version of R\n",
      "\n",
      "A version of this package for your version of R might be available elsewhere,\n",
      "see the ideas at\n",
      "https://cran.r-project.org/doc/manuals/r-patched/R-admin.html#Installing-packages\"\n"
     ]
    }
   ],
   "source": [
    "install.packages(\"pROC\")\n",
    "install.packages(\"vctrs\")\n",
    "install.packages(\"caret\")\n",
    "install.packages(\"nnet\")\n",
    "install.packages(\"ggplot2\")\n",
    "install.packages(\"cowplot\")\n",
    "install.packages(\"ggplot2\")\n",
    "install.packages(\"MASS\")"
   ]
  },
  {
   "cell_type": "code",
   "execution_count": 2,
   "metadata": {
    "vscode": {
     "languageId": "r"
    }
   },
   "outputs": [],
   "source": [
    "rm(list=ls()) #clears the workspace\n",
    "all_table <- read.csv(\"/Users/User/Documents/GitHub/DesktopDownthrottlingExperiment/post_experiment/Regression/regression_tables/fieldwork/subjective_and_objective_table.csv\")"
   ]
  },
  {
   "cell_type": "markdown",
   "metadata": {},
   "source": [
    "# Visualise MOS distribution"
   ]
  },
  {
   "cell_type": "code",
   "execution_count": 15,
   "metadata": {
    "vscode": {
     "languageId": "r"
    }
   },
   "outputs": [
    {
     "name": "stderr",
     "output_type": "stream",
     "text": [
      "also installing the dependency 'ucminf'\n",
      "\n",
      "\n"
     ]
    },
    {
     "name": "stdout",
     "output_type": "stream",
     "text": [
      "\n",
      "The downloaded binary packages are in\n",
      "\t/var/folders/91/4c3th19d31j6hvx23r6bb5b00000gn/T//RtmpGmmtVP/downloaded_packages\n"
     ]
    }
   ],
   "source": [
    "install.packages(\"ordinal\")"
   ]
  },
  {
   "cell_type": "code",
   "execution_count": 32,
   "metadata": {
    "vscode": {
     "languageId": "r"
    }
   },
   "outputs": [],
   "source": [
    "library(ordinal)\n",
    "all_table$ordered <- factor(all_table$serviceable_agg, \n",
    "levels =c(0,0.3333333333333333, 0.6666666666666666, 1.0), \n",
    "ordered = TRUE)"
   ]
  },
  {
   "cell_type": "code",
   "execution_count": 71,
   "metadata": {
    "vscode": {
     "languageId": "r"
    }
   },
   "outputs": [
    {
     "ename": "ERROR",
     "evalue": "Error in hist.default(all_table$ordered, col = \"black\", border = \"white\"): 'x' must be numeric\n",
     "output_type": "error",
     "traceback": [
      "Error in hist.default(all_table$ordered, col = \"black\", border = \"white\"): 'x' must be numeric\nTraceback:\n",
      "1. hist(all_table$ordered, col = \"black\", border = \"white\")",
      "2. hist.default(all_table$ordered, col = \"black\", border = \"white\")",
      "3. stop(\"'x' must be numeric\")"
     ]
    }
   ],
   "source": [
    "options(repr.plot.width = 10, repr.plot.height = 6)\n",
    "#plot the target variable\n",
    "par(bg = \"white\")  # set background color to white\n",
    "hist(all_table$ordered,\n",
    "     col = \"black\",\n",
    "     border = \"white\")"
   ]
  },
  {
   "cell_type": "code",
   "execution_count": 35,
   "metadata": {
    "vscode": {
     "languageId": "r"
    }
   },
   "outputs": [
    {
     "data": {
      "text/html": [
       "<style>\n",
       ".dl-inline {width: auto; margin:0; padding: 0}\n",
       ".dl-inline>dt, .dl-inline>dd {float: none; width: auto; display: inline-block}\n",
       ".dl-inline>dt::after {content: \":\\0020\"; padding-right: .5ex}\n",
       ".dl-inline>dt:not(:first-of-type) {padding-left: .5ex}\n",
       "</style><dl class=dl-inline><dt>identifier</dt><dd>&lt;NA&gt;</dd><dt>avg_up_ellen</dt><dd>139.33063978979</dd><dt>avg_down_ellen</dt><dd>468.911135585586</dd><dt>avg_rtt_ellen</dt><dd>33.4196255255255</dd><dt>avg_ellen_jitter</dt><dd>141.863267417417</dd><dt>avg_pl_ellen</dt><dd>10.777822972973</dd><dt>avg_up_aadya</dt><dd>152.367426876877</dd><dt>avg_down_aadya</dt><dd>364.187057507507</dd><dt>avg_rtt_aadya</dt><dd>29.2088034534534</dd><dt>avg_jitter_aadya</dt><dd>150.697481231231</dd><dt>avg_pl_aadya</dt><dd>0.738292192192192</dd><dt>sd_up_ellen</dt><dd>37.1313632132132</dd><dt>sd_down_ellen</dt><dd>87.1022036036036</dd><dt>sd_rtt_ellen</dt><dd>16.7521741741742</dd><dt>sd_jitter_ellen</dt><dd>221.670163813814</dd><dt>sd_pl_ellen</dt><dd>2.79126921921922</dd><dt>sd_up_aadya</dt><dd>49.9855798798799</dd><dt>sd_down_aadya</dt><dd>106.798919369369</dd><dt>sd_rtt_aadya</dt><dd>7.36652777777778</dd><dt>sd_jitter_aadya</dt><dd>227.14097012012</dd><dt>sd_pl_aadya</dt><dd>1.71707192192192</dd><dt>avg_down_google</dt><dd>2.47813063063063</dd><dt>avg_up_google</dt><dd>0.620076576576576</dd><dt>avg_rtt_google</dt><dd>300.538027777778</dd><dt>sd_down_google</dt><dd>0.129137687687688</dd><dt>sd_up_google</dt><dd>0.0917798798798798</dd><dt>sd_rtt_google</dt><dd>90.6232845345345</dd><dt>distance</dt><dd>0.178591591591592</dd><dt>telstra_distance</dt><dd>0.341697447447447</dd><dt>line_of_sight</dt><dd>&lt;NA&gt;</dd><dt>telstra_line_of_sight</dt><dd>&lt;NA&gt;</dd><dt>urban</dt><dd>0.157657657657658</dd><dt>e_audio_mos</dt><dd>0.741663715277778</dd><dt>e_video_mos</dt><dd>0.506129509791041</dd><dt>e_mos</dt><dd>0.531006235402069</dd><dt>a_audio_mos</dt><dd>0.758768576628712</dd><dt>a_video_mos</dt><dd>0.707123922516266</dd><dt>a_mos</dt><dd>0.673510268601935</dd><dt>agg_audio_mos</dt><dd>0.7422313728833</dd><dt>agg_video_mos</dt><dd>0.670829729218802</dd><dt>agg_mos</dt><dd>0.607638759592926</dd><dt>score_ellen</dt><dd>0.551370954287621</dd><dt>score_aadya</dt><dd>0.828786286286286</dd><dt>score_min</dt><dd>0.54120954287621</dd><dt>serviceable_ellen</dt><dd>0.184267600934268</dd><dt>serviceable_aadya</dt><dd>0.155864197530864</dd><dt>serviceable_agg</dt><dd>0.161077744411078</dd><dt>ordered</dt><dd>&lt;NA&gt;</dd></dl>\n"
      ],
      "text/latex": [
       "\\begin{description*}\n",
       "\\item[identifier] <NA>\n",
       "\\item[avg\\textbackslash{}\\_up\\textbackslash{}\\_ellen] 139.33063978979\n",
       "\\item[avg\\textbackslash{}\\_down\\textbackslash{}\\_ellen] 468.911135585586\n",
       "\\item[avg\\textbackslash{}\\_rtt\\textbackslash{}\\_ellen] 33.4196255255255\n",
       "\\item[avg\\textbackslash{}\\_ellen\\textbackslash{}\\_jitter] 141.863267417417\n",
       "\\item[avg\\textbackslash{}\\_pl\\textbackslash{}\\_ellen] 10.777822972973\n",
       "\\item[avg\\textbackslash{}\\_up\\textbackslash{}\\_aadya] 152.367426876877\n",
       "\\item[avg\\textbackslash{}\\_down\\textbackslash{}\\_aadya] 364.187057507507\n",
       "\\item[avg\\textbackslash{}\\_rtt\\textbackslash{}\\_aadya] 29.2088034534534\n",
       "\\item[avg\\textbackslash{}\\_jitter\\textbackslash{}\\_aadya] 150.697481231231\n",
       "\\item[avg\\textbackslash{}\\_pl\\textbackslash{}\\_aadya] 0.738292192192192\n",
       "\\item[sd\\textbackslash{}\\_up\\textbackslash{}\\_ellen] 37.1313632132132\n",
       "\\item[sd\\textbackslash{}\\_down\\textbackslash{}\\_ellen] 87.1022036036036\n",
       "\\item[sd\\textbackslash{}\\_rtt\\textbackslash{}\\_ellen] 16.7521741741742\n",
       "\\item[sd\\textbackslash{}\\_jitter\\textbackslash{}\\_ellen] 221.670163813814\n",
       "\\item[sd\\textbackslash{}\\_pl\\textbackslash{}\\_ellen] 2.79126921921922\n",
       "\\item[sd\\textbackslash{}\\_up\\textbackslash{}\\_aadya] 49.9855798798799\n",
       "\\item[sd\\textbackslash{}\\_down\\textbackslash{}\\_aadya] 106.798919369369\n",
       "\\item[sd\\textbackslash{}\\_rtt\\textbackslash{}\\_aadya] 7.36652777777778\n",
       "\\item[sd\\textbackslash{}\\_jitter\\textbackslash{}\\_aadya] 227.14097012012\n",
       "\\item[sd\\textbackslash{}\\_pl\\textbackslash{}\\_aadya] 1.71707192192192\n",
       "\\item[avg\\textbackslash{}\\_down\\textbackslash{}\\_google] 2.47813063063063\n",
       "\\item[avg\\textbackslash{}\\_up\\textbackslash{}\\_google] 0.620076576576576\n",
       "\\item[avg\\textbackslash{}\\_rtt\\textbackslash{}\\_google] 300.538027777778\n",
       "\\item[sd\\textbackslash{}\\_down\\textbackslash{}\\_google] 0.129137687687688\n",
       "\\item[sd\\textbackslash{}\\_up\\textbackslash{}\\_google] 0.0917798798798798\n",
       "\\item[sd\\textbackslash{}\\_rtt\\textbackslash{}\\_google] 90.6232845345345\n",
       "\\item[distance] 0.178591591591592\n",
       "\\item[telstra\\textbackslash{}\\_distance] 0.341697447447447\n",
       "\\item[line\\textbackslash{}\\_of\\textbackslash{}\\_sight] <NA>\n",
       "\\item[telstra\\textbackslash{}\\_line\\textbackslash{}\\_of\\textbackslash{}\\_sight] <NA>\n",
       "\\item[urban] 0.157657657657658\n",
       "\\item[e\\textbackslash{}\\_audio\\textbackslash{}\\_mos] 0.741663715277778\n",
       "\\item[e\\textbackslash{}\\_video\\textbackslash{}\\_mos] 0.506129509791041\n",
       "\\item[e\\textbackslash{}\\_mos] 0.531006235402069\n",
       "\\item[a\\textbackslash{}\\_audio\\textbackslash{}\\_mos] 0.758768576628712\n",
       "\\item[a\\textbackslash{}\\_video\\textbackslash{}\\_mos] 0.707123922516266\n",
       "\\item[a\\textbackslash{}\\_mos] 0.673510268601935\n",
       "\\item[agg\\textbackslash{}\\_audio\\textbackslash{}\\_mos] 0.7422313728833\n",
       "\\item[agg\\textbackslash{}\\_video\\textbackslash{}\\_mos] 0.670829729218802\n",
       "\\item[agg\\textbackslash{}\\_mos] 0.607638759592926\n",
       "\\item[score\\textbackslash{}\\_ellen] 0.551370954287621\n",
       "\\item[score\\textbackslash{}\\_aadya] 0.828786286286286\n",
       "\\item[score\\textbackslash{}\\_min] 0.54120954287621\n",
       "\\item[serviceable\\textbackslash{}\\_ellen] 0.184267600934268\n",
       "\\item[serviceable\\textbackslash{}\\_aadya] 0.155864197530864\n",
       "\\item[serviceable\\textbackslash{}\\_agg] 0.161077744411078\n",
       "\\item[ordered] <NA>\n",
       "\\end{description*}\n"
      ],
      "text/markdown": [
       "identifier\n",
       ":   &lt;NA&gt;avg_up_ellen\n",
       ":   139.33063978979avg_down_ellen\n",
       ":   468.911135585586avg_rtt_ellen\n",
       ":   33.4196255255255avg_ellen_jitter\n",
       ":   141.863267417417avg_pl_ellen\n",
       ":   10.777822972973avg_up_aadya\n",
       ":   152.367426876877avg_down_aadya\n",
       ":   364.187057507507avg_rtt_aadya\n",
       ":   29.2088034534534avg_jitter_aadya\n",
       ":   150.697481231231avg_pl_aadya\n",
       ":   0.738292192192192sd_up_ellen\n",
       ":   37.1313632132132sd_down_ellen\n",
       ":   87.1022036036036sd_rtt_ellen\n",
       ":   16.7521741741742sd_jitter_ellen\n",
       ":   221.670163813814sd_pl_ellen\n",
       ":   2.79126921921922sd_up_aadya\n",
       ":   49.9855798798799sd_down_aadya\n",
       ":   106.798919369369sd_rtt_aadya\n",
       ":   7.36652777777778sd_jitter_aadya\n",
       ":   227.14097012012sd_pl_aadya\n",
       ":   1.71707192192192avg_down_google\n",
       ":   2.47813063063063avg_up_google\n",
       ":   0.620076576576576avg_rtt_google\n",
       ":   300.538027777778sd_down_google\n",
       ":   0.129137687687688sd_up_google\n",
       ":   0.0917798798798798sd_rtt_google\n",
       ":   90.6232845345345distance\n",
       ":   0.178591591591592telstra_distance\n",
       ":   0.341697447447447line_of_sight\n",
       ":   &lt;NA&gt;telstra_line_of_sight\n",
       ":   &lt;NA&gt;urban\n",
       ":   0.157657657657658e_audio_mos\n",
       ":   0.741663715277778e_video_mos\n",
       ":   0.506129509791041e_mos\n",
       ":   0.531006235402069a_audio_mos\n",
       ":   0.758768576628712a_video_mos\n",
       ":   0.707123922516266a_mos\n",
       ":   0.673510268601935agg_audio_mos\n",
       ":   0.7422313728833agg_video_mos\n",
       ":   0.670829729218802agg_mos\n",
       ":   0.607638759592926score_ellen\n",
       ":   0.551370954287621score_aadya\n",
       ":   0.828786286286286score_min\n",
       ":   0.54120954287621serviceable_ellen\n",
       ":   0.184267600934268serviceable_aadya\n",
       ":   0.155864197530864serviceable_agg\n",
       ":   0.161077744411078ordered\n",
       ":   &lt;NA&gt;\n",
       "\n"
      ],
      "text/plain": [
       "           identifier          avg_up_ellen        avg_down_ellen \n",
       "                   NA          139.33063979          468.91113559 \n",
       "        avg_rtt_ellen      avg_ellen_jitter          avg_pl_ellen \n",
       "          33.41962553          141.86326742           10.77782297 \n",
       "         avg_up_aadya        avg_down_aadya         avg_rtt_aadya \n",
       "         152.36742688          364.18705751           29.20880345 \n",
       "     avg_jitter_aadya          avg_pl_aadya           sd_up_ellen \n",
       "         150.69748123            0.73829219           37.13136321 \n",
       "        sd_down_ellen          sd_rtt_ellen       sd_jitter_ellen \n",
       "          87.10220360           16.75217417          221.67016381 \n",
       "          sd_pl_ellen           sd_up_aadya         sd_down_aadya \n",
       "           2.79126922           49.98557988          106.79891937 \n",
       "         sd_rtt_aadya       sd_jitter_aadya           sd_pl_aadya \n",
       "           7.36652778          227.14097012            1.71707192 \n",
       "      avg_down_google         avg_up_google        avg_rtt_google \n",
       "           2.47813063            0.62007658          300.53802778 \n",
       "       sd_down_google          sd_up_google         sd_rtt_google \n",
       "           0.12913769            0.09177988           90.62328453 \n",
       "             distance      telstra_distance         line_of_sight \n",
       "           0.17859159            0.34169745                    NA \n",
       "telstra_line_of_sight                 urban           e_audio_mos \n",
       "                   NA            0.15765766            0.74166372 \n",
       "          e_video_mos                 e_mos           a_audio_mos \n",
       "           0.50612951            0.53100624            0.75876858 \n",
       "          a_video_mos                 a_mos         agg_audio_mos \n",
       "           0.70712392            0.67351027            0.74223137 \n",
       "        agg_video_mos               agg_mos           score_ellen \n",
       "           0.67082973            0.60763876            0.55137095 \n",
       "          score_aadya             score_min     serviceable_ellen \n",
       "           0.82878629            0.54120954            0.18426760 \n",
       "    serviceable_aadya       serviceable_agg               ordered \n",
       "           0.15586420            0.16107774                    NA "
      ]
     },
     "metadata": {},
     "output_type": "display_data"
    },
    {
     "name": "stdout",
     "output_type": "stream",
     "text": [
      "[1] \"line_of_sight\"         \"telstra_line_of_sight\" \"ordered\"              \n"
     ]
    }
   ],
   "source": [
    "sapply(all_table, function(x) if(is.numeric(x)) var(x, na.rm = TRUE) else NA)\n",
    "na_columns <- colnames(all_table)[colSums(is.na(all_table)) > 0]\n",
    "print(na_columns)"
   ]
  },
  {
   "cell_type": "code",
   "execution_count": 51,
   "metadata": {
    "vscode": {
     "languageId": "r"
    }
   },
   "outputs": [
    {
     "data": {
      "text/plain": [
       "formula: \n",
       "ordered ~ avg_up_ellen + avg_down_ellen + avg_rtt_ellen + avg_ellen_jitter + avg_pl_ellen + avg_up_aadya + avg_down_aadya + avg_rtt_aadya + avg_jitter_aadya + avg_pl_aadya + sd_up_ellen + sd_down_ellen + sd_rtt_ellen + sd_jitter_ellen + sd_pl_ellen + sd_up_aadya + sd_down_aadya + sd_rtt_aadya + sd_jitter_aadya + sd_pl_aadya\n",
       "data:    all_table\n",
       "\n",
       " link  threshold nobs logLik AIC    niter max.grad cond.H \n",
       " logit flexible  37   -31.20 110.41 10(2) 3.13e-09 8.2e+06\n",
       "\n",
       "Coefficients:\n",
       "                 Estimate Std. Error z value Pr(>|z|)  \n",
       "avg_up_ellen     -0.16947    0.11935  -1.420   0.1556  \n",
       "avg_down_ellen    0.06252    0.05823   1.074   0.2829  \n",
       "avg_rtt_ellen    -0.20172    0.16688  -1.209   0.2267  \n",
       "avg_ellen_jitter -0.13739    0.19852  -0.692   0.4889  \n",
       "avg_pl_ellen      0.01536    0.20605   0.075   0.9406  \n",
       "avg_up_aadya      0.12575    0.09925   1.267   0.2052  \n",
       "avg_down_aadya   -0.08124    0.06953  -1.168   0.2426  \n",
       "avg_rtt_aadya     0.05451    0.20134   0.271   0.7866  \n",
       "avg_jitter_aadya  0.08118    0.16937   0.479   0.6317  \n",
       "avg_pl_aadya      5.36507    6.00663   0.893   0.3718  \n",
       "sd_up_ellen       0.33474    0.24949   1.342   0.1797  \n",
       "sd_down_ellen    -0.12730    0.08595  -1.481   0.1386  \n",
       "sd_rtt_ellen      0.31165    0.31544   0.988   0.3232  \n",
       "sd_jitter_ellen   0.07962    0.10988   0.725   0.4687  \n",
       "sd_pl_ellen      -0.38476    0.98465  -0.391   0.6960  \n",
       "sd_up_aadya       0.45788    0.25602   1.788   0.0737 .\n",
       "sd_down_aadya     0.12896    0.10927   1.180   0.2380  \n",
       "sd_rtt_aadya     -0.20688    0.37099  -0.558   0.5771  \n",
       "sd_jitter_aadya  -0.04685    0.13592  -0.345   0.7303  \n",
       "sd_pl_aadya      -7.59322    6.40031  -1.186   0.2355  \n",
       "---\n",
       "Signif. codes:  0 '***' 0.001 '**' 0.01 '*' 0.05 '.' 0.1 ' ' 1\n",
       "\n",
       "Threshold coefficients:\n",
       "         Estimate Std. Error z value\n",
       "0|0.33    -3.4273     6.4952  -0.528\n",
       "0.33|0.5  -2.2830     6.4463  -0.354\n",
       "0.5|0.67  -2.0368     6.4317  -0.317\n",
       "0.67|1    -0.8188     6.4323  -0.127"
      ]
     },
     "metadata": {},
     "output_type": "display_data"
    }
   ],
   "source": [
    "library(ordinal)\n",
    "all_table$rounded_serviceable_agg <- round(as.numeric(all_table$serviceable_agg), digits = 2)\n",
    "all_table$ordered <- factor(all_table$rounded_serviceable_agg, \n",
    "levels =c(0.00,0.33, 0.5, 0.67, 1.00), \n",
    "ordered = TRUE)\n",
    "fit <- clm(ordered ~ avg_up_ellen + avg_down_ellen + avg_rtt_ellen + avg_ellen_jitter + avg_pl_ellen\n",
    "    + avg_up_aadya + avg_down_aadya + avg_rtt_aadya + avg_jitter_aadya + avg_pl_aadya \n",
    "    + sd_up_ellen + sd_down_ellen + sd_rtt_ellen + sd_jitter_ellen + sd_pl_ellen \n",
    "    + sd_up_aadya + sd_down_aadya + sd_rtt_aadya + sd_jitter_aadya + sd_pl_aadya, data = all_table)\n",
    "summary(fit)"
   ]
  },
  {
   "cell_type": "markdown",
   "metadata": {},
   "source": [
    "### perform and plot the predictions"
   ]
  },
  {
   "cell_type": "code",
   "execution_count": 58,
   "metadata": {
    "vscode": {
     "languageId": "r"
    }
   },
   "outputs": [
    {
     "data": {
      "text/html": [
       "37"
      ],
      "text/latex": [
       "37"
      ],
      "text/markdown": [
       "37"
      ],
      "text/plain": [
       "[1] 37"
      ]
     },
     "metadata": {},
     "output_type": "display_data"
    },
    {
     "data": {
      "text/html": [
       "<style>\n",
       ".list-inline {list-style: none; margin:0; padding: 0}\n",
       ".list-inline>li {display: inline-block}\n",
       ".list-inline>li:not(:last-child)::after {content: \"\\00b7\"; padding: 0 .5ex}\n",
       "</style>\n",
       "<ol class=list-inline><li>'0'</li><li>'0.33'</li><li>'0.5'</li><li>'0.67'</li><li>'1'</li></ol>\n"
      ],
      "text/latex": [
       "\\begin{enumerate*}\n",
       "\\item '0'\n",
       "\\item '0.33'\n",
       "\\item '0.5'\n",
       "\\item '0.67'\n",
       "\\item '1'\n",
       "\\end{enumerate*}\n"
      ],
      "text/markdown": [
       "1. '0'\n",
       "2. '0.33'\n",
       "3. '0.5'\n",
       "4. '0.67'\n",
       "5. '1'\n",
       "\n",
       "\n"
      ],
      "text/plain": [
       "[1] \"0\"    \"0.33\" \"0.5\"  \"0.67\" \"1\"   "
      ]
     },
     "metadata": {},
     "output_type": "display_data"
    },
    {
     "data": {
      "text/plain": [
       "\n",
       "   0 0.33  0.5 0.67    1 \n",
       "  20    5    1    4    7 "
      ]
     },
     "metadata": {},
     "output_type": "display_data"
    }
   ],
   "source": [
    "nrow(all_table)\n",
    "levels(all_table$ordered)\n",
    "table(all_table$ordered)"
   ]
  },
  {
   "cell_type": "code",
   "execution_count": 60,
   "metadata": {
    "vscode": {
     "languageId": "r"
    }
   },
   "outputs": [
    {
     "name": "stdout",
     "output_type": "stream",
     "text": [
      "$fit\n",
      " [1] 0.956661070 0.784647811 0.653116097 1.000000000 0.916926493 0.641125825\n",
      " [7] 0.572439960 0.295430706 0.050419573 0.748298072 1.000000000 0.636012668\n",
      "[13] 0.394378123 0.383407811 0.975838908 0.951399104 0.218891005 0.332850082\n",
      "[19] 0.275402425 0.520319436 0.158394682 0.218187868 0.243774445 0.926459562\n",
      "[25] 0.037760217 0.007950778 0.978191987 0.984462939 0.914064594 0.230006156\n",
      "[31] 0.990308481 0.999925232 0.205328927 0.911547641 0.677195331 0.540953847\n",
      "[37] 0.508869145\n",
      "\n"
     ]
    },
    {
     "data": {
      "text/html": [
       "37"
      ],
      "text/latex": [
       "37"
      ],
      "text/markdown": [
       "37"
      ],
      "text/plain": [
       "[1] 37"
      ]
     },
     "metadata": {},
     "output_type": "display_data"
    }
   ],
   "source": [
    "preds <- predict(fit, all_table)\n",
    "print(preds)\n",
    "length(preds$fit)"
   ]
  },
  {
   "cell_type": "code",
   "execution_count": 61,
   "metadata": {
    "vscode": {
     "languageId": "r"
    }
   },
   "outputs": [
    {
     "name": "stderr",
     "output_type": "stream",
     "text": [
      "Warning message in Ops.ordered(predict(fit, all_table), all_table$ordered):\n",
      "\"'-' is not meaningful for ordered factors\"\n"
     ]
    },
    {
     "data": {
      "text/html": [
       "&lt;NA&gt;"
      ],
      "text/latex": [
       "<NA>"
      ],
      "text/markdown": [
       "&lt;NA&gt;"
      ],
      "text/plain": [
       "[1] NA"
      ]
     },
     "metadata": {},
     "output_type": "display_data"
    },
    {
     "data": {
      "image/png": "[encoded data removed]",
      "text/plain": [
       "plot without title"
      ]
     },
     "metadata": {
      "image/png": {
       "height": 360,
       "width": 600
      }
     },
     "output_type": "display_data"
    }
   ],
   "source": [
    "par(bg = \"white\")\n",
    "preds <- predict(fit, all_table)\n",
    "plot(preds$fit, all_table$ordered)"
   ]
  },
  {
   "cell_type": "markdown",
   "metadata": {},
   "source": [
    "# Penalised regression \n",
    "### AIC"
   ]
  },
  {
   "cell_type": "code",
   "execution_count": 68,
   "metadata": {
    "vscode": {
     "languageId": "r"
    }
   },
   "outputs": [
    {
     "name": "stdout",
     "output_type": "stream",
     "text": [
      "Start:  AIC=110.41\n",
      "ordered ~ avg_up_ellen + avg_down_ellen + avg_rtt_ellen + avg_ellen_jitter + \n",
      "    avg_pl_ellen + avg_up_aadya + avg_down_aadya + avg_rtt_aadya + \n",
      "    avg_jitter_aadya + avg_pl_aadya + sd_up_ellen + sd_down_ellen + \n",
      "    sd_rtt_ellen + sd_jitter_ellen + sd_pl_ellen + sd_up_aadya + \n",
      "    sd_down_aadya + sd_rtt_aadya + sd_jitter_aadya + sd_pl_aadya\n",
      "\n",
      "                   Df    AIC\n",
      "- avg_pl_ellen      1 108.41\n",
      "- avg_rtt_aadya     1 108.48\n",
      "- sd_jitter_aadya   1 108.53\n",
      "- sd_pl_ellen       1 108.56\n",
      "- avg_jitter_aadya  1 108.64\n",
      "- sd_rtt_aadya      1 108.70\n",
      "- avg_ellen_jitter  1 108.90\n",
      "- sd_jitter_ellen   1 108.97\n",
      "- avg_pl_aadya      1 109.28\n",
      "- sd_rtt_ellen      1 109.46\n",
      "- avg_down_ellen    1 109.61\n",
      "- avg_down_aadya    1 109.93\n",
      "- avg_rtt_ellen     1 109.94\n",
      "- sd_down_aadya     1 110.05\n",
      "- sd_pl_aadya       1 110.07\n",
      "- sd_up_ellen       1 110.11\n",
      "<none>                110.41\n",
      "- avg_up_aadya      1 110.48\n",
      "- sd_down_ellen     1 110.76\n",
      "- avg_up_ellen      1 111.18\n",
      "- sd_up_aadya       1 112.34\n",
      "\n",
      "Step:  AIC=108.41\n",
      "ordered ~ avg_up_ellen + avg_down_ellen + avg_rtt_ellen + avg_ellen_jitter + \n",
      "    avg_up_aadya + avg_down_aadya + avg_rtt_aadya + avg_jitter_aadya + \n",
      "    avg_pl_aadya + sd_up_ellen + sd_down_ellen + sd_rtt_ellen + \n",
      "    sd_jitter_ellen + sd_pl_ellen + sd_up_aadya + sd_down_aadya + \n",
      "    sd_rtt_aadya + sd_jitter_aadya + sd_pl_aadya\n",
      "\n",
      "                   Df    AIC\n",
      "- avg_rtt_aadya     1 106.48\n",
      "- sd_jitter_aadya   1 106.54\n",
      "- sd_pl_ellen       1 106.62\n",
      "- avg_jitter_aadya  1 106.64\n",
      "- sd_rtt_aadya      1 106.78\n",
      "- avg_ellen_jitter  1 106.92\n",
      "- sd_jitter_ellen   1 106.97\n",
      "- avg_pl_aadya      1 107.29\n",
      "- sd_rtt_ellen      1 107.49\n",
      "- avg_down_ellen    1 107.93\n",
      "- sd_pl_aadya       1 108.07\n",
      "- sd_down_aadya     1 108.26\n",
      "- avg_rtt_ellen     1 108.28\n",
      "<none>                108.41\n",
      "- avg_up_aadya      1 108.48\n",
      "- sd_up_ellen       1 108.58\n",
      "- avg_down_aadya    1 108.73\n",
      "- sd_down_ellen     1 108.76\n",
      "- avg_up_ellen      1 109.18\n",
      "- sd_up_aadya       1 110.34\n",
      "\n",
      "Step:  AIC=106.48\n",
      "ordered ~ avg_up_ellen + avg_down_ellen + avg_rtt_ellen + avg_ellen_jitter + \n",
      "    avg_up_aadya + avg_down_aadya + avg_jitter_aadya + avg_pl_aadya + \n",
      "    sd_up_ellen + sd_down_ellen + sd_rtt_ellen + sd_jitter_ellen + \n",
      "    sd_pl_ellen + sd_up_aadya + sd_down_aadya + sd_rtt_aadya + \n",
      "    sd_jitter_aadya + sd_pl_aadya\n",
      "\n",
      "                   Df    AIC\n",
      "- sd_pl_ellen       1 104.65\n",
      "- sd_jitter_aadya   1 104.68\n",
      "- sd_rtt_aadya      1 104.78\n",
      "- avg_jitter_aadya  1 104.93\n",
      "- avg_ellen_jitter  1 105.01\n",
      "- sd_jitter_ellen   1 105.12\n",
      "- sd_rtt_ellen      1 105.56\n",
      "- avg_pl_aadya      1 105.64\n",
      "- avg_down_ellen    1 106.04\n",
      "- avg_rtt_ellen     1 106.38\n",
      "<none>                106.48\n",
      "- sd_down_aadya     1 106.49\n",
      "- sd_pl_aadya       1 106.54\n",
      "- sd_up_ellen       1 106.59\n",
      "- avg_up_aadya      1 106.61\n",
      "- avg_down_aadya    1 106.74\n",
      "- sd_down_ellen     1 106.77\n",
      "- avg_up_ellen      1 107.44\n",
      "- sd_up_aadya       1 109.47\n",
      "\n",
      "Step:  AIC=104.65\n",
      "ordered ~ avg_up_ellen + avg_down_ellen + avg_rtt_ellen + avg_ellen_jitter + \n",
      "    avg_up_aadya + avg_down_aadya + avg_jitter_aadya + avg_pl_aadya + \n",
      "    sd_up_ellen + sd_down_ellen + sd_rtt_ellen + sd_jitter_ellen + \n",
      "    sd_up_aadya + sd_down_aadya + sd_rtt_aadya + sd_jitter_aadya + \n",
      "    sd_pl_aadya\n",
      "\n",
      "                   Df    AIC\n",
      "- sd_jitter_aadya   1 102.83\n",
      "- sd_rtt_aadya      1 102.96\n",
      "- avg_jitter_aadya  1 103.08\n",
      "- avg_ellen_jitter  1 103.16\n",
      "- sd_jitter_ellen   1 103.24\n",
      "- avg_pl_aadya      1 103.77\n",
      "- sd_rtt_ellen      1 104.00\n",
      "- sd_up_ellen       1 104.59\n",
      "- sd_pl_aadya       1 104.62\n",
      "<none>                104.65\n",
      "- avg_up_aadya      1 104.77\n",
      "- avg_down_ellen    1 104.78\n",
      "- sd_down_aadya     1 104.81\n",
      "- avg_rtt_ellen     1 104.82\n",
      "- avg_down_aadya    1 105.40\n",
      "- avg_up_ellen      1 105.60\n",
      "- sd_down_ellen     1 105.99\n",
      "- sd_up_aadya       1 107.53\n",
      "\n",
      "Step:  AIC=102.83\n",
      "ordered ~ avg_up_ellen + avg_down_ellen + avg_rtt_ellen + avg_ellen_jitter + \n",
      "    avg_up_aadya + avg_down_aadya + avg_jitter_aadya + avg_pl_aadya + \n",
      "    sd_up_ellen + sd_down_ellen + sd_rtt_ellen + sd_jitter_ellen + \n",
      "    sd_up_aadya + sd_down_aadya + sd_rtt_aadya + sd_pl_aadya\n",
      "\n",
      "                   Df    AIC\n",
      "- sd_rtt_aadya      1 101.08\n",
      "- avg_jitter_aadya  1 101.18\n",
      "- avg_ellen_jitter  1 101.32\n",
      "- sd_jitter_ellen   1 101.44\n",
      "- avg_pl_aadya      1 101.89\n",
      "- sd_rtt_ellen      1 102.18\n",
      "- sd_up_ellen       1 102.63\n",
      "- sd_pl_aadya       1 102.70\n",
      "- avg_up_aadya      1 102.83\n",
      "<none>                102.83\n",
      "- sd_down_aadya     1 102.88\n",
      "- avg_down_ellen    1 102.91\n",
      "- avg_rtt_ellen     1 102.91\n",
      "- avg_down_aadya    1 103.40\n",
      "- avg_up_ellen      1 103.60\n",
      "- sd_down_ellen     1 104.06\n",
      "- sd_up_aadya       1 105.65\n",
      "\n",
      "Step:  AIC=101.08\n",
      "ordered ~ avg_up_ellen + avg_down_ellen + avg_rtt_ellen + avg_ellen_jitter + \n",
      "    avg_up_aadya + avg_down_aadya + avg_jitter_aadya + avg_pl_aadya + \n",
      "    sd_up_ellen + sd_down_ellen + sd_rtt_ellen + sd_jitter_ellen + \n",
      "    sd_up_aadya + sd_down_aadya + sd_pl_aadya\n",
      "\n",
      "                   Df     AIC\n",
      "- avg_jitter_aadya  1  99.285\n",
      "- avg_ellen_jitter  1  99.854\n",
      "- sd_jitter_ellen   1  99.893\n",
      "- avg_pl_aadya      1 100.096\n",
      "- sd_rtt_ellen      1 100.369\n",
      "- sd_up_ellen       1 100.684\n",
      "- sd_pl_aadya       1 100.875\n",
      "- avg_rtt_ellen     1 100.910\n",
      "- avg_down_ellen    1 100.911\n",
      "<none>                101.079\n",
      "- sd_down_aadya     1 101.122\n",
      "- avg_down_aadya    1 101.604\n",
      "- avg_up_aadya      1 101.861\n",
      "- avg_up_ellen      1 101.868\n",
      "- sd_down_ellen     1 102.113\n",
      "- sd_up_aadya       1 103.668\n",
      "\n",
      "Step:  AIC=99.29\n",
      "ordered ~ avg_up_ellen + avg_down_ellen + avg_rtt_ellen + avg_ellen_jitter + \n",
      "    avg_up_aadya + avg_down_aadya + avg_pl_aadya + sd_up_ellen + \n",
      "    sd_down_ellen + sd_rtt_ellen + sd_jitter_ellen + sd_up_aadya + \n",
      "    sd_down_aadya + sd_pl_aadya\n",
      "\n",
      "                   Df     AIC\n",
      "- sd_jitter_ellen   1  97.959\n",
      "- avg_ellen_jitter  1  98.093\n",
      "- avg_pl_aadya      1  98.514\n",
      "- sd_up_ellen       1  98.735\n",
      "- avg_down_ellen    1  98.912\n",
      "- avg_rtt_ellen     1  98.919\n",
      "- sd_rtt_ellen      1  98.977\n",
      "- sd_down_aadya     1  99.124\n",
      "- sd_pl_aadya       1  99.251\n",
      "<none>                 99.285\n",
      "- avg_down_aadya    1  99.865\n",
      "- avg_up_aadya      1  99.940\n",
      "- avg_up_ellen      1  99.983\n",
      "- sd_down_ellen     1 100.120\n",
      "- sd_up_aadya       1 101.669\n",
      "\n",
      "Step:  AIC=97.96\n",
      "ordered ~ avg_up_ellen + avg_down_ellen + avg_rtt_ellen + avg_ellen_jitter + \n",
      "    avg_up_aadya + avg_down_aadya + avg_pl_aadya + sd_up_ellen + \n",
      "    sd_down_ellen + sd_rtt_ellen + sd_up_aadya + sd_down_aadya + \n",
      "    sd_pl_aadya\n",
      "\n",
      "                   Df     AIC\n",
      "- avg_ellen_jitter  1  96.102\n",
      "- avg_pl_aadya      1  96.897\n",
      "- sd_rtt_ellen      1  97.055\n",
      "- sd_down_aadya     1  97.218\n",
      "- sd_up_ellen       1  97.474\n",
      "- sd_pl_aadya       1  97.610\n",
      "- avg_rtt_ellen     1  97.668\n",
      "<none>                 97.959\n",
      "- avg_down_aadya    1  98.074\n",
      "- avg_down_ellen    1  98.236\n",
      "- avg_up_ellen      1  98.513\n",
      "- sd_down_ellen     1  98.572\n",
      "- avg_up_aadya      1  99.350\n",
      "- sd_up_aadya       1 100.016\n",
      "\n",
      "Step:  AIC=96.1\n",
      "ordered ~ avg_up_ellen + avg_down_ellen + avg_rtt_ellen + avg_up_aadya + \n",
      "    avg_down_aadya + avg_pl_aadya + sd_up_ellen + sd_down_ellen + \n",
      "    sd_rtt_ellen + sd_up_aadya + sd_down_aadya + sd_pl_aadya\n",
      "\n",
      "                 Df    AIC\n",
      "- avg_pl_aadya    1 94.904\n",
      "- sd_rtt_ellen    1 95.103\n",
      "- sd_down_aadya   1 95.292\n",
      "- sd_up_ellen     1 95.564\n",
      "- sd_pl_aadya     1 95.611\n",
      "<none>              96.102\n",
      "- avg_rtt_ellen   1 96.136\n",
      "- avg_down_aadya  1 96.205\n",
      "- avg_up_ellen    1 96.537\n",
      "- sd_down_ellen   1 97.213\n",
      "- avg_up_aadya    1 97.355\n",
      "- avg_down_ellen  1 97.956\n",
      "- sd_up_aadya     1 98.074\n",
      "\n",
      "Step:  AIC=94.9\n",
      "ordered ~ avg_up_ellen + avg_down_ellen + avg_rtt_ellen + avg_up_aadya + \n",
      "    avg_down_aadya + sd_up_ellen + sd_down_ellen + sd_rtt_ellen + \n",
      "    sd_up_aadya + sd_down_aadya + sd_pl_aadya\n",
      "\n",
      "                 Df    AIC\n",
      "- sd_up_ellen     1 94.062\n",
      "- sd_rtt_ellen    1 94.350\n",
      "- avg_down_aadya  1 94.426\n",
      "- avg_up_ellen    1 94.566\n",
      "- sd_down_aadya   1 94.779\n",
      "- avg_rtt_ellen   1 94.823\n",
      "<none>              94.904\n",
      "- avg_up_aadya    1 95.484\n",
      "- sd_pl_aadya     1 95.600\n",
      "- sd_up_aadya     1 96.185\n",
      "- sd_down_ellen   1 96.733\n",
      "- avg_down_ellen  1 97.546\n",
      "\n",
      "Step:  AIC=94.06\n",
      "ordered ~ avg_up_ellen + avg_down_ellen + avg_rtt_ellen + avg_up_aadya + \n",
      "    avg_down_aadya + sd_down_ellen + sd_rtt_ellen + sd_up_aadya + \n",
      "    sd_down_aadya + sd_pl_aadya\n",
      "\n",
      "                 Df    AIC\n",
      "- avg_up_ellen    1 92.765\n",
      "- avg_down_aadya  1 93.041\n",
      "- sd_down_aadya   1 93.152\n",
      "- sd_pl_aadya     1 93.667\n",
      "- sd_rtt_ellen    1 93.739\n",
      "- avg_rtt_ellen   1 94.025\n",
      "<none>              94.062\n",
      "- sd_up_aadya     1 94.269\n",
      "- avg_up_aadya    1 94.469\n",
      "- sd_down_ellen   1 95.132\n",
      "- avg_down_ellen  1 96.072\n",
      "\n",
      "Step:  AIC=92.77\n",
      "ordered ~ avg_down_ellen + avg_rtt_ellen + avg_up_aadya + avg_down_aadya + \n",
      "    sd_down_ellen + sd_rtt_ellen + sd_up_aadya + sd_down_aadya + \n",
      "    sd_pl_aadya\n",
      "\n",
      "                 Df    AIC\n",
      "- sd_down_aadya   1 91.402\n",
      "- avg_down_aadya  1 91.461\n",
      "- sd_pl_aadya     1 91.896\n",
      "- sd_rtt_ellen    1 92.378\n",
      "- sd_up_aadya     1 92.441\n",
      "- avg_up_aadya    1 92.473\n",
      "- avg_rtt_ellen   1 92.748\n",
      "<none>              92.765\n",
      "- sd_down_ellen   1 93.192\n",
      "- avg_down_ellen  1 94.808\n",
      "\n",
      "Step:  AIC=91.4\n",
      "ordered ~ avg_down_ellen + avg_rtt_ellen + avg_up_aadya + avg_down_aadya + \n",
      "    sd_down_ellen + sd_rtt_ellen + sd_up_aadya + sd_pl_aadya\n",
      "\n",
      "                 Df    AIC\n",
      "- avg_down_aadya  1 89.797\n",
      "- sd_pl_aadya     1 90.103\n",
      "- sd_rtt_ellen    1 90.805\n",
      "- avg_up_aadya    1 91.305\n",
      "- sd_up_aadya     1 91.340\n",
      "<none>              91.402\n",
      "- sd_down_ellen   1 91.458\n",
      "- avg_rtt_ellen   1 92.518\n",
      "- avg_down_ellen  1 93.138\n",
      "\n",
      "Step:  AIC=89.8\n",
      "ordered ~ avg_down_ellen + avg_rtt_ellen + avg_up_aadya + sd_down_ellen + \n",
      "    sd_rtt_ellen + sd_up_aadya + sd_pl_aadya\n",
      "\n",
      "                 Df    AIC\n",
      "- sd_pl_aadya     1 88.275\n",
      "- sd_rtt_ellen    1 88.885\n",
      "- sd_up_aadya     1 89.434\n",
      "- avg_up_aadya    1 89.617\n",
      "<none>              89.797\n",
      "- sd_down_ellen   1 89.883\n",
      "- avg_rtt_ellen   1 90.572\n",
      "- avg_down_ellen  1 91.564\n",
      "\n",
      "Step:  AIC=88.27\n",
      "ordered ~ avg_down_ellen + avg_rtt_ellen + avg_up_aadya + sd_down_ellen + \n",
      "    sd_rtt_ellen + sd_up_aadya\n",
      "\n",
      "                 Df    AIC\n",
      "- sd_rtt_ellen    1 87.328\n",
      "- sd_up_aadya     1 87.770\n",
      "- avg_up_aadya    1 88.199\n",
      "<none>              88.275\n",
      "- sd_down_ellen   1 88.668\n",
      "- avg_rtt_ellen   1 89.167\n",
      "- avg_down_ellen  1 90.307\n",
      "\n",
      "Step:  AIC=87.33\n",
      "ordered ~ avg_down_ellen + avg_rtt_ellen + avg_up_aadya + sd_down_ellen + \n",
      "    sd_up_aadya\n",
      "\n",
      "                 Df    AIC\n",
      "- sd_up_aadya     1 86.513\n",
      "- sd_down_ellen   1 87.075\n",
      "- avg_rtt_ellen   1 87.170\n",
      "<none>              87.328\n",
      "- avg_down_ellen  1 88.313\n",
      "- avg_up_aadya    1 89.058\n",
      "\n",
      "Step:  AIC=86.51\n",
      "ordered ~ avg_down_ellen + avg_rtt_ellen + avg_up_aadya + sd_down_ellen\n",
      "\n",
      "                 Df    AIC\n",
      "- sd_down_ellen   1 85.815\n",
      "- avg_rtt_ellen   1 85.926\n",
      "<none>              86.513\n",
      "- avg_down_ellen  1 87.818\n",
      "- avg_up_aadya    1 94.951\n",
      "\n",
      "Step:  AIC=85.82\n",
      "ordered ~ avg_down_ellen + avg_rtt_ellen + avg_up_aadya\n",
      "\n",
      "                 Df    AIC\n",
      "<none>              85.815\n",
      "- avg_down_ellen  1 86.253\n",
      "- avg_rtt_ellen   1 86.546\n",
      "- avg_up_aadya    1 94.361\n"
     ]
    },
    {
     "data": {
      "text/plain": [
       "formula: ordered ~ avg_down_ellen + avg_rtt_ellen + avg_up_aadya\n",
       "data:    all_table\n",
       "\n",
       " link  threshold nobs logLik AIC   niter max.grad cond.H \n",
       " logit flexible  37   -35.91 85.82 7(2)  1.42e-12 5.4e+05\n",
       "\n",
       "Coefficients:\n",
       "               Estimate Std. Error z value Pr(>|z|)   \n",
       "avg_down_ellen  0.02965    0.01936   1.531  0.12577   \n",
       "avg_rtt_ellen  -0.11109    0.07299  -1.522  0.12801   \n",
       "avg_up_aadya    0.11053    0.03802   2.907  0.00365 **\n",
       "---\n",
       "Signif. codes:  0 '***' 0.001 '**' 0.01 '*' 0.05 '.' 0.1 ' ' 1\n",
       "\n",
       "Threshold coefficients:\n",
       "         Estimate Std. Error z value\n",
       "0|0.33    -0.4758     2.2469  -0.212\n",
       "0.33|0.5   0.4156     2.2296   0.186\n",
       "0.5|0.67   0.6101     2.2244   0.274\n",
       "0.67|1     1.5568     2.2536   0.691"
      ]
     },
     "metadata": {},
     "output_type": "display_data"
    },
    {
     "data": {
      "image/png": "[encoded data removed]",
      "text/plain": [
       "plot without title"
      ]
     },
     "metadata": {
      "image/png": {
       "height": 360,
       "width": 600
      }
     },
     "output_type": "display_data"
    }
   ],
   "source": [
    "fit_aic <- step(fit) #stepwise regression to optimse a linear model\n",
    "summary(fit_aic)\n",
    "par(bg = \"white\")\n",
    "preds_aic <-predict(fit_aic, all_table)\n",
    "plot(preds_aic$fit, all_table$ordered)"
   ]
  },
  {
   "cell_type": "markdown",
   "metadata": {},
   "source": [
    "### BIC"
   ]
  },
  {
   "cell_type": "code",
   "execution_count": 70,
   "metadata": {
    "vscode": {
     "languageId": "r"
    }
   },
   "outputs": [
    {
     "name": "stdout",
     "output_type": "stream",
     "text": [
      "Start:  AIC=149.07\n",
      "ordered ~ avg_up_ellen + avg_down_ellen + avg_rtt_ellen + avg_ellen_jitter + \n",
      "    avg_pl_ellen + avg_up_aadya + avg_down_aadya + avg_rtt_aadya + \n",
      "    avg_jitter_aadya + avg_pl_aadya + sd_up_ellen + sd_down_ellen + \n",
      "    sd_rtt_ellen + sd_jitter_ellen + sd_pl_ellen + sd_up_aadya + \n",
      "    sd_down_aadya + sd_rtt_aadya + sd_jitter_aadya + sd_pl_aadya\n",
      "\n",
      "                   Df    AIC\n",
      "- avg_pl_ellen      1 145.46\n",
      "- avg_rtt_aadya     1 145.53\n",
      "- sd_jitter_aadya   1 145.58\n",
      "- sd_pl_ellen       1 145.62\n",
      "- avg_jitter_aadya  1 145.69\n",
      "- sd_rtt_aadya      1 145.76\n",
      "- avg_ellen_jitter  1 145.95\n",
      "- sd_jitter_ellen   1 146.02\n",
      "- avg_pl_aadya      1 146.33\n",
      "- sd_rtt_ellen      1 146.51\n",
      "- avg_down_ellen    1 146.67\n",
      "- avg_down_aadya    1 146.98\n",
      "- avg_rtt_ellen     1 146.99\n",
      "- sd_down_aadya     1 147.10\n",
      "- sd_pl_aadya       1 147.12\n",
      "- sd_up_ellen       1 147.16\n",
      "- avg_up_aadya      1 147.53\n",
      "- sd_down_ellen     1 147.81\n",
      "- avg_up_ellen      1 148.23\n",
      "<none>                149.07\n",
      "- sd_up_aadya       1 149.39\n",
      "\n",
      "Step:  AIC=145.46\n",
      "ordered ~ avg_up_ellen + avg_down_ellen + avg_rtt_ellen + avg_ellen_jitter + \n",
      "    avg_up_aadya + avg_down_aadya + avg_rtt_aadya + avg_jitter_aadya + \n",
      "    avg_pl_aadya + sd_up_ellen + sd_down_ellen + sd_rtt_ellen + \n",
      "    sd_jitter_ellen + sd_pl_ellen + sd_up_aadya + sd_down_aadya + \n",
      "    sd_rtt_aadya + sd_jitter_aadya + sd_pl_aadya\n",
      "\n",
      "                   Df    AIC\n",
      "- avg_rtt_aadya     1 141.92\n",
      "- sd_jitter_aadya   1 141.98\n",
      "- sd_pl_ellen       1 142.06\n",
      "- avg_jitter_aadya  1 142.08\n",
      "- sd_rtt_aadya      1 142.22\n",
      "- avg_ellen_jitter  1 142.36\n",
      "- sd_jitter_ellen   1 142.41\n",
      "- avg_pl_aadya      1 142.73\n",
      "- sd_rtt_ellen      1 142.93\n",
      "- avg_down_ellen    1 143.37\n",
      "- sd_pl_aadya       1 143.51\n",
      "- sd_down_aadya     1 143.70\n",
      "- avg_rtt_ellen     1 143.72\n",
      "- avg_up_aadya      1 143.92\n",
      "- sd_up_ellen       1 144.02\n",
      "- avg_down_aadya    1 144.17\n",
      "- sd_down_ellen     1 144.20\n",
      "- avg_up_ellen      1 144.62\n",
      "<none>                145.46\n",
      "- sd_up_aadya       1 145.78\n",
      "\n",
      "Step:  AIC=141.92\n",
      "ordered ~ avg_up_ellen + avg_down_ellen + avg_rtt_ellen + avg_ellen_jitter + \n",
      "    avg_up_aadya + avg_down_aadya + avg_jitter_aadya + avg_pl_aadya + \n",
      "    sd_up_ellen + sd_down_ellen + sd_rtt_ellen + sd_jitter_ellen + \n",
      "    sd_pl_ellen + sd_up_aadya + sd_down_aadya + sd_rtt_aadya + \n",
      "    sd_jitter_aadya + sd_pl_aadya\n",
      "\n",
      "                   Df    AIC\n",
      "- sd_pl_ellen       1 138.48\n",
      "- sd_jitter_aadya   1 138.51\n",
      "- sd_rtt_aadya      1 138.61\n",
      "- avg_jitter_aadya  1 138.76\n",
      "- avg_ellen_jitter  1 138.84\n",
      "- sd_jitter_ellen   1 138.95\n",
      "- sd_rtt_ellen      1 139.39\n",
      "- avg_pl_aadya      1 139.47\n",
      "- avg_down_ellen    1 139.87\n",
      "- avg_rtt_ellen     1 140.21\n",
      "- sd_down_aadya     1 140.32\n",
      "- sd_pl_aadya       1 140.37\n",
      "- sd_up_ellen       1 140.42\n",
      "- avg_up_aadya      1 140.43\n",
      "- avg_down_aadya    1 140.57\n",
      "- sd_down_ellen     1 140.60\n",
      "- avg_up_ellen      1 141.27\n",
      "<none>                141.92\n",
      "- sd_up_aadya       1 143.30\n",
      "\n",
      "Step:  AIC=138.48\n",
      "ordered ~ avg_up_ellen + avg_down_ellen + avg_rtt_ellen + avg_ellen_jitter + \n",
      "    avg_up_aadya + avg_down_aadya + avg_jitter_aadya + avg_pl_aadya + \n",
      "    sd_up_ellen + sd_down_ellen + sd_rtt_ellen + sd_jitter_ellen + \n",
      "    sd_up_aadya + sd_down_aadya + sd_rtt_aadya + sd_jitter_aadya + \n",
      "    sd_pl_aadya\n",
      "\n",
      "                   Df    AIC\n",
      "- sd_jitter_aadya   1 135.05\n",
      "- sd_rtt_aadya      1 135.18\n",
      "- avg_jitter_aadya  1 135.29\n",
      "- avg_ellen_jitter  1 135.38\n",
      "- sd_jitter_ellen   1 135.46\n",
      "- avg_pl_aadya      1 135.99\n",
      "- sd_rtt_ellen      1 136.21\n",
      "- sd_up_ellen       1 136.81\n",
      "- sd_pl_aadya       1 136.84\n",
      "- avg_up_aadya      1 136.99\n",
      "- avg_down_ellen    1 137.00\n",
      "- sd_down_aadya     1 137.03\n",
      "- avg_rtt_ellen     1 137.03\n",
      "- avg_down_aadya    1 137.62\n",
      "- avg_up_ellen      1 137.82\n",
      "- sd_down_ellen     1 138.21\n",
      "<none>                138.48\n",
      "- sd_up_aadya       1 139.75\n",
      "\n",
      "Step:  AIC=135.05\n",
      "ordered ~ avg_up_ellen + avg_down_ellen + avg_rtt_ellen + avg_ellen_jitter + \n",
      "    avg_up_aadya + avg_down_aadya + avg_jitter_aadya + avg_pl_aadya + \n",
      "    sd_up_ellen + sd_down_ellen + sd_rtt_ellen + sd_jitter_ellen + \n",
      "    sd_up_aadya + sd_down_aadya + sd_rtt_aadya + sd_pl_aadya\n",
      "\n",
      "                   Df    AIC\n",
      "- sd_rtt_aadya      1 131.69\n",
      "- avg_jitter_aadya  1 131.78\n",
      "- avg_ellen_jitter  1 131.93\n",
      "- sd_jitter_ellen   1 132.05\n",
      "- avg_pl_aadya      1 132.50\n",
      "- sd_rtt_ellen      1 132.78\n",
      "- sd_up_ellen       1 133.23\n",
      "- sd_pl_aadya       1 133.30\n",
      "- avg_up_aadya      1 133.44\n",
      "- sd_down_aadya     1 133.49\n",
      "- avg_down_ellen    1 133.51\n",
      "- avg_rtt_ellen     1 133.52\n",
      "- avg_down_aadya    1 134.01\n",
      "- avg_up_ellen      1 134.21\n",
      "- sd_down_ellen     1 134.67\n",
      "<none>                135.05\n",
      "- sd_up_aadya       1 136.25\n",
      "\n",
      "Step:  AIC=131.69\n",
      "ordered ~ avg_up_ellen + avg_down_ellen + avg_rtt_ellen + avg_ellen_jitter + \n",
      "    avg_up_aadya + avg_down_aadya + avg_jitter_aadya + avg_pl_aadya + \n",
      "    sd_up_ellen + sd_down_ellen + sd_rtt_ellen + sd_jitter_ellen + \n",
      "    sd_up_aadya + sd_down_aadya + sd_pl_aadya\n",
      "\n",
      "                   Df    AIC\n",
      "- avg_jitter_aadya  1 128.28\n",
      "- avg_ellen_jitter  1 128.85\n",
      "- sd_jitter_ellen   1 128.89\n",
      "- avg_pl_aadya      1 129.09\n",
      "- sd_rtt_ellen      1 129.37\n",
      "- sd_up_ellen       1 129.68\n",
      "- sd_pl_aadya       1 129.87\n",
      "- avg_rtt_ellen     1 129.91\n",
      "- avg_down_ellen    1 129.91\n",
      "- sd_down_aadya     1 130.12\n",
      "- avg_down_aadya    1 130.60\n",
      "- avg_up_aadya      1 130.86\n",
      "- avg_up_ellen      1 130.87\n",
      "- sd_down_ellen     1 131.11\n",
      "<none>                131.69\n",
      "- sd_up_aadya       1 132.66\n",
      "\n",
      "Step:  AIC=128.28\n",
      "ordered ~ avg_up_ellen + avg_down_ellen + avg_rtt_ellen + avg_ellen_jitter + \n",
      "    avg_up_aadya + avg_down_aadya + avg_pl_aadya + sd_up_ellen + \n",
      "    sd_down_ellen + sd_rtt_ellen + sd_jitter_ellen + sd_up_aadya + \n",
      "    sd_down_aadya + sd_pl_aadya\n",
      "\n",
      "                   Df    AIC\n",
      "- sd_jitter_ellen   1 125.34\n",
      "- avg_ellen_jitter  1 125.48\n",
      "- avg_pl_aadya      1 125.90\n",
      "- sd_up_ellen       1 126.12\n",
      "- avg_down_ellen    1 126.30\n",
      "- avg_rtt_ellen     1 126.30\n",
      "- sd_rtt_ellen      1 126.36\n",
      "- sd_down_aadya     1 126.51\n",
      "- sd_pl_aadya       1 126.64\n",
      "- avg_down_aadya    1 127.25\n",
      "- avg_up_aadya      1 127.33\n",
      "- avg_up_ellen      1 127.37\n",
      "- sd_down_ellen     1 127.51\n",
      "<none>                128.28\n",
      "- sd_up_aadya       1 129.05\n",
      "\n",
      "Step:  AIC=125.34\n",
      "ordered ~ avg_up_ellen + avg_down_ellen + avg_rtt_ellen + avg_ellen_jitter + \n",
      "    avg_up_aadya + avg_down_aadya + avg_pl_aadya + sd_up_ellen + \n",
      "    sd_down_ellen + sd_rtt_ellen + sd_up_aadya + sd_down_aadya + \n",
      "    sd_pl_aadya\n",
      "\n",
      "                   Df    AIC\n",
      "- avg_ellen_jitter  1 121.88\n",
      "- avg_pl_aadya      1 122.67\n",
      "- sd_rtt_ellen      1 122.83\n",
      "- sd_down_aadya     1 122.99\n",
      "- sd_up_ellen       1 123.25\n",
      "- sd_pl_aadya       1 123.39\n",
      "- avg_rtt_ellen     1 123.44\n",
      "- avg_down_aadya    1 123.85\n",
      "- avg_down_ellen    1 124.01\n",
      "- avg_up_ellen      1 124.29\n",
      "- sd_down_ellen     1 124.35\n",
      "- avg_up_aadya      1 125.12\n",
      "<none>                125.34\n",
      "- sd_up_aadya       1 125.79\n",
      "\n",
      "Step:  AIC=121.88\n",
      "ordered ~ avg_up_ellen + avg_down_ellen + avg_rtt_ellen + avg_up_aadya + \n",
      "    avg_down_aadya + avg_pl_aadya + sd_up_ellen + sd_down_ellen + \n",
      "    sd_rtt_ellen + sd_up_aadya + sd_down_aadya + sd_pl_aadya\n",
      "\n",
      "                 Df    AIC\n",
      "- avg_pl_aadya    1 119.07\n",
      "- sd_rtt_ellen    1 119.27\n",
      "- sd_down_aadya   1 119.46\n",
      "- sd_up_ellen     1 119.73\n",
      "- sd_pl_aadya     1 119.77\n",
      "- avg_rtt_ellen   1 120.30\n",
      "- avg_down_aadya  1 120.37\n",
      "- avg_up_ellen    1 120.70\n",
      "- sd_down_ellen   1 121.38\n",
      "- avg_up_aadya    1 121.52\n",
      "<none>              121.88\n",
      "- avg_down_ellen  1 122.12\n",
      "- sd_up_aadya     1 122.24\n",
      "\n",
      "Step:  AIC=119.07\n",
      "ordered ~ avg_up_ellen + avg_down_ellen + avg_rtt_ellen + avg_up_aadya + \n",
      "    avg_down_aadya + sd_up_ellen + sd_down_ellen + sd_rtt_ellen + \n",
      "    sd_up_aadya + sd_down_aadya + sd_pl_aadya\n",
      "\n",
      "                 Df    AIC\n",
      "- sd_up_ellen     1 116.61\n",
      "- sd_rtt_ellen    1 116.90\n",
      "- avg_down_aadya  1 116.98\n",
      "- avg_up_ellen    1 117.12\n",
      "- sd_down_aadya   1 117.33\n",
      "- avg_rtt_ellen   1 117.38\n",
      "- avg_up_aadya    1 118.04\n",
      "- sd_pl_aadya     1 118.15\n",
      "- sd_up_aadya     1 118.74\n",
      "<none>              119.07\n",
      "- sd_down_ellen   1 119.29\n",
      "- avg_down_ellen  1 120.10\n",
      "\n",
      "Step:  AIC=116.61\n",
      "ordered ~ avg_up_ellen + avg_down_ellen + avg_rtt_ellen + avg_up_aadya + \n",
      "    avg_down_aadya + sd_down_ellen + sd_rtt_ellen + sd_up_aadya + \n",
      "    sd_down_aadya + sd_pl_aadya\n",
      "\n",
      "                 Df    AIC\n",
      "- avg_up_ellen    1 113.71\n",
      "- avg_down_aadya  1 113.98\n",
      "- sd_down_aadya   1 114.09\n",
      "- sd_pl_aadya     1 114.61\n",
      "- sd_rtt_ellen    1 114.68\n",
      "- avg_rtt_ellen   1 114.97\n",
      "- sd_up_aadya     1 115.21\n",
      "- avg_up_aadya    1 115.41\n",
      "- sd_down_ellen   1 116.07\n",
      "<none>              116.61\n",
      "- avg_down_ellen  1 117.01\n",
      "\n",
      "Step:  AIC=113.71\n",
      "ordered ~ avg_down_ellen + avg_rtt_ellen + avg_up_aadya + avg_down_aadya + \n",
      "    sd_down_ellen + sd_rtt_ellen + sd_up_aadya + sd_down_aadya + \n",
      "    sd_pl_aadya\n",
      "\n",
      "                 Df    AIC\n",
      "- sd_down_aadya   1 110.73\n",
      "- avg_down_aadya  1 110.79\n",
      "- sd_pl_aadya     1 111.23\n",
      "- sd_rtt_ellen    1 111.71\n",
      "- sd_up_aadya     1 111.77\n",
      "- avg_up_aadya    1 111.80\n",
      "- avg_rtt_ellen   1 112.08\n",
      "- sd_down_ellen   1 112.52\n",
      "<none>              113.71\n",
      "- avg_down_ellen  1 114.14\n",
      "\n",
      "Step:  AIC=110.73\n",
      "ordered ~ avg_down_ellen + avg_rtt_ellen + avg_up_aadya + avg_down_aadya + \n",
      "    sd_down_ellen + sd_rtt_ellen + sd_up_aadya + sd_pl_aadya\n",
      "\n",
      "                 Df    AIC\n",
      "- avg_down_aadya  1 107.52\n",
      "- sd_pl_aadya     1 107.82\n",
      "- sd_rtt_ellen    1 108.53\n",
      "- avg_up_aadya    1 109.03\n",
      "- sd_up_aadya     1 109.06\n",
      "- sd_down_ellen   1 109.18\n",
      "- avg_rtt_ellen   1 110.24\n",
      "<none>              110.73\n",
      "- avg_down_ellen  1 110.86\n",
      "\n",
      "Step:  AIC=107.52\n",
      "ordered ~ avg_down_ellen + avg_rtt_ellen + avg_up_aadya + sd_down_ellen + \n",
      "    sd_rtt_ellen + sd_up_aadya + sd_pl_aadya\n",
      "\n",
      "                 Df    AIC\n",
      "- sd_pl_aadya     1 104.38\n",
      "- sd_rtt_ellen    1 104.99\n",
      "- sd_up_aadya     1 105.54\n",
      "- avg_up_aadya    1 105.73\n",
      "- sd_down_ellen   1 105.99\n",
      "- avg_rtt_ellen   1 106.68\n",
      "<none>              107.52\n",
      "- avg_down_ellen  1 107.67\n",
      "\n",
      "Step:  AIC=104.38\n",
      "ordered ~ avg_down_ellen + avg_rtt_ellen + avg_up_aadya + sd_down_ellen + \n",
      "    sd_rtt_ellen + sd_up_aadya\n",
      "\n",
      "                 Df    AIC\n",
      "- sd_rtt_ellen    1 101.83\n",
      "- sd_up_aadya     1 102.27\n",
      "- avg_up_aadya    1 102.70\n",
      "- sd_down_ellen   1 103.17\n",
      "- avg_rtt_ellen   1 103.67\n",
      "<none>              104.38\n",
      "- avg_down_ellen  1 104.81\n",
      "\n",
      "Step:  AIC=101.83\n",
      "ordered ~ avg_down_ellen + avg_rtt_ellen + avg_up_aadya + sd_down_ellen + \n",
      "    sd_up_aadya\n",
      "\n",
      "                 Df     AIC\n",
      "- sd_up_aadya     1  99.400\n",
      "- sd_down_ellen   1  99.963\n",
      "- avg_rtt_ellen   1 100.057\n",
      "- avg_down_ellen  1 101.200\n",
      "<none>              101.826\n",
      "- avg_up_aadya    1 101.945\n",
      "\n",
      "Step:  AIC=99.4\n",
      "ordered ~ avg_down_ellen + avg_rtt_ellen + avg_up_aadya + sd_down_ellen\n",
      "\n",
      "                 Df     AIC\n",
      "- sd_down_ellen   1  97.092\n",
      "- avg_rtt_ellen   1  97.203\n",
      "- avg_down_ellen  1  99.095\n",
      "<none>               99.400\n",
      "- avg_up_aadya    1 106.227\n",
      "\n",
      "Step:  AIC=97.09\n",
      "ordered ~ avg_down_ellen + avg_rtt_ellen + avg_up_aadya\n",
      "\n",
      "                 Df     AIC\n",
      "- avg_down_ellen  1  95.919\n",
      "- avg_rtt_ellen   1  96.212\n",
      "<none>               97.092\n",
      "- avg_up_aadya    1 104.027\n",
      "\n",
      "Step:  AIC=95.92\n",
      "ordered ~ avg_rtt_ellen + avg_up_aadya\n",
      "\n",
      "                Df     AIC\n",
      "- avg_rtt_ellen  1  94.639\n",
      "<none>              95.919\n",
      "- avg_up_aadya   1 107.408\n",
      "\n",
      "Step:  AIC=94.64\n",
      "ordered ~ avg_up_aadya\n",
      "\n",
      "               Df     AIC\n",
      "<none>             94.639\n",
      "- avg_up_aadya  1 107.395\n"
     ]
    },
    {
     "data": {
      "text/plain": [
       "formula: ordered ~ avg_up_aadya\n",
       "data:    all_table\n",
       "\n",
       " link  threshold nobs logLik AIC   niter max.grad cond.H \n",
       " logit flexible  37   -38.29 86.58 6(2)  3.23e-10 4.2e+03\n",
       "\n",
       "Coefficients:\n",
       "             Estimate Std. Error z value Pr(>|z|)    \n",
       "avg_up_aadya  0.12350    0.03504   3.525 0.000424 ***\n",
       "---\n",
       "Signif. codes:  0 '***' 0.001 '**' 0.01 '*' 0.05 '.' 0.1 ' ' 1\n",
       "\n",
       "Threshold coefficients:\n",
       "         Estimate Std. Error z value\n",
       "0|0.33     1.7134     0.5781   2.964\n",
       "0.33|0.5   2.5040     0.6534   3.832\n",
       "0.5|0.67   2.6832     0.6730   3.987\n",
       "0.67|1     3.5967     0.8080   4.451"
      ]
     },
     "metadata": {},
     "output_type": "display_data"
    },
    {
     "data": {
      "image/png": "[encoded data removed]",
      "text/plain": [
       "plot without title"
      ]
     },
     "metadata": {
      "image/png": {
       "height": 360,
       "width": 600
      }
     },
     "output_type": "display_data"
    }
   ],
   "source": [
    "fit_bic <- step(fit, k = log(length(all_table$ordered)))\n",
    "summary(fit_bic)\n",
    "par(bg = \"white\")\n",
    "par(bg = \"white\")\n",
    "preds_bic <-predict(fit_bic, all_table)\n",
    "plot(preds_bic$fit, all_table$ordered)"
   ]
  }
 ],
 "metadata": {
  "kernelspec": {
   "display_name": "R",
   "language": "R",
   "name": "ir"
  },
  "language_info": {
   "codemirror_mode": "r",
   "file_extension": ".r",
   "mimetype": "text/x-r-source",
   "name": "R",
   "pygments_lexer": "r",
   "version": "4.3.1"
  }
 },
 "nbformat": 4,
 "nbformat_minor": 2
}
