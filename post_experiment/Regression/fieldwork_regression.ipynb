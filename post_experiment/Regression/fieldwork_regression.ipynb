{
 "cells": [
  {
   "cell_type": "code",
   "execution_count": 1,
   "metadata": {
    "vscode": {
     "languageId": "r"
    }
   },
   "outputs": [
    {
     "name": "stdout",
     "output_type": "stream",
     "text": [
      "\n",
      "The downloaded binary packages are in\n",
      "\t/var/folders/91/4c3th19d31j6hvx23r6bb5b00000gn/T//Rtmpj2Bye5/downloaded_packages\n",
      "\n",
      "The downloaded binary packages are in\n",
      "\t/var/folders/91/4c3th19d31j6hvx23r6bb5b00000gn/T//Rtmpj2Bye5/downloaded_packages\n",
      "\n",
      "The downloaded binary packages are in\n",
      "\t/var/folders/91/4c3th19d31j6hvx23r6bb5b00000gn/T//Rtmpj2Bye5/downloaded_packages\n",
      "\n",
      "The downloaded binary packages are in\n",
      "\t/var/folders/91/4c3th19d31j6hvx23r6bb5b00000gn/T//Rtmpj2Bye5/downloaded_packages\n",
      "\n",
      "The downloaded binary packages are in\n",
      "\t/var/folders/91/4c3th19d31j6hvx23r6bb5b00000gn/T//Rtmpj2Bye5/downloaded_packages\n",
      "\n",
      "The downloaded binary packages are in\n",
      "\t/var/folders/91/4c3th19d31j6hvx23r6bb5b00000gn/T//Rtmpj2Bye5/downloaded_packages\n",
      "\n",
      "The downloaded binary packages are in\n",
      "\t/var/folders/91/4c3th19d31j6hvx23r6bb5b00000gn/T//Rtmpj2Bye5/downloaded_packages\n"
     ]
    }
   ],
   "source": [
    "install.packages(\"pROC\")\n",
    "install.packages(\"vctrs\")\n",
    "install.packages(\"caret\")\n",
    "install.packages(\"nnet\")\n",
    "install.packages(\"ggplot2\")\n",
    "install.packages(\"cowplot\")\n",
    "install.packages(\"ggplot2\")"
   ]
  },
  {
   "cell_type": "code",
   "execution_count": 42,
   "metadata": {
    "vscode": {
     "languageId": "r"
    }
   },
   "outputs": [],
   "source": [
    "objective <- read.csv(\"/Users/User/Documents/GitHub/DesktopDownthrottlingExperiment/post_experiment/Regression/regression_tables/fieldwork/objective_table.csv\")"
   ]
  },
  {
   "cell_type": "markdown",
   "metadata": {},
   "source": [
    "# Visualise MOS dist"
   ]
  },
  {
   "cell_type": "code",
   "execution_count": null,
   "metadata": {
    "vscode": {
     "languageId": "r"
    }
   },
   "outputs": [],
   "source": [
    "rm(list=ls()) #clears the workspace\n",
    "options(repr.plot.width = 10, repr.plot.height = 6)\n",
    "#plot the target variable\n",
    "par(bg = \"white\")  # set background color to white\n",
    "hist(objective$agg_mos,\n",
    "     col = \"black\",\n",
    "     border = \"white\")"
   ]
  },
  {
   "cell_type": "markdown",
   "metadata": {},
   "source": [
    "# BIG regression\n",
    "### fit with all variables"
   ]
  },
  {
   "cell_type": "code",
   "execution_count": null,
   "metadata": {
    "vscode": {
     "languageId": "r"
    }
   },
   "outputs": [],
   "source": [
    "fit <- lm(\n",
    "    agg_mos ~ avg_up_ellen + avg_down_ellen + avg_rtt_ellen + avg_ellen_jitter + avg_pl_ellen\n",
    "    + avg_up_aadya + avg_down_aadya + avg_rtt_aadya + avg_jitter_aadya + avg_pl_aadya \n",
    "    + sd_up_ellen + sd_down_ellen + sd_rtt_ellen + sd_jitter_ellen + sd_pl_ellen \n",
    "    + sd_up_aadya + sd_down_aadya + sd_rtt_aadya + sd_jitter_aadya + sd_pl_aadya\n",
    "    + avg_down_google + avg_up_google + avg_rtt_google + sd_down_google + sd_up_google + sd_rtt_google\n",
    "    + distance + telstra_distance +as.factor(line_of_sight), + as.factor(telstra_line_of_sight), data = objective)\n",
    "summary(fit)"
   ]
  },
  {
   "cell_type": "markdown",
   "metadata": {},
   "source": [
    "### perform and plot the predictions"
   ]
  },
  {
   "cell_type": "code",
   "execution_count": null,
   "metadata": {
    "vscode": {
     "languageId": "r"
    }
   },
   "outputs": [],
   "source": [
    "par(bg = \"white\")  # set background color to white\n",
    "predictions <- predict(fit, objective)\n",
    "plot(predict(fit, objective), objective$agg_mos)"
   ]
  }
 ],
 "metadata": {
  "kernelspec": {
   "display_name": "R",
   "language": "R",
   "name": "ir"
  },
  "language_info": {
   "codemirror_mode": "r",
   "file_extension": ".r",
   "mimetype": "text/x-r-source",
   "name": "R",
   "pygments_lexer": "r",
   "version": "4.3.1"
  }
 },
 "nbformat": 4,
 "nbformat_minor": 2
}
