{
 "cells": [
  {
   "cell_type": "code",
   "execution_count": 1,
   "metadata": {
    "vscode": {
     "languageId": "r"
    }
   },
   "outputs": [
    {
     "name": "stderr",
     "output_type": "stream",
     "text": [
      "Warning message:\n",
      "\"package 'pROC' was built under R version 4.3.3\"\n",
      "Type 'citation(\"pROC\")' for a citation.\n",
      "\n",
      "\n",
      "Attaching package: 'pROC'\n",
      "\n",
      "\n",
      "The following objects are masked from 'package:stats':\n",
      "\n",
      "    cov, smooth, var\n",
      "\n",
      "\n",
      "Warning message:\n",
      "\"package 'vctrs' was built under R version 4.3.3\"\n",
      "Warning message:\n",
      "\"package 'caret' was built under R version 4.3.3\"\n",
      "Loading required package: ggplot2\n",
      "\n",
      "Warning message:\n",
      "\"package 'ggplot2' was built under R version 4.3.3\"\n",
      "Loading required package: lattice\n",
      "\n",
      "Warning message:\n",
      "\"package 'nnet' was built under R version 4.3.3\"\n",
      "Warning message:\n",
      "\"package 'cowplot' was built under R version 4.3.3\"\n",
      "Warning message:\n",
      "\"package 'dplyr' was built under R version 4.3.3\"\n",
      "\n",
      "Attaching package: 'dplyr'\n",
      "\n",
      "\n",
      "The following object is masked from 'package:vctrs':\n",
      "\n",
      "    data_frame\n",
      "\n",
      "\n",
      "The following objects are masked from 'package:stats':\n",
      "\n",
      "    filter, lag\n",
      "\n",
      "\n",
      "The following objects are masked from 'package:base':\n",
      "\n",
      "    intersect, setdiff, setequal, union\n",
      "\n",
      "\n",
      "Warning message:\n",
      "\"package 'glmnet' was built under R version 4.3.3\"\n",
      "Loading required package: Matrix\n",
      "\n",
      "Loaded glmnet 4.1-8\n",
      "\n"
     ]
    }
   ],
   "source": [
    "# Install libraries\n",
    "#install.packages(\"pROC\")\n",
    "#install.packages(\"vctrs\")\n",
    "#install.packages(\"caret\")\n",
    "#install.packages(\"nnet\")\n",
    "#install.packages(\"ggplot2\")\n",
    "#install.packages(\"cowplot\")\n",
    "#install.packages(\"dplyr\")\n",
    "#install.packages(\"glmnet\")\n",
    "\n",
    "# Load libraries\n",
    "library(pROC)\n",
    "library(vctrs)\n",
    "library(caret)\n",
    "library(nnet)\n",
    "library(ggplot2)\n",
    "library(cowplot)\n",
    "library(dplyr)\n",
    "library(glmnet)"
   ]
  },
  {
   "cell_type": "code",
   "execution_count": 2,
   "metadata": {
    "vscode": {
     "languageId": "r"
    }
   },
   "outputs": [
    {
     "name": "stdout",
     "output_type": "stream",
     "text": [
      " [1] \"lga_code\"                  \"IRSD.Decile\"              \n",
      " [3] \"IRSAD.Decile\"              \"IER.Decile\"               \n",
      " [5] \"IEO.Decile\"                \"Median.Income\"            \n",
      " [7] \"Lowest.Quartile.Income..\"  \"Highest.Quartile.Income..\"\n",
      " [9] \"Gini.Coefficient\"          \"Area..Km.2.\"              \n",
      "[11] \"Population\"                \"Population.Density\"       \n",
      "[13] \"Population.Change\"         \"Population.Change..\"      \n",
      "[15] \"Indigenous.Population\"     \"Indigenous.Population..\"  \n",
      "[17] \"X5th.Percentile\"           \"X50th.Percentile\"         \n",
      "[19] \"X95th.Percentile\"          \"X95th.5th.Ratio\"          \n",
      "[21] \"major_city_distance\"       \"closest_capital_distance\" \n",
      "[23] \"own_capital_distance\"      \"Major.City\"               \n",
      "[25] \"Inner.Regional\"            \"Outer.Regional\"           \n",
      "[27] \"Remote\"                    \"Very.Remote\"              \n",
      "[29] \"Division\"                  \"Previous.Party\"           \n",
      "[31] \"Previous.Seat.Status\"      \"Successful.Party\"         \n",
      "[33] \"Current.Seat.Status\"       \"Swing\"                    \n",
      "[35] \"Seat.Change\"               \"is.Safe\"                  \n",
      "[37] \"is.Fairly.Safe\"            \"is.Marginal\"              \n",
      "[39] \"Remained.Marginal\"        \n"
     ]
    }
   ],
   "source": [
    "rm(list=ls()) #clears the workspace\n",
    "data <- read.csv(\"SEIFA_RTT_LGA.csv\")\n",
    "\n",
    "# Remove rows with NAs in important percentile columns\n",
    "cleaned_data <- data[complete.cases(data), ]\n",
    "\n",
    "print(colnames(cleaned_data))"
   ]
  },
  {
   "cell_type": "code",
   "execution_count": 3,
   "metadata": {
    "vscode": {
     "languageId": "r"
    }
   },
   "outputs": [
    {
     "name": "stdout",
     "output_type": "stream",
     "text": [
      "[1] \"Number of rows in cleaned data:\"\n",
      "[1] 401\n"
     ]
    }
   ],
   "source": [
    "print('Number of rows in cleaned data:')\n",
    "print(nrow(cleaned_data))"
   ]
  },
  {
   "cell_type": "markdown",
   "metadata": {},
   "source": [
    "# BIG regression\n",
    "### fit with all variables"
   ]
  },
  {
   "cell_type": "code",
   "execution_count": 4,
   "metadata": {
    "vscode": {
     "languageId": "r"
    }
   },
   "outputs": [
    {
     "name": "stdout",
     "output_type": "stream",
     "text": [
      "   Remoteness_Area_1 Remoteness_Area_2   Mean_1   Mean_2      p_value\n",
      "1         Major City    Inner Regional 2.627939 2.612283    0.7969307\n",
      "2         Major City    Outer Regional 2.627939 2.251954 3.676235e-07\n",
      "3         Major City            Remote 2.627939 2.241260  0.005570406\n",
      "4         Major City       Very Remote 2.627939 2.164301 9.580539e-05\n",
      "5     Inner Regional    Outer Regional 2.612283 2.251954 2.348145e-06\n",
      "6     Inner Regional            Remote 2.612283 2.241260  0.008052161\n",
      "7     Inner Regional       Very Remote 2.612283 2.164301 0.0001787961\n",
      "8     Outer Regional            Remote 2.251954 2.241260    0.9382344\n",
      "9     Outer Regional       Very Remote 2.251954 2.164301    0.4580679\n",
      "10            Remote       Very Remote 2.241260 2.164301      0.63291\n",
      "    Difference\n",
      "1  -0.01565614\n",
      "2  -0.37598508\n",
      "3  -0.38667963\n",
      "4  -0.46363879\n",
      "5  -0.36032894\n",
      "6  -0.37102350\n",
      "7  -0.44798265\n",
      "8  -0.01069456\n",
      "9  -0.08765371\n",
      "10 -0.07695916\n"
     ]
    },
    {
     "data": {
      "image/png": "[encoded data removed]",
      "text/plain": [
       "plot without title"
      ]
     },
     "metadata": {
      "image/png": {
       "height": 420,
       "width": 420
      }
     },
     "output_type": "display_data"
    }
   ],
   "source": [
    "cleaned_data$Remoteness <- ifelse(cleaned_data$Major.City == 1, \"Major City\", ifelse(cleaned_data$Inner.Regional == 1, \"Inner Regional\", ifelse(cleaned_data$Outer.Regional == 1, \"Outer Regional\", ifelse(cleaned_data$Remote == 1, \"Remote\", \"Very Remote\"))))\n",
    "cleaned_data$Remoteness <- factor(cleaned_data$Remoteness, levels = c(\"Major City\", \"Inner Regional\", \"Outer Regional\", \"Remote\", \"Very Remote\"))\n",
    "\n",
    "# Create the violin plot and assign it to variable 'p'\n",
    "ggplot(cleaned_data, aes(x = Remoteness, y = X95th.5th.Ratio)) +\n",
    "  geom_violin(fill = \"lightblue\", color = \"black\") +\n",
    "  labs(x = \"Remoteness Area\", y = \"Ratio of 95th:5th Percentile Latency\",\n",
    "       title = \"95th:5th Percentile Ratio by Remoteness Areas\") +\n",
    "  theme_minimal()\n",
    "\n",
    "# Create a data frame to store results of t-tests\n",
    "results_table <- data.frame(Remoteness_Area_1 = character(), \n",
    "                             Remoteness_Area_2 = character(), \n",
    "                             Mean_1 = numeric(), \n",
    "                             Mean_2 = numeric(),\n",
    "                             p_value = numeric(), \n",
    "                             Difference = numeric(), \n",
    "                             stringsAsFactors = FALSE)\n",
    "\n",
    "# Perform t-tests between each pair of remoteness levels\n",
    "remoteness_levels <- levels(cleaned_data$Remoteness)\n",
    "\n",
    "for (i in 1:(length(remoteness_levels) - 1)) {\n",
    "  for (j in (i + 1):length(remoteness_levels)) {\n",
    "    test <- t.test(X95th.5th.Ratio ~ Remoteness, \n",
    "                   data = cleaned_data[cleaned_data$Remoteness %in% c(remoteness_levels[i], remoteness_levels[j]), ])\n",
    "    \n",
    "    # Calculate means\n",
    "    mean_1 <- mean(cleaned_data$X95th.5th.Ratio[cleaned_data$Remoteness == remoteness_levels[i]], na.rm = TRUE)\n",
    "    mean_2 <- mean(cleaned_data$X95th.5th.Ratio[cleaned_data$Remoteness == remoteness_levels[j]], na.rm = TRUE)\n",
    "    \n",
    "    # Add results to the data frame\n",
    "    results_table <- rbind(results_table, \n",
    "                            data.frame(Remoteness_Area_1 = remoteness_levels[i], \n",
    "                                       Remoteness_Area_2 = remoteness_levels[j], \n",
    "                                       Mean_1 = mean_1, Mean_2 = mean_2,\n",
    "                                       p_value = format(test$p.value, nsmall = 5),\n",
    "                                       Difference = mean_2 - mean_1))\n",
    "  }\n",
    "}\n",
    "\n",
    "# Print the results table\n",
    "print(results_table)"
   ]
  },
  {
   "cell_type": "markdown",
   "metadata": {},
   "source": [
    "## Begin Fitting"
   ]
  },
  {
   "cell_type": "code",
   "execution_count": 5,
   "metadata": {
    "vscode": {
     "languageId": "r"
    }
   },
   "outputs": [],
   "source": [
    "urban_data <- cleaned_data[(cleaned_data$Major.City == 1) | (cleaned_data$Inner.Regional == 1), ]\n",
    "rural_data <- cleaned_data[(cleaned_data$Major.City == 0) & (cleaned_data$Inner.Regional == 0), ]"
   ]
  },
  {
   "cell_type": "code",
   "execution_count": 6,
   "metadata": {
    "vscode": {
     "languageId": "r"
    }
   },
   "outputs": [
    {
     "name": "stderr",
     "output_type": "stream",
     "text": [
      "Warning message in cor(rural_data[, c(\"IRSD.Decile\", \"IRSAD.Decile\", \"IER.Decile\", :\n",
      "\"the standard deviation is zero\"\n"
     ]
    }
   ],
   "source": [
    "cor_matrix <- cor(cleaned_data[, c(\"IRSD.Decile\", \"IRSAD.Decile\", \"IER.Decile\",\n",
    "                            \"IEO.Decile\", \"Median.Income\",\n",
    "                            \"Lowest.Quartile.Income..\",\n",
    "                            \"Highest.Quartile.Income..\", \"Gini.Coefficient\",\n",
    "                            \"Area..Km.2.\", \"major_city_distance\",\n",
    "                            \"closest_capital_distance\", \"own_capital_distance\",\n",
    "                            \"Population\", \"Population.Density\", \n",
    "                            \"Population.Change\", \"Population.Change..\",\n",
    "                            \"Indigenous.Population\", \"Indigenous.Population..\",\n",
    "                            \"Swing\", \"Seat.Change\", \"is.Safe\", \"is.Marginal\",\n",
    "                            \"Remained.Marginal\")], use = \"complete.obs\")\n",
    "#cor_matrix\n",
    "\n",
    "#write.csv(cor_matrix, file = \"correlation_matrix.csv\", row.names = FALSE)\n",
    "\n",
    "urban_cor_matrix <- cor(urban_data[, c(\"IRSD.Decile\", \"IRSAD.Decile\", \"IER.Decile\",\n",
    "                            \"IEO.Decile\", \"Median.Income\",\n",
    "                            \"Lowest.Quartile.Income..\",\n",
    "                            \"Highest.Quartile.Income..\", \"Gini.Coefficient\",\n",
    "                            \"Area..Km.2.\", \"major_city_distance\",\n",
    "                            \"closest_capital_distance\", \"own_capital_distance\",\n",
    "                            \"Population\", \"Population.Density\", \n",
    "                            \"Population.Change\", \"Population.Change..\",\n",
    "                            \"Indigenous.Population\", \"Indigenous.Population..\",\n",
    "                            \"Swing\", \"Seat.Change\", \"is.Safe\", \"is.Marginal\",\n",
    "                            \"Remained.Marginal\")], use = \"complete.obs\")\n",
    "\n",
    "#write.csv(urban_cor_matrix, file = \"urban_correlation_matrix.csv\", row.names = FALSE)\n",
    "\n",
    "# rural correlation matrix\n",
    "rural_cor_matrix <- cor(rural_data[, c(\"IRSD.Decile\", \"IRSAD.Decile\", \"IER.Decile\",\n",
    "                            \"IEO.Decile\", \"Median.Income\",\n",
    "                            \"Lowest.Quartile.Income..\",\n",
    "                            \"Highest.Quartile.Income..\", \"Gini.Coefficient\",\n",
    "                            \"Area..Km.2.\", \"major_city_distance\",\n",
    "                            \"closest_capital_distance\", \"own_capital_distance\",\n",
    "                            \"Population\", \"Population.Density\", \n",
    "                            \"Population.Change\", \"Population.Change..\",\n",
    "                            \"Indigenous.Population\", \"Indigenous.Population..\",\n",
    "                            \"Swing\", \"Seat.Change\", \"is.Safe\", \"is.Marginal\",\n",
    "                            \"Remained.Marginal\")], use = \"complete.obs\")\n",
    "\n",
    "#write.csv(rural_cor_matrix, file = \"rural_correlation_matrix.csv\", row.names = FALSE)\n"
   ]
  },
  {
   "cell_type": "code",
   "execution_count": 7,
   "metadata": {
    "vscode": {
     "languageId": "r"
    }
   },
   "outputs": [],
   "source": [
    "# Define a function for min-max normalization\n",
    "min_max_normalize <- function(x) {\n",
    "  (x - min(x)) / (max(x) - min(x))\n",
    "}\n",
    "\n",
    "# Normalize cleaned_data\n",
    "cleaned_normalized <- as.data.frame(lapply(cleaned_data[, c('IRSAD.Decile', 'Median.Income', 'Gini.Coefficient', 'Area..Km.2.', \n",
    "                                                              'closest_capital_distance', 'Population', 'Population.Density', \n",
    "                                                              'Population.Change..', 'Indigenous.Population..', 'Swing', \n",
    "                                                              'Seat.Change', 'is.Safe', 'is.Marginal', 'Remained.Marginal')], \n",
    "                                           min_max_normalize))\n",
    "\n",
    "# Add the unscaled percentile columns back in (same filtering)\n",
    "cleaned_normalized$X5th.Percentile <- cleaned_data$X5th.Percentile\n",
    "cleaned_normalized$X50th.Percentile <- cleaned_data$X50th.Percentile\n",
    "cleaned_normalized$X95th.Percentile <- cleaned_data$X95th.Percentile\n",
    "cleaned_normalized$X95th.5th.Ratio <- cleaned_data$X95th.5th.Ratio\n",
    "\n",
    "# Normalize urban_data\n",
    "urban_normalized <- as.data.frame(lapply(urban_data[, c('IRSAD.Decile', 'Median.Income', 'Gini.Coefficient', 'Area..Km.2.', \n",
    "                                                          'closest_capital_distance', 'Population', 'Population.Density', \n",
    "                                                          'Population.Change..', 'Indigenous.Population..', 'Swing', \n",
    "                                                          'Seat.Change', 'is.Safe', 'is.Marginal', 'Remained.Marginal')], \n",
    "                                         min_max_normalize))\n",
    "\n",
    "# Add the unscaled percentile columns back in\n",
    "urban_normalized$X5th.Percentile <- urban_data$X5th.Percentile\n",
    "urban_normalized$X50th.Percentile <- urban_data$X50th.Percentile\n",
    "urban_normalized$X95th.Percentile <- urban_data$X95th.Percentile\n",
    "urban_normalized$X95th.5th.Ratio <- urban_data$X95th.5th.Ratio\n",
    "\n",
    "# Normalize rural_data\n",
    "rural_normalized <- as.data.frame(lapply(rural_data[, c('IRSAD.Decile', 'Median.Income', 'Gini.Coefficient', 'Area..Km.2.', \n",
    "                                                          'closest_capital_distance', 'Population', 'Population.Density', \n",
    "                                                          'Population.Change..', 'Indigenous.Population..', 'Swing', \n",
    "                                                          'Seat.Change', 'is.Safe', 'is.Marginal', 'Remained.Marginal')], \n",
    "                                         min_max_normalize))\n",
    "\n",
    "# Add the unscaled percentile columns back in\n",
    "rural_normalized$X5th.Percentile <- rural_data$X5th.Percentile\n",
    "rural_normalized$X50th.Percentile <- rural_data$X50th.Percentile\n",
    "rural_normalized$X95th.Percentile <- rural_data$X95th.Percentile\n",
    "rural_normalized$X95th.5th.Ratio <- rural_data$X95th.5th.Ratio\n"
   ]
  },
  {
   "cell_type": "code",
   "execution_count": 9,
   "metadata": {
    "vscode": {
     "languageId": "r"
    }
   },
   "outputs": [],
   "source": [
    "fit <- lm(cleaned_normalized$X95th.Percentile ~ IRSAD.Decile +\n",
    "            Gini.Coefficient + Area..Km.2. +  \n",
    "            closest_capital_distance + Population + Population.Density + \n",
    "            + Population.Change.. + Indigenous.Population.. +\n",
    "            Swing + is.Safe + is.Marginal +\n",
    "            Remained.Marginal, data = cleaned_normalized)"
   ]
  },
  {
   "cell_type": "markdown",
   "metadata": {},
   "source": [
    "## AIC"
   ]
  },
  {
   "cell_type": "code",
   "execution_count": 10,
   "metadata": {
    "vscode": {
     "languageId": "r"
    }
   },
   "outputs": [
    {
     "name": "stdout",
     "output_type": "stream",
     "text": [
      "Start:  AIC=3664.48\n",
      "cleaned_normalized$X95th.Percentile ~ IRSAD.Decile + Gini.Coefficient + \n",
      "    Area..Km.2. + closest_capital_distance + Population + Population.Density + \n",
      "    +Population.Change.. + Indigenous.Population.. + Swing + \n",
      "    is.Safe + is.Marginal + Remained.Marginal\n",
      "\n",
      "                           Df Sum of Sq     RSS    AIC\n",
      "- IRSAD.Decile              1       192 3497405 3662.5\n",
      "- Swing                     1       536 3497748 3662.5\n",
      "- Area..Km.2.               1       870 3498083 3662.6\n",
      "- Population                1      1598 3498811 3662.7\n",
      "- is.Marginal               1      3786 3500999 3662.9\n",
      "- closest_capital_distance  1      3872 3501084 3662.9\n",
      "- Remained.Marginal         1      6365 3503578 3663.2\n",
      "- is.Safe                   1     10840 3508052 3663.7\n",
      "- Population.Density        1     14380 3511592 3664.1\n",
      "<none>                                  3497212 3664.5\n",
      "- Population.Change..       1     25365 3522578 3665.4\n",
      "- Gini.Coefficient          1     29185 3526398 3665.8\n",
      "- Indigenous.Population..   1     46208 3543420 3667.7\n",
      "\n",
      "Step:  AIC=3662.5\n",
      "cleaned_normalized$X95th.Percentile ~ Gini.Coefficient + Area..Km.2. + \n",
      "    closest_capital_distance + Population + Population.Density + \n",
      "    Population.Change.. + Indigenous.Population.. + Swing + is.Safe + \n",
      "    is.Marginal + Remained.Marginal\n",
      "\n",
      "                           Df Sum of Sq     RSS    AIC\n",
      "- Swing                     1       437 3497841 3660.6\n",
      "- Area..Km.2.               1       877 3498281 3660.6\n",
      "- Population                1      1865 3499269 3660.7\n",
      "- is.Marginal               1      3703 3501107 3660.9\n",
      "- closest_capital_distance  1      3916 3501321 3661.0\n",
      "- Remained.Marginal         1      6275 3503679 3661.2\n",
      "- is.Safe                   1     10661 3508065 3661.7\n",
      "<none>                                  3497405 3662.5\n",
      "- Population.Density        1     18900 3516305 3662.7\n",
      "- Population.Change..       1     25210 3522615 3663.4\n",
      "- Gini.Coefficient          1     29223 3526628 3663.8\n",
      "- Indigenous.Population..   1     48096 3545500 3666.0\n",
      "\n",
      "Step:  AIC=3660.55\n",
      "cleaned_normalized$X95th.Percentile ~ Gini.Coefficient + Area..Km.2. + \n",
      "    closest_capital_distance + Population + Population.Density + \n",
      "    Population.Change.. + Indigenous.Population.. + is.Safe + \n",
      "    is.Marginal + Remained.Marginal\n",
      "\n",
      "                           Df Sum of Sq     RSS    AIC\n",
      "- Area..Km.2.               1       929 3498770 3658.7\n",
      "- Population                1      2011 3499853 3658.8\n",
      "- is.Marginal               1      3386 3501228 3658.9\n",
      "- closest_capital_distance  1      3624 3501465 3659.0\n",
      "- Remained.Marginal         1      6009 3503851 3659.2\n",
      "- is.Safe                   1     11667 3509508 3659.9\n",
      "<none>                                  3497841 3660.6\n",
      "- Population.Density        1     18804 3516645 3660.7\n",
      "- Population.Change..       1     26833 3524674 3661.6\n",
      "- Gini.Coefficient          1     30007 3527848 3662.0\n",
      "- Indigenous.Population..   1     50382 3548223 3664.3\n",
      "\n",
      "Step:  AIC=3658.66\n",
      "cleaned_normalized$X95th.Percentile ~ Gini.Coefficient + closest_capital_distance + \n",
      "    Population + Population.Density + Population.Change.. + Indigenous.Population.. + \n",
      "    is.Safe + is.Marginal + Remained.Marginal\n",
      "\n",
      "                           Df Sum of Sq     RSS    AIC\n",
      "- Population                1      1970 3500740 3656.9\n",
      "- closest_capital_distance  1      2982 3501752 3657.0\n",
      "- is.Marginal               1      3293 3502063 3657.0\n",
      "- Remained.Marginal         1      5849 3504619 3657.3\n",
      "- is.Safe                   1     11825 3510595 3658.0\n",
      "<none>                                  3498770 3658.7\n",
      "- Population.Density        1     18587 3517357 3658.8\n",
      "- Population.Change..       1     26015 3524785 3659.6\n",
      "- Gini.Coefficient          1     29741 3528511 3660.1\n",
      "- Indigenous.Population..   1     50625 3549395 3662.4\n",
      "\n",
      "Step:  AIC=3656.88\n",
      "cleaned_normalized$X95th.Percentile ~ Gini.Coefficient + closest_capital_distance + \n",
      "    Population.Density + Population.Change.. + Indigenous.Population.. + \n",
      "    is.Safe + is.Marginal + Remained.Marginal\n",
      "\n",
      "                           Df Sum of Sq     RSS    AIC\n",
      "- closest_capital_distance  1      2527 3503267 3655.2\n",
      "- is.Marginal               1      3168 3503908 3655.2\n",
      "- Remained.Marginal         1      5697 3506436 3655.5\n",
      "- is.Safe                   1     11642 3512382 3656.2\n",
      "<none>                                  3500740 3656.9\n",
      "- Population.Density        1     23283 3524022 3657.5\n",
      "- Population.Change..       1     24511 3525250 3657.7\n",
      "- Gini.Coefficient          1     34504 3535243 3658.8\n",
      "- Indigenous.Population..   1     49611 3550350 3660.5\n",
      "\n",
      "Step:  AIC=3655.17\n",
      "cleaned_normalized$X95th.Percentile ~ Gini.Coefficient + Population.Density + \n",
      "    Population.Change.. + Indigenous.Population.. + is.Safe + \n",
      "    is.Marginal + Remained.Marginal\n",
      "\n",
      "                          Df Sum of Sq     RSS    AIC\n",
      "- is.Marginal              1      3625 3506892 3653.6\n",
      "- Remained.Marginal        1      6730 3509997 3653.9\n",
      "- is.Safe                  1     12600 3515867 3654.6\n",
      "<none>                                 3503267 3655.2\n",
      "- Population.Density       1     20958 3524225 3655.6\n",
      "- Population.Change..      1     25883 3529150 3656.1\n",
      "- Gini.Coefficient         1     34881 3538149 3657.1\n",
      "- Indigenous.Population..  1     84482 3587749 3662.7\n",
      "\n",
      "Step:  AIC=3653.59\n",
      "cleaned_normalized$X95th.Percentile ~ Gini.Coefficient + Population.Density + \n",
      "    Population.Change.. + Indigenous.Population.. + is.Safe + \n",
      "    Remained.Marginal\n",
      "\n",
      "                          Df Sum of Sq     RSS    AIC\n",
      "- Remained.Marginal        1      3769 3510661 3652.0\n",
      "- is.Safe                  1      8998 3515890 3652.6\n",
      "<none>                                 3506892 3653.6\n",
      "- Population.Density       1     22481 3529374 3654.2\n",
      "- Population.Change..      1     24534 3531427 3654.4\n",
      "- Gini.Coefficient         1     32263 3539155 3655.3\n",
      "- Indigenous.Population..  1     86678 3593570 3661.4\n",
      "\n",
      "Step:  AIC=3652.02\n",
      "cleaned_normalized$X95th.Percentile ~ Gini.Coefficient + Population.Density + \n",
      "    Population.Change.. + Indigenous.Population.. + is.Safe\n",
      "\n",
      "                          Df Sum of Sq     RSS    AIC\n",
      "- is.Safe                  1     15332 3525993 3651.8\n",
      "<none>                                 3510661 3652.0\n",
      "- Population.Density       1     20295 3530956 3652.3\n",
      "- Population.Change..      1     25416 3536077 3652.9\n",
      "- Gini.Coefficient         1     30955 3541616 3653.5\n",
      "- Indigenous.Population..  1     83460 3594121 3659.4\n",
      "\n",
      "Step:  AIC=3651.77\n",
      "cleaned_normalized$X95th.Percentile ~ Gini.Coefficient + Population.Density + \n",
      "    Population.Change.. + Indigenous.Population..\n",
      "\n",
      "                          Df Sum of Sq     RSS    AIC\n",
      "- Population.Density       1     17270 3543263 3651.7\n",
      "<none>                                 3525993 3651.8\n",
      "- Gini.Coefficient         1     27162 3553155 3652.8\n",
      "- Population.Change..      1     30272 3556264 3653.2\n",
      "- Indigenous.Population..  1     78885 3604878 3658.6\n",
      "\n",
      "Step:  AIC=3651.73\n",
      "cleaned_normalized$X95th.Percentile ~ Gini.Coefficient + Population.Change.. + \n",
      "    Indigenous.Population..\n",
      "\n",
      "                          Df Sum of Sq     RSS    AIC\n",
      "<none>                                 3543263 3651.7\n",
      "- Gini.Coefficient         1     22301 3565564 3652.2\n",
      "- Population.Change..      1     32795 3576058 3653.4\n",
      "- Indigenous.Population..  1     66273 3609535 3657.2\n"
     ]
    },
    {
     "data": {
      "text/plain": [
       "\n",
       "Call:\n",
       "lm(formula = cleaned_normalized$X95th.Percentile ~ Gini.Coefficient + \n",
       "    Population.Change.. + Indigenous.Population.., data = cleaned_normalized)\n",
       "\n",
       "Residuals:\n",
       "    Min      1Q  Median      3Q     Max \n",
       "-232.60  -40.00   -9.43   17.30  560.38 \n",
       "\n",
       "Coefficients:\n",
       "                        Estimate Std. Error t value Pr(>|t|)    \n",
       "(Intercept)               409.54      25.47  16.077  < 2e-16 ***\n",
       "Gini.Coefficient           65.01      41.12   1.581  0.11474    \n",
       "Population.Change..        83.84      43.74   1.917  0.05597 .  \n",
       "Indigenous.Population..   -88.73      32.56  -2.725  0.00672 ** \n",
       "---\n",
       "Signif. codes:  0 '***' 0.001 '**' 0.01 '*' 0.05 '.' 0.1 ' ' 1\n",
       "\n",
       "Residual standard error: 94.47 on 397 degrees of freedom\n",
       "Multiple R-squared:  0.03921,\tAdjusted R-squared:  0.03195 \n",
       "F-statistic: 5.401 on 3 and 397 DF,  p-value: 0.001189\n"
      ]
     },
     "metadata": {},
     "output_type": "display_data"
    }
   ],
   "source": [
    "# Fit the model with stepwise AIC selection\n",
    "fit_aic <- step(fit)\n",
    "summary(fit_aic)"
   ]
  },
  {
   "cell_type": "markdown",
   "metadata": {},
   "source": [
    "## BIC"
   ]
  },
  {
   "cell_type": "code",
   "execution_count": 11,
   "metadata": {
    "vscode": {
     "languageId": "r"
    }
   },
   "outputs": [
    {
     "name": "stdout",
     "output_type": "stream",
     "text": [
      "Start:  AIC=3716.4\n",
      "cleaned_normalized$X95th.Percentile ~ IRSAD.Decile + Gini.Coefficient + \n",
      "    Area..Km.2. + closest_capital_distance + Population + Population.Density + \n",
      "    +Population.Change.. + Indigenous.Population.. + Swing + \n",
      "    is.Safe + is.Marginal + Remained.Marginal\n",
      "\n",
      "                           Df Sum of Sq     RSS    AIC\n",
      "- IRSAD.Decile              1       192 3497405 3710.4\n",
      "- Swing                     1       536 3497748 3710.5\n",
      "- Area..Km.2.               1       870 3498083 3710.5\n",
      "- Population                1      1598 3498811 3710.6\n",
      "- is.Marginal               1      3786 3500999 3710.8\n",
      "- closest_capital_distance  1      3872 3501084 3710.9\n",
      "- Remained.Marginal         1      6365 3503578 3711.1\n",
      "- is.Safe                   1     10840 3508052 3711.6\n",
      "- Population.Density        1     14380 3511592 3712.1\n",
      "- Population.Change..       1     25365 3522578 3713.3\n",
      "- Gini.Coefficient          1     29185 3526398 3713.7\n",
      "- Indigenous.Population..   1     46208 3543420 3715.7\n",
      "<none>                                  3497212 3716.4\n",
      "\n",
      "Step:  AIC=3710.43\n",
      "cleaned_normalized$X95th.Percentile ~ Gini.Coefficient + Area..Km.2. + \n",
      "    closest_capital_distance + Population + Population.Density + \n",
      "    Population.Change.. + Indigenous.Population.. + Swing + is.Safe + \n",
      "    is.Marginal + Remained.Marginal\n",
      "\n",
      "                           Df Sum of Sq     RSS    AIC\n",
      "- Swing                     1       437 3497841 3704.5\n",
      "- Area..Km.2.               1       877 3498281 3704.5\n",
      "- Population                1      1865 3499269 3704.6\n",
      "- is.Marginal               1      3703 3501107 3704.9\n",
      "- closest_capital_distance  1      3916 3501321 3704.9\n",
      "- Remained.Marginal         1      6275 3503679 3705.2\n",
      "- is.Safe                   1     10661 3508065 3705.7\n",
      "- Population.Density        1     18900 3516305 3706.6\n",
      "- Population.Change..       1     25210 3522615 3707.3\n",
      "- Gini.Coefficient          1     29223 3526628 3707.8\n",
      "- Indigenous.Population..   1     48096 3545500 3709.9\n",
      "<none>                                  3497405 3710.4\n",
      "+ IRSAD.Decile              1       192 3497212 3716.4\n",
      "\n",
      "Step:  AIC=3704.49\n",
      "cleaned_normalized$X95th.Percentile ~ Gini.Coefficient + Area..Km.2. + \n",
      "    closest_capital_distance + Population + Population.Density + \n",
      "    Population.Change.. + Indigenous.Population.. + is.Safe + \n",
      "    is.Marginal + Remained.Marginal\n",
      "\n",
      "                           Df Sum of Sq     RSS    AIC\n",
      "- Area..Km.2.               1       929 3498770 3698.6\n",
      "- Population                1      2011 3499853 3698.7\n",
      "- is.Marginal               1      3386 3501228 3698.9\n",
      "- closest_capital_distance  1      3624 3501465 3698.9\n",
      "- Remained.Marginal         1      6009 3503851 3699.2\n",
      "- is.Safe                   1     11667 3509508 3699.8\n",
      "- Population.Density        1     18804 3516645 3700.6\n",
      "- Population.Change..       1     26833 3524674 3701.6\n",
      "- Gini.Coefficient          1     30007 3527848 3701.9\n",
      "- Indigenous.Population..   1     50382 3548223 3704.2\n",
      "<none>                                  3497841 3704.5\n",
      "+ Swing                     1       437 3497405 3710.4\n",
      "+ IRSAD.Decile              1        93 3497748 3710.5\n",
      "\n",
      "Step:  AIC=3698.6\n",
      "cleaned_normalized$X95th.Percentile ~ Gini.Coefficient + closest_capital_distance + \n",
      "    Population + Population.Density + Population.Change.. + Indigenous.Population.. + \n",
      "    is.Safe + is.Marginal + Remained.Marginal\n",
      "\n",
      "                           Df Sum of Sq     RSS    AIC\n",
      "- Population                1      1970 3500740 3692.8\n",
      "- closest_capital_distance  1      2982 3501752 3692.9\n",
      "- is.Marginal               1      3293 3502063 3693.0\n",
      "- Remained.Marginal         1      5849 3504619 3693.3\n",
      "- is.Safe                   1     11825 3510595 3694.0\n",
      "- Population.Density        1     18587 3517357 3694.7\n",
      "- Population.Change..       1     26015 3524785 3695.6\n",
      "- Gini.Coefficient          1     29741 3528511 3696.0\n",
      "- Indigenous.Population..   1     50625 3549395 3698.4\n",
      "<none>                                  3498770 3698.6\n",
      "+ Area..Km.2.               1       929 3497841 3704.5\n",
      "+ Swing                     1       489 3498281 3704.5\n",
      "+ IRSAD.Decile              1        93 3498677 3704.6\n",
      "\n",
      "Step:  AIC=3692.83\n",
      "cleaned_normalized$X95th.Percentile ~ Gini.Coefficient + closest_capital_distance + \n",
      "    Population.Density + Population.Change.. + Indigenous.Population.. + \n",
      "    is.Safe + is.Marginal + Remained.Marginal\n",
      "\n",
      "                           Df Sum of Sq     RSS    AIC\n",
      "- closest_capital_distance  1      2527 3503267 3687.1\n",
      "- is.Marginal               1      3168 3503908 3687.2\n",
      "- Remained.Marginal         1      5697 3506436 3687.5\n",
      "- is.Safe                   1     11642 3512382 3688.2\n",
      "- Population.Density        1     23283 3524022 3689.5\n",
      "- Population.Change..       1     24511 3525250 3689.6\n",
      "- Gini.Coefficient          1     34504 3535243 3690.8\n",
      "- Indigenous.Population..   1     49611 3550350 3692.5\n",
      "<none>                                  3500740 3692.8\n",
      "+ Population                1      1970 3498770 3698.6\n",
      "+ Area..Km.2.               1       887 3499853 3698.7\n",
      "+ Swing                     1       640 3500100 3698.8\n",
      "+ IRSAD.Decile              1       282 3500457 3698.8\n",
      "\n",
      "Step:  AIC=3687.12\n",
      "cleaned_normalized$X95th.Percentile ~ Gini.Coefficient + Population.Density + \n",
      "    Population.Change.. + Indigenous.Population.. + is.Safe + \n",
      "    is.Marginal + Remained.Marginal\n",
      "\n",
      "                           Df Sum of Sq     RSS    AIC\n",
      "- is.Marginal               1      3625 3506892 3681.5\n",
      "- Remained.Marginal         1      6730 3509997 3681.9\n",
      "- is.Safe                   1     12600 3515867 3682.6\n",
      "- Population.Density        1     20958 3524225 3683.5\n",
      "- Population.Change..       1     25883 3529150 3684.1\n",
      "- Gini.Coefficient          1     34881 3538149 3685.1\n",
      "<none>                                  3503267 3687.1\n",
      "- Indigenous.Population..   1     84482 3587749 3690.7\n",
      "+ closest_capital_distance  1      2527 3500740 3692.8\n",
      "+ Population                1      1516 3501752 3692.9\n",
      "+ IRSAD.Decile              1       345 3502922 3693.1\n",
      "+ Area..Km.2.               1       299 3502969 3693.1\n",
      "+ Swing                     1       278 3502989 3693.1\n",
      "\n",
      "Step:  AIC=3681.55\n",
      "cleaned_normalized$X95th.Percentile ~ Gini.Coefficient + Population.Density + \n",
      "    Population.Change.. + Indigenous.Population.. + is.Safe + \n",
      "    Remained.Marginal\n",
      "\n",
      "                           Df Sum of Sq     RSS    AIC\n",
      "- Remained.Marginal         1      3769 3510661 3676.0\n",
      "- is.Safe                   1      8998 3515890 3676.6\n",
      "- Population.Density        1     22481 3529374 3678.1\n",
      "- Population.Change..       1     24534 3531427 3678.3\n",
      "- Gini.Coefficient          1     32263 3539155 3679.2\n",
      "<none>                                  3506892 3681.5\n",
      "- Indigenous.Population..   1     86678 3593570 3685.3\n",
      "+ is.Marginal               1      3625 3503267 3687.1\n",
      "+ closest_capital_distance  1      2984 3503908 3687.2\n",
      "+ Population                1      1364 3505528 3687.4\n",
      "+ IRSAD.Decile              1       290 3506602 3687.5\n",
      "+ Area..Km.2.               1       214 3506678 3687.5\n",
      "+ Swing                     1        32 3506860 3687.5\n",
      "\n",
      "Step:  AIC=3675.98\n",
      "cleaned_normalized$X95th.Percentile ~ Gini.Coefficient + Population.Density + \n",
      "    Population.Change.. + Indigenous.Population.. + is.Safe\n",
      "\n",
      "                           Df Sum of Sq     RSS    AIC\n",
      "- is.Safe                   1     15332 3525993 3671.7\n",
      "- Population.Density        1     20295 3530956 3672.3\n",
      "- Population.Change..       1     25416 3536077 3672.9\n",
      "- Gini.Coefficient          1     30955 3541616 3673.5\n",
      "<none>                                  3510661 3676.0\n",
      "- Indigenous.Population..   1     83460 3594121 3679.4\n",
      "+ Remained.Marginal         1      3769 3506892 3681.5\n",
      "+ closest_capital_distance  1      3629 3507032 3681.6\n",
      "+ Population                1      1261 3509400 3681.8\n",
      "+ is.Marginal               1       664 3509997 3681.9\n",
      "+ IRSAD.Decile              1       409 3510252 3681.9\n",
      "+ Swing                     1       367 3510294 3681.9\n",
      "+ Area..Km.2.               1       136 3510525 3682.0\n",
      "\n",
      "Step:  AIC=3671.74\n",
      "cleaned_normalized$X95th.Percentile ~ Gini.Coefficient + Population.Density + \n",
      "    Population.Change.. + Indigenous.Population..\n",
      "\n",
      "                           Df Sum of Sq     RSS    AIC\n",
      "- Population.Density        1     17270 3543263 3667.7\n",
      "- Gini.Coefficient          1     27162 3553155 3668.8\n",
      "- Population.Change..       1     30272 3556264 3669.2\n",
      "<none>                                  3525993 3671.7\n",
      "- Indigenous.Population..   1     78885 3604878 3674.6\n",
      "+ is.Safe                   1     15332 3510661 3676.0\n",
      "+ Remained.Marginal         1     10102 3515890 3676.6\n",
      "+ closest_capital_distance  1      4939 3521054 3677.2\n",
      "+ is.Marginal               1      3504 3522488 3677.3\n",
      "+ Population                1      1089 3524903 3677.6\n",
      "+ Area..Km.2.               1       201 3525792 3677.7\n",
      "+ IRSAD.Decile              1        44 3525949 3677.7\n",
      "+ Swing                     1         1 3525992 3677.7\n",
      "\n",
      "Step:  AIC=3667.7\n",
      "cleaned_normalized$X95th.Percentile ~ Gini.Coefficient + Population.Change.. + \n",
      "    Indigenous.Population..\n",
      "\n",
      "                           Df Sum of Sq     RSS    AIC\n",
      "- Gini.Coefficient          1     22301 3565564 3664.2\n",
      "- Population.Change..       1     32795 3576058 3665.4\n",
      "<none>                                  3543263 3667.7\n",
      "- Indigenous.Population..   1     66273 3609535 3669.1\n",
      "+ Population.Density        1     17270 3525993 3671.7\n",
      "+ is.Safe                   1     12307 3530956 3672.3\n",
      "+ Remained.Marginal         1      5879 3537384 3673.0\n",
      "+ Population                1      4843 3538420 3673.1\n",
      "+ IRSAD.Decile              1      3617 3539646 3673.3\n",
      "+ is.Marginal               1      1350 3541913 3673.5\n",
      "+ closest_capital_distance  1      1185 3542078 3673.6\n",
      "+ Swing                     1       668 3542595 3673.6\n",
      "+ Area..Km.2.               1       312 3542951 3673.7\n",
      "\n",
      "Step:  AIC=3664.22\n",
      "cleaned_normalized$X95th.Percentile ~ Population.Change.. + Indigenous.Population..\n",
      "\n",
      "                           Df Sum of Sq     RSS    AIC\n",
      "- Population.Change..       1     19524 3585088 3660.4\n",
      "<none>                                  3565564 3664.2\n",
      "- Indigenous.Population..   1     82412 3647976 3667.4\n",
      "+ Gini.Coefficient          1     22301 3543263 3667.7\n",
      "+ Population.Density        1     12409 3553155 3668.8\n",
      "+ is.Safe                   1      9587 3555976 3669.1\n",
      "+ Population                1      8946 3556618 3669.2\n",
      "+ Remained.Marginal         1      4292 3561272 3669.7\n",
      "+ is.Marginal               1      1873 3563691 3670.0\n",
      "+ closest_capital_distance  1      1471 3564092 3670.1\n",
      "+ IRSAD.Decile              1      1115 3564449 3670.1\n",
      "+ Area..Km.2.               1       170 3565394 3670.2\n",
      "+ Swing                     1        17 3565547 3670.2\n",
      "\n",
      "Step:  AIC=3660.42\n",
      "cleaned_normalized$X95th.Percentile ~ Indigenous.Population..\n",
      "\n",
      "                           Df Sum of Sq     RSS    AIC\n",
      "<none>                                  3585088 3660.4\n",
      "+ Population.Change..       1     19524 3565564 3664.2\n",
      "+ Population.Density        1     15535 3569553 3664.7\n",
      "+ is.Safe                   1     13532 3571556 3664.9\n",
      "+ Gini.Coefficient          1      9030 3576058 3665.4\n",
      "+ Remained.Marginal         1      6218 3578870 3665.7\n",
      "- Indigenous.Population..   1    102779 3687867 3665.8\n",
      "+ Population                1      4293 3580795 3665.9\n",
      "+ is.Marginal               1      3578 3581510 3666.0\n",
      "+ closest_capital_distance  1      2213 3582875 3666.2\n",
      "+ IRSAD.Decile              1       452 3584636 3666.4\n",
      "+ Swing                     1        29 3585059 3666.4\n",
      "+ Area..Km.2.               1        27 3585061 3666.4\n"
     ]
    },
    {
     "data": {
      "text/plain": [
       "\n",
       "Call:\n",
       "lm(formula = cleaned_normalized$X95th.Percentile ~ Indigenous.Population.., \n",
       "    data = cleaned_normalized)\n",
       "\n",
       "Residuals:\n",
       "    Min      1Q  Median      3Q     Max \n",
       "-229.50  -41.20   -8.82   13.68  557.61 \n",
       "\n",
       "Coefficients:\n",
       "                        Estimate Std. Error t value Pr(>|t|)    \n",
       "(Intercept)              463.034      5.436  85.179  < 2e-16 ***\n",
       "Indigenous.Population.. -106.775     31.571  -3.382  0.00079 ***\n",
       "---\n",
       "Signif. codes:  0 '***' 0.001 '**' 0.01 '*' 0.05 '.' 0.1 ' ' 1\n",
       "\n",
       "Residual standard error: 94.79 on 399 degrees of freedom\n",
       "Multiple R-squared:  0.02787,\tAdjusted R-squared:  0.02543 \n",
       "F-statistic: 11.44 on 1 and 399 DF,  p-value: 0.0007904\n"
      ]
     },
     "metadata": {},
     "output_type": "display_data"
    }
   ],
   "source": [
    "fit_bic <- step(fit, direction = \"both\", k = log(nrow(cleaned_data)))\n",
    "summary(fit_bic)"
   ]
  },
  {
   "cell_type": "code",
   "execution_count": 13,
   "metadata": {
    "vscode": {
     "languageId": "r"
    }
   },
   "outputs": [
    {
     "data": {
      "text/plain": [
       "   Min. 1st Qu.  Median    Mean 3rd Qu.    Max. \n",
       "0.00000 0.01558 0.03984 0.08466 0.08596 1.00000 "
      ]
     },
     "metadata": {},
     "output_type": "display_data"
    },
    {
     "data": {
      "text/plain": [
       "   Min. 1st Qu.  Median    Mean 3rd Qu.    Max. \n",
       "0.00000 0.05375 0.14888 0.21583 0.32773 1.00000 "
      ]
     },
     "metadata": {},
     "output_type": "display_data"
    },
    {
     "data": {
      "text/plain": [
       "   Min. 1st Qu.  Median    Mean 3rd Qu.    Max. \n",
       "0.00000 0.03520 0.07715 0.14677 0.15831 1.00000 "
      ]
     },
     "metadata": {},
     "output_type": "display_data"
    }
   ],
   "source": [
    "summary(cleaned_normalized$Indigenous.Population..)\n",
    "summary(urban_normalized$Indigenous.Population..)\n",
    "summary(rural_normalized$Indigenous.Population..)"
   ]
  },
  {
   "cell_type": "markdown",
   "metadata": {},
   "source": [
    "## Ridge Regression"
   ]
  },
  {
   "cell_type": "code",
   "execution_count": 14,
   "metadata": {
    "vscode": {
     "languageId": "r"
    }
   },
   "outputs": [
    {
     "name": "stdout",
     "output_type": "stream",
     "text": [
      "[1] 105.3322\n"
     ]
    },
    {
     "data": {
      "text/plain": [
       "\n",
       "Call:\n",
       "glm(formula = formula, data = cleaned_normalized)\n",
       "\n",
       "Coefficients:\n",
       "                         Estimate Std. Error t value Pr(>|t|)    \n",
       "(Intercept)               444.604     37.232  11.941   <2e-16 ***\n",
       "IRSAD.Decile                7.343     23.601   0.311   0.7559    \n",
       "Median.Income             -51.489     52.623  -0.978   0.3285    \n",
       "Gini.Coefficient           64.846     46.700   1.389   0.1658    \n",
       "Area..Km.2.                30.830     73.376   0.420   0.6746    \n",
       "closest_capital_distance  -13.487     31.831  -0.424   0.6720    \n",
       "Population                -34.336     67.643  -0.508   0.6120    \n",
       "Population.Density        -38.560     42.483  -0.908   0.3646    \n",
       "Population.Change..        75.044     46.357   1.619   0.1063    \n",
       "Indigenous.Population..  -103.568     45.105  -2.296   0.0222 *  \n",
       "Swing                      -9.148     26.527  -0.345   0.7304    \n",
       "is.Safe                   -14.611     13.051  -1.120   0.2636    \n",
       "is.Marginal                -8.006     15.371  -0.521   0.6028    \n",
       "Remained.Marginal          13.717     18.918   0.725   0.4688    \n",
       "---\n",
       "Signif. codes:  0 '***' 0.001 '**' 0.01 '*' 0.05 '.' 0.1 ' ' 1\n",
       "\n",
       "(Dispersion parameter for gaussian family taken to be 9014.426)\n",
       "\n",
       "    Null deviance: 3687867  on 400  degrees of freedom\n",
       "Residual deviance: 3488583  on 387  degrees of freedom\n",
       "AIC: 4805.5\n",
       "\n",
       "Number of Fisher Scoring iterations: 2\n"
      ]
     },
     "metadata": {},
     "output_type": "display_data"
    },
    {
     "data": {
      "image/png": "[encoded data removed]",
      "text/plain": [
       "plot without title"
      ]
     },
     "metadata": {
      "image/png": {
       "height": 420,
       "width": 420
      }
     },
     "output_type": "display_data"
    },
    {
     "data": {
      "image/png": "[encoded data removed]",
      "text/plain": [
       "Plot with title \"Prediction performance of Ridge model\""
      ]
     },
     "metadata": {
      "image/png": {
       "height": 360,
       "width": 600
      }
     },
     "output_type": "display_data"
    },
    {
     "data": {
      "image/png": "[encoded data removed]",
      "text/plain": [
       "Plot with title \"Residuals vs Predicted\""
      ]
     },
     "metadata": {
      "image/png": {
       "height": 360,
       "width": 600
      }
     },
     "output_type": "display_data"
    }
   ],
   "source": [
    "cv_alpha <- function(x, y, nfolds = 5) {\n",
    "  alphas <- seq(0, 1, by = 0.1)\n",
    "  cv_errors <- numeric(length(alphas))\n",
    "  \n",
    "  for (i in seq_along(alphas)) {\n",
    "    fit <- cv.glmnet(x, y, alpha = alphas[i], nfolds = nfolds)\n",
    "    cv_errors[i] <- min(fit$cvm)\n",
    "  }\n",
    "  \n",
    "  best_alpha <- alphas[which.min(cv_errors)]\n",
    "  return(best_alpha)}\n",
    "\n",
    "x <- model.matrix(cleaned_normalized$X95th.Percentile ~ IRSAD.Decile +\n",
    "            Median.Income + Gini.Coefficient + Area..Km.2. +\n",
    "            closest_capital_distance + Population + Population.Density +\n",
    "            Population.Change.. + Indigenous.Population.. +\n",
    "            Swing +\n",
    "            # Seat.Change +\n",
    "            is.Safe + is.Marginal +\n",
    "            Remained.Marginal, data = cleaned_normalized)\n",
    "\n",
    "y <- cleaned_normalized$X95th.Percentile\n",
    "\n",
    "# Fit Lasso regression model (alpha = 1 for Lasso)\n",
    "cv_model_best <- cv.glmnet(x, y, alpha = 0)\n",
    "\n",
    "# Plot the cross-validation curve\n",
    "par(bg= \"white\")\n",
    "plot(cv_model_best)\n",
    "\n",
    "# Get the best lambda\n",
    "best_lambda <- cv_model_best$lambda.min\n",
    "print(best_lambda)\n",
    "\n",
    "# Fit the final model with the best alpha and lambda\n",
    "final_model_best <- glmnet(x, y, alpha = 0, lambda = best_lambda)\n",
    "selected_vars <- rownames(coef(final_model_best))[-1][coef(final_model_best)[-1, 1] != 0]\n",
    "\n",
    "# Create a formula for the selected variables\n",
    "formula <- as.formula(paste(\"X95th.Percentile ~\", paste(selected_vars, collapse = \" + \")))\n",
    "ridge_model <- glm(formula, data = cleaned_normalized)\n",
    "summary(ridge_model)\n",
    "options(repr.plot.width = 10, repr.plot.height = 6)\n",
    "plot(predict(ridge_model, cleaned_normalized), cleaned_normalized$X95th.Percentile, \n",
    "            main=\"Prediction performance of Ridge model\", \n",
    "            ylab= \"Recorded\", xlab=\"Predicted\")\n",
    "plot(ridge_model$fitted.values, resid(ridge_model), \n",
    "     main = \"Residuals vs Predicted\", \n",
    "     xlab = \"Predicted\", \n",
    "     ylab = \"Residuals\")\n",
    "abline(h = 0, col = \"red\")"
   ]
  },
  {
   "cell_type": "markdown",
   "metadata": {
    "vscode": {
     "languageId": "r"
    }
   },
   "source": [
    "## Lasso Regression"
   ]
  },
  {
   "cell_type": "code",
   "execution_count": 15,
   "metadata": {
    "vscode": {
     "languageId": "r"
    }
   },
   "outputs": [
    {
     "name": "stdout",
     "output_type": "stream",
     "text": [
      "[1] 8.347399\n"
     ]
    },
    {
     "data": {
      "text/plain": [
       "\n",
       "Call:\n",
       "glm(formula = formula, data = cleaned_normalized)\n",
       "\n",
       "Coefficients:\n",
       "                        Estimate Std. Error t value Pr(>|t|)    \n",
       "(Intercept)               434.84      19.85  21.902  < 2e-16 ***\n",
       "Population.Change..        61.09      41.38   1.476  0.14066    \n",
       "Indigenous.Population..   -97.49      32.14  -3.033  0.00258 ** \n",
       "---\n",
       "Signif. codes:  0 '***' 0.001 '**' 0.01 '*' 0.05 '.' 0.1 ' ' 1\n",
       "\n",
       "(Dispersion parameter for gaussian family taken to be 8958.703)\n",
       "\n",
       "    Null deviance: 3687867  on 400  degrees of freedom\n",
       "Residual deviance: 3565564  on 398  degrees of freedom\n",
       "AIC: 4792.2\n",
       "\n",
       "Number of Fisher Scoring iterations: 2\n"
      ]
     },
     "metadata": {},
     "output_type": "display_data"
    },
    {
     "data": {
      "image/png": "[encoded data removed]",
      "text/plain": [
       "plot without title"
      ]
     },
     "metadata": {
      "image/png": {
       "height": 360,
       "width": 600
      }
     },
     "output_type": "display_data"
    },
    {
     "data": {
      "image/png": "[encoded data removed]",
      "text/plain": [
       "Plot with title \"Prediction performance of Ridge model\""
      ]
     },
     "metadata": {
      "image/png": {
       "height": 360,
       "width": 600
      }
     },
     "output_type": "display_data"
    },
    {
     "data": {
      "image/png": "[encoded data removed]",
      "text/plain": [
       "Plot with title \"Residuals vs Predicted\""
      ]
     },
     "metadata": {
      "image/png": {
       "height": 360,
       "width": 600
      }
     },
     "output_type": "display_data"
    }
   ],
   "source": [
    "cv_alpha <- function(x, y, nfolds = 5) {\n",
    "  alphas <- seq(0, 1, by = 0.1)\n",
    "  cv_errors <- numeric(length(alphas))\n",
    "  \n",
    "  for (i in seq_along(alphas)) {\n",
    "    fit <- cv.glmnet(x, y, alpha = alphas[i], nfolds = nfolds)\n",
    "    cv_errors[i] <- min(fit$cvm)\n",
    "  }\n",
    "  \n",
    "  best_alpha <- alphas[which.min(cv_errors)]\n",
    "  return(best_alpha)}\n",
    "\n",
    "x <- model.matrix(cleaned_normalized$X95th.Percentile ~ IRSAD.Decile +\n",
    "            Median.Income + Gini.Coefficient + Area..Km.2. +\n",
    "            closest_capital_distance + Population + Population.Density +\n",
    "            Population.Change.. + Indigenous.Population.. +\n",
    "            Swing +\n",
    "            # Seat.Change +\n",
    "            is.Safe + is.Marginal +\n",
    "            Remained.Marginal, data = cleaned_normalized)\n",
    "\n",
    "y <- cleaned_normalized$X95th.Percentile\n",
    "\n",
    "# Fit Lasso regression model (alpha = 1 for Lasso)\n",
    "cv_model_best <- cv.glmnet(x, y, alpha = 1)\n",
    "\n",
    "# Plot the cross-validation curve\n",
    "par(bg= \"white\")\n",
    "plot(cv_model_best)\n",
    "\n",
    "# Get the best lambda\n",
    "best_lambda <- cv_model_best$lambda.min\n",
    "print(best_lambda)\n",
    "\n",
    "# Fit the final model with the best alpha and lambda\n",
    "final_model_best <- glmnet(x, y, alpha = 1, lambda = best_lambda)\n",
    "selected_vars <- rownames(coef(final_model_best))[-1][coef(final_model_best)[-1, 1] != 0]\n",
    "if (length(selected_vars) == 0) {print('No variables selected')}\n",
    "\n",
    "# Create a formula for the selected variables\n",
    "formula <- as.formula(paste(\"X95th.Percentile ~\", paste(selected_vars, collapse = \" + \")))\n",
    "lasso_model <- glm(formula, data = cleaned_normalized)\n",
    "summary(lasso_model)\n",
    "options(repr.plot.width = 10, repr.plot.height = 6)\n",
    "plot(predict(lasso_model, cleaned_normalized), cleaned_normalized$X95th.Percentile, \n",
    "            main=\"Prediction performance of Ridge model\", \n",
    "            ylab= \"Recorded\", xlab=\"Predicted\")\n",
    "plot(lasso_model$fitted.values, resid(lasso_model), \n",
    "     main = \"Residuals vs Predicted\", \n",
    "     xlab = \"Predicted\", \n",
    "     ylab = \"Residuals\")\n",
    "abline(h = 0, col = \"red\")"
   ]
  },
  {
   "cell_type": "markdown",
   "metadata": {},
   "source": [
    "## Elastic Net Regression"
   ]
  },
  {
   "cell_type": "code",
   "execution_count": 16,
   "metadata": {
    "vscode": {
     "languageId": "r"
    }
   },
   "outputs": [
    {
     "name": "stdout",
     "output_type": "stream",
     "text": [
      "Best alpha: 0.4 \n",
      "[1] 22.90315\n"
     ]
    },
    {
     "data": {
      "text/plain": [
       "\n",
       "Call:\n",
       "glm(formula = formula, data = cleaned_normalized)\n",
       "\n",
       "Coefficients:\n",
       "                         Estimate Std. Error t value Pr(>|t|)    \n",
       "(Intercept)               444.604     37.232  11.941   <2e-16 ***\n",
       "IRSAD.Decile                7.343     23.601   0.311   0.7559    \n",
       "Median.Income             -51.489     52.623  -0.978   0.3285    \n",
       "Gini.Coefficient           64.846     46.700   1.389   0.1658    \n",
       "Area..Km.2.                30.830     73.376   0.420   0.6746    \n",
       "closest_capital_distance  -13.487     31.831  -0.424   0.6720    \n",
       "Population                -34.336     67.643  -0.508   0.6120    \n",
       "Population.Density        -38.560     42.483  -0.908   0.3646    \n",
       "Population.Change..        75.044     46.357   1.619   0.1063    \n",
       "Indigenous.Population..  -103.568     45.105  -2.296   0.0222 *  \n",
       "Swing                      -9.148     26.527  -0.345   0.7304    \n",
       "is.Safe                   -14.611     13.051  -1.120   0.2636    \n",
       "is.Marginal                -8.006     15.371  -0.521   0.6028    \n",
       "Remained.Marginal          13.717     18.918   0.725   0.4688    \n",
       "---\n",
       "Signif. codes:  0 '***' 0.001 '**' 0.01 '*' 0.05 '.' 0.1 ' ' 1\n",
       "\n",
       "(Dispersion parameter for gaussian family taken to be 9014.426)\n",
       "\n",
       "    Null deviance: 3687867  on 400  degrees of freedom\n",
       "Residual deviance: 3488583  on 387  degrees of freedom\n",
       "AIC: 4805.5\n",
       "\n",
       "Number of Fisher Scoring iterations: 2\n"
      ]
     },
     "metadata": {},
     "output_type": "display_data"
    },
    {
     "data": {
      "image/png": "[encoded data removed]",
      "text/plain": [
       "plot without title"
      ]
     },
     "metadata": {
      "image/png": {
       "height": 360,
       "width": 600
      }
     },
     "output_type": "display_data"
    },
    {
     "data": {
      "image/png": "[encoded data removed]",
      "text/plain": [
       "Plot with title \"Prediction performance of Ridge model\""
      ]
     },
     "metadata": {
      "image/png": {
       "height": 360,
       "width": 600
      }
     },
     "output_type": "display_data"
    },
    {
     "data": {
      "image/png": "[encoded data removed]",
      "text/plain": [
       "Plot with title \"Residuals vs Predicted\""
      ]
     },
     "metadata": {
      "image/png": {
       "height": 360,
       "width": 600
      }
     },
     "output_type": "display_data"
    }
   ],
   "source": [
    "cv_alpha <- function(x, y, nfolds = 5) {\n",
    "  alphas <- seq(0, 1, by = 0.1)\n",
    "  cv_errors <- numeric(length(alphas))\n",
    "  \n",
    "  for (i in seq_along(alphas)) {\n",
    "    fit <- cv.glmnet(x, y, alpha = alphas[i], nfolds = nfolds)\n",
    "    cv_errors[i] <- min(fit$cvm)\n",
    "  }\n",
    "  \n",
    "  best_alpha <- alphas[which.min(cv_errors)]\n",
    "  return(best_alpha)}\n",
    "\n",
    "x <- model.matrix(cleaned_normalized$X95th.Percentile ~ IRSAD.Decile +\n",
    "            Median.Income + Gini.Coefficient + Area..Km.2. +\n",
    "            closest_capital_distance + Population + Population.Density +\n",
    "            Population.Change.. + Indigenous.Population.. +\n",
    "            Swing +\n",
    "            # Seat.Change +\n",
    "            is.Safe + is.Marginal +\n",
    "            Remained.Marginal, data = cleaned_normalized)\n",
    "\n",
    "y <- cleaned_normalized$X95th.Percentile\n",
    "\n",
    "# Find the best alpha\n",
    "best_alpha <- cv_alpha(x, y)\n",
    "cat(\"Best alpha:\", best_alpha, \"\\n\")\n",
    "\n",
    "# Fit Lasso regression model (alpha = 1 for Lasso)\n",
    "cv_model_best <- cv.glmnet(x, y, alpha = best_alpha)\n",
    "\n",
    "# Plot the cross-validation curve\n",
    "par(bg= \"white\")\n",
    "plot(cv_model_best)\n",
    "\n",
    "# Get the best lambda\n",
    "best_lambda <- cv_model_best$lambda.min\n",
    "print(best_lambda)\n",
    "\n",
    "# Fit the final model with the best alpha and lambda\n",
    "final_model_best <- glmnet(x, y, alpha = best_alpha, lambda = best_lambda)\n",
    "selected_vars <- rownames(coef(final_model_best))[-1][coef(final_model_best)[-1, 1] != 0]\n",
    "if (length(selected_vars) == 0) {print('No variables selected')}\n",
    "\n",
    "# Create a formula for the selected variables\n",
    "formula <- as.formula(paste(\"X95th.Percentile ~\", paste(selected_vars, collapse = \" + \")))\n",
    "elastic_model <- glm(formula, data = cleaned_normalized)\n",
    "summary(ridge_model)\n",
    "options(repr.plot.width = 10, repr.plot.height = 6)\n",
    "plot(predict(elastic_model, cleaned_normalized), cleaned_normalized$X95th.Percentile, \n",
    "            main=\"Prediction performance of Ridge model\", \n",
    "            ylab= \"Recorded\", xlab=\"Predicted\")\n",
    "plot(elastic_model$fitted.values, resid(elastic_model), \n",
    "     main = \"Residuals vs Predicted\", \n",
    "     xlab = \"Predicted\", \n",
    "     ylab = \"Residuals\")\n",
    "abline(h = 0, col = \"red\")"
   ]
  },
  {
   "cell_type": "markdown",
   "metadata": {},
   "source": [
    "## idk, something else now"
   ]
  },
  {
   "cell_type": "code",
   "execution_count": null,
   "metadata": {
    "vscode": {
     "languageId": "r"
    }
   },
   "outputs": [],
   "source": [
    "ggplot(cleaned_scaled, aes(x = Median.Income, y = X95th.Percentile)) +\n",
    "  geom_point(color = \"blue\") +\n",
    "  labs(title = \"Independent Variable vs Target Outcome\", x = \"Independent Variable\", y = \"Target Outcome\") +\n",
    "  theme_minimal()"
   ]
  },
  {
   "cell_type": "code",
   "execution_count": null,
   "metadata": {
    "vscode": {
     "languageId": "r"
    }
   },
   "outputs": [],
   "source": [
    "# Generate predicted values\n",
    "cleaned_scaled$predicted_values <- predict(ridge_model, newdata = cleaned_scaled)\n",
    "\n",
    "# Create a new column to classify urban and rural\n",
    "cleaned_data$category <- ifelse(cleaned_data$Major.City == 1 | cleaned_data$Inner.Regional == 1, \"Urban\", \"Rural\")\n",
    "\n",
    "# Create the plot\n",
    "ggplot(cleaned_scaled, aes(x = predicted_values, y = X5th.Percentile, color = category)) +\n",
    "  geom_point() +  # Actual data points\n",
    "  geom_smooth(method = \"lm\", color = \"blue\", se = FALSE) +  # Linear regression line\n",
    "  scale_color_manual(values = c(\"Urban\" = \"blue\", \"Rural\" = \"red\")) +  # Set colors for categories\n",
    "  labs(title = \"95th Percentile\", \n",
    "       x = \"Fitted 95th Percentile [ms]\", \n",
    "       y = \"Actual 95th Percentile [ms]\", \n",
    "       color = \"Category\") +  # Legend title\n",
    "  theme_minimal() +\n",
    "  xlim(min(cleaned_data$predicted_values), max(cleaned_data$predicted_values)) +  # Set x limits\n",
    "  ylim(min(cleaned_data$X5th.Percentile), max(cleaned_data$X5th.Percentile))  # Set y limits\n"
   ]
  },
  {
   "cell_type": "markdown",
   "metadata": {},
   "source": [
    "## All Hours vs Busy Hours"
   ]
  },
  {
   "cell_type": "code",
   "execution_count": null,
   "metadata": {
    "vscode": {
     "languageId": "r"
    }
   },
   "outputs": [],
   "source": [
    "# Create a data frame to store results\n",
    "results <- data.frame(Variable = character(),\n",
    "                      Comparison = character(),\n",
    "                      p.value = numeric(),\n",
    "                      stringsAsFactors = FALSE)\n",
    "\n",
    "# List of pairs to compare\n",
    "pairs <- list(\n",
    "  c(\"X5th.Percentile\", \"Busy.5th.Percentile\"),\n",
    "  c(\"X50th.Percentile\", \"Busy.50th.Percentile\"),\n",
    "  c(\"X95th.Percentile\", \"Busy.95th.Percentile\"),\n",
    "  c(\"X95th.5th.Ratio\", \"Busy.95th.5th.Ratio\")\n",
    ")\n",
    "pairs <- list(\n",
    "  c(\"X5th.Percentile\", \"X5th.Percentile\"),\n",
    "  c(\"X50th.Percentile\", \"X50th.Percentile\"),\n",
    "  c(\"X95th.Percentile\", \"X95th.Percentile\"),\n",
    "  c(\"X95th.5th.Ratio\", \"X95th.5th.Ratio\")\n",
    ")\n",
    "\n",
    "# Perform t-tests for each pair\n",
    "for (pair in pairs) {\n",
    "  var1 <- pair[1]\n",
    "  var2 <- pair[2]\n",
    "  \n",
    "  # Perform t-test\n",
    "  test <- t.test(urban_data[[var1]], rural_data[[var2]])\n",
    "  \n",
    "  # Store results\n",
    "  results <- rbind(results, data.frame(Variable = var1,\n",
    "                                        Comparison = var2,\n",
    "                                        p.value = test$p.value))\n",
    "}\n",
    "\n",
    "# View results\n",
    "print(results)\n"
   ]
  },
  {
   "cell_type": "code",
   "execution_count": null,
   "metadata": {
    "vscode": {
     "languageId": "r"
    }
   },
   "outputs": [],
   "source": [
    "summary(cleaned_data$X95th.5th.Ratio)\n",
    "summary(cleaned_data$Busy.95th.5th.Ratio)"
   ]
  },
  {
   "cell_type": "code",
   "execution_count": null,
   "metadata": {
    "vscode": {
     "languageId": "r"
    }
   },
   "outputs": [],
   "source": [
    "# Set background color to white and text color to black\n",
    "par(bg = \"white\", col.axis = \"black\", col.lab = \"black\", col.main = \"black\")\n",
    "\n",
    "# Calculate the minimum and maximum from both datasets\n",
    "minimum <- min(c(urban_data$X95th.5th.Ratio, rural_data$X95th.5th.Ratio))\n",
    "maximum <- max(c(urban_data$X95th.5th.Ratio, rural_data$X95th.5th.Ratio))\n",
    "\n",
    "# Define the breaks for intervals of 5\n",
    "bin_size <- 0.1\n",
    "breaks <- seq(floor(minimum / bin_size) * bin_size, ceiling(maximum / bin_size) * bin_size, by = bin_size)\n",
    "\n",
    "# Create the histogram for urban data\n",
    "hist(urban_data$X95th.5th.Ratio,\n",
    "     breaks = breaks,\n",
    "     main = \"Frequency Histogram of 95th:5th Percentile Ratio (Urban vs. Rural)\",\n",
    "     xlab = \"95th:5th Percentile Ratio Values\",\n",
    "     ylab = \"Frequency\",\n",
    "     col = rgb(0, 0, 1, 0.5),  # Blue with transparency\n",
    "     border = \"black\",\n",
    "     xlim = c(minimum, maximum),  # Ensure x-axis covers the full range\n",
    "     ylim = c(0, max(table(cut(urban_data$X95th.5th.Ratio, breaks)), \n",
    "                           table(cut(rural_data$X95th.5th.Ratio, breaks)))))  # Adjust y-axis limit\n",
    "\n",
    "# Overlay the histogram for rural data\n",
    "hist(rural_data$X95th.5th.Ratio,\n",
    "     breaks = breaks,\n",
    "     col = rgb(1, 0, 0, 0.5),  # Red with transparency\n",
    "     border = \"black\",\n",
    "     add = TRUE)  # Overlay this histogram\n"
   ]
  },
  {
   "cell_type": "code",
   "execution_count": null,
   "metadata": {
    "vscode": {
     "languageId": "r"
    }
   },
   "outputs": [],
   "source": [
    "apply(cleaned_data, 2, var)\n",
    "nzv <- nearZeroVar(data, saveMetrics = TRUE)\n",
    "nzv[nzv$zeroVar == TRUE, ]"
   ]
  },
  {
   "cell_type": "code",
   "execution_count": null,
   "metadata": {
    "vscode": {
     "languageId": "r"
    }
   },
   "outputs": [],
   "source": [
    "pca_result <- prcomp(cleaned_data[, c(\"IRSD.Decile\", \"IRSAD.Decile\", \"IER.Decile\",\n",
    "                            \"IEO.Decile\", \"Population\", \"Gini.Coefficient\",\n",
    "                            \"Population.Change\", \"X..Population.Change\", \n",
    "                            \"Area..Km.2.\", \"Population.Density\", \n",
    "                            \"Indigenous.Population\", \n",
    "                            \"X..Indigenous.Population\")], \n",
    "                            scale. = TRUE)  # Standardize data before PCA\n",
    "\n",
    "# View the PCA summary to see the proportion of variance\n",
    "summary(pca_result)\n",
    "\n",
    "# Use the first few principal components that explain the most variance\n",
    "pca_components <- pca_result$x[, 1:10]  # Replace 1:5 with desired slice\n",
    "\n",
    "# Fit a new model using the principal components\n",
    "pca_model <- lm(X95th.5th.Ratio ~ pca_components, data = cleaned_data)\n",
    "\n",
    "# View the summary of the new model\n",
    "summary(pca_model)"
   ]
  },
  {
   "cell_type": "markdown",
   "metadata": {},
   "source": [
    "### visualise against certain significant variables"
   ]
  },
  {
   "cell_type": "code",
   "execution_count": null,
   "metadata": {
    "vscode": {
     "languageId": "r"
    }
   },
   "outputs": [],
   "source": [
    "ggplot(cleaned_scaled, aes(x = Area..Km.2., y = X5th.Percentile)) +\n",
    "  geom_point(color = \"blue\") +\n",
    "  labs(title = \"Independent Variable vs Target Outcome\", x = \"Independent Variable\", y = \"Target Outcome\") +\n",
    "  theme_minimal()"
   ]
  },
  {
   "cell_type": "code",
   "execution_count": null,
   "metadata": {
    "vscode": {
     "languageId": "r"
    }
   },
   "outputs": [],
   "source": [
    "summary(cleaned_scaled$Area..Km.2.)"
   ]
  },
  {
   "cell_type": "markdown",
   "metadata": {},
   "source": [
    "### perform and plot the predictions"
   ]
  },
  {
   "cell_type": "code",
   "execution_count": null,
   "metadata": {
    "vscode": {
     "languageId": "r"
    }
   },
   "outputs": [],
   "source": [
    "par(bg = \"white\")\n",
    "predictions <- predict(fit, cleaned_data)\n",
    "plot(predict(fit, cleaned_data), cleaned_data$X95th.Percentile)\n",
    "#calculate mean squared error\n",
    "mean((predictions - target_variable)^2)"
   ]
  }
 ],
 "metadata": {
  "kernelspec": {
   "display_name": "R",
   "language": "R",
   "name": "r"
  },
  "language_info": {
   "codemirror_mode": "r",
   "file_extension": ".r",
   "mimetype": "text/x-r-source",
   "name": "R",
   "pygments_lexer": "r",
   "version": "4.3.1"
  }
 },
 "nbformat": 4,
 "nbformat_minor": 2
}
